{
 "cells": [
  {
   "cell_type": "code",
   "execution_count": 1,
   "metadata": {},
   "outputs": [],
   "source": [
    "from neo4j import GraphDatabase\n",
    "\n",
    "def get_neo4j_driver(uri, user, password) -> GraphDatabase.driver:\n",
    "    return GraphDatabase.driver(uri, auth=(user, password))\n",
    "\n",
    "uri = \"neo4j+s://9d1381c2.databases.neo4j.io:7687\"  # my uri\n",
    "user = \"Wesley\"  # my user name\n",
    "password = \"Xlbabv969.\"  # my password\n",
    "driver = get_neo4j_driver(uri, user, password)"
   ]
  },
  {
   "cell_type": "code",
   "execution_count": 2,
   "metadata": {},
   "outputs": [
    {
     "name": "stdout",
     "output_type": "stream",
     "text": [
      "Defaulting to user installation because normal site-packages is not writeable\n",
      "Requirement already satisfied: graphdatascience in c:\\users\\wesle\\appdata\\roaming\\python\\python310\\site-packages (1.10)\n",
      "Requirement already satisfied: pyarrow<16.0,>=11.0 in c:\\users\\wesle\\appdata\\roaming\\python\\python310\\site-packages (from graphdatascience) (15.0.2)\n",
      "Requirement already satisfied: requests in c:\\programdata\\anaconda3\\lib\\site-packages (from graphdatascience) (2.28.1)\n",
      "Requirement already satisfied: typing-extensions<5.0,>=4.0 in c:\\programdata\\anaconda3\\lib\\site-packages (from graphdatascience) (4.4.0)\n",
      "Requirement already satisfied: pandas<3.0,>=1.0 in c:\\programdata\\anaconda3\\lib\\site-packages (from graphdatascience) (1.5.3)\n",
      "Requirement already satisfied: textdistance<5.0,>=4.0 in c:\\programdata\\anaconda3\\lib\\site-packages (from graphdatascience) (4.2.1)\n",
      "Requirement already satisfied: neo4j<6.0,>=4.4.2 in c:\\users\\wesle\\appdata\\roaming\\python\\python310\\site-packages (from graphdatascience) (5.17.0)\n",
      "Requirement already satisfied: multimethod<2.0,>=1.0 in c:\\users\\wesle\\appdata\\roaming\\python\\python310\\site-packages (from graphdatascience) (1.11.2)\n",
      "Requirement already satisfied: tqdm<5.0,>=4.0 in c:\\programdata\\anaconda3\\lib\\site-packages (from graphdatascience) (4.64.1)\n",
      "Requirement already satisfied: pytz in c:\\programdata\\anaconda3\\lib\\site-packages (from neo4j<6.0,>=4.4.2->graphdatascience) (2022.7)\n",
      "Requirement already satisfied: numpy>=1.21.0 in c:\\programdata\\anaconda3\\lib\\site-packages (from pandas<3.0,>=1.0->graphdatascience) (1.23.5)\n",
      "Requirement already satisfied: python-dateutil>=2.8.1 in c:\\programdata\\anaconda3\\lib\\site-packages (from pandas<3.0,>=1.0->graphdatascience) (2.8.2)\n",
      "Requirement already satisfied: colorama in c:\\programdata\\anaconda3\\lib\\site-packages (from tqdm<5.0,>=4.0->graphdatascience) (0.4.6)\n",
      "Requirement already satisfied: charset-normalizer<3,>=2 in c:\\programdata\\anaconda3\\lib\\site-packages (from requests->graphdatascience) (2.0.4)\n",
      "Requirement already satisfied: urllib3<1.27,>=1.21.1 in c:\\programdata\\anaconda3\\lib\\site-packages (from requests->graphdatascience) (1.26.14)\n",
      "Requirement already satisfied: idna<4,>=2.5 in c:\\programdata\\anaconda3\\lib\\site-packages (from requests->graphdatascience) (3.4)\n",
      "Requirement already satisfied: certifi>=2017.4.17 in c:\\programdata\\anaconda3\\lib\\site-packages (from requests->graphdatascience) (2022.12.7)\n",
      "Requirement already satisfied: six>=1.5 in c:\\programdata\\anaconda3\\lib\\site-packages (from python-dateutil>=2.8.1->pandas<3.0,>=1.0->graphdatascience) (1.16.0)\n",
      "Note: you may need to restart the kernel to use updated packages.\n"
     ]
    }
   ],
   "source": [
    "pip install graphdatascience\n"
   ]
  },
  {
   "cell_type": "code",
   "execution_count": 4,
   "metadata": {},
   "outputs": [
    {
     "name": "stderr",
     "output_type": "stream",
     "text": [
      "C:\\Users\\Wesle\\AppData\\Local\\Temp\\ipykernel_19888\\180540489.py:21: DeprecationWarning: read_transaction has been renamed to execute_read\n",
      "  data = session.read_transaction(get_data)\n"
     ]
    }
   ],
   "source": [
    "from neo4j import GraphDatabase\n",
    "import pandas as pd\n",
    "\n",
    "\n",
    "def get_data(tx):\n",
    "    query = \"\"\"\n",
    "    MATCH (ir:IngredientResearch)-[:HAS_TASTE_PROFILE]->(tp:TasteProfile)\n",
    "    RETURN ir.ingredient_name AS IngredientName, tp AS TasteProfileProperties\n",
    "    \"\"\"\n",
    "    result = tx.run(query)\n",
    "    \n",
    "    data = []\n",
    "    for record in result:\n",
    "        \n",
    "        properties = dict(record[\"TasteProfileProperties\"])\n",
    "        properties[\"IngredientName\"] = record[\"IngredientName\"]\n",
    "        data.append(properties)\n",
    "    return data\n",
    "\n",
    "with driver.session() as session:\n",
    "    data = session.read_transaction(get_data)\n",
    "\n",
    "\n",
    "df = pd.DataFrame(data)\n",
    "\n"
   ]
  },
  {
   "cell_type": "code",
   "execution_count": 5,
   "metadata": {},
   "outputs": [
    {
     "data": {
      "application/vnd.plotly.v1+json": {
       "config": {
        "plotlyServerURL": "https://plot.ly"
       },
       "data": [
        {
         "alignmentgroup": "True",
         "hovertemplate": "index=%{x}<br>Count=%{y}<extra></extra>",
         "legendgroup": "",
         "marker": {
          "color": "#636efa",
          "pattern": {
           "shape": ""
          }
         },
         "name": "",
         "offsetgroup": "",
         "orientation": "v",
         "showlegend": false,
         "textposition": "auto",
         "type": "bar",
         "x": [
          "None",
          "Odorless",
          "Neutral",
          "Not applicable",
          "Mild, milky",
          "Mild, characteristic",
          "Slightly nutty",
          "Pungent, vinegar-like",
          "Mild, almost odorless",
          "Minimal",
          "Minimal to none",
          "Slightly earthy",
          "N/A",
          "Characteristic of paprika",
          "Intense chocolate",
          "Fresh tomato",
          "Mild, almost imperceptible",
          "Herbaceous, fresh",
          "Mild, dairy-like",
          "Varies widely",
          "Fresh pear aroma",
          "Mild, sweet",
          "Fresh apple",
          "Slightly beany, nutty",
          "Fragrant peach aroma",
          "Fresh, citrusy orange aroma.",
          "Brown Rice: Nutty, White Rice: Neutral",
          "Sweet, cocoa",
          "Fragrant, characteristic of ripe strawberries",
          "Mild dairy",
          "Yeast-like",
          "Intense aroma characteristic of the spice",
          "Distinct, oceanic",
          "Slight characteristic odor",
          "Fruity, characteristic of the specific fruit",
          "Fresh apple aroma",
          "Strong tomato aroma",
          "Slightly smoky, sweet",
          "Subtle burnt sugar aroma",
          "Characteristic smoky scent reminiscent of wood fire.",
          "Minimal to none.",
          "Fragrant, tropical fruit aroma.",
          "Mild cocoa with sweet dairy",
          "Sweet and fragrant coconut aroma.",
          "",
          "Varies by type (e.g., maple syrup has a distinct aroma)",
          "Slightly sweet aroma",
          "Fragrant, reminiscent of fresh peaches",
          "Fragrant, tropical.",
          "Fragrant, tropical mango aroma.",
          "Fresh, citrusy, reminiscent of lemon zest.",
          "Fragrant, reminiscent of ripe peaches",
          "Fruity, characteristic of apricots",
          "Fruity, reminiscent of fresh grapes",
          "Characteristic of ripe pineapples",
          "Minimal to no aroma",
          "Characteristic of blackcurrants",
          "Fresh tomato, with a hint of earthy undertones",
          "Rich, aromatic, and nutty.",
          "Fresh and slightly acidic.",
          "Fresh pear aroma.",
          "Strong, characteristic of garlic.",
          "Slightly sweet, no distinct aroma",
          "Rich tomato aroma",
          "Rich and warm with notes of cinnamon, clove, and nutmeg",
          "Slightly pungent",
          "Slightly acidic",
          "Sweet, fruity",
          "Fragrant, typical of ripe peaches",
          "Mildly aromatic, depending on the variety.",
          "Fruity, characteristic of fresh apples",
          "Slightly burnt sugar aroma",
          "Fruity, typical of grapes",
          "Fruity and tropical.",
          "Fruity, characteristic of mango",
          "Fruity, reminiscent of pineapple",
          "Sweet and fruity.",
          "Mildly fragrant",
          "Fruity, characteristic of the fruit used",
          "Sweet and tropical.",
          "Fragrant, tropical",
          "Musty, earthy with a hint of ginger and orange",
          "Mild and savory",
          "Sweet, slightly fruity",
          "Strong, sweet, and tangy tomato aroma.",
          "Fruity and tart",
          "Strong, pungent, and spicy.",
          "Slight ammonia smell when heated",
          "Mild",
          "Pungent",
          "Mild, pleasant",
          "Vinegary with spice notes",
          "Subtle earthy notes.",
          "Fresh and aromatic, similar to anise.",
          "Characteristic to the specific herb",
          "Strong, distinctive mustard",
          "Pungent, acidic",
          "Fresh and fruity, reminiscent of fresh apples.",
          "Strong tomato aroma.",
          "Odourless",
          "Earthy when raw, becomes more pronounced when cooked",
          "Strong, characteristic of rosemary",
          "Cheesy, dairy-like",
          "Corresponds to the added natural flavour",
          "Odorless.",
          "Slightly sweet, milky",
          "Characteristic chocolate aroma.",
          "Rich and pungent, especially when roasted",
          "Varies, generally mild or neutral.",
          "Mild, chemical",
          "Warm, comforting, with a slight nuttiness.",
          "Savory, similar to cooked soybeans",
          "Mild, with some having a nutty or fruity scent depending on the source.",
          "Earthy and musky with a hint of orange and ginger",
          "Slightly burnt sugar",
          "Fresh, citrusy, and slightly peppery.",
          "Strong, unique, and aromatic",
          "Rich, savory onion aroma",
          "Earthy and slightly smoky.",
          "Pungent and aromatic",
          "Fresh, clean, reminiscent of celery stalks",
          "Intense, sweet with burnt notes",
          "Bread-like when cooked",
          "Earthy, slightly acrid",
          "Varies",
          "Aromatic blend of herbs and vegetables, inviting and comforting.",
          "Subtle aromatic scent",
          "Slight sulfurous",
          "Strong, pungent, sweet",
          "Mimics natural sources",
          "Varies based on specific compounds used",
          "Slightly aromatic",
          "Negligible",
          "Slightly earthy when raw, becomes more pronounced when cooked",
          "Can range from spicy to savory.",
          "Strong, pungent, similar to fresh garlic but less intense",
          "Strong, similar to fresh onions.",
          "Meaty, brothy",
          "Earthy, spicy",
          "Varies widely by herb",
          "Depends on the infusion ingredients",
          "Strong, sulfuric",
          "Sweet and savory",
          "Slightly earthy, more pronounced when toasted",
          "Varies widely, often potent and characteristic",
          "Distinctly nutty",
          "Pungent, characteristic of chilli peppers.",
          "Pungent and aromatic, varying by chilli variety.",
          "Concentrated vegetable aroma",
          "Pleasant and aromatic, tailored to specific applications.",
          "Ammoniacal",
          "Neutral when refined, earthy and natural when unrefined",
          "Intensely sweet and slightly burnt",
          "Baked, toasty, can include spices or vanilla.",
          "Characteristic malty",
          "Slightly sulphuric when raw, neutral when cooked",
          "Sweet, warm, and complex",
          "Sweet and fragrant",
          "Slightly burnt or caramelized",
          "Mild chocolate",
          "Mild, characteristic of eggs",
          "Characteristic sweet, slightly toasted smell",
          "Sweet and slightly burnt",
          "Earthy with floral notes",
          "Strong cocoa",
          "Rich, warm",
          "Mildly sweet, dairy",
          "Sweet and aromatic",
          "Varies with added natural flavours",
          "Slightly basic odor",
          "Mild cocoa with creamy notes.",
          "Intense cocoa",
          "Characteristic of soy sauce; umami and slightly fermented",
          "Floral",
          "Less pungent than black pepper, with earthy notes",
          "Strong, aromatic",
          "Slightly burnt or caramel-like",
          "Fresh, citrusy",
          "Strong, fresh, and citrusy.",
          "Varies; can range from minty to sweet",
          "Fresh, citrusy with a hint of bitterness",
          "Fresh, zesty lime",
          "Pungent (in pure form)",
          "Neutral, does not impart aroma to final product",
          "Citrusy, fresh",
          "Slight odor",
          "Subtle earthy aroma",
          "Subtle chocolate",
          "Deep chocolate with roasted notes",
          "Slightly sweet",
          "Rich, deeply chocolatey with roasted notes",
          "Characteristic, slightly bread-like",
          "Fruity, characteristic of pineapple"
         ],
         "xaxis": "x",
         "y": [
          45,
          39,
          14,
          7,
          6,
          4,
          4,
          4,
          3,
          3,
          3,
          3,
          3,
          2,
          2,
          2,
          2,
          2,
          2,
          2,
          2,
          2,
          2,
          2,
          2,
          2,
          1,
          1,
          1,
          1,
          1,
          1,
          1,
          1,
          1,
          1,
          1,
          1,
          1,
          1,
          1,
          1,
          1,
          1,
          1,
          1,
          1,
          1,
          1,
          1,
          1,
          1,
          1,
          1,
          1,
          1,
          1,
          1,
          1,
          1,
          1,
          1,
          1,
          1,
          1,
          1,
          1,
          1,
          1,
          1,
          1,
          1,
          1,
          1,
          1,
          1,
          1,
          1,
          1,
          1,
          1,
          1,
          1,
          1,
          1,
          1,
          1,
          1,
          1,
          1,
          1,
          1,
          1,
          1,
          1,
          1,
          1,
          1,
          1,
          1,
          1,
          1,
          1,
          1,
          1,
          1,
          1,
          1,
          1,
          1,
          1,
          1,
          1,
          1,
          1,
          1,
          1,
          1,
          1,
          1,
          1,
          1,
          1,
          1,
          1,
          1,
          1,
          1,
          1,
          1,
          1,
          1,
          1,
          1,
          1,
          1,
          1,
          1,
          1,
          1,
          1,
          1,
          1,
          1,
          1,
          1,
          1,
          1,
          1,
          1,
          1,
          1,
          1,
          1,
          1,
          1,
          1,
          1,
          1,
          1,
          1,
          1,
          1,
          1,
          1,
          1,
          1,
          1,
          1,
          1,
          1,
          1,
          1,
          1,
          1,
          1,
          1,
          1,
          1,
          1,
          1,
          1,
          1,
          1,
          1,
          1,
          1,
          1,
          1,
          1,
          1,
          1,
          1
         ],
         "yaxis": "y"
        }
       ],
       "layout": {
        "barmode": "relative",
        "legend": {
         "tracegroupgap": 0
        },
        "template": {
         "data": {
          "bar": [
           {
            "error_x": {
             "color": "#2a3f5f"
            },
            "error_y": {
             "color": "#2a3f5f"
            },
            "marker": {
             "line": {
              "color": "#E5ECF6",
              "width": 0.5
             },
             "pattern": {
              "fillmode": "overlay",
              "size": 10,
              "solidity": 0.2
             }
            },
            "type": "bar"
           }
          ],
          "barpolar": [
           {
            "marker": {
             "line": {
              "color": "#E5ECF6",
              "width": 0.5
             },
             "pattern": {
              "fillmode": "overlay",
              "size": 10,
              "solidity": 0.2
             }
            },
            "type": "barpolar"
           }
          ],
          "carpet": [
           {
            "aaxis": {
             "endlinecolor": "#2a3f5f",
             "gridcolor": "white",
             "linecolor": "white",
             "minorgridcolor": "white",
             "startlinecolor": "#2a3f5f"
            },
            "baxis": {
             "endlinecolor": "#2a3f5f",
             "gridcolor": "white",
             "linecolor": "white",
             "minorgridcolor": "white",
             "startlinecolor": "#2a3f5f"
            },
            "type": "carpet"
           }
          ],
          "choropleth": [
           {
            "colorbar": {
             "outlinewidth": 0,
             "ticks": ""
            },
            "type": "choropleth"
           }
          ],
          "contour": [
           {
            "colorbar": {
             "outlinewidth": 0,
             "ticks": ""
            },
            "colorscale": [
             [
              0,
              "#0d0887"
             ],
             [
              0.1111111111111111,
              "#46039f"
             ],
             [
              0.2222222222222222,
              "#7201a8"
             ],
             [
              0.3333333333333333,
              "#9c179e"
             ],
             [
              0.4444444444444444,
              "#bd3786"
             ],
             [
              0.5555555555555556,
              "#d8576b"
             ],
             [
              0.6666666666666666,
              "#ed7953"
             ],
             [
              0.7777777777777778,
              "#fb9f3a"
             ],
             [
              0.8888888888888888,
              "#fdca26"
             ],
             [
              1,
              "#f0f921"
             ]
            ],
            "type": "contour"
           }
          ],
          "contourcarpet": [
           {
            "colorbar": {
             "outlinewidth": 0,
             "ticks": ""
            },
            "type": "contourcarpet"
           }
          ],
          "heatmap": [
           {
            "colorbar": {
             "outlinewidth": 0,
             "ticks": ""
            },
            "colorscale": [
             [
              0,
              "#0d0887"
             ],
             [
              0.1111111111111111,
              "#46039f"
             ],
             [
              0.2222222222222222,
              "#7201a8"
             ],
             [
              0.3333333333333333,
              "#9c179e"
             ],
             [
              0.4444444444444444,
              "#bd3786"
             ],
             [
              0.5555555555555556,
              "#d8576b"
             ],
             [
              0.6666666666666666,
              "#ed7953"
             ],
             [
              0.7777777777777778,
              "#fb9f3a"
             ],
             [
              0.8888888888888888,
              "#fdca26"
             ],
             [
              1,
              "#f0f921"
             ]
            ],
            "type": "heatmap"
           }
          ],
          "heatmapgl": [
           {
            "colorbar": {
             "outlinewidth": 0,
             "ticks": ""
            },
            "colorscale": [
             [
              0,
              "#0d0887"
             ],
             [
              0.1111111111111111,
              "#46039f"
             ],
             [
              0.2222222222222222,
              "#7201a8"
             ],
             [
              0.3333333333333333,
              "#9c179e"
             ],
             [
              0.4444444444444444,
              "#bd3786"
             ],
             [
              0.5555555555555556,
              "#d8576b"
             ],
             [
              0.6666666666666666,
              "#ed7953"
             ],
             [
              0.7777777777777778,
              "#fb9f3a"
             ],
             [
              0.8888888888888888,
              "#fdca26"
             ],
             [
              1,
              "#f0f921"
             ]
            ],
            "type": "heatmapgl"
           }
          ],
          "histogram": [
           {
            "marker": {
             "pattern": {
              "fillmode": "overlay",
              "size": 10,
              "solidity": 0.2
             }
            },
            "type": "histogram"
           }
          ],
          "histogram2d": [
           {
            "colorbar": {
             "outlinewidth": 0,
             "ticks": ""
            },
            "colorscale": [
             [
              0,
              "#0d0887"
             ],
             [
              0.1111111111111111,
              "#46039f"
             ],
             [
              0.2222222222222222,
              "#7201a8"
             ],
             [
              0.3333333333333333,
              "#9c179e"
             ],
             [
              0.4444444444444444,
              "#bd3786"
             ],
             [
              0.5555555555555556,
              "#d8576b"
             ],
             [
              0.6666666666666666,
              "#ed7953"
             ],
             [
              0.7777777777777778,
              "#fb9f3a"
             ],
             [
              0.8888888888888888,
              "#fdca26"
             ],
             [
              1,
              "#f0f921"
             ]
            ],
            "type": "histogram2d"
           }
          ],
          "histogram2dcontour": [
           {
            "colorbar": {
             "outlinewidth": 0,
             "ticks": ""
            },
            "colorscale": [
             [
              0,
              "#0d0887"
             ],
             [
              0.1111111111111111,
              "#46039f"
             ],
             [
              0.2222222222222222,
              "#7201a8"
             ],
             [
              0.3333333333333333,
              "#9c179e"
             ],
             [
              0.4444444444444444,
              "#bd3786"
             ],
             [
              0.5555555555555556,
              "#d8576b"
             ],
             [
              0.6666666666666666,
              "#ed7953"
             ],
             [
              0.7777777777777778,
              "#fb9f3a"
             ],
             [
              0.8888888888888888,
              "#fdca26"
             ],
             [
              1,
              "#f0f921"
             ]
            ],
            "type": "histogram2dcontour"
           }
          ],
          "mesh3d": [
           {
            "colorbar": {
             "outlinewidth": 0,
             "ticks": ""
            },
            "type": "mesh3d"
           }
          ],
          "parcoords": [
           {
            "line": {
             "colorbar": {
              "outlinewidth": 0,
              "ticks": ""
             }
            },
            "type": "parcoords"
           }
          ],
          "pie": [
           {
            "automargin": true,
            "type": "pie"
           }
          ],
          "scatter": [
           {
            "fillpattern": {
             "fillmode": "overlay",
             "size": 10,
             "solidity": 0.2
            },
            "type": "scatter"
           }
          ],
          "scatter3d": [
           {
            "line": {
             "colorbar": {
              "outlinewidth": 0,
              "ticks": ""
             }
            },
            "marker": {
             "colorbar": {
              "outlinewidth": 0,
              "ticks": ""
             }
            },
            "type": "scatter3d"
           }
          ],
          "scattercarpet": [
           {
            "marker": {
             "colorbar": {
              "outlinewidth": 0,
              "ticks": ""
             }
            },
            "type": "scattercarpet"
           }
          ],
          "scattergeo": [
           {
            "marker": {
             "colorbar": {
              "outlinewidth": 0,
              "ticks": ""
             }
            },
            "type": "scattergeo"
           }
          ],
          "scattergl": [
           {
            "marker": {
             "colorbar": {
              "outlinewidth": 0,
              "ticks": ""
             }
            },
            "type": "scattergl"
           }
          ],
          "scattermapbox": [
           {
            "marker": {
             "colorbar": {
              "outlinewidth": 0,
              "ticks": ""
             }
            },
            "type": "scattermapbox"
           }
          ],
          "scatterpolar": [
           {
            "marker": {
             "colorbar": {
              "outlinewidth": 0,
              "ticks": ""
             }
            },
            "type": "scatterpolar"
           }
          ],
          "scatterpolargl": [
           {
            "marker": {
             "colorbar": {
              "outlinewidth": 0,
              "ticks": ""
             }
            },
            "type": "scatterpolargl"
           }
          ],
          "scatterternary": [
           {
            "marker": {
             "colorbar": {
              "outlinewidth": 0,
              "ticks": ""
             }
            },
            "type": "scatterternary"
           }
          ],
          "surface": [
           {
            "colorbar": {
             "outlinewidth": 0,
             "ticks": ""
            },
            "colorscale": [
             [
              0,
              "#0d0887"
             ],
             [
              0.1111111111111111,
              "#46039f"
             ],
             [
              0.2222222222222222,
              "#7201a8"
             ],
             [
              0.3333333333333333,
              "#9c179e"
             ],
             [
              0.4444444444444444,
              "#bd3786"
             ],
             [
              0.5555555555555556,
              "#d8576b"
             ],
             [
              0.6666666666666666,
              "#ed7953"
             ],
             [
              0.7777777777777778,
              "#fb9f3a"
             ],
             [
              0.8888888888888888,
              "#fdca26"
             ],
             [
              1,
              "#f0f921"
             ]
            ],
            "type": "surface"
           }
          ],
          "table": [
           {
            "cells": {
             "fill": {
              "color": "#EBF0F8"
             },
             "line": {
              "color": "white"
             }
            },
            "header": {
             "fill": {
              "color": "#C8D4E3"
             },
             "line": {
              "color": "white"
             }
            },
            "type": "table"
           }
          ]
         },
         "layout": {
          "annotationdefaults": {
           "arrowcolor": "#2a3f5f",
           "arrowhead": 0,
           "arrowwidth": 1
          },
          "autotypenumbers": "strict",
          "coloraxis": {
           "colorbar": {
            "outlinewidth": 0,
            "ticks": ""
           }
          },
          "colorscale": {
           "diverging": [
            [
             0,
             "#8e0152"
            ],
            [
             0.1,
             "#c51b7d"
            ],
            [
             0.2,
             "#de77ae"
            ],
            [
             0.3,
             "#f1b6da"
            ],
            [
             0.4,
             "#fde0ef"
            ],
            [
             0.5,
             "#f7f7f7"
            ],
            [
             0.6,
             "#e6f5d0"
            ],
            [
             0.7,
             "#b8e186"
            ],
            [
             0.8,
             "#7fbc41"
            ],
            [
             0.9,
             "#4d9221"
            ],
            [
             1,
             "#276419"
            ]
           ],
           "sequential": [
            [
             0,
             "#0d0887"
            ],
            [
             0.1111111111111111,
             "#46039f"
            ],
            [
             0.2222222222222222,
             "#7201a8"
            ],
            [
             0.3333333333333333,
             "#9c179e"
            ],
            [
             0.4444444444444444,
             "#bd3786"
            ],
            [
             0.5555555555555556,
             "#d8576b"
            ],
            [
             0.6666666666666666,
             "#ed7953"
            ],
            [
             0.7777777777777778,
             "#fb9f3a"
            ],
            [
             0.8888888888888888,
             "#fdca26"
            ],
            [
             1,
             "#f0f921"
            ]
           ],
           "sequentialminus": [
            [
             0,
             "#0d0887"
            ],
            [
             0.1111111111111111,
             "#46039f"
            ],
            [
             0.2222222222222222,
             "#7201a8"
            ],
            [
             0.3333333333333333,
             "#9c179e"
            ],
            [
             0.4444444444444444,
             "#bd3786"
            ],
            [
             0.5555555555555556,
             "#d8576b"
            ],
            [
             0.6666666666666666,
             "#ed7953"
            ],
            [
             0.7777777777777778,
             "#fb9f3a"
            ],
            [
             0.8888888888888888,
             "#fdca26"
            ],
            [
             1,
             "#f0f921"
            ]
           ]
          },
          "colorway": [
           "#636efa",
           "#EF553B",
           "#00cc96",
           "#ab63fa",
           "#FFA15A",
           "#19d3f3",
           "#FF6692",
           "#B6E880",
           "#FF97FF",
           "#FECB52"
          ],
          "font": {
           "color": "#2a3f5f"
          },
          "geo": {
           "bgcolor": "white",
           "lakecolor": "white",
           "landcolor": "#E5ECF6",
           "showlakes": true,
           "showland": true,
           "subunitcolor": "white"
          },
          "hoverlabel": {
           "align": "left"
          },
          "hovermode": "closest",
          "mapbox": {
           "style": "light"
          },
          "paper_bgcolor": "white",
          "plot_bgcolor": "#E5ECF6",
          "polar": {
           "angularaxis": {
            "gridcolor": "white",
            "linecolor": "white",
            "ticks": ""
           },
           "bgcolor": "#E5ECF6",
           "radialaxis": {
            "gridcolor": "white",
            "linecolor": "white",
            "ticks": ""
           }
          },
          "scene": {
           "xaxis": {
            "backgroundcolor": "#E5ECF6",
            "gridcolor": "white",
            "gridwidth": 2,
            "linecolor": "white",
            "showbackground": true,
            "ticks": "",
            "zerolinecolor": "white"
           },
           "yaxis": {
            "backgroundcolor": "#E5ECF6",
            "gridcolor": "white",
            "gridwidth": 2,
            "linecolor": "white",
            "showbackground": true,
            "ticks": "",
            "zerolinecolor": "white"
           },
           "zaxis": {
            "backgroundcolor": "#E5ECF6",
            "gridcolor": "white",
            "gridwidth": 2,
            "linecolor": "white",
            "showbackground": true,
            "ticks": "",
            "zerolinecolor": "white"
           }
          },
          "shapedefaults": {
           "line": {
            "color": "#2a3f5f"
           }
          },
          "ternary": {
           "aaxis": {
            "gridcolor": "white",
            "linecolor": "white",
            "ticks": ""
           },
           "baxis": {
            "gridcolor": "white",
            "linecolor": "white",
            "ticks": ""
           },
           "bgcolor": "#E5ECF6",
           "caxis": {
            "gridcolor": "white",
            "linecolor": "white",
            "ticks": ""
           }
          },
          "title": {
           "x": 0.05
          },
          "xaxis": {
           "automargin": true,
           "gridcolor": "white",
           "linecolor": "white",
           "ticks": "",
           "title": {
            "standoff": 15
           },
           "zerolinecolor": "white",
           "zerolinewidth": 2
          },
          "yaxis": {
           "automargin": true,
           "gridcolor": "white",
           "linecolor": "white",
           "ticks": "",
           "title": {
            "standoff": 15
           },
           "zerolinecolor": "white",
           "zerolinewidth": 2
          }
         }
        },
        "title": {
         "text": "Frequency of Aroma Descriptions"
        },
        "xaxis": {
         "anchor": "y",
         "domain": [
          0,
          1
         ],
         "title": {
          "text": "index"
         }
        },
        "yaxis": {
         "anchor": "x",
         "domain": [
          0,
          1
         ],
         "title": {
          "text": "Count"
         }
        }
       }
      }
     },
     "metadata": {},
     "output_type": "display_data"
    }
   ],
   "source": [
    "import plotly.express as px\n",
    "\n",
    "aroma_counts = df['aroma'].value_counts()\n",
    "\n",
    "fig = px.bar(aroma_counts, x=aroma_counts.index, y=aroma_counts.values,\n",
    "             title=\"Frequency of Aroma Descriptions\",\n",
    "             labels={'x': 'Aroma Types', 'y': 'Count'})\n",
    "fig.show()\n"
   ]
  },
  {
   "cell_type": "code",
   "execution_count": 6,
   "metadata": {},
   "outputs": [
    {
     "name": "stderr",
     "output_type": "stream",
     "text": [
      "c:\\ProgramData\\anaconda3\\lib\\site-packages\\plotly\\express\\_core.py:279: FutureWarning:\n",
      "\n",
      "iteritems is deprecated and will be removed in a future version. Use .items instead.\n",
      "\n"
     ]
    },
    {
     "data": {
      "application/vnd.plotly.v1+json": {
       "config": {
        "plotlyServerURL": "https://plot.ly"
       },
       "data": [
        {
         "dimensions": [
          {
           "axis": {
            "matches": true
           },
           "label": "flavour_release",
           "values": [
            "Immediate upon consumption"
           ]
          },
          {
           "axis": {
            "matches": true
           },
           "label": "volatility",
           "values": [
            "High due to carbonation"
           ]
          },
          {
           "axis": {
            "matches": true
           },
           "label": "mouthfeel",
           "values": [
            "Tingling sensation due to bubbles"
           ]
          },
          {
           "axis": {
            "matches": true
           },
           "label": "texture",
           "values": [
            "Effervescent"
           ]
          }
         ],
         "hovertemplate": "IngredientName=Carbonated Water<br>%{xaxis.title.text}=%{x}<br>%{yaxis.title.text}=%{y}<extra></extra>",
         "legendgroup": "Carbonated Water",
         "marker": {
          "color": "#636efa",
          "symbol": "circle"
         },
         "name": "Carbonated Water",
         "showlegend": true,
         "type": "splom"
        },
        {
         "dimensions": [
          {
           "axis": {
            "matches": true
           },
           "label": "flavour_release",
           "values": [
            "Gradual and lingering"
           ]
          },
          {
           "axis": {
            "matches": true
           },
           "label": "volatility",
           "values": [
            "Low"
           ]
          },
          {
           "axis": {
            "matches": true
           },
           "label": "mouthfeel",
           "values": [
            "Smooth and viscous"
           ]
          },
          {
           "axis": {
            "matches": true
           },
           "label": "texture",
           "values": [
            "Liquid or powder form"
           ]
          }
         ],
         "hovertemplate": "IngredientName=Colouring Agent 150d<br>%{xaxis.title.text}=%{x}<br>%{yaxis.title.text}=%{y}<extra></extra>",
         "legendgroup": "Colouring Agent 150d",
         "marker": {
          "color": "#EF553B",
          "symbol": "circle"
         },
         "name": "Colouring Agent 150d",
         "showlegend": true,
         "type": "splom"
        },
        {
         "dimensions": [
          {
           "axis": {
            "matches": true
           },
           "label": "flavour_release",
           "values": [
            "Immediate"
           ]
          },
          {
           "axis": {
            "matches": true
           },
           "label": "volatility",
           "values": [
            "Low"
           ]
          },
          {
           "axis": {
            "matches": true
           },
           "label": "mouthfeel",
           "values": [
            "N/A"
           ]
          },
          {
           "axis": {
            "matches": true
           },
           "label": "texture",
           "values": [
            "Liquid at room temperature"
           ]
          }
         ],
         "hovertemplate": "IngredientName=Phosphoric Acid<br>%{xaxis.title.text}=%{x}<br>%{yaxis.title.text}=%{y}<extra></extra>",
         "legendgroup": "Phosphoric Acid",
         "marker": {
          "color": "#00cc96",
          "symbol": "circle"
         },
         "name": "Phosphoric Acid",
         "showlegend": true,
         "type": "splom"
        },
        {
         "dimensions": [
          {
           "axis": {
            "matches": true
           },
           "label": "flavour_release",
           "values": [
            "Immediate"
           ]
          },
          {
           "axis": {
            "matches": true
           },
           "label": "volatility",
           "values": [
            "Varies based on specific compounds used"
           ]
          },
          {
           "axis": {
            "matches": true
           },
           "label": "mouthfeel",
           "values": [
            "N/A"
           ]
          },
          {
           "axis": {
            "matches": true
           },
           "label": "texture",
           "values": [
            "N/A"
           ]
          }
         ],
         "hovertemplate": "IngredientName=Flavour<br>%{xaxis.title.text}=%{x}<br>%{yaxis.title.text}=%{y}<extra></extra>",
         "legendgroup": "Flavour",
         "marker": {
          "color": "#ab63fa",
          "symbol": "circle"
         },
         "name": "Flavour",
         "showlegend": true,
         "type": "splom"
        },
        {
         "dimensions": [
          {
           "axis": {
            "matches": true
           },
           "label": "flavour_release",
           "values": [
            "Immediate upon consumption"
           ]
          },
          {
           "axis": {
            "matches": true
           },
           "label": "volatility",
           "values": [
            "Low"
           ]
          },
          {
           "axis": {
            "matches": true
           },
           "label": "mouthfeel",
           "values": [
            "N/A"
           ]
          },
          {
           "axis": {
            "matches": true
           },
           "label": "texture",
           "values": [
            "Powdery when solid"
           ]
          }
         ],
         "hovertemplate": "IngredientName=Caffeine<br>%{xaxis.title.text}=%{x}<br>%{yaxis.title.text}=%{y}<extra></extra>",
         "legendgroup": "Caffeine",
         "marker": {
          "color": "#FFA15A",
          "symbol": "circle"
         },
         "name": "Caffeine",
         "showlegend": true,
         "type": "splom"
        },
        {
         "dimensions": [
          {
           "axis": {
            "matches": true
           },
           "label": "flavour_release",
           "values": [
            "Immediate upon dissolution",
            "Immediate upon dissolution",
            "Immediate upon dissolution"
           ]
          },
          {
           "axis": {
            "matches": true
           },
           "label": "volatility",
           "values": [
            "Low",
            "Non-volatile",
            "Not volatile"
           ]
          },
          {
           "axis": {
            "matches": true
           },
           "label": "mouthfeel",
           "values": [
            "Not applicable",
            "Not applicable",
            "Not applicable"
           ]
          },
          {
           "axis": {
            "matches": true
           },
           "label": "texture",
           "values": [
            "Crystalline powder",
            "Crystalline powder",
            "Crystalline powder"
           ]
          }
         ],
         "hovertemplate": "IngredientName=Sodium Citrate<br>%{xaxis.title.text}=%{x}<br>%{yaxis.title.text}=%{y}<extra></extra>",
         "legendgroup": "Sodium Citrate",
         "marker": {
          "color": "#19d3f3",
          "symbol": "circle"
         },
         "name": "Sodium Citrate",
         "showlegend": true,
         "type": "splom"
        },
        {
         "dimensions": [
          {
           "axis": {
            "matches": true
           },
           "label": "flavour_release",
           "values": [
            "Rapid, similar to sugar"
           ]
          },
          {
           "axis": {
            "matches": true
           },
           "label": "volatility",
           "values": [
            "Stable under heat but can break down over time or at high temperatures"
           ]
          },
          {
           "axis": {
            "matches": true
           },
           "label": "mouthfeel",
           "values": [
            "Similar to sugar when dissolved"
           ]
          },
          {
           "axis": {
            "matches": true
           },
           "label": "texture",
           "values": [
            "Powder"
           ]
          }
         ],
         "hovertemplate": "IngredientName=Aspartame<br>%{xaxis.title.text}=%{x}<br>%{yaxis.title.text}=%{y}<extra></extra>",
         "legendgroup": "Aspartame",
         "marker": {
          "color": "#FF6692",
          "symbol": "circle"
         },
         "name": "Aspartame",
         "showlegend": true,
         "type": "splom"
        },
        {
         "dimensions": [
          {
           "axis": {
            "matches": true
           },
           "label": "flavour_release",
           "values": [
            "Immediate"
           ]
          },
          {
           "axis": {
            "matches": true
           },
           "label": "volatility",
           "values": [
            "Stable under high temperatures"
           ]
          },
          {
           "axis": {
            "matches": true
           },
           "label": "mouthfeel",
           "values": [
            "Similar to other powdered sweeteners"
           ]
          },
          {
           "axis": {
            "matches": true
           },
           "label": "texture",
           "values": [
            "Powder"
           ]
          }
         ],
         "hovertemplate": "IngredientName=Acesulfame Potassium<br>%{xaxis.title.text}=%{x}<br>%{yaxis.title.text}=%{y}<extra></extra>",
         "legendgroup": "Acesulfame Potassium",
         "marker": {
          "color": "#B6E880",
          "symbol": "circle"
         },
         "name": "Acesulfame Potassium",
         "showlegend": true,
         "type": "splom"
        },
        {
         "dimensions": [
          {
           "axis": {
            "matches": true
           },
           "label": "flavour_release",
           "values": [
            "Immediate"
           ]
          },
          {
           "axis": {
            "matches": true
           },
           "label": "volatility",
           "values": [
            "Low"
           ]
          },
          {
           "axis": {
            "matches": true
           },
           "label": "mouthfeel",
           "values": [
            "Similar to sugar"
           ]
          },
          {
           "axis": {
            "matches": true
           },
           "label": "texture",
           "values": [
            "Powder or liquid form depending on the product"
           ]
          }
         ],
         "hovertemplate": "IngredientName=Sweetener 952<br>%{xaxis.title.text}=%{x}<br>%{yaxis.title.text}=%{y}<extra></extra>",
         "legendgroup": "Sweetener 952",
         "marker": {
          "color": "#FF97FF",
          "symbol": "circle"
         },
         "name": "Sweetener 952",
         "showlegend": true,
         "type": "splom"
        },
        {
         "dimensions": [
          {
           "axis": {
            "matches": true
           },
           "label": "flavour_release",
           "values": [
            "Enhanced upon cooking or baking"
           ]
          },
          {
           "axis": {
            "matches": true
           },
           "label": "volatility",
           "values": [
            "Low"
           ]
          },
          {
           "axis": {
            "matches": true
           },
           "label": "mouthfeel",
           "values": [
            "Varies with product preparation"
           ]
          },
          {
           "axis": {
            "matches": true
           },
           "label": "texture",
           "values": [
            "Fine powder"
           ]
          }
         ],
         "hovertemplate": "IngredientName=Wheat Flour<br>%{xaxis.title.text}=%{x}<br>%{yaxis.title.text}=%{y}<extra></extra>",
         "legendgroup": "Wheat Flour",
         "marker": {
          "color": "#FECB52",
          "symbol": "circle"
         },
         "name": "Wheat Flour",
         "showlegend": true,
         "type": "splom"
        },
        {
         "dimensions": [
          {
           "axis": {
            "matches": true
           },
           "label": "flavour_release",
           "values": [
            "Immediate upon consumption"
           ]
          },
          {
           "axis": {
            "matches": true
           },
           "label": "volatility",
           "values": [
            "Low"
           ]
          },
          {
           "axis": {
            "matches": true
           },
           "label": "mouthfeel",
           "values": [
            "Smooth"
           ]
          },
          {
           "axis": {
            "matches": true
           },
           "label": "texture",
           "values": [
            "Semi-solid at room temperature, liquid when heated"
           ]
          }
         ],
         "hovertemplate": "IngredientName=Refined Palm Oil<br>%{xaxis.title.text}=%{x}<br>%{yaxis.title.text}=%{y}<extra></extra>",
         "legendgroup": "Refined Palm Oil",
         "marker": {
          "color": "#636efa",
          "symbol": "circle"
         },
         "name": "Refined Palm Oil",
         "showlegend": true,
         "type": "splom"
        },
        {
         "dimensions": [
          {
           "axis": {
            "matches": true
           },
           "label": "flavour_release",
           "values": [
            "Immediate upon dissolution"
           ]
          },
          {
           "axis": {
            "matches": true
           },
           "label": "volatility",
           "values": [
            "Non-volatile"
           ]
          },
          {
           "axis": {
            "matches": true
           },
           "label": "mouthfeel",
           "values": [
            "Varies with grain size, generally perceived as sharp or biting"
           ]
          },
          {
           "axis": {
            "matches": true
           },
           "label": "texture",
           "values": [
            "Crystalline, granular or fine powder"
           ]
          }
         ],
         "hovertemplate": "IngredientName=Salt<br>%{xaxis.title.text}=%{x}<br>%{yaxis.title.text}=%{y}<extra></extra>",
         "legendgroup": "Salt",
         "marker": {
          "color": "#EF553B",
          "symbol": "circle"
         },
         "name": "Salt",
         "showlegend": true,
         "type": "splom"
        },
        {
         "dimensions": [
          {
           "axis": {
            "matches": true
           },
           "label": "flavour_release",
           "values": [
            "Not applicable"
           ]
          },
          {
           "axis": {
            "matches": true
           },
           "label": "volatility",
           "values": [
            "Not volatile"
           ]
          },
          {
           "axis": {
            "matches": true
           },
           "label": "mouthfeel",
           "values": [
            "Not applicable"
           ]
          },
          {
           "axis": {
            "matches": true
           },
           "label": "texture",
           "values": [
            "Powdery"
           ]
          }
         ],
         "hovertemplate": "IngredientName=Acidity Regulator 451<br>%{xaxis.title.text}=%{x}<br>%{yaxis.title.text}=%{y}<extra></extra>",
         "legendgroup": "Acidity Regulator 451",
         "marker": {
          "color": "#00cc96",
          "symbol": "circle"
         },
         "name": "Acidity Regulator 451",
         "showlegend": true,
         "type": "splom"
        },
        {
         "dimensions": [
          {
           "axis": {
            "matches": true
           },
           "label": "flavour_release",
           "values": [
            "Not applicable"
           ]
          },
          {
           "axis": {
            "matches": true
           },
           "label": "volatility",
           "values": [
            "Not applicable"
           ]
          },
          {
           "axis": {
            "matches": true
           },
           "label": "mouthfeel",
           "values": [
            "Not applicable"
           ]
          },
          {
           "axis": {
            "matches": true
           },
           "label": "texture",
           "values": [
            "Powder"
           ]
          }
         ],
         "hovertemplate": "IngredientName=Acidity Regulator 501<br>%{xaxis.title.text}=%{x}<br>%{yaxis.title.text}=%{y}<extra></extra>",
         "legendgroup": "Acidity Regulator 501",
         "marker": {
          "color": "#ab63fa",
          "symbol": "circle"
         },
         "name": "Acidity Regulator 501",
         "showlegend": true,
         "type": "splom"
        },
        {
         "dimensions": [
          {
           "axis": {
            "matches": true
           },
           "label": "flavour_release",
           "values": [
            "Immediate upon dissolution",
            "Immediate upon dissolving",
            "Reacts with acids to release carbon dioxide"
           ]
          },
          {
           "axis": {
            "matches": true
           },
           "label": "volatility",
           "values": [
            "Stable",
            "Not volatile",
            "Stable"
           ]
          },
          {
           "axis": {
            "matches": true
           },
           "label": "mouthfeel",
           "values": [
            "Dry, powdery",
            "Slightly gritty if not fully dissolved",
            "Dry and powdery"
           ]
          },
          {
           "axis": {
            "matches": true
           },
           "label": "texture",
           "values": [
            "Fine powder",
            "Fine powder",
            "Fine powder"
           ]
          }
         ],
         "hovertemplate": "IngredientName=Sodium Bicarbonate<br>%{xaxis.title.text}=%{x}<br>%{yaxis.title.text}=%{y}<extra></extra>",
         "legendgroup": "Sodium Bicarbonate",
         "marker": {
          "color": "#FFA15A",
          "symbol": "circle"
         },
         "name": "Sodium Bicarbonate",
         "showlegend": true,
         "type": "splom"
        },
        {
         "dimensions": [
          {
           "axis": {
            "matches": true
           },
           "label": "flavour_release",
           "values": [
            "Does not affect flavor release",
            "Does not affect flavor release",
            "None",
            "None"
           ]
          },
          {
           "axis": {
            "matches": true
           },
           "label": "volatility",
           "values": [
            "Stable",
            "Low",
            "Low",
            "Low"
           ]
          },
          {
           "axis": {
            "matches": true
           },
           "label": "mouthfeel",
           "values": [
            "Smooth when dissolved",
            "Smooth when dissolved",
            "Smooth when dissolved",
            "Smooth when dissolved"
           ]
          },
          {
           "axis": {
            "matches": true
           },
           "label": "texture",
           "values": [
            "Powdery",
            "Powdery",
            "Powdery",
            "Powdery"
           ]
          }
         ],
         "hovertemplate": "IngredientName=Guar Gum<br>%{xaxis.title.text}=%{x}<br>%{yaxis.title.text}=%{y}<extra></extra>",
         "legendgroup": "Guar Gum",
         "marker": {
          "color": "#19d3f3",
          "symbol": "circle"
         },
         "name": "Guar Gum",
         "showlegend": true,
         "type": "splom"
        },
        {
         "dimensions": [
          {
           "axis": {
            "matches": true
           },
           "label": "flavour_release",
           "values": [
            "Not applicable"
           ]
          },
          {
           "axis": {
            "matches": true
           },
           "label": "volatility",
           "values": [
            "Low"
           ]
          },
          {
           "axis": {
            "matches": true
           },
           "label": "mouthfeel",
           "values": [
            "Not applicable"
           ]
          },
          {
           "axis": {
            "matches": true
           },
           "label": "texture",
           "values": [
            "Powder"
           ]
          }
         ],
         "hovertemplate": "IngredientName=Colour 101<br>%{xaxis.title.text}=%{x}<br>%{yaxis.title.text}=%{y}<extra></extra>",
         "legendgroup": "Colour 101",
         "marker": {
          "color": "#FF6692",
          "symbol": "circle"
         },
         "name": "Colour 101",
         "showlegend": true,
         "type": "splom"
        },
        {
         "dimensions": [
          {
           "axis": {
            "matches": true
           },
           "label": "flavour_release",
           "values": [
            "Immediate upon cooking or rehydration."
           ]
          },
          {
           "axis": {
            "matches": true
           },
           "label": "volatility",
           "values": [
            "Some aromatic components may be volatile."
           ]
          },
          {
           "axis": {
            "matches": true
           },
           "label": "mouthfeel",
           "values": [
            "Depends on specific ingredients used."
           ]
          },
          {
           "axis": {
            "matches": true
           },
           "label": "texture",
           "values": [
            "Fine powder"
           ]
          }
         ],
         "hovertemplate": "IngredientName=Seasoning Powder<br>%{xaxis.title.text}=%{x}<br>%{yaxis.title.text}=%{y}<extra></extra>",
         "legendgroup": "Seasoning Powder",
         "marker": {
          "color": "#B6E880",
          "symbol": "circle"
         },
         "name": "Seasoning Powder",
         "showlegend": true,
         "type": "splom"
        },
        {
         "dimensions": [
          {
           "axis": {
            "matches": true
           },
           "label": "flavour_release",
           "values": [
            "Immediate upon consumption"
           ]
          },
          {
           "axis": {
            "matches": true
           },
           "label": "volatility",
           "values": [
            "Low"
           ]
          },
          {
           "axis": {
            "matches": true
           },
           "label": "mouthfeel",
           "values": [
            "Not applicable"
           ]
          },
          {
           "axis": {
            "matches": true
           },
           "label": "texture",
           "values": [
            "Crystalline powder"
           ]
          }
         ],
         "hovertemplate": "IngredientName=Flavour Enhancer 621<br>%{xaxis.title.text}=%{x}<br>%{yaxis.title.text}=%{y}<extra></extra>",
         "legendgroup": "Flavour Enhancer 621",
         "marker": {
          "color": "#FF97FF",
          "symbol": "circle"
         },
         "name": "Flavour Enhancer 621",
         "showlegend": true,
         "type": "splom"
        },
        {
         "dimensions": [
          {
           "axis": {
            "matches": true
           },
           "label": "flavour_release",
           "values": [
            "Immediate"
           ]
          },
          {
           "axis": {
            "matches": true
           },
           "label": "volatility",
           "values": [
            "Low"
           ]
          },
          {
           "axis": {
            "matches": true
           },
           "label": "mouthfeel",
           "values": [
            "N/A"
           ]
          },
          {
           "axis": {
            "matches": true
           },
           "label": "texture",
           "values": [
            "N/A"
           ]
          }
         ],
         "hovertemplate": "IngredientName=Disodium Guanylate<br>%{xaxis.title.text}=%{x}<br>%{yaxis.title.text}=%{y}<extra></extra>",
         "legendgroup": "Disodium Guanylate",
         "marker": {
          "color": "#FECB52",
          "symbol": "circle"
         },
         "name": "Disodium Guanylate",
         "showlegend": true,
         "type": "splom"
        },
        {
         "dimensions": [
          {
           "axis": {
            "matches": true
           },
           "label": "flavour_release",
           "values": [
            "Released upon rehydration or cooking"
           ]
          },
          {
           "axis": {
            "matches": true
           },
           "label": "volatility",
           "values": [
            "Low"
           ]
          },
          {
           "axis": {
            "matches": true
           },
           "label": "mouthfeel",
           "values": [
            "Not applicable"
           ]
          },
          {
           "axis": {
            "matches": true
           },
           "label": "texture",
           "values": [
            "Fine powder"
           ]
          }
         ],
         "hovertemplate": "IngredientName=Garlic Powder<br>%{xaxis.title.text}=%{x}<br>%{yaxis.title.text}=%{y}<extra></extra>",
         "legendgroup": "Garlic Powder",
         "marker": {
          "color": "#636efa",
          "symbol": "circle"
         },
         "name": "Garlic Powder",
         "showlegend": true,
         "type": "splom"
        },
        {
         "dimensions": [
          {
           "axis": {
            "matches": true
           },
           "label": "flavour_release",
           "values": [
            "Immediate upon hydration."
           ]
          },
          {
           "axis": {
            "matches": true
           },
           "label": "volatility",
           "values": [
            "High, loses potency over time."
           ]
          },
          {
           "axis": {
            "matches": true
           },
           "label": "mouthfeel",
           "values": [
            "Not applicable as it dissolves."
           ]
          },
          {
           "axis": {
            "matches": true
           },
           "label": "texture",
           "values": [
            "Fine powder."
           ]
          }
         ],
         "hovertemplate": "IngredientName=Onion Powder<br>%{xaxis.title.text}=%{x}<br>%{yaxis.title.text}=%{y}<extra></extra>",
         "legendgroup": "Onion Powder",
         "marker": {
          "color": "#EF553B",
          "symbol": "circle"
         },
         "name": "Onion Powder",
         "showlegend": true,
         "type": "splom"
        },
        {
         "dimensions": [
          {
           "axis": {
            "matches": true
           },
           "label": "flavour_release",
           "values": [
            "Immediate upon consumption"
           ]
          },
          {
           "axis": {
            "matches": true
           },
           "label": "volatility",
           "values": [
            "Low"
           ]
          },
          {
           "axis": {
            "matches": true
           },
           "label": "mouthfeel",
           "values": [
            "Rich, enhances mouthfeel of foods"
           ]
          },
          {
           "axis": {
            "matches": true
           },
           "label": "texture",
           "values": [
            "Varies from liquid to paste"
           ]
          }
         ],
         "hovertemplate": "IngredientName=Yeast Extract<br>%{xaxis.title.text}=%{x}<br>%{yaxis.title.text}=%{y}<extra></extra>",
         "legendgroup": "Yeast Extract",
         "marker": {
          "color": "#00cc96",
          "symbol": "circle"
         },
         "name": "Yeast Extract",
         "showlegend": true,
         "type": "splom"
        },
        {
         "dimensions": [
          {
           "axis": {
            "matches": true
           },
           "label": "flavour_release",
           "values": [
            "Designed for optimal release during consumption"
           ]
          },
          {
           "axis": {
            "matches": true
           },
           "label": "volatility",
           "values": [
            "Varies with structure"
           ]
          },
          {
           "axis": {
            "matches": true
           },
           "label": "mouthfeel",
           "values": [
            "Not applicable"
           ]
          },
          {
           "axis": {
            "matches": true
           },
           "label": "texture",
           "values": [
            "Not applicable"
           ]
          }
         ],
         "hovertemplate": "IngredientName=Artificial Flavour<br>%{xaxis.title.text}=%{x}<br>%{yaxis.title.text}=%{y}<extra></extra>",
         "legendgroup": "Artificial Flavour",
         "marker": {
          "color": "#ab63fa",
          "symbol": "circle"
         },
         "name": "Artificial Flavour",
         "showlegend": true,
         "type": "splom"
        },
        {
         "dimensions": [
          {
           "axis": {
            "matches": true
           },
           "label": "flavour_release",
           "values": [
            "Immediate upon grinding"
           ]
          },
          {
           "axis": {
            "matches": true
           },
           "label": "volatility",
           "values": [
            "High"
           ]
          },
          {
           "axis": {
            "matches": true
           },
           "label": "mouthfeel",
           "values": [
            "Slightly warming"
           ]
          },
          {
           "axis": {
            "matches": true
           },
           "label": "texture",
           "values": [
            "Coarse when ground"
           ]
          }
         ],
         "hovertemplate": "IngredientName=Pepper<br>%{xaxis.title.text}=%{x}<br>%{yaxis.title.text}=%{y}<extra></extra>",
         "legendgroup": "Pepper",
         "marker": {
          "color": "#FFA15A",
          "symbol": "circle"
         },
         "name": "Pepper",
         "showlegend": true,
         "type": "splom"
        },
        {
         "dimensions": [
          {
           "axis": {
            "matches": true
           },
           "label": "flavour_release",
           "values": [
            "Not applicable for this ingredient"
           ]
          },
          {
           "axis": {
            "matches": true
           },
           "label": "volatility",
           "values": [
            "Not volatile"
           ]
          },
          {
           "axis": {
            "matches": true
           },
           "label": "mouthfeel",
           "values": [
            "Not applicable"
           ]
          },
          {
           "axis": {
            "matches": true
           },
           "label": "texture",
           "values": [
            "Powdery"
           ]
          }
         ],
         "hovertemplate": "IngredientName=Anti Caking Agent 551<br>%{xaxis.title.text}=%{x}<br>%{yaxis.title.text}=%{y}<extra></extra>",
         "legendgroup": "Anti Caking Agent 551",
         "marker": {
          "color": "#19d3f3",
          "symbol": "circle"
         },
         "name": "Anti Caking Agent 551",
         "showlegend": true,
         "type": "splom"
        },
        {
         "dimensions": [
          {
           "axis": {
            "matches": true
           },
           "label": "flavour_release",
           "values": [
            "Immediate upon consumption"
           ]
          },
          {
           "axis": {
            "matches": true
           },
           "label": "volatility",
           "values": [
            "Low"
           ]
          },
          {
           "axis": {
            "matches": true
           },
           "label": "mouthfeel",
           "values": [
            "Oily"
           ]
          },
          {
           "axis": {
            "matches": true
           },
           "label": "texture",
           "values": [
            "Liquid at room temperature"
           ]
          }
         ],
         "hovertemplate": "IngredientName=Seasoning Oil<br>%{xaxis.title.text}=%{x}<br>%{yaxis.title.text}=%{y}<extra></extra>",
         "legendgroup": "Seasoning Oil",
         "marker": {
          "color": "#FF6692",
          "symbol": "circle"
         },
         "name": "Seasoning Oil",
         "showlegend": true,
         "type": "splom"
        },
        {
         "dimensions": [
          {
           "axis": {
            "matches": true
           },
           "label": "flavour_release",
           "values": [
            "Increases with cooking"
           ]
          },
          {
           "axis": {
            "matches": true
           },
           "label": "volatility",
           "values": [
            "High when raw"
           ]
          },
          {
           "axis": {
            "matches": true
           },
           "label": "mouthfeel",
           "values": [
            "Juicy"
           ]
          },
          {
           "axis": {
            "matches": true
           },
           "label": "texture",
           "values": [
            "Crunchy when raw, soft when cooked"
           ]
          }
         ],
         "hovertemplate": "IngredientName=Onion<br>%{xaxis.title.text}=%{x}<br>%{yaxis.title.text}=%{y}<extra></extra>",
         "legendgroup": "Onion",
         "marker": {
          "color": "#B6E880",
          "symbol": "circle"
         },
         "name": "Onion",
         "showlegend": true,
         "type": "splom"
        },
        {
         "dimensions": [
          {
           "axis": {
            "matches": true
           },
           "label": "flavour_release",
           "values": [
            "Immediate"
           ]
          },
          {
           "axis": {
            "matches": true
           },
           "label": "volatility",
           "values": [
            "Low"
           ]
          },
          {
           "axis": {
            "matches": true
           },
           "label": "mouthfeel",
           "values": [
            "Viscous"
           ]
          },
          {
           "axis": {
            "matches": true
           },
           "label": "texture",
           "values": [
            "Syrupy"
           ]
          }
         ],
         "hovertemplate": "IngredientName=Sweet Soy Sauce<br>%{xaxis.title.text}=%{x}<br>%{yaxis.title.text}=%{y}<extra></extra>",
         "legendgroup": "Sweet Soy Sauce",
         "marker": {
          "color": "#FF97FF",
          "symbol": "circle"
         },
         "name": "Sweet Soy Sauce",
         "showlegend": true,
         "type": "splom"
        },
        {
         "dimensions": [
          {
           "axis": {
            "matches": true
           },
           "label": "flavour_release",
           "values": [
            "Does not apply"
           ]
          },
          {
           "axis": {
            "matches": true
           },
           "label": "volatility",
           "values": [
            "Evaporates at 100°C under standard atmospheric pressure"
           ]
          },
          {
           "axis": {
            "matches": true
           },
           "label": "mouthfeel",
           "values": [
            "Consistent viscosity at a given temperature"
           ]
          },
          {
           "axis": {
            "matches": true
           },
           "label": "texture",
           "values": [
            "Liquid at room temperature"
           ]
          }
         ],
         "hovertemplate": "IngredientName=Water<br>%{xaxis.title.text}=%{x}<br>%{yaxis.title.text}=%{y}<extra></extra>",
         "legendgroup": "Water",
         "marker": {
          "color": "#FECB52",
          "symbol": "circle"
         },
         "name": "Water",
         "showlegend": true,
         "type": "splom"
        },
        {
         "dimensions": [
          {
           "axis": {
            "matches": true
           },
           "label": "flavour_release",
           "values": [
            "Enhanced by cooking or baking"
           ]
          },
          {
           "axis": {
            "matches": true
           },
           "label": "volatility",
           "values": [
            ""
           ]
          },
          {
           "axis": {
            "matches": true
           },
           "label": "mouthfeel",
           "values": [
            "Depends on preparation; can be chewy or crunchy"
           ]
          },
          {
           "axis": {
            "matches": true
           },
           "label": "texture",
           "values": [
            "Varies from fine powder (flour) to coarse grains"
           ]
          }
         ],
         "hovertemplate": "IngredientName=Wheat<br>%{xaxis.title.text}=%{x}<br>%{yaxis.title.text}=%{y}<extra></extra>",
         "legendgroup": "Wheat",
         "marker": {
          "color": "#636efa",
          "symbol": "circle"
         },
         "name": "Wheat",
         "showlegend": true,
         "type": "splom"
        },
        {
         "dimensions": [
          {
           "axis": {
            "matches": true
           },
           "label": "flavour_release",
           "values": [
            "Depends on preparation"
           ]
          },
          {
           "axis": {
            "matches": true
           },
           "label": "volatility",
           "values": [
            "N/A"
           ]
          },
          {
           "axis": {
            "matches": true
           },
           "label": "mouthfeel",
           "values": [
            "Creamy when processed into products like tofu"
           ]
          },
          {
           "axis": {
            "matches": true
           },
           "label": "texture",
           "values": [
            "Varies from soft to firm depending on preparation"
           ]
          }
         ],
         "hovertemplate": "IngredientName=Soy Bean<br>%{xaxis.title.text}=%{x}<br>%{yaxis.title.text}=%{y}<extra></extra>",
         "legendgroup": "Soy Bean",
         "marker": {
          "color": "#EF553B",
          "symbol": "circle"
         },
         "name": "Soy Bean",
         "showlegend": true,
         "type": "splom"
        },
        {
         "dimensions": [
          {
           "axis": {
            "matches": true
           },
           "label": "flavour_release",
           "values": [
            "Varies, some spices release flavor quickly, while others require longer cooking times"
           ]
          },
          {
           "axis": {
            "matches": true
           },
           "label": "volatility",
           "values": [
            "Many spices contain volatile oils that contribute to their aroma and flavor"
           ]
          },
          {
           "axis": {
            "matches": true
           },
           "label": "mouthfeel",
           "values": [
            "Depends on the specific spice and application"
           ]
          },
          {
           "axis": {
            "matches": true
           },
           "label": "texture",
           "values": [
            "Varies from fine powder to whole seeds or leaves"
           ]
          }
         ],
         "hovertemplate": "IngredientName=Spices<br>%{xaxis.title.text}=%{x}<br>%{yaxis.title.text}=%{y}<extra></extra>",
         "legendgroup": "Spices",
         "marker": {
          "color": "#00cc96",
          "symbol": "circle"
         },
         "name": "Spices",
         "showlegend": true,
         "type": "splom"
        },
        {
         "dimensions": [
          {
           "axis": {
            "matches": true
           },
           "label": "flavour_release",
           "values": [
            "Immediate upon heating"
           ]
          },
          {
           "axis": {
            "matches": true
           },
           "label": "volatility",
           "values": [
            "Low"
           ]
          },
          {
           "axis": {
            "matches": true
           },
           "label": "mouthfeel",
           "values": [
            "Rich and coating"
           ]
          },
          {
           "axis": {
            "matches": true
           },
           "label": "texture",
           "values": [
            "Smooth and viscous"
           ]
          }
         ],
         "hovertemplate": "IngredientName=Sesame Oil<br>%{xaxis.title.text}=%{x}<br>%{yaxis.title.text}=%{y}<extra></extra>",
         "legendgroup": "Sesame Oil",
         "marker": {
          "color": "#ab63fa",
          "symbol": "circle"
         },
         "name": "Sesame Oil",
         "showlegend": true,
         "type": "splom"
        },
        {
         "dimensions": [
          {
           "axis": {
            "matches": true
           },
           "label": "flavour_release",
           "values": [
            "Immediate upon consumption."
           ]
          },
          {
           "axis": {
            "matches": true
           },
           "label": "volatility",
           "values": [
            "Low"
           ]
          },
          {
           "axis": {
            "matches": true
           },
           "label": "mouthfeel",
           "values": [
            "Can cause a burning sensation."
           ]
          },
          {
           "axis": {
            "matches": true
           },
           "label": "texture",
           "values": [
            "Liquid to slightly viscous."
           ]
          }
         ],
         "hovertemplate": "IngredientName=Chilli Sauce<br>%{xaxis.title.text}=%{x}<br>%{yaxis.title.text}=%{y}<extra></extra>",
         "legendgroup": "Chilli Sauce",
         "marker": {
          "color": "#FFA15A",
          "symbol": "circle"
         },
         "name": "Chilli Sauce",
         "showlegend": true,
         "type": "splom"
        },
        {
         "dimensions": [
          {
           "axis": {
            "matches": true
           },
           "label": "flavour_release",
           "values": [
            "Heat intensifies with cooking or processing."
           ]
          },
          {
           "axis": {
            "matches": true
           },
           "label": "volatility",
           "values": [
            "Capsaicin can irritate skin and mucous membranes."
           ]
          },
          {
           "axis": {
            "matches": true
           },
           "label": "mouthfeel",
           "values": [
            "Can cause a tingling or burning sensation."
           ]
          },
          {
           "axis": {
            "matches": true
           },
           "label": "texture",
           "values": [
            "Fresh chillies are crisp, while dried ones are leathery."
           ]
          }
         ],
         "hovertemplate": "IngredientName=Chilli<br>%{xaxis.title.text}=%{x}<br>%{yaxis.title.text}=%{y}<extra></extra>",
         "legendgroup": "Chilli",
         "marker": {
          "color": "#19d3f3",
          "symbol": "circle"
         },
         "name": "Chilli",
         "showlegend": true,
         "type": "splom"
        },
        {
         "dimensions": [
          {
           "axis": {
            "matches": true
           },
           "label": "flavour_release",
           "values": [
            "No impact on flavor release"
           ]
          },
          {
           "axis": {
            "matches": true
           },
           "label": "volatility",
           "values": [
            "Low"
           ]
          },
          {
           "axis": {
            "matches": true
           },
           "label": "mouthfeel",
           "values": [
            "Smooth when cooked"
           ]
          },
          {
           "axis": {
            "matches": true
           },
           "label": "texture",
           "values": [
            "Fine powder"
           ]
          }
         ],
         "hovertemplate": "IngredientName=Tapioca Starch<br>%{xaxis.title.text}=%{x}<br>%{yaxis.title.text}=%{y}<extra></extra>",
         "legendgroup": "Tapioca Starch",
         "marker": {
          "color": "#FF6692",
          "symbol": "circle"
         },
         "name": "Tapioca Starch",
         "showlegend": true,
         "type": "splom"
        },
        {
         "dimensions": [
          {
           "axis": {
            "matches": true
           },
           "label": "flavour_release",
           "values": [
            "Immediate",
            "Immediate",
            "Immediate",
            "Immediate"
           ]
          },
          {
           "axis": {
            "matches": true
           },
           "label": "volatility",
           "values": [
            "High",
            "High",
            "High",
            "Low"
           ]
          },
          {
           "axis": {
            "matches": true
           },
           "label": "mouthfeel",
           "values": [
            "Astringent",
            "Astringent",
            "Astringent",
            "Astringent"
           ]
          },
          {
           "axis": {
            "matches": true
           },
           "label": "texture",
           "values": [
            "Liquid at room temperature",
            "Liquid at room temperature",
            "Liquid at room temperature",
            "Liquid at room temperature"
           ]
          }
         ],
         "hovertemplate": "IngredientName=Acetic Acid<br>%{xaxis.title.text}=%{x}<br>%{yaxis.title.text}=%{y}<extra></extra>",
         "legendgroup": "Acetic Acid",
         "marker": {
          "color": "#B6E880",
          "symbol": "circle"
         },
         "name": "Acetic Acid",
         "showlegend": true,
         "type": "splom"
        },
        {
         "dimensions": [
          {
           "axis": {
            "matches": true
           },
           "label": "flavour_release",
           "values": [
            "Immediate upon dissolution",
            "Immediate upon dissolution",
            "Immediate",
            "Immediate",
            "Immediate upon dissolution",
            "Immediate"
           ]
          },
          {
           "axis": {
            "matches": true
           },
           "label": "volatility",
           "values": [
            "Low",
            "Low",
            "Low",
            "Low",
            "Low",
            "Low"
           ]
          },
          {
           "axis": {
            "matches": true
           },
           "label": "mouthfeel",
           "values": [
            "Acidic sensation",
            "Sharp, clean acidic sensation",
            "Acidic sensation",
            "Sharp, tangy",
            "Acidic sensation",
            "Acidic sensation"
           ]
          },
          {
           "axis": {
            "matches": true
           },
           "label": "texture",
           "values": [
            "Crystalline powder",
            "Crystalline powder",
            "Crystalline powder",
            "Crystalline powder",
            "Crystalline powder",
            "Crystalline powder"
           ]
          }
         ],
         "hovertemplate": "IngredientName=Citric Acid<br>%{xaxis.title.text}=%{x}<br>%{yaxis.title.text}=%{y}<extra></extra>",
         "legendgroup": "Citric Acid",
         "marker": {
          "color": "#FF97FF",
          "symbol": "circle"
         },
         "name": "Citric Acid",
         "showlegend": true,
         "type": "splom"
        },
        {
         "dimensions": [
          {
           "axis": {
            "matches": true
           },
           "label": "flavour_release",
           "values": [
            "Can be immediate or develop over time in cooked dishes"
           ]
          },
          {
           "axis": {
            "matches": true
           },
           "label": "volatility",
           "values": [
            "Essential oils in herbs can be volatile"
           ]
          },
          {
           "axis": {
            "matches": true
           },
           "label": "mouthfeel",
           "values": [
            "Not typically applicable"
           ]
          },
          {
           "axis": {
            "matches": true
           },
           "label": "texture",
           "values": [
            "Fresh herbs are typically soft, dried herbs are brittle"
           ]
          }
         ],
         "hovertemplate": "IngredientName=Herbs<br>%{xaxis.title.text}=%{x}<br>%{yaxis.title.text}=%{y}<extra></extra>",
         "legendgroup": "Herbs",
         "marker": {
          "color": "#FECB52",
          "symbol": "circle"
         },
         "name": "Herbs",
         "showlegend": true,
         "type": "splom"
        },
        {
         "dimensions": [
          {
           "axis": {
            "matches": true
           },
           "label": "flavour_release",
           "values": [
            "Not applicable"
           ]
          },
          {
           "axis": {
            "matches": true
           },
           "label": "volatility",
           "values": [
            "Low"
           ]
          },
          {
           "axis": {
            "matches": true
           },
           "label": "mouthfeel",
           "values": [
            "Not applicable"
           ]
          },
          {
           "axis": {
            "matches": true
           },
           "label": "texture",
           "values": [
            "Powder"
           ]
          }
         ],
         "hovertemplate": "IngredientName=Preservative 1211<br>%{xaxis.title.text}=%{x}<br>%{yaxis.title.text}=%{y}<extra></extra>",
         "legendgroup": "Preservative 1211",
         "marker": {
          "color": "#636efa",
          "symbol": "circle"
         },
         "name": "Preservative 1211",
         "showlegend": true,
         "type": "splom"
        },
        {
         "dimensions": [
          {
           "axis": {
            "matches": true
           },
           "label": "flavour_release",
           "values": [
            "Not applicable"
           ]
          },
          {
           "axis": {
            "matches": true
           },
           "label": "volatility",
           "values": [
            "Low"
           ]
          },
          {
           "axis": {
            "matches": true
           },
           "label": "mouthfeel",
           "values": [
            "Not applicable"
           ]
          },
          {
           "axis": {
            "matches": true
           },
           "label": "texture",
           "values": [
            "Powder"
           ]
          }
         ],
         "hovertemplate": "IngredientName=Sodium Metabisulfite<br>%{xaxis.title.text}=%{x}<br>%{yaxis.title.text}=%{y}<extra></extra>",
         "legendgroup": "Sodium Metabisulfite",
         "marker": {
          "color": "#EF553B",
          "symbol": "circle"
         },
         "name": "Sodium Metabisulfite",
         "showlegend": true,
         "type": "splom"
        },
        {
         "dimensions": [
          {
           "axis": {
            "matches": true
           },
           "label": "flavour_release",
           "values": [
            "Immediate upon consumption"
           ]
          },
          {
           "axis": {
            "matches": true
           },
           "label": "volatility",
           "values": [
            "High, especially when exposed to air"
           ]
          },
          {
           "axis": {
            "matches": true
           },
           "label": "mouthfeel",
           "values": [
            "Light with a crunchy texture"
           ]
          },
          {
           "axis": {
            "matches": true
           },
           "label": "texture",
           "values": [
            "Crispy and crunchy"
           ]
          }
         ],
         "hovertemplate": "IngredientName=Fried Onion<br>%{xaxis.title.text}=%{x}<br>%{yaxis.title.text}=%{y}<extra></extra>",
         "legendgroup": "Fried Onion",
         "marker": {
          "color": "#00cc96",
          "symbol": "circle"
         },
         "name": "Fried Onion",
         "showlegend": true,
         "type": "splom"
        },
        {
         "dimensions": [
          {
           "axis": {
            "matches": true
           },
           "label": "flavour_release",
           "values": [
            ""
           ]
          },
          {
           "axis": {
            "matches": true
           },
           "label": "volatility",
           "values": [
            "Low"
           ]
          },
          {
           "axis": {
            "matches": true
           },
           "label": "mouthfeel",
           "values": [
            "Not applicable"
           ]
          },
          {
           "axis": {
            "matches": true
           },
           "label": "texture",
           "values": [
            "Solid at room temperature"
           ]
          }
         ],
         "hovertemplate": "IngredientName=TBHQ<br>%{xaxis.title.text}=%{x}<br>%{yaxis.title.text}=%{y}<extra></extra>",
         "legendgroup": "TBHQ",
         "marker": {
          "color": "#ab63fa",
          "symbol": "circle"
         },
         "name": "TBHQ",
         "showlegend": true,
         "type": "splom"
        },
        {
         "dimensions": [
          {
           "axis": {
            "matches": true
           },
           "label": "flavour_release",
           "values": [
            "Depends on the food matrix."
           ]
          },
          {
           "axis": {
            "matches": true
           },
           "label": "volatility",
           "values": [
            "Low."
           ]
          },
          {
           "axis": {
            "matches": true
           },
           "label": "mouthfeel",
           "values": [
            "Oily, smooth."
           ]
          },
          {
           "axis": {
            "matches": true
           },
           "label": "texture",
           "values": [
            "Liquid at room temperature."
           ]
          }
         ],
         "hovertemplate": "IngredientName=Vegetable Oil<br>%{xaxis.title.text}=%{x}<br>%{yaxis.title.text}=%{y}<extra></extra>",
         "legendgroup": "Vegetable Oil",
         "marker": {
          "color": "#FFA15A",
          "symbol": "circle"
         },
         "name": "Vegetable Oil",
         "showlegend": true,
         "type": "splom"
        },
        {
         "dimensions": [
          {
           "axis": {
            "matches": true
           },
           "label": "flavour_release",
           "values": [
            "Not applicable"
           ]
          },
          {
           "axis": {
            "matches": true
           },
           "label": "volatility",
           "values": [
            "Low"
           ]
          },
          {
           "axis": {
            "matches": true
           },
           "label": "mouthfeel",
           "values": [
            "Not applicable"
           ]
          },
          {
           "axis": {
            "matches": true
           },
           "label": "texture",
           "values": [
            "Solid at room temperature"
           ]
          }
         ],
         "hovertemplate": "IngredientName=Antioxidant 320<br>%{xaxis.title.text}=%{x}<br>%{yaxis.title.text}=%{y}<extra></extra>",
         "legendgroup": "Antioxidant 320",
         "marker": {
          "color": "#19d3f3",
          "symbol": "circle"
         },
         "name": "Antioxidant 320",
         "showlegend": true,
         "type": "splom"
        },
        {
         "dimensions": [
          {
           "axis": {
            "matches": true
           },
           "label": "flavour_release",
           "values": [
            "Immediate"
           ]
          },
          {
           "axis": {
            "matches": true
           },
           "label": "volatility",
           "values": [
            "Non-volatile"
           ]
          },
          {
           "axis": {
            "matches": true
           },
           "label": "mouthfeel",
           "values": [
            "Similar to table salt"
           ]
          },
          {
           "axis": {
            "matches": true
           },
           "label": "texture",
           "values": [
            "Crystalline powder"
           ]
          }
         ],
         "hovertemplate": "IngredientName=Mineral Salt 508<br>%{xaxis.title.text}=%{x}<br>%{yaxis.title.text}=%{y}<extra></extra>",
         "legendgroup": "Mineral Salt 508",
         "marker": {
          "color": "#FF6692",
          "symbol": "circle"
         },
         "name": "Mineral Salt 508",
         "showlegend": true,
         "type": "splom"
        },
        {
         "dimensions": [
          {
           "axis": {
            "matches": true
           },
           "label": "flavour_release",
           "values": [
            "Not applicable"
           ]
          },
          {
           "axis": {
            "matches": true
           },
           "label": "volatility",
           "values": [
            "Low"
           ]
          },
          {
           "axis": {
            "matches": true
           },
           "label": "mouthfeel",
           "values": [
            "Not applicable"
           ]
          },
          {
           "axis": {
            "matches": true
           },
           "label": "texture",
           "values": [
            "Powdery"
           ]
          }
         ],
         "hovertemplate": "IngredientName=Mineral Salt 451<br>%{xaxis.title.text}=%{x}<br>%{yaxis.title.text}=%{y}<extra></extra>",
         "legendgroup": "Mineral Salt 451",
         "marker": {
          "color": "#B6E880",
          "symbol": "circle"
         },
         "name": "Mineral Salt 451",
         "showlegend": true,
         "type": "splom"
        },
        {
         "dimensions": [
          {
           "axis": {
            "matches": true
           },
           "label": "flavour_release",
           "values": [
            "Immediate upon consumption"
           ]
          },
          {
           "axis": {
            "matches": true
           },
           "label": "volatility",
           "values": [
            "Low"
           ]
          },
          {
           "axis": {
            "matches": true
           },
           "label": "mouthfeel",
           "values": [
            "Not applicable"
           ]
          },
          {
           "axis": {
            "matches": true
           },
           "label": "texture",
           "values": [
            "Not applicable"
           ]
          }
         ],
         "hovertemplate": "IngredientName=Flavour Enhancer 635<br>%{xaxis.title.text}=%{x}<br>%{yaxis.title.text}=%{y}<extra></extra>",
         "legendgroup": "Flavour Enhancer 635",
         "marker": {
          "color": "#FF97FF",
          "symbol": "circle"
         },
         "name": "Flavour Enhancer 635",
         "showlegend": true,
         "type": "splom"
        },
        {
         "dimensions": [
          {
           "axis": {
            "matches": true
           },
           "label": "flavour_release",
           "values": [
            "Immediate upon dissolving"
           ]
          },
          {
           "axis": {
            "matches": true
           },
           "label": "volatility",
           "values": [
            "Non-volatile"
           ]
          },
          {
           "axis": {
            "matches": true
           },
           "label": "mouthfeel",
           "values": [
            "Varies with grain size, generally perceived as sharp or biting"
           ]
          },
          {
           "axis": {
            "matches": true
           },
           "label": "texture",
           "values": [
            "Fine or coarse granular"
           ]
          }
         ],
         "hovertemplate": "IngredientName=Iodised Salt<br>%{xaxis.title.text}=%{x}<br>%{yaxis.title.text}=%{y}<extra></extra>",
         "legendgroup": "Iodised Salt",
         "marker": {
          "color": "#FECB52",
          "symbol": "circle"
         },
         "name": "Iodised Salt",
         "showlegend": true,
         "type": "splom"
        },
        {
         "dimensions": [
          {
           "axis": {
            "matches": true
           },
           "label": "flavour_release",
           "values": [
            "Immediate"
           ]
          },
          {
           "axis": {
            "matches": true
           },
           "label": "volatility",
           "values": [
            "Low"
           ]
          },
          {
           "axis": {
            "matches": true
           },
           "label": "mouthfeel",
           "values": [
            "Depends on concentration; can range from smooth to slightly gritty"
           ]
          },
          {
           "axis": {
            "matches": true
           },
           "label": "texture",
           "values": [
            "Fine powder"
           ]
          }
         ],
         "hovertemplate": "IngredientName=Maltodextrin<br>%{xaxis.title.text}=%{x}<br>%{yaxis.title.text}=%{y}<extra></extra>",
         "legendgroup": "Maltodextrin",
         "marker": {
          "color": "#636efa",
          "symbol": "circle"
         },
         "name": "Maltodextrin",
         "showlegend": true,
         "type": "splom"
        },
        {
         "dimensions": [
          {
           "axis": {
            "matches": true
           },
           "label": "flavour_release",
           "values": [
            "Immediate upon consumption."
           ]
          },
          {
           "axis": {
            "matches": true
           },
           "label": "volatility",
           "values": [
            "Moderate, sensitive to high temperatures."
           ]
          },
          {
           "axis": {
            "matches": true
           },
           "label": "mouthfeel",
           "values": [
            "Not applicable for flavor extracts."
           ]
          },
          {
           "axis": {
            "matches": true
           },
           "label": "texture",
           "values": [
            "Not applicable for liquid extracts."
           ]
          }
         ],
         "hovertemplate": "IngredientName=Flavours Wheat<br>%{xaxis.title.text}=%{x}<br>%{yaxis.title.text}=%{y}<extra></extra>",
         "legendgroup": "Flavours Wheat",
         "marker": {
          "color": "#EF553B",
          "symbol": "circle"
         },
         "name": "Flavours Wheat",
         "showlegend": true,
         "type": "splom"
        },
        {
         "dimensions": [
          {
           "axis": {
            "matches": true
           },
           "label": "flavour_release",
           "values": [
            "Immediate upon consumption"
           ]
          },
          {
           "axis": {
            "matches": true
           },
           "label": "volatility",
           "values": [
            "Low"
           ]
          },
          {
           "axis": {
            "matches": true
           },
           "label": "mouthfeel",
           "values": [
            "Varies with product formulation"
           ]
          },
          {
           "axis": {
            "matches": true
           },
           "label": "texture",
           "values": [
            "Depends on application but generally not applicable"
           ]
          }
         ],
         "hovertemplate": "IngredientName=Flavours Soy<br>%{xaxis.title.text}=%{x}<br>%{yaxis.title.text}=%{y}<extra></extra>",
         "legendgroup": "Flavours Soy",
         "marker": {
          "color": "#00cc96",
          "symbol": "circle"
         },
         "name": "Flavours Soy",
         "showlegend": true,
         "type": "splom"
        },
        {
         "dimensions": [
          {
           "axis": {
            "matches": true
           },
           "label": "flavour_release",
           "values": [
            "Immediate."
           ]
          },
          {
           "axis": {
            "matches": true
           },
           "label": "volatility",
           "values": [
            "Low."
           ]
          },
          {
           "axis": {
            "matches": true
           },
           "label": "mouthfeel",
           "values": [
            "Smooth and oily."
           ]
          },
          {
           "axis": {
            "matches": true
           },
           "label": "texture",
           "values": [
            "Liquid at room temperature, solidifies when cooled."
           ]
          }
         ],
         "hovertemplate": "IngredientName=Vegetable Fat<br>%{xaxis.title.text}=%{x}<br>%{yaxis.title.text}=%{y}<extra></extra>",
         "legendgroup": "Vegetable Fat",
         "marker": {
          "color": "#ab63fa",
          "symbol": "circle"
         },
         "name": "Vegetable Fat",
         "showlegend": true,
         "type": "splom"
        },
        {
         "dimensions": [
          {
           "axis": {
            "matches": true
           },
           "label": "flavour_release",
           "values": [
            "Becomes more pronounced when hydrated"
           ]
          },
          {
           "axis": {
            "matches": true
           },
           "label": "volatility",
           "values": [
            "Low"
           ]
          },
          {
           "axis": {
            "matches": true
           },
           "label": "mouthfeel",
           "values": [
            "Slightly crunchy when rehydrated"
           ]
          },
          {
           "axis": {
            "matches": true
           },
           "label": "texture",
           "values": [
            "Crumbly"
           ]
          }
         ],
         "hovertemplate": "IngredientName=Parsley Flakes<br>%{xaxis.title.text}=%{x}<br>%{yaxis.title.text}=%{y}<extra></extra>",
         "legendgroup": "Parsley Flakes",
         "marker": {
          "color": "#FFA15A",
          "symbol": "circle"
         },
         "name": "Parsley Flakes",
         "showlegend": true,
         "type": "splom"
        },
        {
         "dimensions": [
          {
           "axis": {
            "matches": true
           },
           "label": "flavour_release",
           "values": [
            "Gradual, enhanced with cooking",
            "Slow, enhanced with fats"
           ]
          },
          {
           "axis": {
            "matches": true
           },
           "label": "volatility",
           "values": [
            "Low",
            ""
           ]
          },
          {
           "axis": {
            "matches": true
           },
           "label": "mouthfeel",
           "values": [
            "Slightly gritty when not fully dissolved",
            "Earthy"
           ]
          },
          {
           "axis": {
            "matches": true
           },
           "label": "texture",
           "values": [
            "Powdery",
            "Fine powder"
           ]
          }
         ],
         "hovertemplate": "IngredientName=Turmeric<br>%{xaxis.title.text}=%{x}<br>%{yaxis.title.text}=%{y}<extra></extra>",
         "legendgroup": "Turmeric",
         "marker": {
          "color": "#19d3f3",
          "symbol": "circle"
         },
         "name": "Turmeric",
         "showlegend": true,
         "type": "splom"
        },
        {
         "dimensions": [
          {
           "axis": {
            "matches": true
           },
           "label": "flavour_release",
           "values": [
            "Immediate"
           ]
          },
          {
           "axis": {
            "matches": true
           },
           "label": "volatility",
           "values": [
            "Low"
           ]
          },
          {
           "axis": {
            "matches": true
           },
           "label": "mouthfeel",
           "values": [
            "Depends on the product it is used in"
           ]
          },
          {
           "axis": {
            "matches": true
           },
           "label": "texture",
           "values": [
            "Liquid or powder"
           ]
          }
         ],
         "hovertemplate": "IngredientName=Caramel III<br>%{xaxis.title.text}=%{x}<br>%{yaxis.title.text}=%{y}<extra></extra>",
         "legendgroup": "Caramel III",
         "marker": {
          "color": "#FF6692",
          "symbol": "circle"
         },
         "name": "Caramel III",
         "showlegend": true,
         "type": "splom"
        },
        {
         "dimensions": [
          {
           "axis": {
            "matches": true
           },
           "label": "flavour_release",
           "values": [
            "Crushing seeds releases more flavor; leaves are best used fresh."
           ]
          },
          {
           "axis": {
            "matches": true
           },
           "label": "volatility",
           "values": [
            "Leaves are highly volatile and lose flavor quickly when dried."
           ]
          },
          {
           "axis": {
            "matches": true
           },
           "label": "mouthfeel",
           "values": [
            "Seeds provide a crunchy texture; leaves do not significantly alter mouthfeel."
           ]
          },
          {
           "axis": {
            "matches": true
           },
           "label": "texture",
           "values": [
            "Seeds are hard and crunchy; leaves are soft and delicate."
           ]
          }
         ],
         "hovertemplate": "IngredientName=Coriander<br>%{xaxis.title.text}=%{x}<br>%{yaxis.title.text}=%{y}<extra></extra>",
         "legendgroup": "Coriander",
         "marker": {
          "color": "#B6E880",
          "symbol": "circle"
         },
         "name": "Coriander",
         "showlegend": true,
         "type": "splom"
        },
        {
         "dimensions": [
          {
           "axis": {
            "matches": true
           },
           "label": "flavour_release",
           "values": [
            "Increases with cooking, especially when toasted"
           ]
          },
          {
           "axis": {
            "matches": true
           },
           "label": "volatility",
           "values": [
            "Moderate"
           ]
          },
          {
           "axis": {
            "matches": true
           },
           "label": "mouthfeel",
           "values": [
            "Slightly astringent"
           ]
          },
          {
           "axis": {
            "matches": true
           },
           "label": "texture",
           "values": [
            "Crunchy when whole, powdery when ground"
           ]
          }
         ],
         "hovertemplate": "IngredientName=Cumin<br>%{xaxis.title.text}=%{x}<br>%{yaxis.title.text}=%{y}<extra></extra>",
         "legendgroup": "Cumin",
         "marker": {
          "color": "#FF97FF",
          "symbol": "circle"
         },
         "name": "Cumin",
         "showlegend": true,
         "type": "splom"
        },
        {
         "dimensions": [
          {
           "axis": {
            "matches": true
           },
           "label": "flavour_release",
           "values": [
            "Released upon grinding or cooking"
           ]
          },
          {
           "axis": {
            "matches": true
           },
           "label": "volatility",
           "values": [
            "Highly volatile essential oils"
           ]
          },
          {
           "axis": {
            "matches": true
           },
           "label": "mouthfeel",
           "values": [
            "Not applicable for spices in general"
           ]
          },
          {
           "axis": {
            "matches": true
           },
           "label": "texture",
           "values": [
            "Hard seeds when whole, fine powder when ground"
           ]
          }
         ],
         "hovertemplate": "IngredientName=Spice Cardamom<br>%{xaxis.title.text}=%{x}<br>%{yaxis.title.text}=%{y}<extra></extra>",
         "legendgroup": "Spice Cardamom",
         "marker": {
          "color": "#FECB52",
          "symbol": "circle"
         },
         "name": "Spice Cardamom",
         "showlegend": true,
         "type": "splom"
        },
        {
         "dimensions": [
          {
           "axis": {
            "matches": true
           },
           "label": "flavour_release",
           "values": [
            "Immediate upon contact with moisture."
           ]
          },
          {
           "axis": {
            "matches": true
           },
           "label": "volatility",
           "values": [
            "Low."
           ]
          },
          {
           "axis": {
            "matches": true
           },
           "label": "mouthfeel",
           "values": [
            "Can cause a burning sensation."
           ]
          },
          {
           "axis": {
            "matches": true
           },
           "label": "texture",
           "values": [
            "Fine powder."
           ]
          }
         ],
         "hovertemplate": "IngredientName=Spice Chilli Powder<br>%{xaxis.title.text}=%{x}<br>%{yaxis.title.text}=%{y}<extra></extra>",
         "legendgroup": "Spice Chilli Powder",
         "marker": {
          "color": "#636efa",
          "symbol": "circle"
         },
         "name": "Spice Chilli Powder",
         "showlegend": true,
         "type": "splom"
        },
        {
         "dimensions": [
          {
           "axis": {
            "matches": true
           },
           "label": "flavour_release",
           "values": [
            "Increases with cooking"
           ]
          },
          {
           "axis": {
            "matches": true
           },
           "label": "volatility",
           "values": [
            "Essential oils are volatile"
           ]
          },
          {
           "axis": {
            "matches": true
           },
           "label": "mouthfeel",
           "values": [
            "Slightly burning sensation"
           ]
          },
          {
           "axis": {
            "matches": true
           },
           "label": "texture",
           "values": [
            "Fibrous when fresh, powdery when dried"
           ]
          }
         ],
         "hovertemplate": "IngredientName=Spice Ginger<br>%{xaxis.title.text}=%{x}<br>%{yaxis.title.text}=%{y}<extra></extra>",
         "legendgroup": "Spice Ginger",
         "marker": {
          "color": "#EF553B",
          "symbol": "circle"
         },
         "name": "Spice Ginger",
         "showlegend": true,
         "type": "splom"
        },
        {
         "dimensions": [
          {
           "axis": {
            "matches": true
           },
           "label": "flavour_release",
           "values": [
            "Immediate upon dissolution"
           ]
          },
          {
           "axis": {
            "matches": true
           },
           "label": "volatility",
           "values": [
            "Non-volatile"
           ]
          },
          {
           "axis": {
            "matches": true
           },
           "label": "mouthfeel",
           "values": [
            "Similar to sodium chloride"
           ]
          },
          {
           "axis": {
            "matches": true
           },
           "label": "texture",
           "values": [
            "Crystalline powder or granules"
           ]
          }
         ],
         "hovertemplate": "IngredientName=Potassium Chloride<br>%{xaxis.title.text}=%{x}<br>%{yaxis.title.text}=%{y}<extra></extra>",
         "legendgroup": "Potassium Chloride",
         "marker": {
          "color": "#00cc96",
          "symbol": "circle"
         },
         "name": "Potassium Chloride",
         "showlegend": true,
         "type": "splom"
        },
        {
         "dimensions": [
          {
           "axis": {
            "matches": true
           },
           "label": "flavour_release",
           "values": [
            "Immediate upon tasting"
           ]
          },
          {
           "axis": {
            "matches": true
           },
           "label": "volatility",
           "values": [
            "High due to essential oil content"
           ]
          },
          {
           "axis": {
            "matches": true
           },
           "label": "mouthfeel",
           "values": [
            "Not applicable for extracts"
           ]
          },
          {
           "axis": {
            "matches": true
           },
           "label": "texture",
           "values": [
            "Not applicable for extracts"
           ]
          }
         ],
         "hovertemplate": "IngredientName=Flavour Celery<br>%{xaxis.title.text}=%{x}<br>%{yaxis.title.text}=%{y}<extra></extra>",
         "legendgroup": "Flavour Celery",
         "marker": {
          "color": "#ab63fa",
          "symbol": "circle"
         },
         "name": "Flavour Celery",
         "showlegend": true,
         "type": "splom"
        },
        {
         "dimensions": [
          {
           "axis": {
            "matches": true
           },
           "label": "flavour_release",
           "values": [
            "None"
           ]
          },
          {
           "axis": {
            "matches": true
           },
           "label": "volatility",
           "values": [
            "Low"
           ]
          },
          {
           "axis": {
            "matches": true
           },
           "label": "mouthfeel",
           "values": [
            "Smooth when cooked"
           ]
          },
          {
           "axis": {
            "matches": true
           },
           "label": "texture",
           "values": [
            "Fine powder"
           ]
          }
         ],
         "hovertemplate": "IngredientName=Potato Starch<br>%{xaxis.title.text}=%{x}<br>%{yaxis.title.text}=%{y}<extra></extra>",
         "legendgroup": "Potato Starch",
         "marker": {
          "color": "#FFA15A",
          "symbol": "circle"
         },
         "name": "Potato Starch",
         "showlegend": true,
         "type": "splom"
        },
        {
         "dimensions": [
          {
           "axis": {
            "matches": true
           },
           "label": "flavour_release",
           "values": [
            "Immediate upon chewing"
           ]
          },
          {
           "axis": {
            "matches": true
           },
           "label": "volatility",
           "values": [
            "Low"
           ]
          },
          {
           "axis": {
            "matches": true
           },
           "label": "mouthfeel",
           "values": [
            "Light, does not linger"
           ]
          },
          {
           "axis": {
            "matches": true
           },
           "label": "texture",
           "values": [
            "Crunchy when fresh, crumbly when dried"
           ]
          }
         ],
         "hovertemplate": "IngredientName=Parsley<br>%{xaxis.title.text}=%{x}<br>%{yaxis.title.text}=%{y}<extra></extra>",
         "legendgroup": "Parsley",
         "marker": {
          "color": "#19d3f3",
          "symbol": "circle"
         },
         "name": "Parsley",
         "showlegend": true,
         "type": "splom"
        },
        {
         "dimensions": [
          {
           "axis": {
            "matches": true
           },
           "label": "flavour_release",
           "values": [
            "Immediate upon consumption"
           ]
          },
          {
           "axis": {
            "matches": true
           },
           "label": "volatility",
           "values": [
            "Low"
           ]
          },
          {
           "axis": {
            "matches": true
           },
           "label": "mouthfeel",
           "values": [
            "Varies; generally smooth if in liquid form"
           ]
          },
          {
           "axis": {
            "matches": true
           },
           "label": "texture",
           "values": [
            "Depends on preparation; can be syrupy or solid"
           ]
          }
         ],
         "hovertemplate": "IngredientName=Burnt Sugar<br>%{xaxis.title.text}=%{x}<br>%{yaxis.title.text}=%{y}<extra></extra>",
         "legendgroup": "Burnt Sugar",
         "marker": {
          "color": "#FF6692",
          "symbol": "circle"
         },
         "name": "Burnt Sugar",
         "showlegend": true,
         "type": "splom"
        },
        {
         "dimensions": [
          {
           "axis": {
            "matches": true
           },
           "label": "flavour_release",
           "values": [
            "Slow"
           ]
          },
          {
           "axis": {
            "matches": true
           },
           "label": "volatility",
           "values": [
            "Low"
           ]
          },
          {
           "axis": {
            "matches": true
           },
           "label": "mouthfeel",
           "values": [
            "Dense"
           ]
          },
          {
           "axis": {
            "matches": true
           },
           "label": "texture",
           "values": [
            "Chewy, elastic"
           ]
          }
         ],
         "hovertemplate": "IngredientName=Gluten Wheat<br>%{xaxis.title.text}=%{x}<br>%{yaxis.title.text}=%{y}<extra></extra>",
         "legendgroup": "Gluten Wheat",
         "marker": {
          "color": "#B6E880",
          "symbol": "circle"
         },
         "name": "Gluten Wheat",
         "showlegend": true,
         "type": "splom"
        },
        {
         "dimensions": [
          {
           "axis": {
            "matches": true
           },
           "label": "flavour_release",
           "values": [
            "Slow"
           ]
          },
          {
           "axis": {
            "matches": true
           },
           "label": "volatility",
           "values": [
            "Low"
           ]
          },
          {
           "axis": {
            "matches": true
           },
           "label": "mouthfeel",
           "values": [
            "Depends on preparation; can be creamy or firm"
           ]
          },
          {
           "axis": {
            "matches": true
           },
           "label": "texture",
           "values": [
            "Varies from soft (tofu) to crunchy (roasted soybeans)"
           ]
          }
         ],
         "hovertemplate": "IngredientName=Soy<br>%{xaxis.title.text}=%{x}<br>%{yaxis.title.text}=%{y}<extra></extra>",
         "legendgroup": "Soy",
         "marker": {
          "color": "#FF97FF",
          "symbol": "circle"
         },
         "name": "Soy",
         "showlegend": true,
         "type": "splom"
        },
        {
         "dimensions": [
          {
           "axis": {
            "matches": true
           },
           "label": "flavour_release",
           "values": [
            "Upon heating"
           ]
          },
          {
           "axis": {
            "matches": true
           },
           "label": "volatility",
           "values": [
            "Low"
           ]
          },
          {
           "axis": {
            "matches": true
           },
           "label": "mouthfeel",
           "values": [
            "Dry"
           ]
          },
          {
           "axis": {
            "matches": true
           },
           "label": "texture",
           "values": [
            "Powder"
           ]
          }
         ],
         "hovertemplate": "IngredientName=Curcumin<br>%{xaxis.title.text}=%{x}<br>%{yaxis.title.text}=%{y}<extra></extra>",
         "legendgroup": "Curcumin",
         "marker": {
          "color": "#FECB52",
          "symbol": "circle"
         },
         "name": "Curcumin",
         "showlegend": true,
         "type": "splom"
        },
        {
         "dimensions": [
          {
           "axis": {
            "matches": true
           },
           "label": "flavour_release",
           "values": [
            "Immediate upon cooking or rehydration"
           ]
          },
          {
           "axis": {
            "matches": true
           },
           "label": "volatility",
           "values": [
            "Low"
           ]
          },
          {
           "axis": {
            "matches": true
           },
           "label": "mouthfeel",
           "values": [
            "Depends on the food product it is used in"
           ]
          },
          {
           "axis": {
            "matches": true
           },
           "label": "texture",
           "values": [
            "Fine powder"
           ]
          }
         ],
         "hovertemplate": "IngredientName=Flavour Sachet<br>%{xaxis.title.text}=%{x}<br>%{yaxis.title.text}=%{y}<extra></extra>",
         "legendgroup": "Flavour Sachet",
         "marker": {
          "color": "#636efa",
          "symbol": "circle"
         },
         "name": "Flavour Sachet",
         "showlegend": true,
         "type": "splom"
        },
        {
         "dimensions": [
          {
           "axis": {
            "matches": true
           },
           "label": "flavour_release",
           "values": [
            "Gradual release of flavors as the sachet ingredients rehydrate during cooking."
           ]
          },
          {
           "axis": {
            "matches": true
           },
           "label": "volatility",
           "values": [
            "Low"
           ]
          },
          {
           "axis": {
            "matches": true
           },
           "label": "mouthfeel",
           "values": [
            "Smooth and velvety when dissolved in liquid."
           ]
          },
          {
           "axis": {
            "matches": true
           },
           "label": "texture",
           "values": [
            "Powdery and granular, rehydrates to a soft and tender consistency."
           ]
          }
         ],
         "hovertemplate": "IngredientName=Vegetable Sachet<br>%{xaxis.title.text}=%{x}<br>%{yaxis.title.text}=%{y}<extra></extra>",
         "legendgroup": "Vegetable Sachet",
         "marker": {
          "color": "#EF553B",
          "symbol": "circle"
         },
         "name": "Vegetable Sachet",
         "showlegend": true,
         "type": "splom"
        },
        {
         "dimensions": [
          {
           "axis": {
            "matches": true
           },
           "label": "flavour_release",
           "values": [
            "Flavors are released upon rehydration"
           ]
          },
          {
           "axis": {
            "matches": true
           },
           "label": "volatility",
           "values": [
            "Low"
           ]
          },
          {
           "axis": {
            "matches": true
           },
           "label": "mouthfeel",
           "values": [
            "Ranges from smooth to fibrous"
           ]
          },
          {
           "axis": {
            "matches": true
           },
           "label": "texture",
           "values": [
            "Crispy or chewy depending on rehydration"
           ]
          }
         ],
         "hovertemplate": "IngredientName=Dehydrated Vegetables<br>%{xaxis.title.text}=%{x}<br>%{yaxis.title.text}=%{y}<extra></extra>",
         "legendgroup": "Dehydrated Vegetables",
         "marker": {
          "color": "#00cc96",
          "symbol": "circle"
         },
         "name": "Dehydrated Vegetables",
         "showlegend": true,
         "type": "splom"
        },
        {
         "dimensions": [
          {
           "axis": {
            "matches": true
           },
           "label": "flavour_release",
           "values": [
            "Does not affect flavor release"
           ]
          },
          {
           "axis": {
            "matches": true
           },
           "label": "volatility",
           "values": [
            "Low"
           ]
          },
          {
           "axis": {
            "matches": true
           },
           "label": "mouthfeel",
           "values": [
            "Varies with application, can enhance creaminess"
           ]
          },
          {
           "axis": {
            "matches": true
           },
           "label": "texture",
           "values": [
            "Depends on application but generally provides a smooth texture"
           ]
          }
         ],
         "hovertemplate": "IngredientName=Modified Starch 1420<br>%{xaxis.title.text}=%{x}<br>%{yaxis.title.text}=%{y}<extra></extra>",
         "legendgroup": "Modified Starch 1420",
         "marker": {
          "color": "#ab63fa",
          "symbol": "circle"
         },
         "name": "Modified Starch 1420",
         "showlegend": true,
         "type": "splom"
        },
        {
         "dimensions": [
          {
           "axis": {
            "matches": true
           },
           "label": "flavour_release",
           "values": [
            "Immediate upon dissolution"
           ]
          },
          {
           "axis": {
            "matches": true
           },
           "label": "volatility",
           "values": [
            "Low"
           ]
          },
          {
           "axis": {
            "matches": true
           },
           "label": "mouthfeel",
           "values": [
            "Varies with product application"
           ]
          },
          {
           "axis": {
            "matches": true
           },
           "label": "texture",
           "values": [
            "Fine powder or granules"
           ]
          }
         ],
         "hovertemplate": "IngredientName=Mineral Salt 501<br>%{xaxis.title.text}=%{x}<br>%{yaxis.title.text}=%{y}<extra></extra>",
         "legendgroup": "Mineral Salt 501",
         "marker": {
          "color": "#FFA15A",
          "symbol": "circle"
         },
         "name": "Mineral Salt 501",
         "showlegend": true,
         "type": "splom"
        },
        {
         "dimensions": [
          {
           "axis": {
            "matches": true
           },
           "label": "flavour_release",
           "values": [
            "Immediate upon dissolution"
           ]
          },
          {
           "axis": {
            "matches": true
           },
           "label": "volatility",
           "values": [
            "Non-volatile"
           ]
          },
          {
           "axis": {
            "matches": true
           },
           "label": "mouthfeel",
           "values": [
            "Typically not applicable as it dissolves"
           ]
          },
          {
           "axis": {
            "matches": true
           },
           "label": "texture",
           "values": [
            "Fine powder"
           ]
          }
         ],
         "hovertemplate": "IngredientName=Mineral Salt 500<br>%{xaxis.title.text}=%{x}<br>%{yaxis.title.text}=%{y}<extra></extra>",
         "legendgroup": "Mineral Salt 500",
         "marker": {
          "color": "#19d3f3",
          "symbol": "circle"
         },
         "name": "Mineral Salt 500",
         "showlegend": true,
         "type": "splom"
        },
        {
         "dimensions": [
          {
           "axis": {
            "matches": true
           },
           "label": "flavour_release",
           "values": [
            "Not applicable"
           ]
          },
          {
           "axis": {
            "matches": true
           },
           "label": "volatility",
           "values": [
            "Stable under normal conditions"
           ]
          },
          {
           "axis": {
            "matches": true
           },
           "label": "mouthfeel",
           "values": [
            "Not applicable"
           ]
          },
          {
           "axis": {
            "matches": true
           },
           "label": "texture",
           "values": [
            "Powder"
           ]
          }
         ],
         "hovertemplate": "IngredientName=Mineral Salt 450<br>%{xaxis.title.text}=%{x}<br>%{yaxis.title.text}=%{y}<extra></extra>",
         "legendgroup": "Mineral Salt 450",
         "marker": {
          "color": "#FF6692",
          "symbol": "circle"
         },
         "name": "Mineral Salt 450",
         "showlegend": true,
         "type": "splom"
        },
        {
         "dimensions": [
          {
           "axis": {
            "matches": true
           },
           "label": "flavour_release",
           "values": [
            "Immediate"
           ]
          },
          {
           "axis": {
            "matches": true
           },
           "label": "volatility",
           "values": [
            "Low"
           ]
          },
          {
           "axis": {
            "matches": true
           },
           "label": "mouthfeel",
           "values": [
            "Not applicable"
           ]
          },
          {
           "axis": {
            "matches": true
           },
           "label": "texture",
           "values": [
            "Not applicable"
           ]
          }
         ],
         "hovertemplate": "IngredientName=Disodium Inosinate<br>%{xaxis.title.text}=%{x}<br>%{yaxis.title.text}=%{y}<extra></extra>",
         "legendgroup": "Disodium Inosinate",
         "marker": {
          "color": "#B6E880",
          "symbol": "circle"
         },
         "name": "Disodium Inosinate",
         "showlegend": true,
         "type": "splom"
        },
        {
         "dimensions": [
          {
           "axis": {
            "matches": true
           },
           "label": "flavour_release",
           "values": [
            "Enhanced when fresh but also effective when dried"
           ]
          },
          {
           "axis": {
            "matches": true
           },
           "label": "volatility",
           "values": [
            "High, especially when fresh"
           ]
          },
          {
           "axis": {
            "matches": true
           },
           "label": "mouthfeel",
           "values": [
            "Smooth, not gritty"
           ]
          },
          {
           "axis": {
            "matches": true
           },
           "label": "texture",
           "values": [
            "Soft, delicate when fresh; crumbly when dried"
           ]
          }
         ],
         "hovertemplate": "IngredientName=Basil<br>%{xaxis.title.text}=%{x}<br>%{yaxis.title.text}=%{y}<extra></extra>",
         "legendgroup": "Basil",
         "marker": {
          "color": "#FF97FF",
          "symbol": "circle"
         },
         "name": "Basil",
         "showlegend": true,
         "type": "splom"
        },
        {
         "dimensions": [
          {
           "axis": {
            "matches": true
           },
           "label": "flavour_release",
           "values": [
            "Not applicable"
           ]
          },
          {
           "axis": {
            "matches": true
           },
           "label": "volatility",
           "values": [
            "Stable under normal conditions"
           ]
          },
          {
           "axis": {
            "matches": true
           },
           "label": "mouthfeel",
           "values": [
            "Not applicable"
           ]
          },
          {
           "axis": {
            "matches": true
           },
           "label": "texture",
           "values": [
            "Powder form for easy mixing"
           ]
          }
         ],
         "hovertemplate": "IngredientName=Colouring Agent 100<br>%{xaxis.title.text}=%{x}<br>%{yaxis.title.text}=%{y}<extra></extra>",
         "legendgroup": "Colouring Agent 100",
         "marker": {
          "color": "#FECB52",
          "symbol": "circle"
         },
         "name": "Colouring Agent 100",
         "showlegend": true,
         "type": "splom"
        },
        {
         "dimensions": [
          {
           "axis": {
            "matches": true
           },
           "label": "flavour_release",
           "values": [
            "Not applicable"
           ]
          },
          {
           "axis": {
            "matches": true
           },
           "label": "volatility",
           "values": [
            "Low"
           ]
          },
          {
           "axis": {
            "matches": true
           },
           "label": "mouthfeel",
           "values": [
            "Not applicable"
           ]
          },
          {
           "axis": {
            "matches": true
           },
           "label": "texture",
           "values": [
            "Powder"
           ]
          }
         ],
         "hovertemplate": "IngredientName=Antioxidant 307b<br>%{xaxis.title.text}=%{x}<br>%{yaxis.title.text}=%{y}<extra></extra>",
         "legendgroup": "Antioxidant 307b",
         "marker": {
          "color": "#636efa",
          "symbol": "circle"
         },
         "name": "Antioxidant 307b",
         "showlegend": true,
         "type": "splom"
        },
        {
         "dimensions": [
          {
           "axis": {
            "matches": true
           },
           "label": "flavour_release",
           "values": [
            "Immediate upon consumption."
           ]
          },
          {
           "axis": {
            "matches": true
           },
           "label": "volatility",
           "values": [
            "Varies based on the compound."
           ]
          },
          {
           "axis": {
            "matches": true
           },
           "label": "mouthfeel",
           "values": [
            "N/A"
           ]
          },
          {
           "axis": {
            "matches": true
           },
           "label": "texture",
           "values": [
            "N/A"
           ]
          }
         ],
         "hovertemplate": "IngredientName=Flavours<br>%{xaxis.title.text}=%{x}<br>%{yaxis.title.text}=%{y}<extra></extra>",
         "legendgroup": "Flavours",
         "marker": {
          "color": "#EF553B",
          "symbol": "circle"
         },
         "name": "Flavours",
         "showlegend": true,
         "type": "splom"
        },
        {
         "dimensions": [
          {
           "axis": {
            "matches": true
           },
           "label": "flavour_release",
           "values": [
            "Immediate upon rehydration"
           ]
          },
          {
           "axis": {
            "matches": true
           },
           "label": "volatility",
           "values": [
            "Low"
           ]
          },
          {
           "axis": {
            "matches": true
           },
           "label": "mouthfeel",
           "values": [
            "Depends on rehydration; typically smooth when dissolved"
           ]
          },
          {
           "axis": {
            "matches": true
           },
           "label": "texture",
           "values": [
            "Fine powder"
           ]
          }
         ],
         "hovertemplate": "IngredientName=Soy Sauce Powder<br>%{xaxis.title.text}=%{x}<br>%{yaxis.title.text}=%{y}<extra></extra>",
         "legendgroup": "Soy Sauce Powder",
         "marker": {
          "color": "#00cc96",
          "symbol": "circle"
         },
         "name": "Soy Sauce Powder",
         "showlegend": true,
         "type": "splom"
        },
        {
         "dimensions": [
          {
           "axis": {
            "matches": true
           },
           "label": "flavour_release",
           "values": [
            "Gradual, especially when used whole"
           ]
          },
          {
           "axis": {
            "matches": true
           },
           "label": "volatility",
           "values": [
            "Low"
           ]
          },
          {
           "axis": {
            "matches": true
           },
           "label": "mouthfeel",
           "values": [
            "Slightly sharp and warming"
           ]
          },
          {
           "axis": {
            "matches": true
           },
           "label": "texture",
           "values": [
            "Fine powder or hard, round seeds depending on form"
           ]
          }
         ],
         "hovertemplate": "IngredientName=White Pepper<br>%{xaxis.title.text}=%{x}<br>%{yaxis.title.text}=%{y}<extra></extra>",
         "legendgroup": "White Pepper",
         "marker": {
          "color": "#ab63fa",
          "symbol": "circle"
         },
         "name": "White Pepper",
         "showlegend": true,
         "type": "splom"
        },
        {
         "dimensions": [
          {
           "axis": {
            "matches": true
           },
           "label": "flavour_release",
           "values": [
            "Enhanced when heated"
           ]
          },
          {
           "axis": {
            "matches": true
           },
           "label": "volatility",
           "values": [
            "Essential oils are volatile and can evaporate"
           ]
          },
          {
           "axis": {
            "matches": true
           },
           "label": "mouthfeel",
           "values": [
            "Not applicable"
           ]
          },
          {
           "axis": {
            "matches": true
           },
           "label": "texture",
           "values": [
            "Needle-like leaves, can be ground into a fine powder"
           ]
          }
         ],
         "hovertemplate": "IngredientName=Rosemary<br>%{xaxis.title.text}=%{x}<br>%{yaxis.title.text}=%{y}<extra></extra>",
         "legendgroup": "Rosemary",
         "marker": {
          "color": "#FFA15A",
          "symbol": "circle"
         },
         "name": "Rosemary",
         "showlegend": true,
         "type": "splom"
        },
        {
         "dimensions": [
          {
           "axis": {
            "matches": true
           },
           "label": "flavour_release",
           "values": [
            "Immediate"
           ]
          },
          {
           "axis": {
            "matches": true
           },
           "label": "volatility",
           "values": [
            "Low"
           ]
          },
          {
           "axis": {
            "matches": true
           },
           "label": "mouthfeel",
           "values": [
            "Not applicable"
           ]
          },
          {
           "axis": {
            "matches": true
           },
           "label": "texture",
           "values": [
            "Depends on form; liquid or powder"
           ]
          }
         ],
         "hovertemplate": "IngredientName=Colouring Agent 150c<br>%{xaxis.title.text}=%{x}<br>%{yaxis.title.text}=%{y}<extra></extra>",
         "legendgroup": "Colouring Agent 150c",
         "marker": {
          "color": "#19d3f3",
          "symbol": "circle"
         },
         "name": "Colouring Agent 150c",
         "showlegend": true,
         "type": "splom"
        },
        {
         "dimensions": [
          {
           "axis": {
            "matches": true
           },
           "label": "flavour_release",
           "values": [
            "Immediate"
           ]
          },
          {
           "axis": {
            "matches": true
           },
           "label": "volatility",
           "values": [
            "Low"
           ]
          },
          {
           "axis": {
            "matches": true
           },
           "label": "mouthfeel",
           "values": [
            "Depends on the product it is used in"
           ]
          },
          {
           "axis": {
            "matches": true
           },
           "label": "texture",
           "values": [
            "Liquid or powder"
           ]
          }
         ],
         "hovertemplate": "IngredientName=Caramel Color<br>%{xaxis.title.text}=%{x}<br>%{yaxis.title.text}=%{y}<extra></extra>",
         "legendgroup": "Caramel Color",
         "marker": {
          "color": "#FF6692",
          "symbol": "circle"
         },
         "name": "Caramel Color",
         "showlegend": true,
         "type": "splom"
        },
        {
         "dimensions": [
          {
           "axis": {
            "matches": true
           },
           "label": "flavour_release",
           "values": [
            "Immediate, with effervescence enhancing flavor release"
           ]
          },
          {
           "axis": {
            "matches": true
           },
           "label": "volatility",
           "values": [
            "High due to carbonation"
           ]
          },
          {
           "axis": {
            "matches": true
           },
           "label": "mouthfeel",
           "values": [
            "Refreshing and tingling due to carbonation"
           ]
          },
          {
           "axis": {
            "matches": true
           },
           "label": "texture",
           "values": [
            "Effervescent"
           ]
          }
         ],
         "hovertemplate": "IngredientName=Carbonated Mineral Water<br>%{xaxis.title.text}=%{x}<br>%{yaxis.title.text}=%{y}<extra></extra>",
         "legendgroup": "Carbonated Mineral Water",
         "marker": {
          "color": "#B6E880",
          "symbol": "circle"
         },
         "name": "Carbonated Mineral Water",
         "showlegend": true,
         "type": "splom"
        },
        {
         "dimensions": [
          {
           "axis": {
            "matches": true
           },
           "label": "flavour_release",
           "values": [
            "Varies"
           ]
          },
          {
           "axis": {
            "matches": true
           },
           "label": "volatility",
           "values": [
            "Depends on the specific compounds"
           ]
          },
          {
           "axis": {
            "matches": true
           },
           "label": "mouthfeel",
           "values": [
            "Not applicable"
           ]
          },
          {
           "axis": {
            "matches": true
           },
           "label": "texture",
           "values": [
            "Not applicable"
           ]
          }
         ],
         "hovertemplate": "IngredientName=Natural Flavours<br>%{xaxis.title.text}=%{x}<br>%{yaxis.title.text}=%{y}<extra></extra>",
         "legendgroup": "Natural Flavours",
         "marker": {
          "color": "#FF97FF",
          "symbol": "circle"
         },
         "name": "Natural Flavours",
         "showlegend": true,
         "type": "splom"
        },
        {
         "dimensions": [
          {
           "axis": {
            "matches": true
           },
           "label": "flavour_release",
           "values": [
            "Immediate"
           ]
          },
          {
           "axis": {
            "matches": true
           },
           "label": "volatility",
           "values": [
            "Low"
           ]
          },
          {
           "axis": {
            "matches": true
           },
           "label": "mouthfeel",
           "values": [
            "Refreshing"
           ]
          },
          {
           "axis": {
            "matches": true
           },
           "label": "texture",
           "values": [
            "Liquid"
           ]
          }
         ],
         "hovertemplate": "IngredientName=Natural Mineral Water<br>%{xaxis.title.text}=%{x}<br>%{yaxis.title.text}=%{y}<extra></extra>",
         "legendgroup": "Natural Mineral Water",
         "marker": {
          "color": "#FECB52",
          "symbol": "circle"
         },
         "name": "Natural Mineral Water",
         "showlegend": true,
         "type": "splom"
        },
        {
         "dimensions": [
          {
           "axis": {
            "matches": true
           },
           "label": "flavour_release",
           "values": [
            "Immediate upon dissolution"
           ]
          },
          {
           "axis": {
            "matches": true
           },
           "label": "volatility",
           "values": [
            "Non-volatile"
           ]
          },
          {
           "axis": {
            "matches": true
           },
           "label": "mouthfeel",
           "values": [
            "Not applicable"
           ]
          },
          {
           "axis": {
            "matches": true
           },
           "label": "texture",
           "values": [
            "Powder"
           ]
          }
         ],
         "hovertemplate": "IngredientName=Potassium Bicarbonate<br>%{xaxis.title.text}=%{x}<br>%{yaxis.title.text}=%{y}<extra></extra>",
         "legendgroup": "Potassium Bicarbonate",
         "marker": {
          "color": "#636efa",
          "symbol": "circle"
         },
         "name": "Potassium Bicarbonate",
         "showlegend": true,
         "type": "splom"
        },
        {
         "dimensions": [
          {
           "axis": {
            "matches": true
           },
           "label": "flavour_release",
           "values": [
            "Immediate upon consumption"
           ]
          },
          {
           "axis": {
            "matches": true
           },
           "label": "volatility",
           "values": [
            "High"
           ]
          },
          {
           "axis": {
            "matches": true
           },
           "label": "mouthfeel",
           "values": [
            "Non-applicable"
           ]
          },
          {
           "axis": {
            "matches": true
           },
           "label": "texture",
           "values": [
            "Liquid"
           ]
          }
         ],
         "hovertemplate": "IngredientName=Natural Flavour Orange Peel Extract<br>%{xaxis.title.text}=%{x}<br>%{yaxis.title.text}=%{y}<extra></extra>",
         "legendgroup": "Natural Flavour Orange Peel Extract",
         "marker": {
          "color": "#EF553B",
          "symbol": "circle"
         },
         "name": "Natural Flavour Orange Peel Extract",
         "showlegend": true,
         "type": "splom"
        },
        {
         "dimensions": [
          {
           "axis": {
            "matches": true
           },
           "label": "flavour_release",
           "values": [
            "Immediate upon consumption."
           ]
          },
          {
           "axis": {
            "matches": true
           },
           "label": "volatility",
           "values": [
            "Highly volatile, which contributes to its strong aroma."
           ]
          },
          {
           "axis": {
            "matches": true
           },
           "label": "mouthfeel",
           "values": [
            "N/A"
           ]
          },
          {
           "axis": {
            "matches": true
           },
           "label": "texture",
           "values": [
            "N/A"
           ]
          }
         ],
         "hovertemplate": "IngredientName=Natural Flavour Citrus Oils<br>%{xaxis.title.text}=%{x}<br>%{yaxis.title.text}=%{y}<extra></extra>",
         "legendgroup": "Natural Flavour Citrus Oils",
         "marker": {
          "color": "#00cc96",
          "symbol": "circle"
         },
         "name": "Natural Flavour Citrus Oils",
         "showlegend": true,
         "type": "splom"
        },
        {
         "dimensions": [
          {
           "axis": {
            "matches": true
           },
           "label": "flavour_release",
           "values": [
            "Immediate upon consumption"
           ]
          },
          {
           "axis": {
            "matches": true
           },
           "label": "volatility",
           "values": [
            "High, sensitive to heat and light"
           ]
          },
          {
           "axis": {
            "matches": true
           },
           "label": "mouthfeel",
           "values": [
            "Not applicable"
           ]
          },
          {
           "axis": {
            "matches": true
           },
           "label": "texture",
           "values": [
            "Not applicable"
           ]
          }
         ],
         "hovertemplate": "IngredientName=Natural Flavour Botanical Extracts<br>%{xaxis.title.text}=%{x}<br>%{yaxis.title.text}=%{y}<extra></extra>",
         "legendgroup": "Natural Flavour Botanical Extracts",
         "marker": {
          "color": "#ab63fa",
          "symbol": "circle"
         },
         "name": "Natural Flavour Botanical Extracts",
         "showlegend": true,
         "type": "splom"
        },
        {
         "dimensions": [
          {
           "axis": {
            "matches": true
           },
           "label": "flavour_release",
           "values": [
            "Immediate upon consumption"
           ]
          },
          {
           "axis": {
            "matches": true
           },
           "label": "volatility",
           "values": [
            "High"
           ]
          },
          {
           "axis": {
            "matches": true
           },
           "label": "mouthfeel",
           "values": [
            "Not applicable"
           ]
          },
          {
           "axis": {
            "matches": true
           },
           "label": "texture",
           "values": [
            "Not applicable"
           ]
          }
         ],
         "hovertemplate": "IngredientName=Natural Flavour Lemon Peel Extract<br>%{xaxis.title.text}=%{x}<br>%{yaxis.title.text}=%{y}<extra></extra>",
         "legendgroup": "Natural Flavour Lemon Peel Extract",
         "marker": {
          "color": "#FFA15A",
          "symbol": "circle"
         },
         "name": "Natural Flavour Lemon Peel Extract",
         "showlegend": true,
         "type": "splom"
        },
        {
         "dimensions": [
          {
           "axis": {
            "matches": true
           },
           "label": "flavour_release",
           "values": [
            "Immediate upon consumption"
           ]
          },
          {
           "axis": {
            "matches": true
           },
           "label": "volatility",
           "values": [
            "Low"
           ]
          },
          {
           "axis": {
            "matches": true
           },
           "label": "mouthfeel",
           "values": [
            "Not applicable"
           ]
          },
          {
           "axis": {
            "matches": true
           },
           "label": "texture",
           "values": [
            "Not applicable"
           ]
          }
         ],
         "hovertemplate": "IngredientName=Quinine<br>%{xaxis.title.text}=%{x}<br>%{yaxis.title.text}=%{y}<extra></extra>",
         "legendgroup": "Quinine",
         "marker": {
          "color": "#19d3f3",
          "symbol": "circle"
         },
         "name": "Quinine",
         "showlegend": true,
         "type": "splom"
        },
        {
         "dimensions": [
          {
           "axis": {
            "matches": true
           },
           "label": "flavour_release",
           "values": [
            "Immediate upon consumption"
           ]
          },
          {
           "axis": {
            "matches": true
           },
           "label": "volatility",
           "values": [
            "High"
           ]
          },
          {
           "axis": {
            "matches": true
           },
           "label": "mouthfeel",
           "values": [
            "N/A"
           ]
          },
          {
           "axis": {
            "matches": true
           },
           "label": "texture",
           "values": [
            "N/A"
           ]
          }
         ],
         "hovertemplate": "IngredientName=Natural Flavour Lime Oils<br>%{xaxis.title.text}=%{x}<br>%{yaxis.title.text}=%{y}<extra></extra>",
         "legendgroup": "Natural Flavour Lime Oils",
         "marker": {
          "color": "#FF6692",
          "symbol": "circle"
         },
         "name": "Natural Flavour Lime Oils",
         "showlegend": true,
         "type": "splom"
        },
        {
         "dimensions": [
          {
           "axis": {
            "matches": true
           },
           "label": "flavour_release",
           "values": [
            "Not applicable"
           ]
          },
          {
           "axis": {
            "matches": true
           },
           "label": "volatility",
           "values": [
            "Low"
           ]
          },
          {
           "axis": {
            "matches": true
           },
           "label": "mouthfeel",
           "values": [
            "Not applicable"
           ]
          },
          {
           "axis": {
            "matches": true
           },
           "label": "texture",
           "values": [
            "Solid at room temperature"
           ]
          }
         ],
         "hovertemplate": "IngredientName=Sodium Benzoate<br>%{xaxis.title.text}=%{x}<br>%{yaxis.title.text}=%{y}<extra></extra>",
         "legendgroup": "Sodium Benzoate",
         "marker": {
          "color": "#B6E880",
          "symbol": "circle"
         },
         "name": "Sodium Benzoate",
         "showlegend": true,
         "type": "splom"
        },
        {
         "dimensions": [
          {
           "axis": {
            "matches": true
           },
           "label": "flavour_release",
           "values": [
            "Immediate upon consumption"
           ]
          },
          {
           "axis": {
            "matches": true
           },
           "label": "volatility",
           "values": [
            "Low"
           ]
          },
          {
           "axis": {
            "matches": true
           },
           "label": "mouthfeel",
           "values": [
            "Neutral"
           ]
          },
          {
           "axis": {
            "matches": true
           },
           "label": "texture",
           "values": [
            "Dependent on application, typically not affecting texture"
           ]
          }
         ],
         "hovertemplate": "IngredientName=Plant Extract Gardenia<br>%{xaxis.title.text}=%{x}<br>%{yaxis.title.text}=%{y}<extra></extra>",
         "legendgroup": "Plant Extract Gardenia",
         "marker": {
          "color": "#FF97FF",
          "symbol": "circle"
         },
         "name": "Plant Extract Gardenia",
         "showlegend": true,
         "type": "splom"
        },
        {
         "dimensions": [
          {
           "axis": {
            "matches": true
           },
           "label": "flavour_release",
           "values": [
            "Immediate"
           ]
          },
          {
           "axis": {
            "matches": true
           },
           "label": "volatility",
           "values": [
            "Low"
           ]
          },
          {
           "axis": {
            "matches": true
           },
           "label": "mouthfeel",
           "values": [
            "Depends on the concentration and product used in"
           ]
          },
          {
           "axis": {
            "matches": true
           },
           "label": "texture",
           "values": [
            "Liquid form when extracted"
           ]
          }
         ],
         "hovertemplate": "IngredientName=Plant Extract Carthamus<br>%{xaxis.title.text}=%{x}<br>%{yaxis.title.text}=%{y}<extra></extra>",
         "legendgroup": "Plant Extract Carthamus",
         "marker": {
          "color": "#FECB52",
          "symbol": "circle"
         },
         "name": "Plant Extract Carthamus",
         "showlegend": true,
         "type": "splom"
        },
        {
         "dimensions": [
          {
           "axis": {
            "matches": true
           },
           "label": "flavour_release",
           "values": [
            "Not applicable"
           ]
          },
          {
           "axis": {
            "matches": true
           },
           "label": "volatility",
           "values": [
            "High for sulfur dioxide"
           ]
          },
          {
           "axis": {
            "matches": true
           },
           "label": "mouthfeel",
           "values": [
            "Not applicable"
           ]
          },
          {
           "axis": {
            "matches": true
           },
           "label": "texture",
           "values": [
            "Not applicable"
           ]
          }
         ],
         "hovertemplate": "IngredientName=Sulphites<br>%{xaxis.title.text}=%{x}<br>%{yaxis.title.text}=%{y}<extra></extra>",
         "legendgroup": "Sulphites",
         "marker": {
          "color": "#636efa",
          "symbol": "circle"
         },
         "name": "Sulphites",
         "showlegend": true,
         "type": "splom"
        },
        {
         "dimensions": [
          {
           "axis": {
            "matches": true
           },
           "label": "flavour_release",
           "values": [
            "Immediate upon consumption",
            "Not applicable",
            "Not applicable",
            "N/A",
            ""
           ]
          },
          {
           "axis": {
            "matches": true
           },
           "label": "volatility",
           "values": [
            "High due to carbonation",
            "Low",
            "Not applicable",
            "N/A",
            ""
           ]
          },
          {
           "axis": {
            "matches": true
           },
           "label": "mouthfeel",
           "values": [
            "Tingling sensation due to bubbles",
            "Not applicable",
            "Not applicable",
            "N/A",
            ""
           ]
          },
          {
           "axis": {
            "matches": true
           },
           "label": "texture",
           "values": [
            "Effervescent",
            "Lightweight, non-greasy liquid",
            "Depends on the final form but generally rubbery in its raw state",
            "N/A",
            "Fine powder"
           ]
          }
         ],
         "hovertemplate": "IngredientName=<br>%{xaxis.title.text}=%{x}<br>%{yaxis.title.text}=%{y}<extra></extra>",
         "legendgroup": "",
         "marker": {
          "color": "#EF553B",
          "symbol": "circle"
         },
         "name": "",
         "showlegend": false,
         "type": "splom"
        },
        {
         "dimensions": [
          {
           "axis": {
            "matches": true
           },
           "label": "flavour_release",
           "values": [
            "Immediate"
           ]
          },
          {
           "axis": {
            "matches": true
           },
           "label": "volatility",
           "values": [
            "High"
           ]
          },
          {
           "axis": {
            "matches": true
           },
           "label": "mouthfeel",
           "values": [
            "Watery"
           ]
          },
          {
           "axis": {
            "matches": true
           },
           "label": "texture",
           "values": [
            "Liquid"
           ]
          }
         ],
         "hovertemplate": "IngredientName=Reconstituted Lime Juice<br>%{xaxis.title.text}=%{x}<br>%{yaxis.title.text}=%{y}<extra></extra>",
         "legendgroup": "Reconstituted Lime Juice",
         "marker": {
          "color": "#00cc96",
          "symbol": "circle"
         },
         "name": "Reconstituted Lime Juice",
         "showlegend": true,
         "type": "splom"
        },
        {
         "dimensions": [
          {
           "axis": {
            "matches": true
           },
           "label": "flavour_release",
           "values": [
            "Not applicable",
            "Not applicable"
           ]
          },
          {
           "axis": {
            "matches": true
           },
           "label": "volatility",
           "values": [
            "Low",
            "Low"
           ]
          },
          {
           "axis": {
            "matches": true
           },
           "label": "mouthfeel",
           "values": [
            "Not applicable",
            "Not applicable"
           ]
          },
          {
           "axis": {
            "matches": true
           },
           "label": "texture",
           "values": [
            "Crystalline powder",
            "Crystalline powder"
           ]
          }
         ],
         "hovertemplate": "IngredientName=Potassium Sorbate<br>%{xaxis.title.text}=%{x}<br>%{yaxis.title.text}=%{y}<extra></extra>",
         "legendgroup": "Potassium Sorbate",
         "marker": {
          "color": "#ab63fa",
          "symbol": "circle"
         },
         "name": "Potassium Sorbate",
         "showlegend": true,
         "type": "splom"
        },
        {
         "dimensions": [
          {
           "axis": {
            "matches": true
           },
           "label": "flavour_release",
           "values": [
            "Immediate"
           ]
          },
          {
           "axis": {
            "matches": true
           },
           "label": "volatility",
           "values": [
            "Low"
           ]
          },
          {
           "axis": {
            "matches": true
           },
           "label": "mouthfeel",
           "values": [
            "Depends on the product it is used in"
           ]
          },
          {
           "axis": {
            "matches": true
           },
           "label": "texture",
           "values": [
            "Liquid form when extracted"
           ]
          }
         ],
         "hovertemplate": "IngredientName=Safflower Extract<br>%{xaxis.title.text}=%{x}<br>%{yaxis.title.text}=%{y}<extra></extra>",
         "legendgroup": "Safflower Extract",
         "marker": {
          "color": "#FFA15A",
          "symbol": "circle"
         },
         "name": "Safflower Extract",
         "showlegend": true,
         "type": "splom"
        },
        {
         "dimensions": [
          {
           "axis": {
            "matches": true
           },
           "label": "flavour_release",
           "values": [
            "Immediate upon dissolution",
            "Immediate upon dissolution"
           ]
          },
          {
           "axis": {
            "matches": true
           },
           "label": "volatility",
           "values": [
            "Low",
            "Low"
           ]
          },
          {
           "axis": {
            "matches": true
           },
           "label": "mouthfeel",
           "values": [
            "N/A",
            "N/A"
           ]
          },
          {
           "axis": {
            "matches": true
           },
           "label": "texture",
           "values": [
            "Crystalline powder",
            "Crystalline powder"
           ]
          }
         ],
         "hovertemplate": "IngredientName=Ascorbic Acid<br>%{xaxis.title.text}=%{x}<br>%{yaxis.title.text}=%{y}<extra></extra>",
         "legendgroup": "Ascorbic Acid",
         "marker": {
          "color": "#19d3f3",
          "symbol": "circle"
         },
         "name": "Ascorbic Acid",
         "showlegend": true,
         "type": "splom"
        },
        {
         "dimensions": [
          {
           "axis": {
            "matches": true
           },
           "label": "flavour_release",
           "values": [
            "Not applicable"
           ]
          },
          {
           "axis": {
            "matches": true
           },
           "label": "volatility",
           "values": [
            "Low"
           ]
          },
          {
           "axis": {
            "matches": true
           },
           "label": "mouthfeel",
           "values": [
            "Not applicable"
           ]
          },
          {
           "axis": {
            "matches": true
           },
           "label": "texture",
           "values": [
            "Powder"
           ]
          }
         ],
         "hovertemplate": "IngredientName=Carminic Acid<br>%{xaxis.title.text}=%{x}<br>%{yaxis.title.text}=%{y}<extra></extra>",
         "legendgroup": "Carminic Acid",
         "marker": {
          "color": "#FF6692",
          "symbol": "circle"
         },
         "name": "Carminic Acid",
         "showlegend": true,
         "type": "splom"
        },
        {
         "dimensions": [
          {
           "axis": {
            "matches": true
           },
           "label": "flavour_release",
           "values": [
            "Not applicable"
           ]
          },
          {
           "axis": {
            "matches": true
           },
           "label": "volatility",
           "values": [
            "Low"
           ]
          },
          {
           "axis": {
            "matches": true
           },
           "label": "mouthfeel",
           "values": [
            "Not applicable"
           ]
          },
          {
           "axis": {
            "matches": true
           },
           "label": "texture",
           "values": [
            "Powder"
           ]
          }
         ],
         "hovertemplate": "IngredientName=Lutein<br>%{xaxis.title.text}=%{x}<br>%{yaxis.title.text}=%{y}<extra></extra>",
         "legendgroup": "Lutein",
         "marker": {
          "color": "#B6E880",
          "symbol": "circle"
         },
         "name": "Lutein",
         "showlegend": true,
         "type": "splom"
        },
        {
         "dimensions": [
          {
           "axis": {
            "matches": true
           },
           "label": "flavour_release",
           "values": [
            "Not applicable"
           ]
          },
          {
           "axis": {
            "matches": true
           },
           "label": "volatility",
           "values": [
            "Stable under normal conditions"
           ]
          },
          {
           "axis": {
            "matches": true
           },
           "label": "mouthfeel",
           "values": [
            "Not applicable"
           ]
          },
          {
           "axis": {
            "matches": true
           },
           "label": "texture",
           "values": [
            "Powder form, easily soluble"
           ]
          }
         ],
         "hovertemplate": "IngredientName=Antioxidant 385<br>%{xaxis.title.text}=%{x}<br>%{yaxis.title.text}=%{y}<extra></extra>",
         "legendgroup": "Antioxidant 385",
         "marker": {
          "color": "#FF97FF",
          "symbol": "circle"
         },
         "name": "Antioxidant 385",
         "showlegend": true,
         "type": "splom"
        },
        {
         "dimensions": [
          {
           "axis": {
            "matches": true
           },
           "label": "flavour_release",
           "values": [
            "Immediate upon solubility"
           ]
          },
          {
           "axis": {
            "matches": true
           },
           "label": "volatility",
           "values": [
            "Low"
           ]
          },
          {
           "axis": {
            "matches": true
           },
           "label": "mouthfeel",
           "values": [
            "Creamy when reconstituted"
           ]
          },
          {
           "axis": {
            "matches": true
           },
           "label": "texture",
           "values": [
            "Fine powder"
           ]
          }
         ],
         "hovertemplate": "IngredientName=Milk Solids<br>%{xaxis.title.text}=%{x}<br>%{yaxis.title.text}=%{y}<extra></extra>",
         "legendgroup": "Milk Solids",
         "marker": {
          "color": "#FECB52",
          "symbol": "circle"
         },
         "name": "Milk Solids",
         "showlegend": true,
         "type": "splom"
        },
        {
         "dimensions": [
          {
           "axis": {
            "matches": true
           },
           "label": "flavour_release",
           "values": [
            "Melts at body temperature for immediate flavor release"
           ]
          },
          {
           "axis": {
            "matches": true
           },
           "label": "volatility",
           "values": [
            "Low"
           ]
          },
          {
           "axis": {
            "matches": true
           },
           "label": "mouthfeel",
           "values": [
            "Rich and velvety"
           ]
          },
          {
           "axis": {
            "matches": true
           },
           "label": "texture",
           "values": [
            "Smooth and creamy"
           ]
          }
         ],
         "hovertemplate": "IngredientName=Cocoa Butter<br>%{xaxis.title.text}=%{x}<br>%{yaxis.title.text}=%{y}<extra></extra>",
         "legendgroup": "Cocoa Butter",
         "marker": {
          "color": "#636efa",
          "symbol": "circle"
         },
         "name": "Cocoa Butter",
         "showlegend": true,
         "type": "splom"
        },
        {
         "dimensions": [
          {
           "axis": {
            "matches": true
           },
           "label": "flavour_release",
           "values": [
            "Slow due to its fat content"
           ]
          },
          {
           "axis": {
            "matches": true
           },
           "label": "volatility",
           "values": [
            "Low"
           ]
          },
          {
           "axis": {
            "matches": true
           },
           "label": "mouthfeel",
           "values": [
            "Rich, smooth"
           ]
          },
          {
           "axis": {
            "matches": true
           },
           "label": "texture",
           "values": [
            "Viscous, sticky"
           ]
          }
         ],
         "hovertemplate": "IngredientName=Emulsifier Soy Lecithin<br>%{xaxis.title.text}=%{x}<br>%{yaxis.title.text}=%{y}<extra></extra>",
         "legendgroup": "Emulsifier Soy Lecithin",
         "marker": {
          "color": "#EF553B",
          "symbol": "circle"
         },
         "name": "Emulsifier Soy Lecithin",
         "showlegend": true,
         "type": "splom"
        },
        {
         "dimensions": [
          {
           "axis": {
            "matches": true
           },
           "label": "flavour_release",
           "values": [
            "Enhanced when warmed"
           ]
          },
          {
           "axis": {
            "matches": true
           },
           "label": "volatility",
           "values": [
            "Low"
           ]
          },
          {
           "axis": {
            "matches": true
           },
           "label": "mouthfeel",
           "values": [
            "Rich and velvety"
           ]
          },
          {
           "axis": {
            "matches": true
           },
           "label": "texture",
           "values": [
            "Solid at room temperature, melts smoothly"
           ]
          }
         ],
         "hovertemplate": "IngredientName=Cocoa Mass<br>%{xaxis.title.text}=%{x}<br>%{yaxis.title.text}=%{y}<extra></extra>",
         "legendgroup": "Cocoa Mass",
         "marker": {
          "color": "#00cc96",
          "symbol": "circle"
         },
         "name": "Cocoa Mass",
         "showlegend": true,
         "type": "splom"
        },
        {
         "dimensions": [
          {
           "axis": {
            "matches": true
           },
           "label": "flavour_release",
           "values": [
            "Immediate, enhanced when warm"
           ]
          },
          {
           "axis": {
            "matches": true
           },
           "label": "volatility",
           "values": [
            "Low"
           ]
          },
          {
           "axis": {
            "matches": true
           },
           "label": "mouthfeel",
           "values": [
            "Smooth, velvety"
           ]
          },
          {
           "axis": {
            "matches": true
           },
           "label": "texture",
           "values": [
            "Liquid, creamy"
           ]
          }
         ],
         "hovertemplate": "IngredientName=Milk<br>%{xaxis.title.text}=%{x}<br>%{yaxis.title.text}=%{y}<extra></extra>",
         "legendgroup": "Milk",
         "marker": {
          "color": "#ab63fa",
          "symbol": "circle"
         },
         "name": "Milk",
         "showlegend": true,
         "type": "splom"
        },
        {
         "dimensions": [
          {
           "axis": {
            "matches": true
           },
           "label": "flavour_release",
           "values": [
            "Does not affect"
           ]
          },
          {
           "axis": {
            "matches": true
           },
           "label": "volatility",
           "values": [
            "Low"
           ]
          },
          {
           "axis": {
            "matches": true
           },
           "label": "mouthfeel",
           "values": [
            "Does not significantly affect the mouthfeel of the final product"
           ]
          },
          {
           "axis": {
            "matches": true
           },
           "label": "texture",
           "values": [
            "Viscous liquid"
           ]
          }
         ],
         "hovertemplate": "IngredientName=Polyglycerol Polyricinoleate<br>%{xaxis.title.text}=%{x}<br>%{yaxis.title.text}=%{y}<extra></extra>",
         "legendgroup": "Polyglycerol Polyricinoleate",
         "marker": {
          "color": "#FFA15A",
          "symbol": "circle"
         },
         "name": "Polyglycerol Polyricinoleate",
         "showlegend": true,
         "type": "splom"
        },
        {
         "dimensions": [
          {
           "axis": {
            "matches": true
           },
           "label": "flavour_release",
           "values": [
            "Enhanced by warmth and fat"
           ]
          },
          {
           "axis": {
            "matches": true
           },
           "label": "volatility",
           "values": [
            "Low"
           ]
          },
          {
           "axis": {
            "matches": true
           },
           "label": "mouthfeel",
           "values": [
            "Varies, can be creamy when combined with cocoa butter"
           ]
          },
          {
           "axis": {
            "matches": true
           },
           "label": "texture",
           "values": [
            "Powdery, can be gritty in unrefined forms"
           ]
          }
         ],
         "hovertemplate": "IngredientName=Cocoa<br>%{xaxis.title.text}=%{x}<br>%{yaxis.title.text}=%{y}<extra></extra>",
         "legendgroup": "Cocoa",
         "marker": {
          "color": "#19d3f3",
          "symbol": "circle"
         },
         "name": "Cocoa",
         "showlegend": true,
         "type": "splom"
        },
        {
         "dimensions": [
          {
           "axis": {
            "matches": true
           },
           "label": "flavour_release",
           "values": [
            "During baking or brewing"
           ]
          },
          {
           "axis": {
            "matches": true
           },
           "label": "volatility",
           "values": [
            "Stable under typical conditions"
           ]
          },
          {
           "axis": {
            "matches": true
           },
           "label": "mouthfeel",
           "values": [
            "Not applicable in raw form"
           ]
          },
          {
           "axis": {
            "matches": true
           },
           "label": "texture",
           "values": [
            "Depends on form; can be granular or paste-like"
           ]
          }
         ],
         "hovertemplate": "IngredientName=Yeast<br>%{xaxis.title.text}=%{x}<br>%{yaxis.title.text}=%{y}<extra></extra>",
         "legendgroup": "Yeast",
         "marker": {
          "color": "#FF6692",
          "symbol": "circle"
         },
         "name": "Yeast",
         "showlegend": true,
         "type": "splom"
        },
        {
         "dimensions": [
          {
           "axis": {
            "matches": true
           },
           "label": "flavour_release",
           "values": [
            "Not applicable"
           ]
          },
          {
           "axis": {
            "matches": true
           },
           "label": "volatility",
           "values": [
            "Not applicable"
           ]
          },
          {
           "axis": {
            "matches": true
           },
           "label": "mouthfeel",
           "values": [
            "Not applicable"
           ]
          },
          {
           "axis": {
            "matches": true
           },
           "label": "texture",
           "values": [
            "Powder form, not applicable in final product"
           ]
          }
         ],
         "hovertemplate": "IngredientName=Processing Aid Wheat<br>%{xaxis.title.text}=%{x}<br>%{yaxis.title.text}=%{y}<extra></extra>",
         "legendgroup": "Processing Aid Wheat",
         "marker": {
          "color": "#B6E880",
          "symbol": "circle"
         },
         "name": "Processing Aid Wheat",
         "showlegend": true,
         "type": "splom"
        },
        {
         "dimensions": [
          {
           "axis": {
            "matches": true
           },
           "label": "flavour_release",
           "values": [
            "Immediate and lingering chocolate notes"
           ]
          },
          {
           "axis": {
            "matches": true
           },
           "label": "volatility",
           "values": [
            "Low"
           ]
          },
          {
           "axis": {
            "matches": true
           },
           "label": "mouthfeel",
           "values": [
            "Silky"
           ]
          },
          {
           "axis": {
            "matches": true
           },
           "label": "texture",
           "values": [
            "Smooth and creamy"
           ]
          }
         ],
         "hovertemplate": "IngredientName=Choc Paste<br>%{xaxis.title.text}=%{x}<br>%{yaxis.title.text}=%{y}<extra></extra>",
         "legendgroup": "Choc Paste",
         "marker": {
          "color": "#FF97FF",
          "symbol": "circle"
         },
         "name": "Choc Paste",
         "showlegend": true,
         "type": "splom"
        },
        {
         "dimensions": [
          {
           "axis": {
            "matches": true
           },
           "label": "flavour_release",
           "values": [
            "Immediate upon consumption"
           ]
          },
          {
           "axis": {
            "matches": true
           },
           "label": "volatility",
           "values": [
            "Low"
           ]
          },
          {
           "axis": {
            "matches": true
           },
           "label": "mouthfeel",
           "values": [
            "Rich, velvety"
           ]
          },
          {
           "axis": {
            "matches": true
           },
           "label": "texture",
           "values": [
            "Liquid, creamy"
           ]
          }
         ],
         "hovertemplate": "IngredientName=Full Cream Milk<br>%{xaxis.title.text}=%{x}<br>%{yaxis.title.text}=%{y}<extra></extra>",
         "legendgroup": "Full Cream Milk",
         "marker": {
          "color": "#FECB52",
          "symbol": "circle"
         },
         "name": "Full Cream Milk",
         "showlegend": true,
         "type": "splom"
        },
        {
         "dimensions": [
          {
           "axis": {
            "matches": true
           },
           "label": "flavour_release",
           "values": [
            "Immediate"
           ]
          },
          {
           "axis": {
            "matches": true
           },
           "label": "volatility",
           "values": [
            "Low"
           ]
          },
          {
           "axis": {
            "matches": true
           },
           "label": "mouthfeel",
           "values": [
            "Smooth"
           ]
          },
          {
           "axis": {
            "matches": true
           },
           "label": "texture",
           "values": [
            "Viscous liquid"
           ]
          }
         ],
         "hovertemplate": "IngredientName=Glucose Syrup<br>%{xaxis.title.text}=%{x}<br>%{yaxis.title.text}=%{y}<extra></extra>",
         "legendgroup": "Glucose Syrup",
         "marker": {
          "color": "#636efa",
          "symbol": "circle"
         },
         "name": "Glucose Syrup",
         "showlegend": true,
         "type": "splom"
        },
        {
         "dimensions": [
          {
           "axis": {
            "matches": true
           },
           "label": "flavour_release",
           "values": [
            "Immediate upon consumption"
           ]
          },
          {
           "axis": {
            "matches": true
           },
           "label": "volatility",
           "values": [
            "Low"
           ]
          },
          {
           "axis": {
            "matches": true
           },
           "label": "mouthfeel",
           "values": [
            "Rich, smooth"
           ]
          },
          {
           "axis": {
            "matches": true
           },
           "label": "texture",
           "values": [
            "Thick, viscous"
           ]
          }
         ],
         "hovertemplate": "IngredientName=Sweetened Condensed Milk<br>%{xaxis.title.text}=%{x}<br>%{yaxis.title.text}=%{y}<extra></extra>",
         "legendgroup": "Sweetened Condensed Milk",
         "marker": {
          "color": "#EF553B",
          "symbol": "circle"
         },
         "name": "Sweetened Condensed Milk",
         "showlegend": true,
         "type": "splom"
        },
        {
         "dimensions": [
          {
           "axis": {
            "matches": true
           },
           "label": "flavour_release",
           "values": [
            "Immediate upon consumption"
           ]
          },
          {
           "axis": {
            "matches": true
           },
           "label": "volatility",
           "values": [
            "Low"
           ]
          },
          {
           "axis": {
            "matches": true
           },
           "label": "mouthfeel",
           "values": [
            "Smooth"
           ]
          },
          {
           "axis": {
            "matches": true
           },
           "label": "texture",
           "values": [
            "Thick and sticky"
           ]
          }
         ],
         "hovertemplate": "IngredientName=Golden Syrup<br>%{xaxis.title.text}=%{x}<br>%{yaxis.title.text}=%{y}<extra></extra>",
         "legendgroup": "Golden Syrup",
         "marker": {
          "color": "#00cc96",
          "symbol": "circle"
         },
         "name": "Golden Syrup",
         "showlegend": true,
         "type": "splom"
        },
        {
         "dimensions": [
          {
           "axis": {
            "matches": true
           },
           "label": "flavour_release",
           "values": [
            "Immediate"
           ]
          },
          {
           "axis": {
            "matches": true
           },
           "label": "volatility",
           "values": [
            "Low"
           ]
          },
          {
           "axis": {
            "matches": true
           },
           "label": "mouthfeel",
           "values": [
            "Smooth"
           ]
          },
          {
           "axis": {
            "matches": true
           },
           "label": "texture",
           "values": [
            "Syrupy liquid"
           ]
          }
         ],
         "hovertemplate": "IngredientName=Invert Sugar<br>%{xaxis.title.text}=%{x}<br>%{yaxis.title.text}=%{y}<extra></extra>",
         "legendgroup": "Invert Sugar",
         "marker": {
          "color": "#ab63fa",
          "symbol": "circle"
         },
         "name": "Invert Sugar",
         "showlegend": true,
         "type": "splom"
        },
        {
         "dimensions": [
          {
           "axis": {
            "matches": true
           },
           "label": "flavour_release",
           "values": [
            "Immediate upon dissolution"
           ]
          },
          {
           "axis": {
            "matches": true
           },
           "label": "volatility",
           "values": [
            "Not volatile"
           ]
          },
          {
           "axis": {
            "matches": true
           },
           "label": "mouthfeel",
           "values": [
            "Not applicable"
           ]
          },
          {
           "axis": {
            "matches": true
           },
           "label": "texture",
           "values": [
            "Crystalline powder"
           ]
          }
         ],
         "hovertemplate": "IngredientName=Acidity Regulator 331<br>%{xaxis.title.text}=%{x}<br>%{yaxis.title.text}=%{y}<extra></extra>",
         "legendgroup": "Acidity Regulator 331",
         "marker": {
          "color": "#FFA15A",
          "symbol": "circle"
         },
         "name": "Acidity Regulator 331",
         "showlegend": true,
         "type": "splom"
        },
        {
         "dimensions": [
          {
           "axis": {
            "matches": true
           },
           "label": "flavour_release",
           "values": [
            "Immediate upon consumption."
           ]
          },
          {
           "axis": {
            "matches": true
           },
           "label": "volatility",
           "values": [
            "Low"
           ]
          },
          {
           "axis": {
            "matches": true
           },
           "label": "mouthfeel",
           "values": [
            "Rich and velvety."
           ]
          },
          {
           "axis": {
            "matches": true
           },
           "label": "texture",
           "values": [
            "Smooth and creamy."
           ]
          }
         ],
         "hovertemplate": "IngredientName=Milk Chocolate<br>%{xaxis.title.text}=%{x}<br>%{yaxis.title.text}=%{y}<extra></extra>",
         "legendgroup": "Milk Chocolate",
         "marker": {
          "color": "#19d3f3",
          "symbol": "circle"
         },
         "name": "Milk Chocolate",
         "showlegend": true,
         "type": "splom"
        },
        {
         "dimensions": [
          {
           "axis": {
            "matches": true
           },
           "label": "flavour_release",
           "values": [
            "Immediate and long-lasting"
           ]
          },
          {
           "axis": {
            "matches": true
           },
           "label": "volatility",
           "values": [
            "Low"
           ]
          },
          {
           "axis": {
            "matches": true
           },
           "label": "mouthfeel",
           "values": [
            "Smooth and rich"
           ]
          },
          {
           "axis": {
            "matches": true
           },
           "label": "texture",
           "values": [
            "Sticky and viscous when melted, hard when solidified"
           ]
          }
         ],
         "hovertemplate": "IngredientName=Caramel<br>%{xaxis.title.text}=%{x}<br>%{yaxis.title.text}=%{y}<extra></extra>",
         "legendgroup": "Caramel",
         "marker": {
          "color": "#FF6692",
          "symbol": "circle"
         },
         "name": "Caramel",
         "showlegend": true,
         "type": "splom"
        },
        {
         "dimensions": [
          {
           "axis": {
            "matches": true
           },
           "label": "flavour_release",
           "values": [
            "Immediate upon consumption."
           ]
          },
          {
           "axis": {
            "matches": true
           },
           "label": "volatility",
           "values": [
            "Low"
           ]
          },
          {
           "axis": {
            "matches": true
           },
           "label": "mouthfeel",
           "values": [
            "Varies from dry to buttery."
           ]
          },
          {
           "axis": {
            "matches": true
           },
           "label": "texture",
           "values": [
            "Crisp or soft."
           ]
          }
         ],
         "hovertemplate": "IngredientName=Biscuit<br>%{xaxis.title.text}=%{x}<br>%{yaxis.title.text}=%{y}<extra></extra>",
         "legendgroup": "Biscuit",
         "marker": {
          "color": "#B6E880",
          "symbol": "circle"
         },
         "name": "Biscuit",
         "showlegend": true,
         "type": "splom"
        },
        {
         "dimensions": [
          {
           "axis": {
            "matches": true
           },
           "label": "flavour_release",
           "values": [
            "Immediate"
           ]
          },
          {
           "axis": {
            "matches": true
           },
           "label": "volatility",
           "values": [
            "Low"
           ]
          },
          {
           "axis": {
            "matches": true
           },
           "label": "mouthfeel",
           "values": [
            "Smooth"
           ]
          },
          {
           "axis": {
            "matches": true
           },
           "label": "texture",
           "values": [
            "Thick, viscous liquid"
           ]
          }
         ],
         "hovertemplate": "IngredientName=Wheat Glucose Syrup<br>%{xaxis.title.text}=%{x}<br>%{yaxis.title.text}=%{y}<extra></extra>",
         "legendgroup": "Wheat Glucose Syrup",
         "marker": {
          "color": "#FF97FF",
          "symbol": "circle"
         },
         "name": "Wheat Glucose Syrup",
         "showlegend": true,
         "type": "splom"
        },
        {
         "dimensions": [
          {
           "axis": {
            "matches": true
           },
           "label": "flavour_release",
           "values": [
            "Immediate upon consumption"
           ]
          },
          {
           "axis": {
            "matches": true
           },
           "label": "volatility",
           "values": [
            "Low"
           ]
          },
          {
           "axis": {
            "matches": true
           },
           "label": "mouthfeel",
           "values": [
            "Syrup: Smooth; Powder: Depends on product it's mixed with"
           ]
          },
          {
           "axis": {
            "matches": true
           },
           "label": "texture",
           "values": [
            "Syrup: Thick and viscous; Powder: Fine and dry"
           ]
          }
         ],
         "hovertemplate": "IngredientName=Barley Malt Extract<br>%{xaxis.title.text}=%{x}<br>%{yaxis.title.text}=%{y}<extra></extra>",
         "legendgroup": "Barley Malt Extract",
         "marker": {
          "color": "#FECB52",
          "symbol": "circle"
         },
         "name": "Barley Malt Extract",
         "showlegend": true,
         "type": "splom"
        },
        {
         "dimensions": [
          {
           "axis": {
            "matches": true
           },
           "label": "flavour_release",
           "values": [
            ""
           ]
          },
          {
           "axis": {
            "matches": true
           },
           "label": "volatility",
           "values": [
            "Low"
           ]
          },
          {
           "axis": {
            "matches": true
           },
           "label": "mouthfeel",
           "values": [
            "Smooth"
           ]
          },
          {
           "axis": {
            "matches": true
           },
           "label": "texture",
           "values": [
            "Viscous liquid when raw, firm when cooked"
           ]
          }
         ],
         "hovertemplate": "IngredientName=Egg White<br>%{xaxis.title.text}=%{x}<br>%{yaxis.title.text}=%{y}<extra></extra>",
         "legendgroup": "Egg White",
         "marker": {
          "color": "#636efa",
          "symbol": "circle"
         },
         "name": "Egg White",
         "showlegend": true,
         "type": "splom"
        },
        {
         "dimensions": [
          {
           "axis": {
            "matches": true
           },
           "label": "flavour_release",
           "values": [
            "Immediate upon consumption"
           ]
          },
          {
           "axis": {
            "matches": true
           },
           "label": "volatility",
           "values": [
            "High"
           ]
          },
          {
           "axis": {
            "matches": true
           },
           "label": "mouthfeel",
           "values": [
            "Non-applicable"
           ]
          },
          {
           "axis": {
            "matches": true
           },
           "label": "texture",
           "values": [
            "Liquid"
           ]
          }
         ],
         "hovertemplate": "IngredientName=Natural Flavour Vanilla Extract<br>%{xaxis.title.text}=%{x}<br>%{yaxis.title.text}=%{y}<extra></extra>",
         "legendgroup": "Natural Flavour Vanilla Extract",
         "marker": {
          "color": "#EF553B",
          "symbol": "circle"
         },
         "name": "Natural Flavour Vanilla Extract",
         "showlegend": true,
         "type": "splom"
        },
        {
         "dimensions": [
          {
           "axis": {
            "matches": true
           },
           "label": "flavour_release",
           "values": [
            "Enhanced by warmth"
           ]
          },
          {
           "axis": {
            "matches": true
           },
           "label": "volatility",
           "values": [
            "Low"
           ]
          },
          {
           "axis": {
            "matches": true
           },
           "label": "mouthfeel",
           "values": [
            "Smooth when mixed with liquids"
           ]
          },
          {
           "axis": {
            "matches": true
           },
           "label": "texture",
           "values": [
            "Fine powder"
           ]
          }
         ],
         "hovertemplate": "IngredientName=Cocoa Powder<br>%{xaxis.title.text}=%{x}<br>%{yaxis.title.text}=%{y}<extra></extra>",
         "legendgroup": "Cocoa Powder",
         "marker": {
          "color": "#00cc96",
          "symbol": "circle"
         },
         "name": "Cocoa Powder",
         "showlegend": true,
         "type": "splom"
        },
        {
         "dimensions": [
          {
           "axis": {
            "matches": true
           },
           "label": "flavour_release",
           "values": [
            "None"
           ]
          },
          {
           "axis": {
            "matches": true
           },
           "label": "volatility",
           "values": [
            "Low"
           ]
          },
          {
           "axis": {
            "matches": true
           },
           "label": "mouthfeel",
           "values": [
            "Neutral"
           ]
          },
          {
           "axis": {
            "matches": true
           },
           "label": "texture",
           "values": [
            "Waxy solid"
           ]
          }
         ],
         "hovertemplate": "IngredientName=Sorbitan Tristearate<br>%{xaxis.title.text}=%{x}<br>%{yaxis.title.text}=%{y}<extra></extra>",
         "legendgroup": "Sorbitan Tristearate",
         "marker": {
          "color": "#ab63fa",
          "symbol": "circle"
         },
         "name": "Sorbitan Tristearate",
         "showlegend": true,
         "type": "splom"
        },
        {
         "dimensions": [
          {
           "axis": {
            "matches": true
           },
           "label": "flavour_release",
           "values": [
            "Not applicable"
           ]
          },
          {
           "axis": {
            "matches": true
           },
           "label": "volatility",
           "values": [
            "Low"
           ]
          },
          {
           "axis": {
            "matches": true
           },
           "label": "mouthfeel",
           "values": [
            "Depends on the final product formulation"
           ]
          },
          {
           "axis": {
            "matches": true
           },
           "label": "texture",
           "values": [
            "Waxy solid or viscous liquid depending on purity and specific fatty acids used"
           ]
          }
         ],
         "hovertemplate": "IngredientName=Emulsifier 471<br>%{xaxis.title.text}=%{x}<br>%{yaxis.title.text}=%{y}<extra></extra>",
         "legendgroup": "Emulsifier 471",
         "marker": {
          "color": "#FFA15A",
          "symbol": "circle"
         },
         "name": "Emulsifier 471",
         "showlegend": true,
         "type": "splom"
        },
        {
         "dimensions": [
          {
           "axis": {
            "matches": true
           },
           "label": "flavour_release",
           "values": [
            "Not applicable"
           ]
          },
          {
           "axis": {
            "matches": true
           },
           "label": "volatility",
           "values": [
            "Not applicable"
           ]
          },
          {
           "axis": {
            "matches": true
           },
           "label": "mouthfeel",
           "values": [
            "Not applicable"
           ]
          },
          {
           "axis": {
            "matches": true
           },
           "label": "texture",
           "values": [
            "Not applicable"
           ]
          }
         ],
         "hovertemplate": "IngredientName=Enzymes<br>%{xaxis.title.text}=%{x}<br>%{yaxis.title.text}=%{y}<extra></extra>",
         "legendgroup": "Enzymes",
         "marker": {
          "color": "#19d3f3",
          "symbol": "circle"
         },
         "name": "Enzymes",
         "showlegend": true,
         "type": "splom"
        },
        {
         "dimensions": [
          {
           "axis": {
            "matches": true
           },
           "label": "flavour_release",
           "values": [
            "Not applicable"
           ]
          },
          {
           "axis": {
            "matches": true
           },
           "label": "volatility",
           "values": [
            "Low"
           ]
          },
          {
           "axis": {
            "matches": true
           },
           "label": "mouthfeel",
           "values": [
            "Does not significantly affect mouthfeel of final product"
           ]
          },
          {
           "axis": {
            "matches": true
           },
           "label": "texture",
           "values": [
            "Viscous liquid"
           ]
          }
         ],
         "hovertemplate": "IngredientName=Polyglycerol polyricinoleate<br>%{xaxis.title.text}=%{x}<br>%{yaxis.title.text}=%{y}<extra></extra>",
         "legendgroup": "Polyglycerol polyricinoleate",
         "marker": {
          "color": "#FF6692",
          "symbol": "circle"
         },
         "name": "Polyglycerol polyricinoleate",
         "showlegend": true,
         "type": "splom"
        },
        {
         "dimensions": [
          {
           "axis": {
            "matches": true
           },
           "label": "flavour_release",
           "values": [
            "Enhanced when toasted"
           ]
          },
          {
           "axis": {
            "matches": true
           },
           "label": "volatility",
           "values": [
            "Low"
           ]
          },
          {
           "axis": {
            "matches": true
           },
           "label": "mouthfeel",
           "values": [
            "Dry and coarse"
           ]
          },
          {
           "axis": {
            "matches": true
           },
           "label": "texture",
           "values": [
            "Crunchy and fibrous"
           ]
          }
         ],
         "hovertemplate": "IngredientName=Desiccated Coconut<br>%{xaxis.title.text}=%{x}<br>%{yaxis.title.text}=%{y}<extra></extra>",
         "legendgroup": "Desiccated Coconut",
         "marker": {
          "color": "#B6E880",
          "symbol": "circle"
         },
         "name": "Desiccated Coconut",
         "showlegend": true,
         "type": "splom"
        },
        {
         "dimensions": [
          {
           "axis": {
            "matches": true
           },
           "label": "flavour_release",
           "values": [
            "None"
           ]
          },
          {
           "axis": {
            "matches": true
           },
           "label": "volatility",
           "values": [
            "Low"
           ]
          },
          {
           "axis": {
            "matches": true
           },
           "label": "mouthfeel",
           "values": [
            "Smooth when cooked"
           ]
          },
          {
           "axis": {
            "matches": true
           },
           "label": "texture",
           "values": [
            "Powdery"
           ]
          }
         ],
         "hovertemplate": "IngredientName=Wheat Starch<br>%{xaxis.title.text}=%{x}<br>%{yaxis.title.text}=%{y}<extra></extra>",
         "legendgroup": "Wheat Starch",
         "marker": {
          "color": "#FF97FF",
          "symbol": "circle"
         },
         "name": "Wheat Starch",
         "showlegend": true,
         "type": "splom"
        },
        {
         "dimensions": [
          {
           "axis": {
            "matches": true
           },
           "label": "flavour_release",
           "values": [
            "N/A"
           ]
          },
          {
           "axis": {
            "matches": true
           },
           "label": "volatility",
           "values": [
            "N/A"
           ]
          },
          {
           "axis": {
            "matches": true
           },
           "label": "mouthfeel",
           "values": [
            "N/A"
           ]
          },
          {
           "axis": {
            "matches": true
           },
           "label": "texture",
           "values": [
            "Fine powder"
           ]
          }
         ],
         "hovertemplate": "IngredientName=Baking Powder<br>%{xaxis.title.text}=%{x}<br>%{yaxis.title.text}=%{y}<extra></extra>",
         "legendgroup": "Baking Powder",
         "marker": {
          "color": "#FECB52",
          "symbol": "circle"
         },
         "name": "Baking Powder",
         "showlegend": true,
         "type": "splom"
        },
        {
         "dimensions": [
          {
           "axis": {
            "matches": true
           },
           "label": "flavour_release",
           "values": [
            "Immediate upon consumption"
           ]
          },
          {
           "axis": {
            "matches": true
           },
           "label": "volatility",
           "values": [
            "Low"
           ]
          },
          {
           "axis": {
            "matches": true
           },
           "label": "mouthfeel",
           "values": [
            "Depends on the product it is used in"
           ]
          },
          {
           "axis": {
            "matches": true
           },
           "label": "texture",
           "values": [
            "Liquid or powder form"
           ]
          }
         ],
         "hovertemplate": "IngredientName=Colouring Agent Caramel IV<br>%{xaxis.title.text}=%{x}<br>%{yaxis.title.text}=%{y}<extra></extra>",
         "legendgroup": "Colouring Agent Caramel IV",
         "marker": {
          "color": "#636efa",
          "symbol": "circle"
         },
         "name": "Colouring Agent Caramel IV",
         "showlegend": true,
         "type": "splom"
        },
        {
         "dimensions": [
          {
           "axis": {
            "matches": true
           },
           "label": "flavour_release",
           "values": [
            "Depends on food matrix"
           ]
          },
          {
           "axis": {
            "matches": true
           },
           "label": "volatility",
           "values": [
            "Low"
           ]
          },
          {
           "axis": {
            "matches": true
           },
           "label": "mouthfeel",
           "values": [
            "Depends on the food matrix"
           ]
          },
          {
           "axis": {
            "matches": true
           },
           "label": "texture",
           "values": [
            "Oil-soluble liquid"
           ]
          }
         ],
         "hovertemplate": "IngredientName=Antioxidant E307B<br>%{xaxis.title.text}=%{x}<br>%{yaxis.title.text}=%{y}<extra></extra>",
         "legendgroup": "Antioxidant E307B",
         "marker": {
          "color": "#EF553B",
          "symbol": "circle"
         },
         "name": "Antioxidant E307B",
         "showlegend": true,
         "type": "splom"
        },
        {
         "dimensions": [
          {
           "axis": {
            "matches": true
           },
           "label": "flavour_release",
           "values": [
            "Immediate upon consumption"
           ]
          },
          {
           "axis": {
            "matches": true
           },
           "label": "volatility",
           "values": [
            "Low"
           ]
          },
          {
           "axis": {
            "matches": true
           },
           "label": "mouthfeel",
           "values": [
            "Melts in the mouth with a creamy texture"
           ]
          },
          {
           "axis": {
            "matches": true
           },
           "label": "texture",
           "values": [
            "Hard and crunchy"
           ]
          }
         ],
         "hovertemplate": "IngredientName=Dark Compound Chocolate Chips<br>%{xaxis.title.text}=%{x}<br>%{yaxis.title.text}=%{y}<extra></extra>",
         "legendgroup": "Dark Compound Chocolate Chips",
         "marker": {
          "color": "#00cc96",
          "symbol": "circle"
         },
         "name": "Dark Compound Chocolate Chips",
         "showlegend": true,
         "type": "splom"
        },
        {
         "dimensions": [
          {
           "axis": {
            "matches": true
           },
           "label": "flavour_release",
           "values": [
            "Immediate upon consumption"
           ]
          },
          {
           "axis": {
            "matches": true
           },
           "label": "volatility",
           "values": [
            "Low"
           ]
          },
          {
           "axis": {
            "matches": true
           },
           "label": "mouthfeel",
           "values": [
            "Smooth, oily"
           ]
          },
          {
           "axis": {
            "matches": true
           },
           "label": "texture",
           "values": [
            "Semi-solid at room temperature, melting to a clear oil when heated"
           ]
          }
         ],
         "hovertemplate": "IngredientName=Palm Oil<br>%{xaxis.title.text}=%{x}<br>%{yaxis.title.text}=%{y}<extra></extra>",
         "legendgroup": "Palm Oil",
         "marker": {
          "color": "#ab63fa",
          "symbol": "circle"
         },
         "name": "Palm Oil",
         "showlegend": true,
         "type": "splom"
        },
        {
         "dimensions": [
          {
           "axis": {
            "matches": true
           },
           "label": "flavour_release",
           "values": [
            "Enhanced by warmth"
           ]
          },
          {
           "axis": {
            "matches": true
           },
           "label": "volatility",
           "values": [
            "Low"
           ]
          },
          {
           "axis": {
            "matches": true
           },
           "label": "mouthfeel",
           "values": [
            "Varies, can be gritty or smooth depending on fineness"
           ]
          },
          {
           "axis": {
            "matches": true
           },
           "label": "texture",
           "values": [
            "Powdery"
           ]
          }
         ],
         "hovertemplate": "IngredientName=Cocoa Solids<br>%{xaxis.title.text}=%{x}<br>%{yaxis.title.text}=%{y}<extra></extra>",
         "legendgroup": "Cocoa Solids",
         "marker": {
          "color": "#FFA15A",
          "symbol": "circle"
         },
         "name": "Cocoa Solids",
         "showlegend": true,
         "type": "splom"
        },
        {
         "dimensions": [
          {
           "axis": {
            "matches": true
           },
           "label": "flavour_release",
           "values": [
            "Varies"
           ]
          },
          {
           "axis": {
            "matches": true
           },
           "label": "volatility",
           "values": [
            "Depends on compounds involved"
           ]
          },
          {
           "axis": {
            "matches": true
           },
           "label": "mouthfeel",
           "values": [
            "Not applicable"
           ]
          },
          {
           "axis": {
            "matches": true
           },
           "label": "texture",
           "values": [
            "Not applicable"
           ]
          }
         ],
         "hovertemplate": "IngredientName=Natural Flavour<br>%{xaxis.title.text}=%{x}<br>%{yaxis.title.text}=%{y}<extra></extra>",
         "legendgroup": "Natural Flavour",
         "marker": {
          "color": "#19d3f3",
          "symbol": "circle"
         },
         "name": "Natural Flavour",
         "showlegend": true,
         "type": "splom"
        },
        {
         "dimensions": [
          {
           "axis": {
            "matches": true
           },
           "label": "flavour_release",
           "values": [
            "Upon cooking"
           ]
          },
          {
           "axis": {
            "matches": true
           },
           "label": "volatility",
           "values": [
            "Low"
           ]
          },
          {
           "axis": {
            "matches": true
           },
           "label": "mouthfeel",
           "values": [
            "Smooth when cooked"
           ]
          },
          {
           "axis": {
            "matches": true
           },
           "label": "texture",
           "values": [
            "Fine powder"
           ]
          }
         ],
         "hovertemplate": "IngredientName=Wheaten Corn Flour<br>%{xaxis.title.text}=%{x}<br>%{yaxis.title.text}=%{y}<extra></extra>",
         "legendgroup": "Wheaten Corn Flour",
         "marker": {
          "color": "#FF6692",
          "symbol": "circle"
         },
         "name": "Wheaten Corn Flour",
         "showlegend": true,
         "type": "splom"
        },
        {
         "dimensions": [
          {
           "axis": {
            "matches": true
           },
           "label": "flavour_release",
           "values": [
            "Upon rehydration"
           ]
          },
          {
           "axis": {
            "matches": true
           },
           "label": "volatility",
           "values": [
            "Low"
           ]
          },
          {
           "axis": {
            "matches": true
           },
           "label": "mouthfeel",
           "values": [
            "Depends on rehydration; aims to mimic fresh eggs"
           ]
          },
          {
           "axis": {
            "matches": true
           },
           "label": "texture",
           "values": [
            "Fine powder"
           ]
          }
         ],
         "hovertemplate": "IngredientName=Whole Egg Powder<br>%{xaxis.title.text}=%{x}<br>%{yaxis.title.text}=%{y}<extra></extra>",
         "legendgroup": "Whole Egg Powder",
         "marker": {
          "color": "#B6E880",
          "symbol": "circle"
         },
         "name": "Whole Egg Powder",
         "showlegend": true,
         "type": "splom"
        },
        {
         "dimensions": [
          {
           "axis": {
            "matches": true
           },
           "label": "flavour_release",
           "values": [
            "Immediate upon solubilization"
           ]
          },
          {
           "axis": {
            "matches": true
           },
           "label": "volatility",
           "values": [
            "Low"
           ]
          },
          {
           "axis": {
            "matches": true
           },
           "label": "mouthfeel",
           "values": [
            "Depends on rehydration; generally smooth"
           ]
          },
          {
           "axis": {
            "matches": true
           },
           "label": "texture",
           "values": [
            "Fine powder"
           ]
          }
         ],
         "hovertemplate": "IngredientName=Milk Whey Powder<br>%{xaxis.title.text}=%{x}<br>%{yaxis.title.text}=%{y}<extra></extra>",
         "legendgroup": "Milk Whey Powder",
         "marker": {
          "color": "#FF97FF",
          "symbol": "circle"
         },
         "name": "Milk Whey Powder",
         "showlegend": true,
         "type": "splom"
        },
        {
         "dimensions": [
          {
           "axis": {
            "matches": true
           },
           "label": "flavour_release",
           "values": [
            "Enhanced upon cooking or heating"
           ]
          },
          {
           "axis": {
            "matches": true
           },
           "label": "volatility",
           "values": [
            "Low"
           ]
          },
          {
           "axis": {
            "matches": true
           },
           "label": "mouthfeel",
           "values": [
            "Not applicable"
           ]
          },
          {
           "axis": {
            "matches": true
           },
           "label": "texture",
           "values": [
            "Not applicable"
           ]
          }
         ],
         "hovertemplate": "IngredientName=Annatto Extracts<br>%{xaxis.title.text}=%{x}<br>%{yaxis.title.text}=%{y}<extra></extra>",
         "legendgroup": "Annatto Extracts",
         "marker": {
          "color": "#FECB52",
          "symbol": "circle"
         },
         "name": "Annatto Extracts",
         "showlegend": true,
         "type": "splom"
        },
        {
         "dimensions": [
          {
           "axis": {
            "matches": true
           },
           "label": "flavour_release",
           "values": [
            "Gradual as it melts"
           ]
          },
          {
           "axis": {
            "matches": true
           },
           "label": "volatility",
           "values": [
            "Low"
           ]
          },
          {
           "axis": {
            "matches": true
           },
           "label": "mouthfeel",
           "values": [
            "Smooth, velvety"
           ]
          },
          {
           "axis": {
            "matches": true
           },
           "label": "texture",
           "values": [
            "Solid at room temperature, melts in mouth"
           ]
          }
         ],
         "hovertemplate": "IngredientName=Dark Chocolate Chips<br>%{xaxis.title.text}=%{x}<br>%{yaxis.title.text}=%{y}<extra></extra>",
         "legendgroup": "Dark Chocolate Chips",
         "marker": {
          "color": "#636efa",
          "symbol": "circle"
         },
         "name": "Dark Chocolate Chips",
         "showlegend": true,
         "type": "splom"
        },
        {
         "dimensions": [
          {
           "axis": {
            "matches": true
           },
           "label": "flavour_release",
           "values": [
            "Immediate"
           ]
          },
          {
           "axis": {
            "matches": true
           },
           "label": "volatility",
           "values": [
            "High"
           ]
          },
          {
           "axis": {
            "matches": true
           },
           "label": "mouthfeel",
           "values": [
            "N/A"
           ]
          },
          {
           "axis": {
            "matches": true
           },
           "label": "texture",
           "values": [
            "Liquid"
           ]
          }
         ],
         "hovertemplate": "IngredientName=Natural Vanilla Flavour<br>%{xaxis.title.text}=%{x}<br>%{yaxis.title.text}=%{y}<extra></extra>",
         "legendgroup": "Natural Vanilla Flavour",
         "marker": {
          "color": "#EF553B",
          "symbol": "circle"
         },
         "name": "Natural Vanilla Flavour",
         "showlegend": true,
         "type": "splom"
        },
        {
         "dimensions": [
          {
           "axis": {
            "matches": true
           },
           "label": "flavour_release",
           "values": [
            "Immediate upon melting"
           ]
          },
          {
           "axis": {
            "matches": true
           },
           "label": "volatility",
           "values": [
            "Low"
           ]
          },
          {
           "axis": {
            "matches": true
           },
           "label": "mouthfeel",
           "values": [
            "Creamy, melts in the mouth"
           ]
          },
          {
           "axis": {
            "matches": true
           },
           "label": "texture",
           "values": [
            "Smooth, spreadable"
           ]
          }
         ],
         "hovertemplate": "IngredientName=Milk Butter<br>%{xaxis.title.text}=%{x}<br>%{yaxis.title.text}=%{y}<extra></extra>",
         "legendgroup": "Milk Butter",
         "marker": {
          "color": "#00cc96",
          "symbol": "circle"
         },
         "name": "Milk Butter",
         "showlegend": true,
         "type": "splom"
        },
        {
         "dimensions": [
          {
           "axis": {
            "matches": true
           },
           "label": "flavour_release",
           "values": [
            "Immediate upon consumption"
           ]
          },
          {
           "axis": {
            "matches": true
           },
           "label": "volatility",
           "values": [
            "High"
           ]
          },
          {
           "axis": {
            "matches": true
           },
           "label": "mouthfeel",
           "values": [
            "N/A"
           ]
          },
          {
           "axis": {
            "matches": true
           },
           "label": "texture",
           "values": [
            "Liquid"
           ]
          }
         ],
         "hovertemplate": "IngredientName=Natural Flavour Vanilla<br>%{xaxis.title.text}=%{x}<br>%{yaxis.title.text}=%{y}<extra></extra>",
         "legendgroup": "Natural Flavour Vanilla",
         "marker": {
          "color": "#ab63fa",
          "symbol": "circle"
         },
         "name": "Natural Flavour Vanilla",
         "showlegend": true,
         "type": "splom"
        },
        {
         "dimensions": [
          {
           "axis": {
            "matches": true
           },
           "label": "flavour_release",
           "values": [
            "Immediate upon consumption"
           ]
          },
          {
           "axis": {
            "matches": true
           },
           "label": "volatility",
           "values": [
            "Low"
           ]
          },
          {
           "axis": {
            "matches": true
           },
           "label": "mouthfeel",
           "values": [
            "Rich and smooth"
           ]
          },
          {
           "axis": {
            "matches": true
           },
           "label": "texture",
           "values": [
            "Creamy and spreadable"
           ]
          }
         ],
         "hovertemplate": "IngredientName=Natural Flavour Butter<br>%{xaxis.title.text}=%{x}<br>%{yaxis.title.text}=%{y}<extra></extra>",
         "legendgroup": "Natural Flavour Butter",
         "marker": {
          "color": "#FFA15A",
          "symbol": "circle"
         },
         "name": "Natural Flavour Butter",
         "showlegend": true,
         "type": "splom"
        },
        {
         "dimensions": [
          {
           "axis": {
            "matches": true
           },
           "label": "flavour_release",
           "values": [
            "N/A"
           ]
          },
          {
           "axis": {
            "matches": true
           },
           "label": "volatility",
           "values": [
            "N/A"
           ]
          },
          {
           "axis": {
            "matches": true
           },
           "label": "mouthfeel",
           "values": [
            "N/A"
           ]
          },
          {
           "axis": {
            "matches": true
           },
           "label": "texture",
           "values": [
            "Fine powder"
           ]
          }
         ],
         "hovertemplate": "IngredientName=Sodium Carbonate<br>%{xaxis.title.text}=%{x}<br>%{yaxis.title.text}=%{y}<extra></extra>",
         "legendgroup": "Sodium Carbonate",
         "marker": {
          "color": "#19d3f3",
          "symbol": "circle"
         },
         "name": "Sodium Carbonate",
         "showlegend": true,
         "type": "splom"
        },
        {
         "dimensions": [
          {
           "axis": {
            "matches": true
           },
           "label": "flavour_release",
           "values": [
            "Reacts during baking, leaving no residual flavour"
           ]
          },
          {
           "axis": {
            "matches": true
           },
           "label": "volatility",
           "values": [
            "High when heated"
           ]
          },
          {
           "axis": {
            "matches": true
           },
           "label": "mouthfeel",
           "values": [
            "Not applicable"
           ]
          },
          {
           "axis": {
            "matches": true
           },
           "label": "texture",
           "values": [
            "Solid, crystalline"
           ]
          }
         ],
         "hovertemplate": "IngredientName=Ammonium Carbonate<br>%{xaxis.title.text}=%{x}<br>%{yaxis.title.text}=%{y}<extra></extra>",
         "legendgroup": "Ammonium Carbonate",
         "marker": {
          "color": "#FF6692",
          "symbol": "circle"
         },
         "name": "Ammonium Carbonate",
         "showlegend": true,
         "type": "splom"
        },
        {
         "dimensions": [
          {
           "axis": {
            "matches": true
           },
           "label": "flavour_release",
           "values": [
            "Flavor intensifies upon melting."
           ]
          },
          {
           "axis": {
            "matches": true
           },
           "label": "volatility",
           "values": [
            "Low"
           ]
          },
          {
           "axis": {
            "matches": true
           },
           "label": "mouthfeel",
           "values": [
            "Creamy and smooth."
           ]
          },
          {
           "axis": {
            "matches": true
           },
           "label": "texture",
           "values": [
            "Solid at room temperature, melts in mouth."
           ]
          }
         ],
         "hovertemplate": "IngredientName=Chocolate Chips<br>%{xaxis.title.text}=%{x}<br>%{yaxis.title.text}=%{y}<extra></extra>",
         "legendgroup": "Chocolate Chips",
         "marker": {
          "color": "#B6E880",
          "symbol": "circle"
         },
         "name": "Chocolate Chips",
         "showlegend": true,
         "type": "splom"
        },
        {
         "dimensions": [
          {
           "axis": {
            "matches": true
           },
           "label": "flavour_release",
           "values": [
            "Immediate upon reconstitution"
           ]
          },
          {
           "axis": {
            "matches": true
           },
           "label": "volatility",
           "values": [
            "N/A"
           ]
          },
          {
           "axis": {
            "matches": true
           },
           "label": "mouthfeel",
           "values": [
            "Creamy when reconstituted"
           ]
          },
          {
           "axis": {
            "matches": true
           },
           "label": "texture",
           "values": [
            "Fine, free-flowing powder"
           ]
          }
         ],
         "hovertemplate": "IngredientName=Skim Milk Powder<br>%{xaxis.title.text}=%{x}<br>%{yaxis.title.text}=%{y}<extra></extra>",
         "legendgroup": "Skim Milk Powder",
         "marker": {
          "color": "#FF97FF",
          "symbol": "circle"
         },
         "name": "Skim Milk Powder",
         "showlegend": true,
         "type": "splom"
        },
        {
         "dimensions": [
          {
           "axis": {
            "matches": true
           },
           "label": "flavour_release",
           "values": [
            "None"
           ]
          },
          {
           "axis": {
            "matches": true
           },
           "label": "volatility",
           "values": [
            "Low"
           ]
          },
          {
           "axis": {
            "matches": true
           },
           "label": "mouthfeel",
           "values": [
            "Smooth when cooked"
           ]
          },
          {
           "axis": {
            "matches": true
           },
           "label": "texture",
           "values": [
            "Fine, powdery"
           ]
          }
         ],
         "hovertemplate": "IngredientName=Cornstarch<br>%{xaxis.title.text}=%{x}<br>%{yaxis.title.text}=%{y}<extra></extra>",
         "legendgroup": "Cornstarch",
         "marker": {
          "color": "#FECB52",
          "symbol": "circle"
         },
         "name": "Cornstarch",
         "showlegend": true,
         "type": "splom"
        },
        {
         "dimensions": [
          {
           "axis": {
            "matches": true
           },
           "label": "flavour_release",
           "values": [
            "Upon heating"
           ]
          },
          {
           "axis": {
            "matches": true
           },
           "label": "volatility",
           "values": [
            "High when heated"
           ]
          },
          {
           "axis": {
            "matches": true
           },
           "label": "mouthfeel",
           "values": [
            "Not applicable"
           ]
          },
          {
           "axis": {
            "matches": true
           },
           "label": "texture",
           "values": [
            "Solid, crystalline"
           ]
          }
         ],
         "hovertemplate": "IngredientName=Ammonium Bicarbonate<br>%{xaxis.title.text}=%{x}<br>%{yaxis.title.text}=%{y}<extra></extra>",
         "legendgroup": "Ammonium Bicarbonate",
         "marker": {
          "color": "#636efa",
          "symbol": "circle"
         },
         "name": "Ammonium Bicarbonate",
         "showlegend": true,
         "type": "splom"
        },
        {
         "dimensions": [
          {
           "axis": {
            "matches": true
           },
           "label": "flavour_release",
           "values": [
            "Not applicable"
           ]
          },
          {
           "axis": {
            "matches": true
           },
           "label": "volatility",
           "values": [
            "Not applicable"
           ]
          },
          {
           "axis": {
            "matches": true
           },
           "label": "mouthfeel",
           "values": [
            "Not applicable"
           ]
          },
          {
           "axis": {
            "matches": true
           },
           "label": "texture",
           "values": [
            "Not applicable"
           ]
          }
         ],
         "hovertemplate": "IngredientName=Mineral Iron<br>%{xaxis.title.text}=%{x}<br>%{yaxis.title.text}=%{y}<extra></extra>",
         "legendgroup": "Mineral Iron",
         "marker": {
          "color": "#EF553B",
          "symbol": "circle"
         },
         "name": "Mineral Iron",
         "showlegend": true,
         "type": "splom"
        },
        {
         "dimensions": [
          {
           "axis": {
            "matches": true
           },
           "label": "flavour_release",
           "values": [
            "Not applicable."
           ]
          },
          {
           "axis": {
            "matches": true
           },
           "label": "volatility",
           "values": [
            "Not volatile."
           ]
          },
          {
           "axis": {
            "matches": true
           },
           "label": "mouthfeel",
           "values": [
            "Not applicable as it is not typically consumed in its metallic form."
           ]
          },
          {
           "axis": {
            "matches": true
           },
           "label": "texture",
           "values": [
            "Solid at room temperature."
           ]
          }
         ],
         "hovertemplate": "IngredientName=Zinc<br>%{xaxis.title.text}=%{x}<br>%{yaxis.title.text}=%{y}<extra></extra>",
         "legendgroup": "Zinc",
         "marker": {
          "color": "#00cc96",
          "symbol": "circle"
         },
         "name": "Zinc",
         "showlegend": true,
         "type": "splom"
        },
        {
         "dimensions": [
          {
           "axis": {
            "matches": true
           },
           "label": "flavour_release",
           "values": [
            "Not applicable"
           ]
          },
          {
           "axis": {
            "matches": true
           },
           "label": "volatility",
           "values": [
            "Stable under normal conditions"
           ]
          },
          {
           "axis": {
            "matches": true
           },
           "label": "mouthfeel",
           "values": [
            "Not applicable"
           ]
          },
          {
           "axis": {
            "matches": true
           },
           "label": "texture",
           "values": [
            "Powder form"
           ]
          }
         ],
         "hovertemplate": "IngredientName=Riboflavin<br>%{xaxis.title.text}=%{x}<br>%{yaxis.title.text}=%{y}<extra></extra>",
         "legendgroup": "Riboflavin",
         "marker": {
          "color": "#ab63fa",
          "symbol": "circle"
         },
         "name": "Riboflavin",
         "showlegend": true,
         "type": "splom"
        },
        {
         "dimensions": [
          {
           "axis": {
            "matches": true
           },
           "label": "flavour_release",
           "values": [
            "Immediate upon solubilization"
           ]
          },
          {
           "axis": {
            "matches": true
           },
           "label": "volatility",
           "values": [
            "Low"
           ]
          },
          {
           "axis": {
            "matches": true
           },
           "label": "mouthfeel",
           "values": [
            "Not applicable"
           ]
          },
          {
           "axis": {
            "matches": true
           },
           "label": "texture",
           "values": [
            "Powder form"
           ]
          }
         ],
         "hovertemplate": "IngredientName=Thiamin<br>%{xaxis.title.text}=%{x}<br>%{yaxis.title.text}=%{y}<extra></extra>",
         "legendgroup": "Thiamin",
         "marker": {
          "color": "#FFA15A",
          "symbol": "circle"
         },
         "name": "Thiamin",
         "showlegend": true,
         "type": "splom"
        },
        {
         "dimensions": [
          {
           "axis": {
            "matches": true
           },
           "label": "flavour_release",
           "values": [
            "N/A"
           ]
          },
          {
           "axis": {
            "matches": true
           },
           "label": "volatility",
           "values": [
            "N/A"
           ]
          },
          {
           "axis": {
            "matches": true
           },
           "label": "mouthfeel",
           "values": [
            "N/A"
           ]
          },
          {
           "axis": {
            "matches": true
           },
           "label": "texture",
           "values": [
            "N/A"
           ]
          }
         ],
         "hovertemplate": "IngredientName=Folate<br>%{xaxis.title.text}=%{x}<br>%{yaxis.title.text}=%{y}<extra></extra>",
         "legendgroup": "Folate",
         "marker": {
          "color": "#19d3f3",
          "symbol": "circle"
         },
         "name": "Folate",
         "showlegend": true,
         "type": "splom"
        },
        {
         "dimensions": [
          {
           "axis": {
            "matches": true
           },
           "label": "flavour_release",
           "values": [
            "Immediate upon consumption"
           ]
          },
          {
           "axis": {
            "matches": true
           },
           "label": "volatility",
           "values": [
            "High, aroma dissipates quickly"
           ]
          },
          {
           "axis": {
            "matches": true
           },
           "label": "mouthfeel",
           "values": [
            "Moist, slightly grainy from the seeds"
           ]
          },
          {
           "axis": {
            "matches": true
           },
           "label": "texture",
           "values": [
            "Soft, juicy"
           ]
          }
         ],
         "hovertemplate": "IngredientName=Strawberry<br>%{xaxis.title.text}=%{x}<br>%{yaxis.title.text}=%{y}<extra></extra>",
         "legendgroup": "Strawberry",
         "marker": {
          "color": "#FF6692",
          "symbol": "circle"
         },
         "name": "Strawberry",
         "showlegend": true,
         "type": "splom"
        },
        {
         "dimensions": [
          {
           "axis": {
            "matches": true
           },
           "label": "flavour_release",
           "values": [
            "Gradual as the chocolate melts"
           ]
          },
          {
           "axis": {
            "matches": true
           },
           "label": "volatility",
           "values": [
            "Low"
           ]
          },
          {
           "axis": {
            "matches": true
           },
           "label": "mouthfeel",
           "values": [
            "Creamy, velvety"
           ]
          },
          {
           "axis": {
            "matches": true
           },
           "label": "texture",
           "values": [
            "Solid at room temperature, melts smoothly in the mouth"
           ]
          }
         ],
         "hovertemplate": "IngredientName=Milk Chocolate Chips<br>%{xaxis.title.text}=%{x}<br>%{yaxis.title.text}=%{y}<extra></extra>",
         "legendgroup": "Milk Chocolate Chips",
         "marker": {
          "color": "#B6E880",
          "symbol": "circle"
         },
         "name": "Milk Chocolate Chips",
         "showlegend": true,
         "type": "splom"
        },
        {
         "dimensions": [
          {
           "axis": {
            "matches": true
           },
           "label": "flavour_release",
           "values": [
            "Immediate upon dissolution"
           ]
          },
          {
           "axis": {
            "matches": true
           },
           "label": "volatility",
           "values": [
            "Non-volatile"
           ]
          },
          {
           "axis": {
            "matches": true
           },
           "label": "mouthfeel",
           "values": [
            "Typically does not alter mouthfeel significantly"
           ]
          },
          {
           "axis": {
            "matches": true
           },
           "label": "texture",
           "values": [
            "Crystalline powder"
           ]
          }
         ],
         "hovertemplate": "IngredientName=Dextrose<br>%{xaxis.title.text}=%{x}<br>%{yaxis.title.text}=%{y}<extra></extra>",
         "legendgroup": "Dextrose",
         "marker": {
          "color": "#FF97FF",
          "symbol": "circle"
         },
         "name": "Dextrose",
         "showlegend": true,
         "type": "splom"
        },
        {
         "dimensions": [
          {
           "axis": {
            "matches": true
           },
           "label": "flavour_release",
           "values": [
            "N/A"
           ]
          },
          {
           "axis": {
            "matches": true
           },
           "label": "volatility",
           "values": [
            "N/A"
           ]
          },
          {
           "axis": {
            "matches": true
           },
           "label": "mouthfeel",
           "values": [
            "Improves mouthfeel in emulsified products"
           ]
          },
          {
           "axis": {
            "matches": true
           },
           "label": "texture",
           "values": [
            "Depends on the product it is used in"
           ]
          }
         ],
         "hovertemplate": "IngredientName=Emulsifier 442<br>%{xaxis.title.text}=%{x}<br>%{yaxis.title.text}=%{y}<extra></extra>",
         "legendgroup": "Emulsifier 442",
         "marker": {
          "color": "#FECB52",
          "symbol": "circle"
         },
         "name": "Emulsifier 442",
         "showlegend": true,
         "type": "splom"
        },
        {
         "dimensions": [
          {
           "axis": {
            "matches": true
           },
           "label": "flavour_release",
           "values": [
            "Depends on cooking method"
           ]
          },
          {
           "axis": {
            "matches": true
           },
           "label": "volatility",
           "values": [
            "Low"
           ]
          },
          {
           "axis": {
            "matches": true
           },
           "label": "mouthfeel",
           "values": [
            "Creamy when cooked"
           ]
          },
          {
           "axis": {
            "matches": true
           },
           "label": "texture",
           "values": [
            "Varies from runny to firm based on cooking method"
           ]
          }
         ],
         "hovertemplate": "IngredientName=Egg<br>%{xaxis.title.text}=%{x}<br>%{yaxis.title.text}=%{y}<extra></extra>",
         "legendgroup": "Egg",
         "marker": {
          "color": "#636efa",
          "symbol": "circle"
         },
         "name": "Egg",
         "showlegend": true,
         "type": "splom"
        },
        {
         "dimensions": [
          {
           "axis": {
            "matches": true
           },
           "label": "flavour_release",
           "values": [
            "Immediate"
           ]
          },
          {
           "axis": {
            "matches": true
           },
           "label": "volatility",
           "values": [
            "Low"
           ]
          },
          {
           "axis": {
            "matches": true
           },
           "label": "mouthfeel",
           "values": [
            "Smooth"
           ]
          },
          {
           "axis": {
            "matches": true
           },
           "label": "texture",
           "values": [
            "Syrupy liquid"
           ]
          }
         ],
         "hovertemplate": "IngredientName=Stabiliser 422<br>%{xaxis.title.text}=%{x}<br>%{yaxis.title.text}=%{y}<extra></extra>",
         "legendgroup": "Stabiliser 422",
         "marker": {
          "color": "#EF553B",
          "symbol": "circle"
         },
         "name": "Stabiliser 422",
         "showlegend": true,
         "type": "splom"
        },
        {
         "dimensions": [
          {
           "axis": {
            "matches": true
           },
           "label": "flavour_release",
           "values": [
            "Does not affect flavor release"
           ]
          },
          {
           "axis": {
            "matches": true
           },
           "label": "volatility",
           "values": [
            "Low"
           ]
          },
          {
           "axis": {
            "matches": true
           },
           "label": "mouthfeel",
           "values": [
            "Creamy and smooth"
           ]
          },
          {
           "axis": {
            "matches": true
           },
           "label": "texture",
           "values": [
            "Provides a smooth and thick texture in food products."
           ]
          }
         ],
         "hovertemplate": "IngredientName=Thickener 1422<br>%{xaxis.title.text}=%{x}<br>%{yaxis.title.text}=%{y}<extra></extra>",
         "legendgroup": "Thickener 1422",
         "marker": {
          "color": "#00cc96",
          "symbol": "circle"
         },
         "name": "Thickener 1422",
         "showlegend": true,
         "type": "splom"
        },
        {
         "dimensions": [
          {
           "axis": {
            "matches": true
           },
           "label": "flavour_release",
           "values": [
            "Not applicable"
           ]
          },
          {
           "axis": {
            "matches": true
           },
           "label": "volatility",
           "values": [
            "Not volatile"
           ]
          },
          {
           "axis": {
            "matches": true
           },
           "label": "mouthfeel",
           "values": [
            "Not applicable"
           ]
          },
          {
           "axis": {
            "matches": true
           },
           "label": "texture",
           "values": [
            "Powder"
           ]
          }
         ],
         "hovertemplate": "IngredientName=Raising Agent 450<br>%{xaxis.title.text}=%{x}<br>%{yaxis.title.text}=%{y}<extra></extra>",
         "legendgroup": "Raising Agent 450",
         "marker": {
          "color": "#ab63fa",
          "symbol": "circle"
         },
         "name": "Raising Agent 450",
         "showlegend": true,
         "type": "splom"
        },
        {
         "dimensions": [
          {
           "axis": {
            "matches": true
           },
           "label": "flavour_release",
           "values": [
            "Not applicable."
           ]
          },
          {
           "axis": {
            "matches": true
           },
           "label": "volatility",
           "values": [
            "Stable under normal conditions."
           ]
          },
          {
           "axis": {
            "matches": true
           },
           "label": "mouthfeel",
           "values": [
            "Varies with application; generally not noticeable."
           ]
          },
          {
           "axis": {
            "matches": true
           },
           "label": "texture",
           "values": [
            "Depends on formulation; can be powder or oil."
           ]
          }
         ],
         "hovertemplate": "IngredientName=Colouring Agent 160a<br>%{xaxis.title.text}=%{x}<br>%{yaxis.title.text}=%{y}<extra></extra>",
         "legendgroup": "Colouring Agent 160a",
         "marker": {
          "color": "#FFA15A",
          "symbol": "circle"
         },
         "name": "Colouring Agent 160a",
         "showlegend": true,
         "type": "splom"
        },
        {
         "dimensions": [
          {
           "axis": {
            "matches": true
           },
           "label": "flavour_release",
           "values": [
            "Not applicable"
           ]
          },
          {
           "axis": {
            "matches": true
           },
           "label": "volatility",
           "values": [
            "Low"
           ]
          },
          {
           "axis": {
            "matches": true
           },
           "label": "mouthfeel",
           "values": [
            "Smooth"
           ]
          },
          {
           "axis": {
            "matches": true
           },
           "label": "texture",
           "values": [
            "Powdery before use, contributes to a smooth texture in final product"
           ]
          }
         ],
         "hovertemplate": "IngredientName=Thickener 1414<br>%{xaxis.title.text}=%{x}<br>%{yaxis.title.text}=%{y}<extra></extra>",
         "legendgroup": "Thickener 1414",
         "marker": {
          "color": "#19d3f3",
          "symbol": "circle"
         },
         "name": "Thickener 1414",
         "showlegend": true,
         "type": "splom"
        },
        {
         "dimensions": [
          {
           "axis": {
            "matches": true
           },
           "label": "flavour_release",
           "values": [
            "Immediate upon consumption"
           ]
          },
          {
           "axis": {
            "matches": true
           },
           "label": "volatility",
           "values": [
            "Low"
           ]
          },
          {
           "axis": {
            "matches": true
           },
           "label": "mouthfeel",
           "values": [
            "Rich and velvety"
           ]
          },
          {
           "axis": {
            "matches": true
           },
           "label": "texture",
           "values": [
            "Smooth and creamy"
           ]
          }
         ],
         "hovertemplate": "IngredientName=Milk Compound Chocolate<br>%{xaxis.title.text}=%{x}<br>%{yaxis.title.text}=%{y}<extra></extra>",
         "legendgroup": "Milk Compound Chocolate",
         "marker": {
          "color": "#FF6692",
          "symbol": "circle"
         },
         "name": "Milk Compound Chocolate",
         "showlegend": true,
         "type": "splom"
        },
        {
         "dimensions": [
          {
           "axis": {
            "matches": true
           },
           "label": "flavour_release",
           "values": [
            "Immediate"
           ]
          },
          {
           "axis": {
            "matches": true
           },
           "label": "volatility",
           "values": [
            "Low"
           ]
          },
          {
           "axis": {
            "matches": true
           },
           "label": "mouthfeel",
           "values": [
            "Neutral"
           ]
          },
          {
           "axis": {
            "matches": true
           },
           "label": "texture",
           "values": [
            "Powdery"
           ]
          }
         ],
         "hovertemplate": "IngredientName=Glazing Agent 414<br>%{xaxis.title.text}=%{x}<br>%{yaxis.title.text}=%{y}<extra></extra>",
         "legendgroup": "Glazing Agent 414",
         "marker": {
          "color": "#B6E880",
          "symbol": "circle"
         },
         "name": "Glazing Agent 414",
         "showlegend": true,
         "type": "splom"
        },
        {
         "dimensions": [
          {
           "axis": {
            "matches": true
           },
           "label": "flavour_release",
           "values": [
            "Non-applicable"
           ]
          },
          {
           "axis": {
            "matches": true
           },
           "label": "volatility",
           "values": [
            "Low"
           ]
          },
          {
           "axis": {
            "matches": true
           },
           "label": "mouthfeel",
           "values": [
            "Non-applicable"
           ]
          },
          {
           "axis": {
            "matches": true
           },
           "label": "texture",
           "values": [
            "Hard and brittle"
           ]
          }
         ],
         "hovertemplate": "IngredientName=Carnauba Wax<br>%{xaxis.title.text}=%{x}<br>%{yaxis.title.text}=%{y}<extra></extra>",
         "legendgroup": "Carnauba Wax",
         "marker": {
          "color": "#FF97FF",
          "symbol": "circle"
         },
         "name": "Carnauba Wax",
         "showlegend": true,
         "type": "splom"
        },
        {
         "dimensions": [
          {
           "axis": {
            "matches": true
           },
           "label": "flavour_release",
           "values": [
            "N/A"
           ]
          },
          {
           "axis": {
            "matches": true
           },
           "label": "volatility",
           "values": [
            "Low"
           ]
          },
          {
           "axis": {
            "matches": true
           },
           "label": "mouthfeel",
           "values": [
            "N/A"
           ]
          },
          {
           "axis": {
            "matches": true
           },
           "label": "texture",
           "values": [
            "Fine, powdery"
           ]
          }
         ],
         "hovertemplate": "IngredientName=Colouring Agent Titan White<br>%{xaxis.title.text}=%{x}<br>%{yaxis.title.text}=%{y}<extra></extra>",
         "legendgroup": "Colouring Agent Titan White",
         "marker": {
          "color": "#FECB52",
          "symbol": "circle"
         },
         "name": "Colouring Agent Titan White",
         "showlegend": true,
         "type": "splom"
        },
        {
         "dimensions": [
          {
           "axis": {
            "matches": true
           },
           "label": "flavour_release",
           "values": [
            "Immediate"
           ]
          },
          {
           "axis": {
            "matches": true
           },
           "label": "volatility",
           "values": [
            "Low"
           ]
          },
          {
           "axis": {
            "matches": true
           },
           "label": "mouthfeel",
           "values": [
            "Depends on the product it is used in"
           ]
          },
          {
           "axis": {
            "matches": true
           },
           "label": "texture",
           "values": [
            "Liquid in extract form"
           ]
          }
         ],
         "hovertemplate": "IngredientName=Colouring Agent Spirulina Extract<br>%{xaxis.title.text}=%{x}<br>%{yaxis.title.text}=%{y}<extra></extra>",
         "legendgroup": "Colouring Agent Spirulina Extract",
         "marker": {
          "color": "#636efa",
          "symbol": "circle"
         },
         "name": "Colouring Agent Spirulina Extract",
         "showlegend": true,
         "type": "splom"
        },
        {
         "dimensions": [
          {
           "axis": {
            "matches": true
           },
           "label": "flavour_release",
           "values": [
            "Not applicable"
           ]
          },
          {
           "axis": {
            "matches": true
           },
           "label": "volatility",
           "values": [
            "Low"
           ]
          },
          {
           "axis": {
            "matches": true
           },
           "label": "mouthfeel",
           "values": [
            "Not significant"
           ]
          },
          {
           "axis": {
            "matches": true
           },
           "label": "texture",
           "values": [
            "Depends on the formulation (powder or oil)"
           ]
          }
         ],
         "hovertemplate": "IngredientName=Beta carotene<br>%{xaxis.title.text}=%{x}<br>%{yaxis.title.text}=%{y}<extra></extra>",
         "legendgroup": "Beta carotene",
         "marker": {
          "color": "#EF553B",
          "symbol": "circle"
         },
         "name": "Beta carotene",
         "showlegend": true,
         "type": "splom"
        },
        {
         "dimensions": [
          {
           "axis": {
            "matches": true
           },
           "label": "flavour_release",
           "values": [
            "Immediate"
           ]
          },
          {
           "axis": {
            "matches": true
           },
           "label": "volatility",
           "values": [
            "Low"
           ]
          },
          {
           "axis": {
            "matches": true
           },
           "label": "mouthfeel",
           "values": [
            "Depends on the application and concentration"
           ]
          },
          {
           "axis": {
            "matches": true
           },
           "label": "texture",
           "values": [
            "Liquid or powder form, depending on the product"
           ]
          }
         ],
         "hovertemplate": "IngredientName=Black Carrot Extract<br>%{xaxis.title.text}=%{x}<br>%{yaxis.title.text}=%{y}<extra></extra>",
         "legendgroup": "Black Carrot Extract",
         "marker": {
          "color": "#00cc96",
          "symbol": "circle"
         },
         "name": "Black Carrot Extract",
         "showlegend": true,
         "type": "splom"
        },
        {
         "dimensions": [
          {
           "axis": {
            "matches": true
           },
           "label": "flavour_release",
           "values": [
            "Immediate"
           ]
          },
          {
           "axis": {
            "matches": true
           },
           "label": "volatility",
           "values": [
            "Low"
           ]
          },
          {
           "axis": {
            "matches": true
           },
           "label": "mouthfeel",
           "values": [
            "Depends on the product it is used in"
           ]
          },
          {
           "axis": {
            "matches": true
           },
           "label": "texture",
           "values": [
            "Powder"
           ]
          }
         ],
         "hovertemplate": "IngredientName=Cultured Dextrose<br>%{xaxis.title.text}=%{x}<br>%{yaxis.title.text}=%{y}<extra></extra>",
         "legendgroup": "Cultured Dextrose",
         "marker": {
          "color": "#ab63fa",
          "symbol": "circle"
         },
         "name": "Cultured Dextrose",
         "showlegend": true,
         "type": "splom"
        },
        {
         "dimensions": [
          {
           "axis": {
            "matches": true
           },
           "label": "flavour_release",
           "values": [
            "Gradual"
           ]
          },
          {
           "axis": {
            "matches": true
           },
           "label": "volatility",
           "values": [
            "Low"
           ]
          },
          {
           "axis": {
            "matches": true
           },
           "label": "mouthfeel",
           "values": [
            "Smooth when mixed with liquid"
           ]
          },
          {
           "axis": {
            "matches": true
           },
           "label": "texture",
           "values": [
            "Powdery"
           ]
          }
         ],
         "hovertemplate": "IngredientName=Maize Starch<br>%{xaxis.title.text}=%{x}<br>%{yaxis.title.text}=%{y}<extra></extra>",
         "legendgroup": "Maize Starch",
         "marker": {
          "color": "#FFA15A",
          "symbol": "circle"
         },
         "name": "Maize Starch",
         "showlegend": true,
         "type": "splom"
        },
        {
         "dimensions": [
          {
           "axis": {
            "matches": true
           },
           "label": "flavour_release",
           "values": [
            "None"
           ]
          },
          {
           "axis": {
            "matches": true
           },
           "label": "volatility",
           "values": [
            "None"
           ]
          },
          {
           "axis": {
            "matches": true
           },
           "label": "mouthfeel",
           "values": [
            "Not applicable"
           ]
          },
          {
           "axis": {
            "matches": true
           },
           "label": "texture",
           "values": [
            "Varies from flexible to rigid depending on density"
           ]
          }
         ],
         "hovertemplate": "IngredientName=Polyethylene<br>%{xaxis.title.text}=%{x}<br>%{yaxis.title.text}=%{y}<extra></extra>",
         "legendgroup": "Polyethylene",
         "marker": {
          "color": "#19d3f3",
          "symbol": "circle"
         },
         "name": "Polyethylene",
         "showlegend": true,
         "type": "splom"
        },
        {
         "dimensions": [
          {
           "axis": {
            "matches": true
           },
           "label": "flavour_release",
           "values": [
            "N/A"
           ]
          },
          {
           "axis": {
            "matches": true
           },
           "label": "volatility",
           "values": [
            "Low"
           ]
          },
          {
           "axis": {
            "matches": true
           },
           "label": "mouthfeel",
           "values": [
            "N/A"
           ]
          },
          {
           "axis": {
            "matches": true
           },
           "label": "texture",
           "values": [
            "Solid at room temperature, varies from soft to hard"
           ]
          }
         ],
         "hovertemplate": "IngredientName=Synthetic Wax<br>%{xaxis.title.text}=%{x}<br>%{yaxis.title.text}=%{y}<extra></extra>",
         "legendgroup": "Synthetic Wax",
         "marker": {
          "color": "#FF6692",
          "symbol": "circle"
         },
         "name": "Synthetic Wax",
         "showlegend": true,
         "type": "splom"
        },
        {
         "dimensions": [
          {
           "axis": {
            "matches": true
           },
           "label": "flavour_release",
           "values": [
            "Does not apply"
           ]
          },
          {
           "axis": {
            "matches": true
           },
           "label": "volatility",
           "values": [
            "Low"
           ]
          },
          {
           "axis": {
            "matches": true
           },
           "label": "mouthfeel",
           "values": [
            "Rich, without being greasy"
           ]
          },
          {
           "axis": {
            "matches": true
           },
           "label": "texture",
           "values": [
            "Smooth and creamy"
           ]
          }
         ],
         "hovertemplate": "IngredientName=Bis-Diglyceryl Polyacyladipate-2<br>%{xaxis.title.text}=%{x}<br>%{yaxis.title.text}=%{y}<extra></extra>",
         "legendgroup": "Bis-Diglyceryl Polyacyladipate-2",
         "marker": {
          "color": "#B6E880",
          "symbol": "circle"
         },
         "name": "Bis-Diglyceryl Polyacyladipate-2",
         "showlegend": true,
         "type": "splom"
        },
        {
         "dimensions": [
          {
           "axis": {
            "matches": true
           },
           "label": "flavour_release",
           "values": [
            "Not applicable"
           ]
          },
          {
           "axis": {
            "matches": true
           },
           "label": "volatility",
           "values": [
            "Low"
           ]
          },
          {
           "axis": {
            "matches": true
           },
           "label": "mouthfeel",
           "values": [
            "Not applicable"
           ]
          },
          {
           "axis": {
            "matches": true
           },
           "label": "texture",
           "values": [
            "Viscous liquid or semi-solid depending on molecular weight"
           ]
          }
         ],
         "hovertemplate": "IngredientName=Polybutene<br>%{xaxis.title.text}=%{x}<br>%{yaxis.title.text}=%{y}<extra></extra>",
         "legendgroup": "Polybutene",
         "marker": {
          "color": "#FF97FF",
          "symbol": "circle"
         },
         "name": "Polybutene",
         "showlegend": true,
         "type": "splom"
        },
        {
         "dimensions": [
          {
           "axis": {
            "matches": true
           },
           "label": "flavour_release",
           "values": [
            "N/A"
           ]
          },
          {
           "axis": {
            "matches": true
           },
           "label": "volatility",
           "values": [
            "N/A"
           ]
          },
          {
           "axis": {
            "matches": true
           },
           "label": "mouthfeel",
           "values": [
            "N/A"
           ]
          },
          {
           "axis": {
            "matches": true
           },
           "label": "texture",
           "values": [
            "Powdery or granular"
           ]
          }
         ],
         "hovertemplate": "IngredientName=Silica<br>%{xaxis.title.text}=%{x}<br>%{yaxis.title.text}=%{y}<extra></extra>",
         "legendgroup": "Silica",
         "marker": {
          "color": "#FECB52",
          "symbol": "circle"
         },
         "name": "Silica",
         "showlegend": true,
         "type": "splom"
        },
        {
         "dimensions": [
          {
           "axis": {
            "matches": true
           },
           "label": "flavour_release",
           "values": [
            "Not applicable"
           ]
          },
          {
           "axis": {
            "matches": true
           },
           "label": "volatility",
           "values": [
            "Low"
           ]
          },
          {
           "axis": {
            "matches": true
           },
           "label": "mouthfeel",
           "values": [
            "Smooth"
           ]
          },
          {
           "axis": {
            "matches": true
           },
           "label": "texture",
           "values": [
            "Oily, viscous"
           ]
          }
         ],
         "hovertemplate": "IngredientName=Octyldodecanol<br>%{xaxis.title.text}=%{x}<br>%{yaxis.title.text}=%{y}<extra></extra>",
         "legendgroup": "Octyldodecanol",
         "marker": {
          "color": "#636efa",
          "symbol": "circle"
         },
         "name": "Octyldodecanol",
         "showlegend": true,
         "type": "splom"
        },
        {
         "dimensions": [
          {
           "axis": {
            "matches": true
           },
           "label": "flavour_release",
           "values": [
            "Not applicable"
           ]
          },
          {
           "axis": {
            "matches": true
           },
           "label": "volatility",
           "values": [
            "Low"
           ]
          },
          {
           "axis": {
            "matches": true
           },
           "label": "mouthfeel",
           "values": [
            "Not applicable"
           ]
          },
          {
           "axis": {
            "matches": true
           },
           "label": "texture",
           "values": [
            "Solid at room temperature"
           ]
          }
         ],
         "hovertemplate": "IngredientName=Pentaerythrityl Tetra-di-t-butyl Hydroxyhydrocinnamate<br>%{xaxis.title.text}=%{x}<br>%{yaxis.title.text}=%{y}<extra></extra>",
         "legendgroup": "Pentaerythrityl Tetra-di-t-butyl Hydroxyhydrocinnamate",
         "marker": {
          "color": "#EF553B",
          "symbol": "circle"
         },
         "name": "Pentaerythrityl Tetra-di-t-butyl Hydroxyhydrocinnamate",
         "showlegend": true,
         "type": "splom"
        },
        {
         "dimensions": [
          {
           "axis": {
            "matches": true
           },
           "label": "flavour_release",
           "values": [
            "Not applicable"
           ]
          },
          {
           "axis": {
            "matches": true
           },
           "label": "volatility",
           "values": [
            "Not applicable"
           ]
          },
          {
           "axis": {
            "matches": true
           },
           "label": "mouthfeel",
           "values": [
            "Not applicable"
           ]
          },
          {
           "axis": {
            "matches": true
           },
           "label": "texture",
           "values": [
            "Powdery when in food-grade form"
           ]
          }
         ],
         "hovertemplate": "IngredientName=Mica<br>%{xaxis.title.text}=%{x}<br>%{yaxis.title.text}=%{y}<extra></extra>",
         "legendgroup": "Mica",
         "marker": {
          "color": "#00cc96",
          "symbol": "circle"
         },
         "name": "Mica",
         "showlegend": true,
         "type": "splom"
        },
        {
         "dimensions": [
          {
           "axis": {
            "matches": true
           },
           "label": "flavour_release",
           "values": [
            "Not applicable"
           ]
          },
          {
           "axis": {
            "matches": true
           },
           "label": "volatility",
           "values": [
            "Not applicable"
           ]
          },
          {
           "axis": {
            "matches": true
           },
           "label": "mouthfeel",
           "values": [
            "Not applicable"
           ]
          },
          {
           "axis": {
            "matches": true
           },
           "label": "texture",
           "values": [
            "Fine powder"
           ]
          }
         ],
         "hovertemplate": "IngredientName=Ultramarines<br>%{xaxis.title.text}=%{x}<br>%{yaxis.title.text}=%{y}<extra></extra>",
         "legendgroup": "Ultramarines",
         "marker": {
          "color": "#ab63fa",
          "symbol": "circle"
         },
         "name": "Ultramarines",
         "showlegend": true,
         "type": "splom"
        },
        {
         "dimensions": [
          {
           "axis": {
            "matches": true
           },
           "label": "flavour_release",
           "values": [
            "Not applicable"
           ]
          },
          {
           "axis": {
            "matches": true
           },
           "label": "volatility",
           "values": [
            "Non-volatile"
           ]
          },
          {
           "axis": {
            "matches": true
           },
           "label": "mouthfeel",
           "values": [
            "Depends on the product it is used in, generally not detectable"
           ]
          },
          {
           "axis": {
            "matches": true
           },
           "label": "texture",
           "values": [
            "Fine powder"
           ]
          }
         ],
         "hovertemplate": "IngredientName=Iron Oxides<br>%{xaxis.title.text}=%{x}<br>%{yaxis.title.text}=%{y}<extra></extra>",
         "legendgroup": "Iron Oxides",
         "marker": {
          "color": "#FFA15A",
          "symbol": "circle"
         },
         "name": "Iron Oxides",
         "showlegend": true,
         "type": "splom"
        },
        {
         "dimensions": [
          {
           "axis": {
            "matches": true
           },
           "label": "flavour_release",
           "values": [
            "Not applicable"
           ]
          },
          {
           "axis": {
            "matches": true
           },
           "label": "volatility",
           "values": [
            "Not volatile"
           ]
          },
          {
           "axis": {
            "matches": true
           },
           "label": "mouthfeel",
           "values": [
            "Not applicable"
           ]
          },
          {
           "axis": {
            "matches": true
           },
           "label": "texture",
           "values": [
            "Powdery"
           ]
          }
         ],
         "hovertemplate": "IngredientName=Titanium Dioxide<br>%{xaxis.title.text}=%{x}<br>%{yaxis.title.text}=%{y}<extra></extra>",
         "legendgroup": "Titanium Dioxide",
         "marker": {
          "color": "#19d3f3",
          "symbol": "circle"
         },
         "name": "Titanium Dioxide",
         "showlegend": true,
         "type": "splom"
        },
        {
         "dimensions": [
          {
           "axis": {
            "matches": true
           },
           "label": "flavour_release",
           "values": [
            "Not applicable"
           ]
          },
          {
           "axis": {
            "matches": true
           },
           "label": "volatility",
           "values": [
            "Not applicable"
           ]
          },
          {
           "axis": {
            "matches": true
           },
           "label": "mouthfeel",
           "values": [
            "Not applicable"
           ]
          },
          {
           "axis": {
            "matches": true
           },
           "label": "texture",
           "values": [
            "Fine powder"
           ]
          }
         ],
         "hovertemplate": "IngredientName=Ferric Ferrocyanide<br>%{xaxis.title.text}=%{x}<br>%{yaxis.title.text}=%{y}<extra></extra>",
         "legendgroup": "Ferric Ferrocyanide",
         "marker": {
          "color": "#FF6692",
          "symbol": "circle"
         },
         "name": "Ferric Ferrocyanide",
         "showlegend": true,
         "type": "splom"
        },
        {
         "dimensions": [
          {
           "axis": {
            "matches": true
           },
           "label": "flavour_release",
           "values": [
            "Not applicable",
            "Not applicable"
           ]
          },
          {
           "axis": {
            "matches": true
           },
           "label": "volatility",
           "values": [
            "Low",
            "Low"
           ]
          },
          {
           "axis": {
            "matches": true
           },
           "label": "mouthfeel",
           "values": [
            "Not applicable",
            "Not applicable"
           ]
          },
          {
           "axis": {
            "matches": true
           },
           "label": "texture",
           "values": [
            "Powder",
            "Powder"
           ]
          }
         ],
         "hovertemplate": "IngredientName=Carmine<br>%{xaxis.title.text}=%{x}<br>%{yaxis.title.text}=%{y}<extra></extra>",
         "legendgroup": "Carmine",
         "marker": {
          "color": "#B6E880",
          "symbol": "circle"
         },
         "name": "Carmine",
         "showlegend": true,
         "type": "splom"
        },
        {
         "dimensions": [
          {
           "axis": {
            "matches": true
           },
           "label": "flavour_release",
           "values": [
            "Immediate upon consumption",
            "Immediate upon consumption"
           ]
          },
          {
           "axis": {
            "matches": true
           },
           "label": "volatility",
           "values": [
            "Low",
            "Low"
           ]
          },
          {
           "axis": {
            "matches": true
           },
           "label": "mouthfeel",
           "values": [
            "Smooth",
            "Smooth"
           ]
          },
          {
           "axis": {
            "matches": true
           },
           "label": "texture",
           "values": [
            "Liquid",
            "Liquid"
           ]
          }
         ],
         "hovertemplate": "IngredientName=Reconstituted Apple Juice<br>%{xaxis.title.text}=%{x}<br>%{yaxis.title.text}=%{y}<extra></extra>",
         "legendgroup": "Reconstituted Apple Juice",
         "marker": {
          "color": "#FF97FF",
          "symbol": "circle"
         },
         "name": "Reconstituted Apple Juice",
         "showlegend": true,
         "type": "splom"
        },
        {
         "dimensions": [
          {
           "axis": {
            "matches": true
           },
           "label": "flavour_release",
           "values": [
            "Immediate upon dissolution"
           ]
          },
          {
           "axis": {
            "matches": true
           },
           "label": "volatility",
           "values": [
            "Stable under normal conditions"
           ]
          },
          {
           "axis": {
            "matches": true
           },
           "label": "mouthfeel",
           "values": [
            "N/A"
           ]
          },
          {
           "axis": {
            "matches": true
           },
           "label": "texture",
           "values": [
            "Powder form is crystalline"
           ]
          }
         ],
         "hovertemplate": "IngredientName=Vitamin C<br>%{xaxis.title.text}=%{x}<br>%{yaxis.title.text}=%{y}<extra></extra>",
         "legendgroup": "Vitamin C",
         "marker": {
          "color": "#FECB52",
          "symbol": "circle"
         },
         "name": "Vitamin C",
         "showlegend": true,
         "type": "splom"
        },
        {
         "dimensions": [
          {
           "axis": {
            "matches": true
           },
           "label": "flavour_release",
           "values": [
            "Immediate upon consumption."
           ]
          },
          {
           "axis": {
            "matches": true
           },
           "label": "volatility",
           "values": [
            "Aroma compounds are volatile, contributing to the scent."
           ]
          },
          {
           "axis": {
            "matches": true
           },
           "label": "mouthfeel",
           "values": [
            "Juicy and refreshing."
           ]
          },
          {
           "axis": {
            "matches": true
           },
           "label": "texture",
           "values": [
            "Smooth liquid."
           ]
          }
         ],
         "hovertemplate": "IngredientName=Reconstituted Mango Juice<br>%{xaxis.title.text}=%{x}<br>%{yaxis.title.text}=%{y}<extra></extra>",
         "legendgroup": "Reconstituted Mango Juice",
         "marker": {
          "color": "#636efa",
          "symbol": "circle"
         },
         "name": "Reconstituted Mango Juice",
         "showlegend": true,
         "type": "splom"
        },
        {
         "dimensions": [
          {
           "axis": {
            "matches": true
           },
           "label": "flavour_release",
           "values": [
            ""
           ]
          },
          {
           "axis": {
            "matches": true
           },
           "label": "volatility",
           "values": [
            ""
           ]
          },
          {
           "axis": {
            "matches": true
           },
           "label": "mouthfeel",
           "values": [
            "Smooth, slightly viscous."
           ]
          },
          {
           "axis": {
            "matches": true
           },
           "label": "texture",
           "values": [
            "Liquid, similar to freshly squeezed orange juice."
           ]
          }
         ],
         "hovertemplate": "IngredientName=Reconstituted Fruit Juice Orange<br>%{xaxis.title.text}=%{x}<br>%{yaxis.title.text}=%{y}<extra></extra>",
         "legendgroup": "Reconstituted Fruit Juice Orange",
         "marker": {
          "color": "#EF553B",
          "symbol": "circle"
         },
         "name": "Reconstituted Fruit Juice Orange",
         "showlegend": true,
         "type": "splom"
        },
        {
         "dimensions": [
          {
           "axis": {
            "matches": true
           },
           "label": "flavour_release",
           "values": [
            "Immediate"
           ]
          },
          {
           "axis": {
            "matches": true
           },
           "label": "volatility",
           "values": [
            "Low"
           ]
          },
          {
           "axis": {
            "matches": true
           },
           "label": "mouthfeel",
           "values": [
            "Juicy"
           ]
          },
          {
           "axis": {
            "matches": true
           },
           "label": "texture",
           "values": [
            "Liquid"
           ]
          }
         ],
         "hovertemplate": "IngredientName=Reconstituted Fruit Juice Pineapple<br>%{xaxis.title.text}=%{x}<br>%{yaxis.title.text}=%{y}<extra></extra>",
         "legendgroup": "Reconstituted Fruit Juice Pineapple",
         "marker": {
          "color": "#00cc96",
          "symbol": "circle"
         },
         "name": "Reconstituted Fruit Juice Pineapple",
         "showlegend": true,
         "type": "splom"
        },
        {
         "dimensions": [
          {
           "axis": {
            "matches": true
           },
           "label": "flavour_release",
           "values": [
            "Immediate upon consumption."
           ]
          },
          {
           "axis": {
            "matches": true
           },
           "label": "volatility",
           "values": [
            "Highly aromatic."
           ]
          },
          {
           "axis": {
            "matches": true
           },
           "label": "mouthfeel",
           "values": [
            "Smooth, slightly viscous."
           ]
          },
          {
           "axis": {
            "matches": true
           },
           "label": "texture",
           "values": [
            "Liquid, similar to fresh juice."
           ]
          }
         ],
         "hovertemplate": "IngredientName=Reconstituted Fruit Juice Passionfruit<br>%{xaxis.title.text}=%{x}<br>%{yaxis.title.text}=%{y}<extra></extra>",
         "legendgroup": "Reconstituted Fruit Juice Passionfruit",
         "marker": {
          "color": "#ab63fa",
          "symbol": "circle"
         },
         "name": "Reconstituted Fruit Juice Passionfruit",
         "showlegend": true,
         "type": "splom"
        },
        {
         "dimensions": [
          {
           "axis": {
            "matches": true
           },
           "label": "flavour_release",
           "values": [
            "Not applicable"
           ]
          },
          {
           "axis": {
            "matches": true
           },
           "label": "volatility",
           "values": [
            "Low"
           ]
          },
          {
           "axis": {
            "matches": true
           },
           "label": "mouthfeel",
           "values": [
            "Smooth"
           ]
          },
          {
           "axis": {
            "matches": true
           },
           "label": "texture",
           "values": [
            "Varies with concentration; from liquid to gel"
           ]
          }
         ],
         "hovertemplate": "IngredientName=Carboxymethyl Cellulose<br>%{xaxis.title.text}=%{x}<br>%{yaxis.title.text}=%{y}<extra></extra>",
         "legendgroup": "Carboxymethyl Cellulose",
         "marker": {
          "color": "#FFA15A",
          "symbol": "circle"
         },
         "name": "Carboxymethyl Cellulose",
         "showlegend": true,
         "type": "splom"
        },
        {
         "dimensions": [
          {
           "axis": {
            "matches": true
           },
           "label": "flavour_release",
           "values": [
            "Immediate upon consumption"
           ]
          },
          {
           "axis": {
            "matches": true
           },
           "label": "volatility",
           "values": [
            "Low"
           ]
          },
          {
           "axis": {
            "matches": true
           },
           "label": "mouthfeel",
           "values": [
            "Smooth"
           ]
          },
          {
           "axis": {
            "matches": true
           },
           "label": "texture",
           "values": [
            "Liquid"
           ]
          }
         ],
         "hovertemplate": "IngredientName=Reconstituted Fruit Juice Blackcurrant<br>%{xaxis.title.text}=%{x}<br>%{yaxis.title.text}=%{y}<extra></extra>",
         "legendgroup": "Reconstituted Fruit Juice Blackcurrant",
         "marker": {
          "color": "#19d3f3",
          "symbol": "circle"
         },
         "name": "Reconstituted Fruit Juice Blackcurrant",
         "showlegend": true,
         "type": "splom"
        },
        {
         "dimensions": [
          {
           "axis": {
            "matches": true
           },
           "label": "flavour_release",
           "values": [
            "Not applicable"
           ]
          },
          {
           "axis": {
            "matches": true
           },
           "label": "volatility",
           "values": [
            "Low"
           ]
          },
          {
           "axis": {
            "matches": true
           },
           "label": "mouthfeel",
           "values": [
            "Neutral"
           ]
          },
          {
           "axis": {
            "matches": true
           },
           "label": "texture",
           "values": [
            "Does not significantly alter texture"
           ]
          }
         ],
         "hovertemplate": "IngredientName=Anthocyanins<br>%{xaxis.title.text}=%{x}<br>%{yaxis.title.text}=%{y}<extra></extra>",
         "legendgroup": "Anthocyanins",
         "marker": {
          "color": "#FF6692",
          "symbol": "circle"
         },
         "name": "Anthocyanins",
         "showlegend": true,
         "type": "splom"
        },
        {
         "dimensions": [
          {
           "axis": {
            "matches": true
           },
           "label": "flavour_release",
           "values": [
            "Immediate upon consumption"
           ]
          },
          {
           "axis": {
            "matches": true
           },
           "label": "volatility",
           "values": [
            "Low"
           ]
          },
          {
           "axis": {
            "matches": true
           },
           "label": "mouthfeel",
           "values": [
            "Smooth, slightly viscous"
           ]
          },
          {
           "axis": {
            "matches": true
           },
           "label": "texture",
           "values": [
            "Liquid, similar to water"
           ]
          }
         ],
         "hovertemplate": "IngredientName=Reconstituted Fruit Juice Grape<br>%{xaxis.title.text}=%{x}<br>%{yaxis.title.text}=%{y}<extra></extra>",
         "legendgroup": "Reconstituted Fruit Juice Grape",
         "marker": {
          "color": "#B6E880",
          "symbol": "circle"
         },
         "name": "Reconstituted Fruit Juice Grape",
         "showlegend": true,
         "type": "splom"
        },
        {
         "dimensions": [
          {
           "axis": {
            "matches": true
           },
           "label": "flavour_release",
           "values": [
            "Immediate upon consumption"
           ]
          },
          {
           "axis": {
            "matches": true
           },
           "label": "volatility",
           "values": [
            "Low"
           ]
          },
          {
           "axis": {
            "matches": true
           },
           "label": "mouthfeel",
           "values": [
            "Smooth"
           ]
          },
          {
           "axis": {
            "matches": true
           },
           "label": "texture",
           "values": [
            "Liquid"
           ]
          }
         ],
         "hovertemplate": "IngredientName=Reconstituted Fruit Juice Apricot<br>%{xaxis.title.text}=%{x}<br>%{yaxis.title.text}=%{y}<extra></extra>",
         "legendgroup": "Reconstituted Fruit Juice Apricot",
         "marker": {
          "color": "#FF97FF",
          "symbol": "circle"
         },
         "name": "Reconstituted Fruit Juice Apricot",
         "showlegend": true,
         "type": "splom"
        },
        {
         "dimensions": [
          {
           "axis": {
            "matches": true
           },
           "label": "flavour_release",
           "values": [
            "Immediate upon consumption"
           ]
          },
          {
           "axis": {
            "matches": true
           },
           "label": "volatility",
           "values": [
            "Low"
           ]
          },
          {
           "axis": {
            "matches": true
           },
           "label": "mouthfeel",
           "values": [
            "Juicy and refreshing"
           ]
          },
          {
           "axis": {
            "matches": true
           },
           "label": "texture",
           "values": [
            "Smooth, liquid consistency"
           ]
          }
         ],
         "hovertemplate": "IngredientName=Reconstituted Fruit Juice Peach<br>%{xaxis.title.text}=%{x}<br>%{yaxis.title.text}=%{y}<extra></extra>",
         "legendgroup": "Reconstituted Fruit Juice Peach",
         "marker": {
          "color": "#FECB52",
          "symbol": "circle"
         },
         "name": "Reconstituted Fruit Juice Peach",
         "showlegend": true,
         "type": "splom"
        },
        {
         "dimensions": [
          {
           "axis": {
            "matches": true
           },
           "label": "flavour_release",
           "values": [
            "Immediate upon consumption"
           ]
          },
          {
           "axis": {
            "matches": true
           },
           "label": "volatility",
           "values": [
            "Low"
           ]
          },
          {
           "axis": {
            "matches": true
           },
           "label": "mouthfeel",
           "values": [
            "Smooth"
           ]
          },
          {
           "axis": {
            "matches": true
           },
           "label": "texture",
           "values": [
            "Liquid"
           ]
          }
         ],
         "hovertemplate": "IngredientName=Reconstituted Fruit Juice Pear<br>%{xaxis.title.text}=%{x}<br>%{yaxis.title.text}=%{y}<extra></extra>",
         "legendgroup": "Reconstituted Fruit Juice Pear",
         "marker": {
          "color": "#636efa",
          "symbol": "circle"
         },
         "name": "Reconstituted Fruit Juice Pear",
         "showlegend": true,
         "type": "splom"
        },
        {
         "dimensions": [
          {
           "axis": {
            "matches": true
           },
           "label": "flavour_release",
           "values": [
            "Immediate upon consumption."
           ]
          },
          {
           "axis": {
            "matches": true
           },
           "label": "volatility",
           "values": [
            "Highly volatile, especially the aroma compounds."
           ]
          },
          {
           "axis": {
            "matches": true
           },
           "label": "mouthfeel",
           "values": [
            "Aqueous, with some astringency due to acidity."
           ]
          },
          {
           "axis": {
            "matches": true
           },
           "label": "texture",
           "values": [
            "Liquid, similar to water."
           ]
          }
         ],
         "hovertemplate": "IngredientName=Reconstituted Lemon Juice<br>%{xaxis.title.text}=%{x}<br>%{yaxis.title.text}=%{y}<extra></extra>",
         "legendgroup": "Reconstituted Lemon Juice",
         "marker": {
          "color": "#EF553B",
          "symbol": "circle"
         },
         "name": "Reconstituted Lemon Juice",
         "showlegend": true,
         "type": "splom"
        },
        {
         "dimensions": [
          {
           "axis": {
            "matches": true
           },
           "label": "flavour_release",
           "values": [
            "Immediate upon consumption."
           ]
          },
          {
           "axis": {
            "matches": true
           },
           "label": "volatility",
           "values": [
            "Low"
           ]
          },
          {
           "axis": {
            "matches": true
           },
           "label": "mouthfeel",
           "values": [
            "Rich, velvety."
           ]
          },
          {
           "axis": {
            "matches": true
           },
           "label": "texture",
           "values": [
            "Smooth, thick."
           ]
          }
         ],
         "hovertemplate": "IngredientName=Guava Puree<br>%{xaxis.title.text}=%{x}<br>%{yaxis.title.text}=%{y}<extra></extra>",
         "legendgroup": "Guava Puree",
         "marker": {
          "color": "#00cc96",
          "symbol": "circle"
         },
         "name": "Guava Puree",
         "showlegend": true,
         "type": "splom"
        },
        {
         "dimensions": [
          {
           "axis": {
            "matches": true
           },
           "label": "flavour_release",
           "values": [
            "Not applicable"
           ]
          },
          {
           "axis": {
            "matches": true
           },
           "label": "volatility",
           "values": [
            "Not applicable"
           ]
          },
          {
           "axis": {
            "matches": true
           },
           "label": "mouthfeel",
           "values": [
            "Not applicable"
           ]
          },
          {
           "axis": {
            "matches": true
           },
           "label": "texture",
           "values": [
            "Oil-soluble"
           ]
          }
         ],
         "hovertemplate": "IngredientName=Vitamin A<br>%{xaxis.title.text}=%{x}<br>%{yaxis.title.text}=%{y}<extra></extra>",
         "legendgroup": "Vitamin A",
         "marker": {
          "color": "#ab63fa",
          "symbol": "circle"
         },
         "name": "Vitamin A",
         "showlegend": true,
         "type": "splom"
        },
        {
         "dimensions": [
          {
           "axis": {
            "matches": true
           },
           "label": "flavour_release",
           "values": [
            "Immediate upon dissolution"
           ]
          },
          {
           "axis": {
            "matches": true
           },
           "label": "volatility",
           "values": [
            "Not volatile"
           ]
          },
          {
           "axis": {
            "matches": true
           },
           "label": "mouthfeel",
           "values": [
            "Not applicable"
           ]
          },
          {
           "axis": {
            "matches": true
           },
           "label": "texture",
           "values": [
            "Crystalline powder"
           ]
          }
         ],
         "hovertemplate": "IngredientName=Potassium Citrate<br>%{xaxis.title.text}=%{x}<br>%{yaxis.title.text}=%{y}<extra></extra>",
         "legendgroup": "Potassium Citrate",
         "marker": {
          "color": "#FFA15A",
          "symbol": "circle"
         },
         "name": "Potassium Citrate",
         "showlegend": true,
         "type": "splom"
        },
        {
         "dimensions": [
          {
           "axis": {
            "matches": true
           },
           "label": "flavour_release",
           "values": [
            "Does not affect flavor release",
            "Does not apply"
           ]
          },
          {
           "axis": {
            "matches": true
           },
           "label": "volatility",
           "values": [
            "Stable",
            "Stable under typical food processing conditions"
           ]
          },
          {
           "axis": {
            "matches": true
           },
           "label": "mouthfeel",
           "values": [
            "Smooth",
            "Smooth when properly dissolved"
           ]
          },
          {
           "axis": {
            "matches": true
           },
           "label": "texture",
           "values": [
            "Varies with application, from gel to viscous liquid",
            "Varies with application; can be gel-like in jams"
           ]
          }
         ],
         "hovertemplate": "IngredientName=Pectin<br>%{xaxis.title.text}=%{x}<br>%{yaxis.title.text}=%{y}<extra></extra>",
         "legendgroup": "Pectin",
         "marker": {
          "color": "#19d3f3",
          "symbol": "circle"
         },
         "name": "Pectin",
         "showlegend": true,
         "type": "splom"
        },
        {
         "dimensions": [
          {
           "axis": {
            "matches": true
           },
           "label": "flavour_release",
           "values": [
            "Immediate upon consumption."
           ]
          },
          {
           "axis": {
            "matches": true
           },
           "label": "volatility",
           "values": [
            "Aroma components are volatile and sensitive to heat."
           ]
          },
          {
           "axis": {
            "matches": true
           },
           "label": "mouthfeel",
           "values": [
            "Smooth, slightly viscous."
           ]
          },
          {
           "axis": {
            "matches": true
           },
           "label": "texture",
           "values": [
            "Liquid, similar to freshly squeezed orange juice."
           ]
          }
         ],
         "hovertemplate": "IngredientName=Reconstituted Fruit Juice Water Extracted Orange<br>%{xaxis.title.text}=%{x}<br>%{yaxis.title.text}=%{y}<extra></extra>",
         "legendgroup": "Reconstituted Fruit Juice Water Extracted Orange",
         "marker": {
          "color": "#FF6692",
          "symbol": "circle"
         },
         "name": "Reconstituted Fruit Juice Water Extracted Orange",
         "showlegend": true,
         "type": "splom"
        },
        {
         "dimensions": [
          {
           "axis": {
            "matches": true
           },
           "label": "flavour_release",
           "values": [
            "Immediate upon consumption"
           ]
          },
          {
           "axis": {
            "matches": true
           },
           "label": "volatility",
           "values": [
            "Low"
           ]
          },
          {
           "axis": {
            "matches": true
           },
           "label": "mouthfeel",
           "values": [
            "Rich and velvety"
           ]
          },
          {
           "axis": {
            "matches": true
           },
           "label": "texture",
           "values": [
            "Smooth, with a slight viscosity"
           ]
          }
         ],
         "hovertemplate": "IngredientName=Reconstituted Fruit Juice Peach Purée<br>%{xaxis.title.text}=%{x}<br>%{yaxis.title.text}=%{y}<extra></extra>",
         "legendgroup": "Reconstituted Fruit Juice Peach Purée",
         "marker": {
          "color": "#B6E880",
          "symbol": "circle"
         },
         "name": "Reconstituted Fruit Juice Peach Purée",
         "showlegend": true,
         "type": "splom"
        },
        {
         "dimensions": [
          {
           "axis": {
            "matches": true
           },
           "label": "flavour_release",
           "values": [
            "Immediate upon consumption"
           ]
          },
          {
           "axis": {
            "matches": true
           },
           "label": "volatility",
           "values": [
            "Low"
           ]
          },
          {
           "axis": {
            "matches": true
           },
           "label": "mouthfeel",
           "values": [
            "Smooth, velvety"
           ]
          },
          {
           "axis": {
            "matches": true
           },
           "label": "texture",
           "values": [
            "Liquid, creamy"
           ]
          }
         ],
         "hovertemplate": "IngredientName=Pasteurised Homogenised Milk<br>%{xaxis.title.text}=%{x}<br>%{yaxis.title.text}=%{y}<extra></extra>",
         "legendgroup": "Pasteurised Homogenised Milk",
         "marker": {
          "color": "#FF97FF",
          "symbol": "circle"
         },
         "name": "Pasteurised Homogenised Milk",
         "showlegend": true,
         "type": "splom"
        },
        {
         "dimensions": [
          {
           "axis": {
            "matches": true
           },
           "label": "flavour_release",
           "values": [
            "Immediate"
           ]
          },
          {
           "axis": {
            "matches": true
           },
           "label": "volatility",
           "values": [
            "Low"
           ]
          },
          {
           "axis": {
            "matches": true
           },
           "label": "mouthfeel",
           "values": [
            "Rich, creamy"
           ]
          },
          {
           "axis": {
            "matches": true
           },
           "label": "texture",
           "values": [
            "Thick, viscous"
           ]
          }
         ],
         "hovertemplate": "IngredientName=Cream<br>%{xaxis.title.text}=%{x}<br>%{yaxis.title.text}=%{y}<extra></extra>",
         "legendgroup": "Cream",
         "marker": {
          "color": "#FECB52",
          "symbol": "circle"
         },
         "name": "Cream",
         "showlegend": true,
         "type": "splom"
        },
        {
         "dimensions": [
          {
           "axis": {
            "matches": true
           },
           "label": "flavour_release",
           "values": [
            "Immediate upon consumption"
           ]
          },
          {
           "axis": {
            "matches": true
           },
           "label": "volatility",
           "values": [
            "Low"
           ]
          },
          {
           "axis": {
            "matches": true
           },
           "label": "mouthfeel",
           "values": [
            "Smooth"
           ]
          },
          {
           "axis": {
            "matches": true
           },
           "label": "texture",
           "values": [
            "Crystalline or syrupy depending on form"
           ]
          }
         ],
         "hovertemplate": "IngredientName=Fructose<br>%{xaxis.title.text}=%{x}<br>%{yaxis.title.text}=%{y}<extra></extra>",
         "legendgroup": "Fructose",
         "marker": {
          "color": "#636efa",
          "symbol": "circle"
         },
         "name": "Fructose",
         "showlegend": true,
         "type": "splom"
        },
        {
         "dimensions": [
          {
           "axis": {
            "matches": true
           },
           "label": "flavour_release",
           "values": [
            "Immediate"
           ]
          },
          {
           "axis": {
            "matches": true
           },
           "label": "volatility",
           "values": [
            "Low"
           ]
          },
          {
           "axis": {
            "matches": true
           },
           "label": "mouthfeel",
           "values": [
            "Smooth"
           ]
          },
          {
           "axis": {
            "matches": true
           },
           "label": "texture",
           "values": [
            "Thick, viscous"
           ]
          }
         ],
         "hovertemplate": "IngredientName=Syrup<br>%{xaxis.title.text}=%{x}<br>%{yaxis.title.text}=%{y}<extra></extra>",
         "legendgroup": "Syrup",
         "marker": {
          "color": "#EF553B",
          "symbol": "circle"
         },
         "name": "Syrup",
         "showlegend": true,
         "type": "splom"
        },
        {
         "dimensions": [
          {
           "axis": {
            "matches": true
           },
           "label": "flavour_release",
           "values": [
            "Immediate upon consumption, with a gradual release of flavor over time"
           ]
          },
          {
           "axis": {
            "matches": true
           },
           "label": "volatility",
           "values": [
            "Low, with a stable flavor profile"
           ]
          },
          {
           "axis": {
            "matches": true
           },
           "label": "mouthfeel",
           "values": [
            "Watery, refreshing"
           ]
          },
          {
           "axis": {
            "matches": true
           },
           "label": "texture",
           "values": [
            "Liquid, smooth with a slightly viscous consistency"
           ]
          }
         ],
         "hovertemplate": "IngredientName=Tomato Juice<br>%{xaxis.title.text}=%{x}<br>%{yaxis.title.text}=%{y}<extra></extra>",
         "legendgroup": "Tomato Juice",
         "marker": {
          "color": "#00cc96",
          "symbol": "circle"
         },
         "name": "Tomato Juice",
         "showlegend": true,
         "type": "splom"
        },
        {
         "dimensions": [
          {
           "axis": {
            "matches": true
           },
           "label": "flavour_release",
           "values": [
            "Upon cooking"
           ]
          },
          {
           "axis": {
            "matches": true
           },
           "label": "volatility",
           "values": [
            "Low"
           ]
          },
          {
           "axis": {
            "matches": true
           },
           "label": "mouthfeel",
           "values": [
            "Varies with preparation"
           ]
          },
          {
           "axis": {
            "matches": true
           },
           "label": "texture",
           "values": [
            "Coarse, granular"
           ]
          }
         ],
         "hovertemplate": "IngredientName=Durum Wheat Semolina<br>%{xaxis.title.text}=%{x}<br>%{yaxis.title.text}=%{y}<extra></extra>",
         "legendgroup": "Durum Wheat Semolina",
         "marker": {
          "color": "#ab63fa",
          "symbol": "circle"
         },
         "name": "Durum Wheat Semolina",
         "showlegend": true,
         "type": "splom"
        },
        {
         "dimensions": [
          {
           "axis": {
            "matches": true
           },
           "label": "flavour_release",
           "values": [
            "Immediate upon consumption."
           ]
          },
          {
           "axis": {
            "matches": true
           },
           "label": "volatility",
           "values": [
            "Low"
           ]
          },
          {
           "axis": {
            "matches": true
           },
           "label": "mouthfeel",
           "values": [
            "N/A"
           ]
          },
          {
           "axis": {
            "matches": true
           },
           "label": "texture",
           "values": [
            "Liquid"
           ]
          }
         ],
         "hovertemplate": "IngredientName=Coconut Extract<br>%{xaxis.title.text}=%{x}<br>%{yaxis.title.text}=%{y}<extra></extra>",
         "legendgroup": "Coconut Extract",
         "marker": {
          "color": "#FFA15A",
          "symbol": "circle"
         },
         "name": "Coconut Extract",
         "showlegend": true,
         "type": "splom"
        },
        {
         "dimensions": [
          {
           "axis": {
            "matches": true
           },
           "label": "flavour_release",
           "values": [
            "Immediate upon consumption"
           ]
          },
          {
           "axis": {
            "matches": true
           },
           "label": "volatility",
           "values": [
            "Low"
           ]
          },
          {
           "axis": {
            "matches": true
           },
           "label": "mouthfeel",
           "values": [
            "Creamy, rich"
           ]
          },
          {
           "axis": {
            "matches": true
           },
           "label": "texture",
           "values": [
            "Liquid, smooth"
           ]
          }
         ],
         "hovertemplate": "IngredientName=Homogenised Full Cream Milk<br>%{xaxis.title.text}=%{x}<br>%{yaxis.title.text}=%{y}<extra></extra>",
         "legendgroup": "Homogenised Full Cream Milk",
         "marker": {
          "color": "#19d3f3",
          "symbol": "circle"
         },
         "name": "Homogenised Full Cream Milk",
         "showlegend": true,
         "type": "splom"
        },
        {
         "dimensions": [
          {
           "axis": {
            "matches": true
           },
           "label": "flavour_release",
           "values": [
            "Immediate upon consumption"
           ]
          },
          {
           "axis": {
            "matches": true
           },
           "label": "volatility",
           "values": [
            "Low"
           ]
          },
          {
           "axis": {
            "matches": true
           },
           "label": "mouthfeel",
           "values": [
            "Moist, tender"
           ]
          },
          {
           "axis": {
            "matches": true
           },
           "label": "texture",
           "values": [
            "Soft, oily"
           ]
          }
         ],
         "hovertemplate": "IngredientName=Sardines<br>%{xaxis.title.text}=%{x}<br>%{yaxis.title.text}=%{y}<extra></extra>",
         "legendgroup": "Sardines",
         "marker": {
          "color": "#FF6692",
          "symbol": "circle"
         },
         "name": "Sardines",
         "showlegend": true,
         "type": "splom"
        },
        {
         "dimensions": [
          {
           "axis": {
            "matches": true
           },
           "label": "flavour_release",
           "values": [
            "Subtle, enhanced by cooking method."
           ]
          },
          {
           "axis": {
            "matches": true
           },
           "label": "volatility",
           "values": [
            "Low."
           ]
          },
          {
           "axis": {
            "matches": true
           },
           "label": "mouthfeel",
           "values": [
            "Varies from sticky to fluffy."
           ]
          },
          {
           "axis": {
            "matches": true
           },
           "label": "texture",
           "values": [
            "Brown Rice: Firm, chewy, White Rice: Soft, fluffy"
           ]
          }
         ],
         "hovertemplate": "IngredientName=Rice<br>%{xaxis.title.text}=%{x}<br>%{yaxis.title.text}=%{y}<extra></extra>",
         "legendgroup": "Rice",
         "marker": {
          "color": "#B6E880",
          "symbol": "circle"
         },
         "name": "Rice",
         "showlegend": true,
         "type": "splom"
        },
        {
         "dimensions": [
          {
           "axis": {
            "matches": true
           },
           "label": "flavour_release",
           "values": [
            "Immediate"
           ]
          },
          {
           "axis": {
            "matches": true
           },
           "label": "volatility",
           "values": [
            "Low"
           ]
          },
          {
           "axis": {
            "matches": true
           },
           "label": "mouthfeel",
           "values": [
            "Smooth"
           ]
          },
          {
           "axis": {
            "matches": true
           },
           "label": "texture",
           "values": [
            "Thin and watery"
           ]
          }
         ],
         "hovertemplate": "IngredientName=Skim Milk<br>%{xaxis.title.text}=%{x}<br>%{yaxis.title.text}=%{y}<extra></extra>",
         "legendgroup": "Skim Milk",
         "marker": {
          "color": "#FF97FF",
          "symbol": "circle"
         },
         "name": "Skim Milk",
         "showlegend": true,
         "type": "splom"
        },
        {
         "dimensions": [
          {
           "axis": {
            "matches": true
           },
           "label": "flavour_release",
           "values": [
            "Not applicable"
           ]
          },
          {
           "axis": {
            "matches": true
           },
           "label": "volatility",
           "values": [
            "Not applicable"
           ]
          },
          {
           "axis": {
            "matches": true
           },
           "label": "mouthfeel",
           "values": [
            "Not applicable"
           ]
          },
          {
           "axis": {
            "matches": true
           },
           "label": "texture",
           "values": [
            "Powder or granular form"
           ]
          }
         ],
         "hovertemplate": "IngredientName=Acidity Regulator 339<br>%{xaxis.title.text}=%{x}<br>%{yaxis.title.text}=%{y}<extra></extra>",
         "legendgroup": "Acidity Regulator 339",
         "marker": {
          "color": "#FECB52",
          "symbol": "circle"
         },
         "name": "Acidity Regulator 339",
         "showlegend": true,
         "type": "splom"
        },
        {
         "dimensions": [
          {
           "axis": {
            "matches": true
           },
           "label": "flavour_release",
           "values": [
            "Immediate upon heating"
           ]
          },
          {
           "axis": {
            "matches": true
           },
           "label": "volatility",
           "values": [
            "Low"
           ]
          },
          {
           "axis": {
            "matches": true
           },
           "label": "mouthfeel",
           "values": [
            "Velvety"
           ]
          },
          {
           "axis": {
            "matches": true
           },
           "label": "texture",
           "values": [
            "Smooth and thick"
           ]
          }
         ],
         "hovertemplate": "IngredientName=Reconstituted Tomato Puree<br>%{xaxis.title.text}=%{x}<br>%{yaxis.title.text}=%{y}<extra></extra>",
         "legendgroup": "Reconstituted Tomato Puree",
         "marker": {
          "color": "#636efa",
          "symbol": "circle"
         },
         "name": "Reconstituted Tomato Puree",
         "showlegend": true,
         "type": "splom"
        },
        {
         "dimensions": [
          {
           "axis": {
            "matches": true
           },
           "label": "flavour_release",
           "values": [
            "Does not affect flavor release"
           ]
          },
          {
           "axis": {
            "matches": true
           },
           "label": "volatility",
           "values": [
            "Stable"
           ]
          },
          {
           "axis": {
            "matches": true
           },
           "label": "mouthfeel",
           "values": [
            "Smooth"
           ]
          },
          {
           "axis": {
            "matches": true
           },
           "label": "texture",
           "values": [
            "Depends on application; can range from creamy to thick"
           ]
          }
         ],
         "hovertemplate": "IngredientName=Thickener Modified Corn Starch<br>%{xaxis.title.text}=%{x}<br>%{yaxis.title.text}=%{y}<extra></extra>",
         "legendgroup": "Thickener Modified Corn Starch",
         "marker": {
          "color": "#EF553B",
          "symbol": "circle"
         },
         "name": "Thickener Modified Corn Starch",
         "showlegend": true,
         "type": "splom"
        },
        {
         "dimensions": [
          {
           "axis": {
            "matches": true
           },
           "label": "flavour_release",
           "values": [
            "Rapid upon consumption"
           ]
          },
          {
           "axis": {
            "matches": true
           },
           "label": "volatility",
           "values": [
            "High for volatile compounds"
           ]
          },
          {
           "axis": {
            "matches": true
           },
           "label": "mouthfeel",
           "values": [
            "Varies"
           ]
          },
          {
           "axis": {
            "matches": true
           },
           "label": "texture",
           "values": [
            "Liquid or semi-solid, depending on the extract"
           ]
          }
         ],
         "hovertemplate": "IngredientName=Spice Extract<br>%{xaxis.title.text}=%{x}<br>%{yaxis.title.text}=%{y}<extra></extra>",
         "legendgroup": "Spice Extract",
         "marker": {
          "color": "#00cc96",
          "symbol": "circle"
         },
         "name": "Spice Extract",
         "showlegend": true,
         "type": "splom"
        },
        {
         "dimensions": [
          {
           "axis": {
            "matches": true
           },
           "label": "flavour_release",
           "values": [
            "Immediate upon consumption"
           ]
          },
          {
           "axis": {
            "matches": true
           },
           "label": "volatility",
           "values": [
            "Low"
           ]
          },
          {
           "axis": {
            "matches": true
           },
           "label": "mouthfeel",
           "values": [
            "Varies with fruit type; generally smooth"
           ]
          },
          {
           "axis": {
            "matches": true
           },
           "label": "texture",
           "values": [
            "Smooth, consistent"
           ]
          }
         ],
         "hovertemplate": "IngredientName=Reconstituted Fruit Puree<br>%{xaxis.title.text}=%{x}<br>%{yaxis.title.text}=%{y}<extra></extra>",
         "legendgroup": "Reconstituted Fruit Puree",
         "marker": {
          "color": "#ab63fa",
          "symbol": "circle"
         },
         "name": "Reconstituted Fruit Puree",
         "showlegend": true,
         "type": "splom"
        },
        {
         "dimensions": [
          {
           "axis": {
            "matches": true
           },
           "label": "flavour_release",
           "values": [
            "Immediate upon consumption"
           ]
          },
          {
           "axis": {
            "matches": true
           },
           "label": "volatility",
           "values": [
            "Low"
           ]
          },
          {
           "axis": {
            "matches": true
           },
           "label": "mouthfeel",
           "values": [
            "Creamy"
           ]
          },
          {
           "axis": {
            "matches": true
           },
           "label": "texture",
           "values": [
            "Smooth and thick"
           ]
          }
         ],
         "hovertemplate": "IngredientName=Apple Pulp<br>%{xaxis.title.text}=%{x}<br>%{yaxis.title.text}=%{y}<extra></extra>",
         "legendgroup": "Apple Pulp",
         "marker": {
          "color": "#FFA15A",
          "symbol": "circle"
         },
         "name": "Apple Pulp",
         "showlegend": true,
         "type": "splom"
        },
        {
         "dimensions": [
          {
           "axis": {
            "matches": true
           },
           "label": "flavour_release",
           "values": [
            "Slow, due to its concentrated form"
           ]
          },
          {
           "axis": {
            "matches": true
           },
           "label": "volatility",
           "values": [
            "Low"
           ]
          },
          {
           "axis": {
            "matches": true
           },
           "label": "mouthfeel",
           "values": [
            "Velvety"
           ]
          },
          {
           "axis": {
            "matches": true
           },
           "label": "texture",
           "values": [
            "Thick and smooth"
           ]
          }
         ],
         "hovertemplate": "IngredientName=Tomato Paste<br>%{xaxis.title.text}=%{x}<br>%{yaxis.title.text}=%{y}<extra></extra>",
         "legendgroup": "Tomato Paste",
         "marker": {
          "color": "#19d3f3",
          "symbol": "circle"
         },
         "name": "Tomato Paste",
         "showlegend": true,
         "type": "splom"
        },
        {
         "dimensions": [
          {
           "axis": {
            "matches": true
           },
           "label": "flavour_release",
           "values": [
            "Slow due to viscosity"
           ]
          },
          {
           "axis": {
            "matches": true
           },
           "label": "volatility",
           "values": [
            "Low"
           ]
          },
          {
           "axis": {
            "matches": true
           },
           "label": "mouthfeel",
           "values": [
            "Sticky"
           ]
          },
          {
           "axis": {
            "matches": true
           },
           "label": "texture",
           "values": [
            "Thick, viscous"
           ]
          }
         ],
         "hovertemplate": "IngredientName=Molasses<br>%{xaxis.title.text}=%{x}<br>%{yaxis.title.text}=%{y}<extra></extra>",
         "legendgroup": "Molasses",
         "marker": {
          "color": "#FF6692",
          "symbol": "circle"
         },
         "name": "Molasses",
         "showlegend": true,
         "type": "splom"
        },
        {
         "dimensions": [
          {
           "axis": {
            "matches": true
           },
           "label": "flavour_release",
           "values": [
            "Depends on product matrix"
           ]
          },
          {
           "axis": {
            "matches": true
           },
           "label": "volatility",
           "values": [
            "Low"
           ]
          },
          {
           "axis": {
            "matches": true
           },
           "label": "mouthfeel",
           "values": [
            "Varies based on product"
           ]
          },
          {
           "axis": {
            "matches": true
           },
           "label": "texture",
           "values": [
            "Liquid or solid form depending on application"
           ]
          }
         ],
         "hovertemplate": "IngredientName=Caramel I<br>%{xaxis.title.text}=%{x}<br>%{yaxis.title.text}=%{y}<extra></extra>",
         "legendgroup": "Caramel I",
         "marker": {
          "color": "#B6E880",
          "symbol": "circle"
         },
         "name": "Caramel I",
         "showlegend": true,
         "type": "splom"
        },
        {
         "dimensions": [
          {
           "axis": {
            "matches": true
           },
           "label": "flavour_release",
           "values": [
            "Immediate upon consumption"
           ]
          },
          {
           "axis": {
            "matches": true
           },
           "label": "volatility",
           "values": [
            "Low"
           ]
          },
          {
           "axis": {
            "matches": true
           },
           "label": "mouthfeel",
           "values": [
            "N/A"
           ]
          },
          {
           "axis": {
            "matches": true
           },
           "label": "texture",
           "values": [
            "Liquid"
           ]
          }
         ],
         "hovertemplate": "IngredientName=Smoke Flavour<br>%{xaxis.title.text}=%{x}<br>%{yaxis.title.text}=%{y}<extra></extra>",
         "legendgroup": "Smoke Flavour",
         "marker": {
          "color": "#FF97FF",
          "symbol": "circle"
         },
         "name": "Smoke Flavour",
         "showlegend": true,
         "type": "splom"
        },
        {
         "dimensions": [
          {
           "axis": {
            "matches": true
           },
           "label": "flavour_release",
           "values": [
            "Does not affect flavor release",
            "Gradual",
            "Does not affect flavor release",
            "Does not affect flavor release"
           ]
          },
          {
           "axis": {
            "matches": true
           },
           "label": "volatility",
           "values": [
            "Stable",
            "Low",
            "Stable",
            "Stable"
           ]
          },
          {
           "axis": {
            "matches": true
           },
           "label": "mouthfeel",
           "values": [
            "Depends on application; can provide a smooth texture in solutions",
            "Viscous when dissolved",
            "Depends on application; can provide a smooth texture in solutions",
            "Depends on the product it is used in; generally provides a smooth texture"
           ]
          },
          {
           "axis": {
            "matches": true
           },
           "label": "texture",
           "values": [
            "Powdery",
            "Powdery",
            "Powdery",
            "Powdery"
           ]
          }
         ],
         "hovertemplate": "IngredientName=Xanthan Gum<br>%{xaxis.title.text}=%{x}<br>%{yaxis.title.text}=%{y}<extra></extra>",
         "legendgroup": "Xanthan Gum",
         "marker": {
          "color": "#FECB52",
          "symbol": "circle"
         },
         "name": "Xanthan Gum",
         "showlegend": true,
         "type": "splom"
        },
        {
         "dimensions": [
          {
           "axis": {
            "matches": true
           },
           "label": "flavour_release",
           "values": [
            "Increases with cooking."
           ]
          },
          {
           "axis": {
            "matches": true
           },
           "label": "volatility",
           "values": [
            "Low."
           ]
          },
          {
           "axis": {
            "matches": true
           },
           "label": "mouthfeel",
           "values": [
            "Smooth when ripe."
           ]
          },
          {
           "axis": {
            "matches": true
           },
           "label": "texture",
           "values": [
            "Juicy and fleshy."
           ]
          }
         ],
         "hovertemplate": "IngredientName=Tomatoes<br>%{xaxis.title.text}=%{x}<br>%{yaxis.title.text}=%{y}<extra></extra>",
         "legendgroup": "Tomatoes",
         "marker": {
          "color": "#636efa",
          "symbol": "circle"
         },
         "name": "Tomatoes",
         "showlegend": true,
         "type": "splom"
        },
        {
         "dimensions": [
          {
           "axis": {
            "matches": true
           },
           "label": "flavour_release",
           "values": [
            "Upon hydration"
           ]
          },
          {
           "axis": {
            "matches": true
           },
           "label": "volatility",
           "values": [
            "Low"
           ]
          },
          {
           "axis": {
            "matches": true
           },
           "label": "mouthfeel",
           "values": [
            "Smooth when cooked"
           ]
          },
          {
           "axis": {
            "matches": true
           },
           "label": "texture",
           "values": [
            "Fine powder"
           ]
          }
         ],
         "hovertemplate": "IngredientName=Wheat Cornflour<br>%{xaxis.title.text}=%{x}<br>%{yaxis.title.text}=%{y}<extra></extra>",
         "legendgroup": "Wheat Cornflour",
         "marker": {
          "color": "#EF553B",
          "symbol": "circle"
         },
         "name": "Wheat Cornflour",
         "showlegend": true,
         "type": "splom"
        },
        {
         "dimensions": [
          {
           "axis": {
            "matches": true
           },
           "label": "flavour_release",
           "values": [
            "Immediate"
           ]
          },
          {
           "axis": {
            "matches": true
           },
           "label": "volatility",
           "values": [
            "Low"
           ]
          },
          {
           "axis": {
            "matches": true
           },
           "label": "mouthfeel",
           "values": [
            "Does not significantly affect mouthfeel"
           ]
          },
          {
           "axis": {
            "matches": true
           },
           "label": "texture",
           "values": [
            "Liquid or powder form"
           ]
          }
         ],
         "hovertemplate": "IngredientName=Caramel Color 150c<br>%{xaxis.title.text}=%{x}<br>%{yaxis.title.text}=%{y}<extra></extra>",
         "legendgroup": "Caramel Color 150c",
         "marker": {
          "color": "#00cc96",
          "symbol": "circle"
         },
         "name": "Caramel Color 150c",
         "showlegend": true,
         "type": "splom"
        },
        {
         "dimensions": [
          {
           "axis": {
            "matches": true
           },
           "label": "flavour_release",
           "values": [
            "Immediate"
           ]
          },
          {
           "axis": {
            "matches": true
           },
           "label": "volatility",
           "values": [
            "Low"
           ]
          },
          {
           "axis": {
            "matches": true
           },
           "label": "mouthfeel",
           "values": [
            "Rich"
           ]
          },
          {
           "axis": {
            "matches": true
           },
           "label": "texture",
           "values": [
            "Thick and smooth"
           ]
          }
         ],
         "hovertemplate": "IngredientName=Tamarind Paste<br>%{xaxis.title.text}=%{x}<br>%{yaxis.title.text}=%{y}<extra></extra>",
         "legendgroup": "Tamarind Paste",
         "marker": {
          "color": "#ab63fa",
          "symbol": "circle"
         },
         "name": "Tamarind Paste",
         "showlegend": true,
         "type": "splom"
        },
        {
         "dimensions": [
          {
           "axis": {
            "matches": true
           },
           "label": "flavour_release",
           "values": [
            "Increases with grinding or when heated."
           ]
          },
          {
           "axis": {
            "matches": true
           },
           "label": "volatility",
           "values": [
            "Highly volatile essential oils."
           ]
          },
          {
           "axis": {
            "matches": true
           },
           "label": "mouthfeel",
           "values": [
            "Slightly astringent."
           ]
          },
          {
           "axis": {
            "matches": true
           },
           "label": "texture",
           "values": [
            "Hard and fibrous when whole."
           ]
          }
         ],
         "hovertemplate": "IngredientName=Clove<br>%{xaxis.title.text}=%{x}<br>%{yaxis.title.text}=%{y}<extra></extra>",
         "legendgroup": "Clove",
         "marker": {
          "color": "#FFA15A",
          "symbol": "circle"
         },
         "name": "Clove",
         "showlegend": true,
         "type": "splom"
        },
        {
         "dimensions": [
          {
           "axis": {
            "matches": true
           },
           "label": "flavour_release",
           "values": [
            "Gradual, intensifies with cooking."
           ]
          },
          {
           "axis": {
            "matches": true
           },
           "label": "volatility",
           "values": [
            "Moderate, loses potency over time."
           ]
          },
          {
           "axis": {
            "matches": true
           },
           "label": "mouthfeel",
           "values": [
            "Smooth when incorporated into dishes."
           ]
          },
          {
           "axis": {
            "matches": true
           },
           "label": "texture",
           "values": [
            "Fine powder."
           ]
          }
         ],
         "hovertemplate": "IngredientName=Nutmeg<br>%{xaxis.title.text}=%{x}<br>%{yaxis.title.text}=%{y}<extra></extra>",
         "legendgroup": "Nutmeg",
         "marker": {
          "color": "#19d3f3",
          "symbol": "circle"
         },
         "name": "Nutmeg",
         "showlegend": true,
         "type": "splom"
        },
        {
         "dimensions": [
          {
           "axis": {
            "matches": true
           },
           "label": "flavour_release",
           "values": [
            "Immediate upon heating"
           ]
          },
          {
           "axis": {
            "matches": true
           },
           "label": "volatility",
           "values": [
            "Low"
           ]
          },
          {
           "axis": {
            "matches": true
           },
           "label": "mouthfeel",
           "values": [
            "Velvety"
           ]
          },
          {
           "axis": {
            "matches": true
           },
           "label": "texture",
           "values": [
            "Smooth and thick"
           ]
          }
         ],
         "hovertemplate": "IngredientName=Tomato Puree<br>%{xaxis.title.text}=%{x}<br>%{yaxis.title.text}=%{y}<extra></extra>",
         "legendgroup": "Tomato Puree",
         "marker": {
          "color": "#FF6692",
          "symbol": "circle"
         },
         "name": "Tomato Puree",
         "showlegend": true,
         "type": "splom"
        },
        {
         "dimensions": [
          {
           "axis": {
            "matches": true
           },
           "label": "flavour_release",
           "values": [
            "N/A"
           ]
          },
          {
           "axis": {
            "matches": true
           },
           "label": "volatility",
           "values": [
            "Low"
           ]
          },
          {
           "axis": {
            "matches": true
           },
           "label": "mouthfeel",
           "values": [
            "Smooth"
           ]
          },
          {
           "axis": {
            "matches": true
           },
           "label": "texture",
           "values": [
            "Thick, viscous"
           ]
          }
         ],
         "hovertemplate": "IngredientName=Maize Thickener 1422<br>%{xaxis.title.text}=%{x}<br>%{yaxis.title.text}=%{y}<extra></extra>",
         "legendgroup": "Maize Thickener 1422",
         "marker": {
          "color": "#B6E880",
          "symbol": "circle"
         },
         "name": "Maize Thickener 1422",
         "showlegend": true,
         "type": "splom"
        },
        {
         "dimensions": [
          {
           "axis": {
            "matches": true
           },
           "label": "flavour_release",
           "values": [
            "Immediate"
           ]
          },
          {
           "axis": {
            "matches": true
           },
           "label": "volatility",
           "values": [
            "Low"
           ]
          },
          {
           "axis": {
            "matches": true
           },
           "label": "mouthfeel",
           "values": [
            "Smooth"
           ]
          },
          {
           "axis": {
            "matches": true
           },
           "label": "texture",
           "values": [
            "Fine powder"
           ]
          }
         ],
         "hovertemplate": "IngredientName=Maize Maltodextrin<br>%{xaxis.title.text}=%{x}<br>%{yaxis.title.text}=%{y}<extra></extra>",
         "legendgroup": "Maize Maltodextrin",
         "marker": {
          "color": "#FF97FF",
          "symbol": "circle"
         },
         "name": "Maize Maltodextrin",
         "showlegend": true,
         "type": "splom"
        },
        {
         "dimensions": [
          {
           "axis": {
            "matches": true
           },
           "label": "flavour_release",
           "values": [
            "Immediate"
           ]
          },
          {
           "axis": {
            "matches": true
           },
           "label": "volatility",
           "values": [
            "Low"
           ]
          },
          {
           "axis": {
            "matches": true
           },
           "label": "mouthfeel",
           "values": [
            "Smooth"
           ]
          },
          {
           "axis": {
            "matches": true
           },
           "label": "texture",
           "values": [
            "Liquid at room temperature"
           ]
          }
         ],
         "hovertemplate": "IngredientName=Canola Oil<br>%{xaxis.title.text}=%{x}<br>%{yaxis.title.text}=%{y}<extra></extra>",
         "legendgroup": "Canola Oil",
         "marker": {
          "color": "#FECB52",
          "symbol": "circle"
         },
         "name": "Canola Oil",
         "showlegend": true,
         "type": "splom"
        },
        {
         "dimensions": [
          {
           "axis": {
            "matches": true
           },
           "label": "flavour_release",
           "values": [
            "Immediate"
           ]
          },
          {
           "axis": {
            "matches": true
           },
           "label": "volatility",
           "values": [
            "High"
           ]
          },
          {
           "axis": {
            "matches": true
           },
           "label": "mouthfeel",
           "values": [
            "Astringent"
           ]
          },
          {
           "axis": {
            "matches": true
           },
           "label": "texture",
           "values": [
            "Liquid"
           ]
          }
         ],
         "hovertemplate": "IngredientName=Vinegar<br>%{xaxis.title.text}=%{x}<br>%{yaxis.title.text}=%{y}<extra></extra>",
         "legendgroup": "Vinegar",
         "marker": {
          "color": "#636efa",
          "symbol": "circle"
         },
         "name": "Vinegar",
         "showlegend": true,
         "type": "splom"
        },
        {
         "dimensions": [
          {
           "axis": {
            "matches": true
           },
           "label": "flavour_release",
           "values": [
            "Immediate upon consumption"
           ]
          },
          {
           "axis": {
            "matches": true
           },
           "label": "volatility",
           "values": [
            "Low"
           ]
          },
          {
           "axis": {
            "matches": true
           },
           "label": "mouthfeel",
           "values": [
            "Creamy"
           ]
          },
          {
           "axis": {
            "matches": true
           },
           "label": "texture",
           "values": [
            "Smooth and thick"
           ]
          }
         ],
         "hovertemplate": "IngredientName=Free Range Egg Yolk<br>%{xaxis.title.text}=%{x}<br>%{yaxis.title.text}=%{y}<extra></extra>",
         "legendgroup": "Free Range Egg Yolk",
         "marker": {
          "color": "#EF553B",
          "symbol": "circle"
         },
         "name": "Free Range Egg Yolk",
         "showlegend": true,
         "type": "splom"
        },
        {
         "dimensions": [
          {
           "axis": {
            "matches": true
           },
           "label": "flavour_release",
           "values": [
            "Immediate upon chewing"
           ]
          },
          {
           "axis": {
            "matches": true
           },
           "label": "volatility",
           "values": [
            ""
           ]
          },
          {
           "axis": {
            "matches": true
           },
           "label": "mouthfeel",
           "values": [
            "Firm"
           ]
          },
          {
           "axis": {
            "matches": true
           },
           "label": "texture",
           "values": [
            "Crunchy"
           ]
          }
         ],
         "hovertemplate": "IngredientName=Gherkin<br>%{xaxis.title.text}=%{x}<br>%{yaxis.title.text}=%{y}<extra></extra>",
         "legendgroup": "Gherkin",
         "marker": {
          "color": "#00cc96",
          "symbol": "circle"
         },
         "name": "Gherkin",
         "showlegend": true,
         "type": "splom"
        },
        {
         "dimensions": [
          {
           "axis": {
            "matches": true
           },
           "label": "flavour_release",
           "values": [
            "Gradual release of color and flavor."
           ]
          },
          {
           "axis": {
            "matches": true
           },
           "label": "volatility",
           "values": [
            "Low"
           ]
          },
          {
           "axis": {
            "matches": true
           },
           "label": "mouthfeel",
           "values": [
            "Smooth and non-gritty."
           ]
          },
          {
           "axis": {
            "matches": true
           },
           "label": "texture",
           "values": [
            "Powder or oil-based, depending on the formulation."
           ]
          }
         ],
         "hovertemplate": "IngredientName=Carotene<br>%{xaxis.title.text}=%{x}<br>%{yaxis.title.text}=%{y}<extra></extra>",
         "legendgroup": "Carotene",
         "marker": {
          "color": "#ab63fa",
          "symbol": "circle"
         },
         "name": "Carotene",
         "showlegend": true,
         "type": "splom"
        },
        {
         "dimensions": [
          {
           "axis": {
            "matches": true
           },
           "label": "flavour_release",
           "values": [
            "Immediate"
           ]
          },
          {
           "axis": {
            "matches": true
           },
           "label": "volatility",
           "values": [
            "Low"
           ]
          },
          {
           "axis": {
            "matches": true
           },
           "label": "mouthfeel",
           "values": [
            "Depends on the application"
           ]
          },
          {
           "axis": {
            "matches": true
           },
           "label": "texture",
           "values": [
            "Liquid"
           ]
          }
         ],
         "hovertemplate": "IngredientName=Paprika Oleoresins<br>%{xaxis.title.text}=%{x}<br>%{yaxis.title.text}=%{y}<extra></extra>",
         "legendgroup": "Paprika Oleoresins",
         "marker": {
          "color": "#FFA15A",
          "symbol": "circle"
         },
         "name": "Paprika Oleoresins",
         "showlegend": true,
         "type": "splom"
        },
        {
         "dimensions": [
          {
           "axis": {
            "matches": true
           },
           "label": "flavour_release",
           "values": [
            "Flavor is more pronounced when dill is used fresh."
           ]
          },
          {
           "axis": {
            "matches": true
           },
           "label": "volatility",
           "values": [
            "Dill's flavor can diminish with prolonged cooking."
           ]
          },
          {
           "axis": {
            "matches": true
           },
           "label": "mouthfeel",
           "values": [
            "Leaves have a soft and feathery mouthfeel, while seeds have a hard and crunchy mouthfeel."
           ]
          },
          {
           "axis": {
            "matches": true
           },
           "label": "texture",
           "values": [
            "Leaves are soft and feathery, while seeds are small and hard."
           ]
          }
         ],
         "hovertemplate": "IngredientName=Dill<br>%{xaxis.title.text}=%{x}<br>%{yaxis.title.text}=%{y}<extra></extra>",
         "legendgroup": "Dill",
         "marker": {
          "color": "#19d3f3",
          "symbol": "circle"
         },
         "name": "Dill",
         "showlegend": true,
         "type": "splom"
        },
        {
         "dimensions": [
          {
           "axis": {
            "matches": true
           },
           "label": "flavour_release",
           "values": [
            "Immediate"
           ]
          },
          {
           "axis": {
            "matches": true
           },
           "label": "volatility",
           "values": [
            "Low to moderate"
           ]
          },
          {
           "axis": {
            "matches": true
           },
           "label": "mouthfeel",
           "values": [
            "Varies"
           ]
          },
          {
           "axis": {
            "matches": true
           },
           "label": "texture",
           "values": [
            "Liquid or powder"
           ]
          }
         ],
         "hovertemplate": "IngredientName=Herb Extract<br>%{xaxis.title.text}=%{x}<br>%{yaxis.title.text}=%{y}<extra></extra>",
         "legendgroup": "Herb Extract",
         "marker": {
          "color": "#FF6692",
          "symbol": "circle"
         },
         "name": "Herb Extract",
         "showlegend": true,
         "type": "splom"
        },
        {
         "dimensions": [
          {
           "axis": {
            "matches": true
           },
           "label": "flavour_release",
           "values": [
            "Immediate upon consumption"
           ]
          },
          {
           "axis": {
            "matches": true
           },
           "label": "volatility",
           "values": [
            "Low"
           ]
          },
          {
           "axis": {
            "matches": true
           },
           "label": "mouthfeel",
           "values": [
            "Oily"
           ]
          },
          {
           "axis": {
            "matches": true
           },
           "label": "texture",
           "values": [
            "Liquid at room temperature"
           ]
          }
         ],
         "hovertemplate": "IngredientName=Mustard Oil<br>%{xaxis.title.text}=%{x}<br>%{yaxis.title.text}=%{y}<extra></extra>",
         "legendgroup": "Mustard Oil",
         "marker": {
          "color": "#B6E880",
          "symbol": "circle"
         },
         "name": "Mustard Oil",
         "showlegend": true,
         "type": "splom"
        },
        {
         "dimensions": [
          {
           "axis": {
            "matches": true
           },
           "label": "flavour_release",
           "values": [
            "Immediate"
           ]
          },
          {
           "axis": {
            "matches": true
           },
           "label": "volatility",
           "values": [
            "High"
           ]
          },
          {
           "axis": {
            "matches": true
           },
           "label": "mouthfeel",
           "values": [
            "Astringent"
           ]
          },
          {
           "axis": {
            "matches": true
           },
           "label": "texture",
           "values": [
            "Liquid"
           ]
          }
         ],
         "hovertemplate": "IngredientName=White Vinegar<br>%{xaxis.title.text}=%{x}<br>%{yaxis.title.text}=%{y}<extra></extra>",
         "legendgroup": "White Vinegar",
         "marker": {
          "color": "#FF97FF",
          "symbol": "circle"
         },
         "name": "White Vinegar",
         "showlegend": true,
         "type": "splom"
        },
        {
         "dimensions": [
          {
           "axis": {
            "matches": true
           },
           "label": "flavour_release",
           "values": [
            "Immediate upon consumption."
           ]
          },
          {
           "axis": {
            "matches": true
           },
           "label": "volatility",
           "values": [
            "Low"
           ]
          },
          {
           "axis": {
            "matches": true
           },
           "label": "mouthfeel",
           "values": [
            "Velvety and slightly dense."
           ]
          },
          {
           "axis": {
            "matches": true
           },
           "label": "texture",
           "values": [
            "Smooth and homogenous."
           ]
          }
         ],
         "hovertemplate": "IngredientName=Reconstituted Fruit Puree Apple<br>%{xaxis.title.text}=%{x}<br>%{yaxis.title.text}=%{y}<extra></extra>",
         "legendgroup": "Reconstituted Fruit Puree Apple",
         "marker": {
          "color": "#FECB52",
          "symbol": "circle"
         },
         "name": "Reconstituted Fruit Puree Apple",
         "showlegend": true,
         "type": "splom"
        },
        {
         "dimensions": [
          {
           "axis": {
            "matches": true
           },
           "label": "flavour_release",
           "values": [
            "Immediate upon consumption."
           ]
          },
          {
           "axis": {
            "matches": true
           },
           "label": "volatility",
           "values": [
            "Low"
           ]
          },
          {
           "axis": {
            "matches": true
           },
           "label": "mouthfeel",
           "values": [
            "Velvety and dense."
           ]
          },
          {
           "axis": {
            "matches": true
           },
           "label": "texture",
           "values": [
            "Smooth and thick."
           ]
          }
         ],
         "hovertemplate": "IngredientName=Reconstituted Fruit Puree Tomato Paste<br>%{xaxis.title.text}=%{x}<br>%{yaxis.title.text}=%{y}<extra></extra>",
         "legendgroup": "Reconstituted Fruit Puree Tomato Paste",
         "marker": {
          "color": "#636efa",
          "symbol": "circle"
         },
         "name": "Reconstituted Fruit Puree Tomato Paste",
         "showlegend": true,
         "type": "splom"
        },
        {
         "dimensions": [
          {
           "axis": {
            "matches": true
           },
           "label": "flavour_release",
           "values": [
            "Immediate"
           ]
          },
          {
           "axis": {
            "matches": true
           },
           "label": "volatility",
           "values": [
            "Non-volatile"
           ]
          },
          {
           "axis": {
            "matches": true
           },
           "label": "mouthfeel",
           "values": [
            "Refreshing"
           ]
          },
          {
           "axis": {
            "matches": true
           },
           "label": "texture",
           "values": [
            "Liquid"
           ]
          }
         ],
         "hovertemplate": "IngredientName=Natural Spring Water<br>%{xaxis.title.text}=%{x}<br>%{yaxis.title.text}=%{y}<extra></extra>",
         "legendgroup": "Natural Spring Water",
         "marker": {
          "color": "#EF553B",
          "symbol": "circle"
         },
         "name": "Natural Spring Water",
         "showlegend": true,
         "type": "splom"
        },
        {
         "dimensions": [
          {
           "axis": {
            "matches": true
           },
           "label": "flavour_release",
           "values": [
            "Immediate"
           ]
          },
          {
           "axis": {
            "matches": true
           },
           "label": "volatility",
           "values": [
            "Not volatile"
           ]
          },
          {
           "axis": {
            "matches": true
           },
           "label": "mouthfeel",
           "values": [
            "Refreshing"
           ]
          },
          {
           "axis": {
            "matches": true
           },
           "label": "texture",
           "values": [
            "Liquid"
           ]
          }
         ],
         "hovertemplate": "IngredientName=Australian Spring Water<br>%{xaxis.title.text}=%{x}<br>%{yaxis.title.text}=%{y}<extra></extra>",
         "legendgroup": "Australian Spring Water",
         "marker": {
          "color": "#00cc96",
          "symbol": "circle"
         },
         "name": "Australian Spring Water",
         "showlegend": true,
         "type": "splom"
        },
        {
         "dimensions": [
          {
           "axis": {
            "matches": true
           },
           "label": "flavour_release",
           "values": [
            "Enhanced with cooking"
           ]
          },
          {
           "axis": {
            "matches": true
           },
           "label": "volatility",
           "values": [
            "Low"
           ]
          },
          {
           "axis": {
            "matches": true
           },
           "label": "mouthfeel",
           "values": [
            "Smooth when cooked"
           ]
          },
          {
           "axis": {
            "matches": true
           },
           "label": "texture",
           "values": [
            "Varies from creamy to starchy, depending on the type"
           ]
          }
         ],
         "hovertemplate": "IngredientName=Potatoes<br>%{xaxis.title.text}=%{x}<br>%{yaxis.title.text}=%{y}<extra></extra>",
         "legendgroup": "Potatoes",
         "marker": {
          "color": "#ab63fa",
          "symbol": "circle"
         },
         "name": "Potatoes",
         "showlegend": true,
         "type": "splom"
        },
        {
         "dimensions": [
          {
           "axis": {
            "matches": true
           },
           "label": "flavour_release",
           "values": [
            "Immediate upon consumption"
           ]
          },
          {
           "axis": {
            "matches": true
           },
           "label": "volatility",
           "values": [
            "Low"
           ]
          },
          {
           "axis": {
            "matches": true
           },
           "label": "mouthfeel",
           "values": [
            "Smooth"
           ]
          },
          {
           "axis": {
            "matches": true
           },
           "label": "texture",
           "values": [
            "Liquid at room temperature"
           ]
          }
         ],
         "hovertemplate": "IngredientName=Sunflower Oil<br>%{xaxis.title.text}=%{x}<br>%{yaxis.title.text}=%{y}<extra></extra>",
         "legendgroup": "Sunflower Oil",
         "marker": {
          "color": "#FFA15A",
          "symbol": "circle"
         },
         "name": "Sunflower Oil",
         "showlegend": true,
         "type": "splom"
        },
        {
         "dimensions": [
          {
           "axis": {
            "matches": true
           },
           "label": "flavour_release",
           "values": [
            "Immediate"
           ]
          },
          {
           "axis": {
            "matches": true
           },
           "label": "volatility",
           "values": [
            "Low"
           ]
          },
          {
           "axis": {
            "matches": true
           },
           "label": "mouthfeel",
           "values": [
            "Greasy"
           ]
          },
          {
           "axis": {
            "matches": true
           },
           "label": "texture",
           "values": [
            "Oil-like"
           ]
          }
         ],
         "hovertemplate": "IngredientName=Antioxidant Tocopherols<br>%{xaxis.title.text}=%{x}<br>%{yaxis.title.text}=%{y}<extra></extra>",
         "legendgroup": "Antioxidant Tocopherols",
         "marker": {
          "color": "#19d3f3",
          "symbol": "circle"
         },
         "name": "Antioxidant Tocopherols",
         "showlegend": true,
         "type": "splom"
        },
        {
         "dimensions": [
          {
           "axis": {
            "matches": true
           },
           "label": "flavour_release",
           "values": [
            "Immediate upon consumption"
           ]
          },
          {
           "axis": {
            "matches": true
           },
           "label": "volatility",
           "values": [
            "Moderate"
           ]
          },
          {
           "axis": {
            "matches": true
           },
           "label": "mouthfeel",
           "values": [
            "Depends on concentration, generally not noticeable at typical usage levels"
           ]
          },
          {
           "axis": {
            "matches": true
           },
           "label": "texture",
           "values": [
            "Liquid, oil-like"
           ]
          }
         ],
         "hovertemplate": "IngredientName=Antioxidant Rosemary Extract<br>%{xaxis.title.text}=%{x}<br>%{yaxis.title.text}=%{y}<extra></extra>",
         "legendgroup": "Antioxidant Rosemary Extract",
         "marker": {
          "color": "#FF6692",
          "symbol": "circle"
         },
         "name": "Antioxidant Rosemary Extract",
         "showlegend": true,
         "type": "splom"
        },
        {
         "dimensions": [
          {
           "axis": {
            "matches": true
           },
           "label": "flavour_release",
           "values": [
            "Immediate upon contact with moisture"
           ]
          },
          {
           "axis": {
            "matches": true
           },
           "label": "volatility",
           "values": [
            "Low"
           ]
          },
          {
           "axis": {
            "matches": true
           },
           "label": "mouthfeel",
           "values": [
            "Creamy when reconstituted"
           ]
          },
          {
           "axis": {
            "matches": true
           },
           "label": "texture",
           "values": [
            "Fine powder"
           ]
          }
         ],
         "hovertemplate": "IngredientName=Cheese Powder<br>%{xaxis.title.text}=%{x}<br>%{yaxis.title.text}=%{y}<extra></extra>",
         "legendgroup": "Cheese Powder",
         "marker": {
          "color": "#B6E880",
          "symbol": "circle"
         },
         "name": "Cheese Powder",
         "showlegend": true,
         "type": "splom"
        },
        {
         "dimensions": [
          {
           "axis": {
            "matches": true
           },
           "label": "flavour_release",
           "values": [
            "Immediate upon consumption"
           ]
          },
          {
           "axis": {
            "matches": true
           },
           "label": "volatility",
           "values": [
            "Low"
           ]
          },
          {
           "axis": {
            "matches": true
           },
           "label": "mouthfeel",
           "values": [
            "Rich and indulgent"
           ]
          },
          {
           "axis": {
            "matches": true
           },
           "label": "texture",
           "values": [
            "Smooth and creamy"
           ]
          }
         ],
         "hovertemplate": "IngredientName=Flavoured Milk<br>%{xaxis.title.text}=%{x}<br>%{yaxis.title.text}=%{y}<extra></extra>",
         "legendgroup": "Flavoured Milk",
         "marker": {
          "color": "#FF97FF",
          "symbol": "circle"
         },
         "name": "Flavoured Milk",
         "showlegend": true,
         "type": "splom"
        },
        {
         "dimensions": [
          {
           "axis": {
            "matches": true
           },
           "label": "flavour_release",
           "values": [
            "Immediate upon hydration."
           ]
          },
          {
           "axis": {
            "matches": true
           },
           "label": "volatility",
           "values": [
            "Low"
           ]
          },
          {
           "axis": {
            "matches": true
           },
           "label": "mouthfeel",
           "values": [
            "Depends on the product it's used in; generally not noticeable as a standalone."
           ]
          },
          {
           "axis": {
            "matches": true
           },
           "label": "texture",
           "values": [
            "Fine, smooth powder."
           ]
          }
         ],
         "hovertemplate": "IngredientName=Tomato Powder<br>%{xaxis.title.text}=%{x}<br>%{yaxis.title.text}=%{y}<extra></extra>",
         "legendgroup": "Tomato Powder",
         "marker": {
          "color": "#FECB52",
          "symbol": "circle"
         },
         "name": "Tomato Powder",
         "showlegend": true,
         "type": "splom"
        },
        {
         "dimensions": [
          {
           "axis": {
            "matches": true
           },
           "label": "flavour_release",
           "values": [
            "Immediate upon cooking"
           ]
          },
          {
           "axis": {
            "matches": true
           },
           "label": "volatility",
           "values": [
            "Low"
           ]
          },
          {
           "axis": {
            "matches": true
           },
           "label": "mouthfeel",
           "values": [
            "Smooth when incorporated into dishes"
           ]
          },
          {
           "axis": {
            "matches": true
           },
           "label": "texture",
           "values": [
            "Fine powder"
           ]
          }
         ],
         "hovertemplate": "IngredientName=Paprika<br>%{xaxis.title.text}=%{x}<br>%{yaxis.title.text}=%{y}<extra></extra>",
         "legendgroup": "Paprika",
         "marker": {
          "color": "#636efa",
          "symbol": "circle"
         },
         "name": "Paprika",
         "showlegend": true,
         "type": "splom"
        },
        {
         "dimensions": [
          {
           "axis": {
            "matches": true
           },
           "label": "flavour_release",
           "values": [
            "Immediate and long-lasting"
           ]
          },
          {
           "axis": {
            "matches": true
           },
           "label": "volatility",
           "values": [
            "Low"
           ]
          },
          {
           "axis": {
            "matches": true
           },
           "label": "mouthfeel",
           "values": [
            "Smooth and dissolves easily"
           ]
          },
          {
           "axis": {
            "matches": true
           },
           "label": "texture",
           "values": [
            "Powder or crystalline form"
           ]
          }
         ],
         "hovertemplate": "IngredientName=Flavour Enhancer 620<br>%{xaxis.title.text}=%{x}<br>%{yaxis.title.text}=%{y}<extra></extra>",
         "legendgroup": "Flavour Enhancer 620",
         "marker": {
          "color": "#EF553B",
          "symbol": "circle"
         },
         "name": "Flavour Enhancer 620",
         "showlegend": true,
         "type": "splom"
        },
        {
         "dimensions": [
          {
           "axis": {
            "matches": true
           },
           "label": "flavour_release",
           "values": [
            "Immediate upon dissolution"
           ]
          },
          {
           "axis": {
            "matches": true
           },
           "label": "volatility",
           "values": [
            "Low"
           ]
          },
          {
           "axis": {
            "matches": true
           },
           "label": "mouthfeel",
           "values": [
            "Smooth"
           ]
          },
          {
           "axis": {
            "matches": true
           },
           "label": "texture",
           "values": [
            "Crystalline powder"
           ]
          }
         ],
         "hovertemplate": "IngredientName=Glucose<br>%{xaxis.title.text}=%{x}<br>%{yaxis.title.text}=%{y}<extra></extra>",
         "legendgroup": "Glucose",
         "marker": {
          "color": "#00cc96",
          "symbol": "circle"
         },
         "name": "Glucose",
         "showlegend": true,
         "type": "splom"
        },
        {
         "dimensions": [
          {
           "axis": {
            "matches": true
           },
           "label": "flavour_release",
           "values": [
            "Immediate upon contact with moisture."
           ]
          },
          {
           "axis": {
            "matches": true
           },
           "label": "volatility",
           "values": [
            "High aroma volatility."
           ]
          },
          {
           "axis": {
            "matches": true
           },
           "label": "mouthfeel",
           "values": [
            "Not applicable as it is typically used as a seasoning."
           ]
          },
          {
           "axis": {
            "matches": true
           },
           "label": "texture",
           "values": [
            "Fine powder."
           ]
          }
         ],
         "hovertemplate": "IngredientName=Vegetable Powder Garlic<br>%{xaxis.title.text}=%{x}<br>%{yaxis.title.text}=%{y}<extra></extra>",
         "legendgroup": "Vegetable Powder Garlic",
         "marker": {
          "color": "#ab63fa",
          "symbol": "circle"
         },
         "name": "Vegetable Powder Garlic",
         "showlegend": true,
         "type": "splom"
        },
        {
         "dimensions": [
          {
           "axis": {
            "matches": true
           },
           "label": "flavour_release",
           "values": [
            "Slow, due to its less solubility in water"
           ]
          },
          {
           "axis": {
            "matches": true
           },
           "label": "volatility",
           "values": [
            "Low"
           ]
          },
          {
           "axis": {
            "matches": true
           },
           "label": "mouthfeel",
           "values": [
            "Smooth when dissolved"
           ]
          },
          {
           "axis": {
            "matches": true
           },
           "label": "texture",
           "values": [
            "Crystalline powder"
           ]
          }
         ],
         "hovertemplate": "IngredientName=Milk Lactose<br>%{xaxis.title.text}=%{x}<br>%{yaxis.title.text}=%{y}<extra></extra>",
         "legendgroup": "Milk Lactose",
         "marker": {
          "color": "#FFA15A",
          "symbol": "circle"
         },
         "name": "Milk Lactose",
         "showlegend": true,
         "type": "splom"
        },
        {
         "dimensions": [
          {
           "axis": {
            "matches": true
           },
           "label": "flavour_release",
           "values": [
            "Immediate upon hydration"
           ]
          },
          {
           "axis": {
            "matches": true
           },
           "label": "volatility",
           "values": [
            "Low"
           ]
          },
          {
           "axis": {
            "matches": true
           },
           "label": "mouthfeel",
           "values": [
            "Depends on the product it's used in"
           ]
          },
          {
           "axis": {
            "matches": true
           },
           "label": "texture",
           "values": [
            "Fine powder"
           ]
          }
         ],
         "hovertemplate": "IngredientName=Vegetable Powder Tomato<br>%{xaxis.title.text}=%{x}<br>%{yaxis.title.text}=%{y}<extra></extra>",
         "legendgroup": "Vegetable Powder Tomato",
         "marker": {
          "color": "#19d3f3",
          "symbol": "circle"
         },
         "name": "Vegetable Powder Tomato",
         "showlegend": true,
         "type": "splom"
        },
        {
         "dimensions": [
          {
           "axis": {
            "matches": true
           },
           "label": "flavour_release",
           "values": [
            "Immediate upon cooking"
           ]
          },
          {
           "axis": {
            "matches": true
           },
           "label": "volatility",
           "values": [
            "High aromatic compounds"
           ]
          },
          {
           "axis": {
            "matches": true
           },
           "label": "mouthfeel",
           "values": [
            "N/A"
           ]
          },
          {
           "axis": {
            "matches": true
           },
           "label": "texture",
           "values": [
            "Fine powder"
           ]
          }
         ],
         "hovertemplate": "IngredientName=Garam Masala<br>%{xaxis.title.text}=%{x}<br>%{yaxis.title.text}=%{y}<extra></extra>",
         "legendgroup": "Garam Masala",
         "marker": {
          "color": "#FF6692",
          "symbol": "circle"
         },
         "name": "Garam Masala",
         "showlegend": true,
         "type": "splom"
        },
        {
         "dimensions": [
          {
           "axis": {
            "matches": true
           },
           "label": "flavour_release",
           "values": [
            "Immediate upon solubilization"
           ]
          },
          {
           "axis": {
            "matches": true
           },
           "label": "volatility",
           "values": [
            "Low"
           ]
          },
          {
           "axis": {
            "matches": true
           },
           "label": "mouthfeel",
           "values": [
            "Depends on reconstitution; typically creamy when rehydrated"
           ]
          },
          {
           "axis": {
            "matches": true
           },
           "label": "texture",
           "values": [
            "Fine powder"
           ]
          }
         ],
         "hovertemplate": "IngredientName=Buttermilk Powder<br>%{xaxis.title.text}=%{x}<br>%{yaxis.title.text}=%{y}<extra></extra>",
         "legendgroup": "Buttermilk Powder",
         "marker": {
          "color": "#B6E880",
          "symbol": "circle"
         },
         "name": "Buttermilk Powder",
         "showlegend": true,
         "type": "splom"
        },
        {
         "dimensions": [
          {
           "axis": {
            "matches": true
           },
           "label": "flavour_release",
           "values": [
            "Immediate"
           ]
          },
          {
           "axis": {
            "matches": true
           },
           "label": "volatility",
           "values": [
            ""
           ]
          },
          {
           "axis": {
            "matches": true
           },
           "label": "mouthfeel",
           "values": [
            ""
           ]
          },
          {
           "axis": {
            "matches": true
           },
           "label": "texture",
           "values": [
            "Liquid in its pure form"
           ]
          }
         ],
         "hovertemplate": "IngredientName=Lactic Acid<br>%{xaxis.title.text}=%{x}<br>%{yaxis.title.text}=%{y}<extra></extra>",
         "legendgroup": "Lactic Acid",
         "marker": {
          "color": "#FF97FF",
          "symbol": "circle"
         },
         "name": "Lactic Acid",
         "showlegend": true,
         "type": "splom"
        },
        {
         "dimensions": [
          {
           "axis": {
            "matches": true
           },
           "label": "flavour_release",
           "values": [
            "Immediate"
           ]
          },
          {
           "axis": {
            "matches": true
           },
           "label": "volatility",
           "values": [
            "Low"
           ]
          },
          {
           "axis": {
            "matches": true
           },
           "label": "mouthfeel",
           "values": [
            "Depends on the application"
           ]
          },
          {
           "axis": {
            "matches": true
           },
           "label": "texture",
           "values": [
            "Liquid or powder form"
           ]
          }
         ],
         "hovertemplate": "IngredientName=Paprika Extract<br>%{xaxis.title.text}=%{x}<br>%{yaxis.title.text}=%{y}<extra></extra>",
         "legendgroup": "Paprika Extract",
         "marker": {
          "color": "#FECB52",
          "symbol": "circle"
         },
         "name": "Paprika Extract",
         "showlegend": true,
         "type": "splom"
        },
        {
         "dimensions": [
          {
           "axis": {
            "matches": true
           },
           "label": "flavour_release",
           "values": [
            "Does not affect flavour release"
           ]
          },
          {
           "axis": {
            "matches": true
           },
           "label": "volatility",
           "values": [
            "Low"
           ]
          },
          {
           "axis": {
            "matches": true
           },
           "label": "mouthfeel",
           "values": [
            "Smooth and velvety"
           ]
          },
          {
           "axis": {
            "matches": true
           },
           "label": "texture",
           "values": [
            "Varies from gel-like to creamy, depending on type and concentration"
           ]
          }
         ],
         "hovertemplate": "IngredientName=Carrageenan<br>%{xaxis.title.text}=%{x}<br>%{yaxis.title.text}=%{y}<extra></extra>",
         "legendgroup": "Carrageenan",
         "marker": {
          "color": "#636efa",
          "symbol": "circle"
         },
         "name": "Carrageenan",
         "showlegend": true,
         "type": "splom"
        },
        {
         "dimensions": [
          {
           "axis": {
            "matches": true
           },
           "label": "flavour_release",
           "values": [
            "Does not release flavors"
           ]
          },
          {
           "axis": {
            "matches": true
           },
           "label": "volatility",
           "values": [
            "Stable"
           ]
          },
          {
           "axis": {
            "matches": true
           },
           "label": "mouthfeel",
           "values": [
            "Creamy when used in food products"
           ]
          },
          {
           "axis": {
            "matches": true
           },
           "label": "texture",
           "values": [
            "Smooth"
           ]
          }
         ],
         "hovertemplate": "IngredientName=Locust Bean Gum<br>%{xaxis.title.text}=%{x}<br>%{yaxis.title.text}=%{y}<extra></extra>",
         "legendgroup": "Locust Bean Gum",
         "marker": {
          "color": "#EF553B",
          "symbol": "circle"
         },
         "name": "Locust Bean Gum",
         "showlegend": true,
         "type": "splom"
        },
        {
         "dimensions": [
          {
           "axis": {
            "matches": true
           },
           "label": "flavour_release",
           "values": [
            "N/A"
           ]
          },
          {
           "axis": {
            "matches": true
           },
           "label": "volatility",
           "values": [
            "N/A"
           ]
          },
          {
           "axis": {
            "matches": true
           },
           "label": "mouthfeel",
           "values": [
            "N/A"
           ]
          },
          {
           "axis": {
            "matches": true
           },
           "label": "texture",
           "values": [
            "Crystalline powder"
           ]
          }
         ],
         "hovertemplate": "IngredientName=Calcium Lactate<br>%{xaxis.title.text}=%{x}<br>%{yaxis.title.text}=%{y}<extra></extra>",
         "legendgroup": "Calcium Lactate",
         "marker": {
          "color": "#00cc96",
          "symbol": "circle"
         },
         "name": "Calcium Lactate",
         "showlegend": true,
         "type": "splom"
        },
        {
         "dimensions": [
          {
           "axis": {
            "matches": true
           },
           "label": "flavour_release",
           "values": [
            "Immediate"
           ]
          },
          {
           "axis": {
            "matches": true
           },
           "label": "volatility",
           "values": [
            "Low"
           ]
          },
          {
           "axis": {
            "matches": true
           },
           "label": "mouthfeel",
           "values": [
            "Tart"
           ]
          },
          {
           "axis": {
            "matches": true
           },
           "label": "texture",
           "values": [
            "Crystalline powder"
           ]
          }
         ],
         "hovertemplate": "IngredientName=Malic Acid<br>%{xaxis.title.text}=%{x}<br>%{yaxis.title.text}=%{y}<extra></extra>",
         "legendgroup": "Malic Acid",
         "marker": {
          "color": "#ab63fa",
          "symbol": "circle"
         },
         "name": "Malic Acid",
         "showlegend": true,
         "type": "splom"
        },
        {
         "dimensions": [
          {
           "axis": {
            "matches": true
           },
           "label": "flavour_release",
           "values": [
            "Immediate upon consumption"
           ]
          },
          {
           "axis": {
            "matches": true
           },
           "label": "volatility",
           "values": [
            "High"
           ]
          },
          {
           "axis": {
            "matches": true
           },
           "label": "mouthfeel",
           "values": [
            "Depends on the final product"
           ]
          },
          {
           "axis": {
            "matches": true
           },
           "label": "texture",
           "values": [
            "Liquid"
           ]
          }
         ],
         "hovertemplate": "IngredientName=Natural Strawberry Flavour<br>%{xaxis.title.text}=%{x}<br>%{yaxis.title.text}=%{y}<extra></extra>",
         "legendgroup": "Natural Strawberry Flavour",
         "marker": {
          "color": "#FFA15A",
          "symbol": "circle"
         },
         "name": "Natural Strawberry Flavour",
         "showlegend": true,
         "type": "splom"
        },
        {
         "dimensions": [
          {
           "axis": {
            "matches": true
           },
           "label": "flavour_release",
           "values": [
            "Not applicable"
           ]
          },
          {
           "axis": {
            "matches": true
           },
           "label": "volatility",
           "values": [
            "Low"
           ]
          },
          {
           "axis": {
            "matches": true
           },
           "label": "mouthfeel",
           "values": [
            "Not applicable"
           ]
          },
          {
           "axis": {
            "matches": true
           },
           "label": "texture",
           "values": [
            "Powder"
           ]
          }
         ],
         "hovertemplate": "IngredientName=Cochineal<br>%{xaxis.title.text}=%{x}<br>%{yaxis.title.text}=%{y}<extra></extra>",
         "legendgroup": "Cochineal",
         "marker": {
          "color": "#19d3f3",
          "symbol": "circle"
         },
         "name": "Cochineal",
         "showlegend": true,
         "type": "splom"
        },
        {
         "dimensions": [
          {
           "axis": {
            "matches": true
           },
           "label": "flavour_release",
           "values": [
            "Enhanced when served at room temperature"
           ]
          },
          {
           "axis": {
            "matches": true
           },
           "label": "volatility",
           "values": [
            "Highly volatile aroma compounds"
           ]
          },
          {
           "axis": {
            "matches": true
           },
           "label": "mouthfeel",
           "values": [
            "Juicy"
           ]
          },
          {
           "axis": {
            "matches": true
           },
           "label": "texture",
           "values": [
            "Soft when ripe with a slight fibrous texture"
           ]
          }
         ],
         "hovertemplate": "IngredientName=Fruit Peach<br>%{xaxis.title.text}=%{x}<br>%{yaxis.title.text}=%{y}<extra></extra>",
         "legendgroup": "Fruit Peach",
         "marker": {
          "color": "#FF6692",
          "symbol": "circle"
         },
         "name": "Fruit Peach",
         "showlegend": true,
         "type": "splom"
        },
        {
         "dimensions": [
          {
           "axis": {
            "matches": true
           },
           "label": "flavour_release",
           "values": [
            "Enhanced when served at room temperature."
           ]
          },
          {
           "axis": {
            "matches": true
           },
           "label": "volatility",
           "values": [
            "Sensitive to bruising and over-ripening."
           ]
          },
          {
           "axis": {
            "matches": true
           },
           "label": "mouthfeel",
           "values": [
            "Juicy and refreshing."
           ]
          },
          {
           "axis": {
            "matches": true
           },
           "label": "texture",
           "values": [
            "Crisp and grainy."
           ]
          }
         ],
         "hovertemplate": "IngredientName=Pear<br>%{xaxis.title.text}=%{x}<br>%{yaxis.title.text}=%{y}<extra></extra>",
         "legendgroup": "Pear",
         "marker": {
          "color": "#B6E880",
          "symbol": "circle"
         },
         "name": "Pear",
         "showlegend": true,
         "type": "splom"
        },
        {
         "dimensions": [
          {
           "axis": {
            "matches": true
           },
           "label": "flavour_release",
           "values": [
            "Immediate upon consumption."
           ]
          },
          {
           "axis": {
            "matches": true
           },
           "label": "volatility",
           "values": [
            "Low"
           ]
          },
          {
           "axis": {
            "matches": true
           },
           "label": "mouthfeel",
           "values": [
            "Smooth, slightly thickened."
           ]
          },
          {
           "axis": {
            "matches": true
           },
           "label": "texture",
           "values": [
            "Liquid, viscosity varies depending on concentration."
           ]
          }
         ],
         "hovertemplate": "IngredientName=Reconstituted Refined Juice Concentrated Pear Juice<br>%{xaxis.title.text}=%{x}<br>%{yaxis.title.text}=%{y}<extra></extra>",
         "legendgroup": "Reconstituted Refined Juice Concentrated Pear Juice",
         "marker": {
          "color": "#FF97FF",
          "symbol": "circle"
         },
         "name": "Reconstituted Refined Juice Concentrated Pear Juice",
         "showlegend": true,
         "type": "splom"
        },
        {
         "dimensions": [
          {
           "axis": {
            "matches": true
           },
           "label": "flavour_release",
           "values": [
            "Immediate upon consumption"
           ]
          },
          {
           "axis": {
            "matches": true
           },
           "label": "volatility",
           "values": [
            "Low"
           ]
          },
          {
           "axis": {
            "matches": true
           },
           "label": "mouthfeel",
           "values": [
            "Light, refreshing"
           ]
          },
          {
           "axis": {
            "matches": true
           },
           "label": "texture",
           "values": [
            "Liquid, smooth"
           ]
          }
         ],
         "hovertemplate": "IngredientName=Refined Fruit Juice Apple<br>%{xaxis.title.text}=%{x}<br>%{yaxis.title.text}=%{y}<extra></extra>",
         "legendgroup": "Refined Fruit Juice Apple",
         "marker": {
          "color": "#FECB52",
          "symbol": "circle"
         },
         "name": "Refined Fruit Juice Apple",
         "showlegend": true,
         "type": "splom"
        },
        {
         "dimensions": [
          {
           "axis": {
            "matches": true
           },
           "label": "flavour_release",
           "values": [
            "Immediate upon consumption"
           ]
          },
          {
           "axis": {
            "matches": true
           },
           "label": "volatility",
           "values": [
            "Low"
           ]
          },
          {
           "axis": {
            "matches": true
           },
           "label": "mouthfeel",
           "values": [
            "Smooth, slightly thick"
           ]
          },
          {
           "axis": {
            "matches": true
           },
           "label": "texture",
           "values": [
            "Liquid, viscous when concentrated"
           ]
          }
         ],
         "hovertemplate": "IngredientName=Refined Fruit Juice Grape<br>%{xaxis.title.text}=%{x}<br>%{yaxis.title.text}=%{y}<extra></extra>",
         "legendgroup": "Refined Fruit Juice Grape",
         "marker": {
          "color": "#636efa",
          "symbol": "circle"
         },
         "name": "Refined Fruit Juice Grape",
         "showlegend": true,
         "type": "splom"
        },
        {
         "dimensions": [
          {
           "axis": {
            "matches": true
           },
           "label": "flavour_release",
           "values": [
            "Immediate upon consumption"
           ]
          },
          {
           "axis": {
            "matches": true
           },
           "label": "volatility",
           "values": [
            "Low"
           ]
          },
          {
           "axis": {
            "matches": true
           },
           "label": "mouthfeel",
           "values": [
            "Smooth"
           ]
          },
          {
           "axis": {
            "matches": true
           },
           "label": "texture",
           "values": [
            "Liquid"
           ]
          }
         ],
         "hovertemplate": "IngredientName=Refined Fruit Juice Peach<br>%{xaxis.title.text}=%{x}<br>%{yaxis.title.text}=%{y}<extra></extra>",
         "legendgroup": "Refined Fruit Juice Peach",
         "marker": {
          "color": "#EF553B",
          "symbol": "circle"
         },
         "name": "Refined Fruit Juice Peach",
         "showlegend": true,
         "type": "splom"
        },
        {
         "dimensions": [
          {
           "axis": {
            "matches": true
           },
           "label": "flavour_release",
           "values": [
            "Immediate upon consumption"
           ]
          },
          {
           "axis": {
            "matches": true
           },
           "label": "volatility",
           "values": [
            "Low"
           ]
          },
          {
           "axis": {
            "matches": true
           },
           "label": "mouthfeel",
           "values": [
            "Smooth"
           ]
          },
          {
           "axis": {
            "matches": true
           },
           "label": "texture",
           "values": [
            "Liquid, viscous"
           ]
          }
         ],
         "hovertemplate": "IngredientName=Refined Fruit Juice Pear<br>%{xaxis.title.text}=%{x}<br>%{yaxis.title.text}=%{y}<extra></extra>",
         "legendgroup": "Refined Fruit Juice Pear",
         "marker": {
          "color": "#00cc96",
          "symbol": "circle"
         },
         "name": "Refined Fruit Juice Pear",
         "showlegend": true,
         "type": "splom"
        },
        {
         "dimensions": [
          {
           "axis": {
            "matches": true
           },
           "label": "flavour_release",
           "values": [
            "Immediate upon consumption."
           ]
          },
          {
           "axis": {
            "matches": true
           },
           "label": "volatility",
           "values": [
            "High"
           ]
          },
          {
           "axis": {
            "matches": true
           },
           "label": "mouthfeel",
           "values": [
            "N/A"
           ]
          },
          {
           "axis": {
            "matches": true
           },
           "label": "texture",
           "values": [
            "N/A"
           ]
          }
         ],
         "hovertemplate": "IngredientName=Natural Flavour Pineapple<br>%{xaxis.title.text}=%{x}<br>%{yaxis.title.text}=%{y}<extra></extra>",
         "legendgroup": "Natural Flavour Pineapple",
         "marker": {
          "color": "#ab63fa",
          "symbol": "circle"
         },
         "name": "Natural Flavour Pineapple",
         "showlegend": true,
         "type": "splom"
        },
        {
         "dimensions": [
          {
           "axis": {
            "matches": true
           },
           "label": "flavour_release",
           "values": [
            "Immediate upon consumption"
           ]
          },
          {
           "axis": {
            "matches": true
           },
           "label": "volatility",
           "values": [
            "High"
           ]
          },
          {
           "axis": {
            "matches": true
           },
           "label": "mouthfeel",
           "values": [
            "Varies"
           ]
          },
          {
           "axis": {
            "matches": true
           },
           "label": "texture",
           "values": [
            "Liquid, depending on the formulation"
           ]
          }
         ],
         "hovertemplate": "IngredientName=Natural Flavour Mango<br>%{xaxis.title.text}=%{x}<br>%{yaxis.title.text}=%{y}<extra></extra>",
         "legendgroup": "Natural Flavour Mango",
         "marker": {
          "color": "#FFA15A",
          "symbol": "circle"
         },
         "name": "Natural Flavour Mango",
         "showlegend": true,
         "type": "splom"
        },
        {
         "dimensions": [
          {
           "axis": {
            "matches": true
           },
           "label": "flavour_release",
           "values": [
            "Immediate upon consumption"
           ]
          },
          {
           "axis": {
            "matches": true
           },
           "label": "volatility",
           "values": [
            "Low"
           ]
          },
          {
           "axis": {
            "matches": true
           },
           "label": "mouthfeel",
           "values": [
            "Smooth, melts in the mouth"
           ]
          },
          {
           "axis": {
            "matches": true
           },
           "label": "texture",
           "values": [
            "Firm, gel-like"
           ]
          }
         ],
         "hovertemplate": "IngredientName=Jelly Natural Pineapple Flavour<br>%{xaxis.title.text}=%{x}<br>%{yaxis.title.text}=%{y}<extra></extra>",
         "legendgroup": "Jelly Natural Pineapple Flavour",
         "marker": {
          "color": "#19d3f3",
          "symbol": "circle"
         },
         "name": "Jelly Natural Pineapple Flavour",
         "showlegend": true,
         "type": "splom"
        },
        {
         "dimensions": [
          {
           "axis": {
            "matches": true
           },
           "label": "flavour_release",
           "values": [
            "Enhanced when cooked."
           ]
          },
          {
           "axis": {
            "matches": true
           },
           "label": "volatility",
           "values": [
            "Aroma compounds are volatile, especially when heated."
           ]
          },
          {
           "axis": {
            "matches": true
           },
           "label": "mouthfeel",
           "values": [
            "Refreshing and slightly astringent."
           ]
          },
          {
           "axis": {
            "matches": true
           },
           "label": "texture",
           "values": [
            "Crisp and juicy."
           ]
          }
         ],
         "hovertemplate": "IngredientName=Apple<br>%{xaxis.title.text}=%{x}<br>%{yaxis.title.text}=%{y}<extra></extra>",
         "legendgroup": "Apple",
         "marker": {
          "color": "#FF6692",
          "symbol": "circle"
         },
         "name": "Apple",
         "showlegend": true,
         "type": "splom"
        },
        {
         "dimensions": [
          {
           "axis": {
            "matches": true
           },
           "label": "flavour_release",
           "values": [
            "Immediate upon consumption"
           ]
          },
          {
           "axis": {
            "matches": true
           },
           "label": "volatility",
           "values": [
            "Low"
           ]
          },
          {
           "axis": {
            "matches": true
           },
           "label": "mouthfeel",
           "values": [
            "Juicy"
           ]
          },
          {
           "axis": {
            "matches": true
           },
           "label": "texture",
           "values": [
            "Firm yet tender"
           ]
          }
         ],
         "hovertemplate": "IngredientName=Diced Pears<br>%{xaxis.title.text}=%{x}<br>%{yaxis.title.text}=%{y}<extra></extra>",
         "legendgroup": "Diced Pears",
         "marker": {
          "color": "#B6E880",
          "symbol": "circle"
         },
         "name": "Diced Pears",
         "showlegend": true,
         "type": "splom"
        },
        {
         "dimensions": [
          {
           "axis": {
            "matches": true
           },
           "label": "flavour_release",
           "values": [
            "Immediate upon consumption"
           ]
          },
          {
           "axis": {
            "matches": true
           },
           "label": "volatility",
           "values": [
            "Low"
           ]
          },
          {
           "axis": {
            "matches": true
           },
           "label": "mouthfeel",
           "values": [
            "Juicy"
           ]
          },
          {
           "axis": {
            "matches": true
           },
           "label": "texture",
           "values": [
            "Soft yet firm"
           ]
          }
         ],
         "hovertemplate": "IngredientName=Diced Peaches<br>%{xaxis.title.text}=%{x}<br>%{yaxis.title.text}=%{y}<extra></extra>",
         "legendgroup": "Diced Peaches",
         "marker": {
          "color": "#FF97FF",
          "symbol": "circle"
         },
         "name": "Diced Peaches",
         "showlegend": true,
         "type": "splom"
        },
        {
         "dimensions": [
          {
           "axis": {
            "matches": true
           },
           "label": "flavour_release",
           "values": [
            "Immediate upon consumption"
           ]
          },
          {
           "axis": {
            "matches": true
           },
           "label": "volatility",
           "values": [
            "Low"
           ]
          },
          {
           "axis": {
            "matches": true
           },
           "label": "mouthfeel",
           "values": [
            "Varies, generally light and refreshing"
           ]
          },
          {
           "axis": {
            "matches": true
           },
           "label": "texture",
           "values": [
            "Smooth, liquid"
           ]
          }
         ],
         "hovertemplate": "IngredientName=Refined Fruit Juice<br>%{xaxis.title.text}=%{x}<br>%{yaxis.title.text}=%{y}<extra></extra>",
         "legendgroup": "Refined Fruit Juice",
         "marker": {
          "color": "#FECB52",
          "symbol": "circle"
         },
         "name": "Refined Fruit Juice",
         "showlegend": true,
         "type": "splom"
        },
        {
         "dimensions": [
          {
           "axis": {
            "matches": true
           },
           "label": "flavour_release",
           "values": [
            "Immediate upon consumption."
           ]
          },
          {
           "axis": {
            "matches": true
           },
           "label": "volatility",
           "values": [
            "Aroma compounds are volatile, contributing to its distinct smell."
           ]
          },
          {
           "axis": {
            "matches": true
           },
           "label": "mouthfeel",
           "values": [
            "Juicy and refreshing with a fibrous texture."
           ]
          },
          {
           "axis": {
            "matches": true
           },
           "label": "texture",
           "values": [
            "Firm yet juicy."
           ]
          }
         ],
         "hovertemplate": "IngredientName=Pineapple<br>%{xaxis.title.text}=%{x}<br>%{yaxis.title.text}=%{y}<extra></extra>",
         "legendgroup": "Pineapple",
         "marker": {
          "color": "#636efa",
          "symbol": "circle"
         },
         "name": "Pineapple",
         "showlegend": true,
         "type": "splom"
        },
        {
         "dimensions": [
          {
           "axis": {
            "matches": true
           },
           "label": "flavour_release",
           "values": [
            "Immediate upon consumption"
           ]
          },
          {
           "axis": {
            "matches": true
           },
           "label": "volatility",
           "values": [
            "Low"
           ]
          },
          {
           "axis": {
            "matches": true
           },
           "label": "mouthfeel",
           "values": [
            "Juicy and refreshing"
           ]
          },
          {
           "axis": {
            "matches": true
           },
           "label": "texture",
           "values": [
            "Liquid"
           ]
          }
         ],
         "hovertemplate": "IngredientName=Pineapple Juice<br>%{xaxis.title.text}=%{x}<br>%{yaxis.title.text}=%{y}<extra></extra>",
         "legendgroup": "Pineapple Juice",
         "marker": {
          "color": "#EF553B",
          "symbol": "circle"
         },
         "name": "Pineapple Juice",
         "showlegend": true,
         "type": "splom"
        },
        {
         "dimensions": [
          {
           "axis": {
            "matches": true
           },
           "label": "flavour_release",
           "values": [
            "Immediate upon consumption"
           ]
          },
          {
           "axis": {
            "matches": true
           },
           "label": "volatility",
           "values": [
            "Low"
           ]
          },
          {
           "axis": {
            "matches": true
           },
           "label": "mouthfeel",
           "values": [
            "Smooth"
           ]
          },
          {
           "axis": {
            "matches": true
           },
           "label": "texture",
           "values": [
            "Liquid, viscous"
           ]
          }
         ],
         "hovertemplate": "IngredientName=Clarified Pineapple Juice Concentrate<br>%{xaxis.title.text}=%{x}<br>%{yaxis.title.text}=%{y}<extra></extra>",
         "legendgroup": "Clarified Pineapple Juice Concentrate",
         "marker": {
          "color": "#00cc96",
          "symbol": "circle"
         },
         "name": "Clarified Pineapple Juice Concentrate",
         "showlegend": true,
         "type": "splom"
        }
       ],
       "layout": {
        "dragmode": "select",
        "legend": {
         "title": {
          "text": "IngredientName"
         },
         "tracegroupgap": 0
        },
        "template": {
         "data": {
          "bar": [
           {
            "error_x": {
             "color": "#2a3f5f"
            },
            "error_y": {
             "color": "#2a3f5f"
            },
            "marker": {
             "line": {
              "color": "#E5ECF6",
              "width": 0.5
             },
             "pattern": {
              "fillmode": "overlay",
              "size": 10,
              "solidity": 0.2
             }
            },
            "type": "bar"
           }
          ],
          "barpolar": [
           {
            "marker": {
             "line": {
              "color": "#E5ECF6",
              "width": 0.5
             },
             "pattern": {
              "fillmode": "overlay",
              "size": 10,
              "solidity": 0.2
             }
            },
            "type": "barpolar"
           }
          ],
          "carpet": [
           {
            "aaxis": {
             "endlinecolor": "#2a3f5f",
             "gridcolor": "white",
             "linecolor": "white",
             "minorgridcolor": "white",
             "startlinecolor": "#2a3f5f"
            },
            "baxis": {
             "endlinecolor": "#2a3f5f",
             "gridcolor": "white",
             "linecolor": "white",
             "minorgridcolor": "white",
             "startlinecolor": "#2a3f5f"
            },
            "type": "carpet"
           }
          ],
          "choropleth": [
           {
            "colorbar": {
             "outlinewidth": 0,
             "ticks": ""
            },
            "type": "choropleth"
           }
          ],
          "contour": [
           {
            "colorbar": {
             "outlinewidth": 0,
             "ticks": ""
            },
            "colorscale": [
             [
              0,
              "#0d0887"
             ],
             [
              0.1111111111111111,
              "#46039f"
             ],
             [
              0.2222222222222222,
              "#7201a8"
             ],
             [
              0.3333333333333333,
              "#9c179e"
             ],
             [
              0.4444444444444444,
              "#bd3786"
             ],
             [
              0.5555555555555556,
              "#d8576b"
             ],
             [
              0.6666666666666666,
              "#ed7953"
             ],
             [
              0.7777777777777778,
              "#fb9f3a"
             ],
             [
              0.8888888888888888,
              "#fdca26"
             ],
             [
              1,
              "#f0f921"
             ]
            ],
            "type": "contour"
           }
          ],
          "contourcarpet": [
           {
            "colorbar": {
             "outlinewidth": 0,
             "ticks": ""
            },
            "type": "contourcarpet"
           }
          ],
          "heatmap": [
           {
            "colorbar": {
             "outlinewidth": 0,
             "ticks": ""
            },
            "colorscale": [
             [
              0,
              "#0d0887"
             ],
             [
              0.1111111111111111,
              "#46039f"
             ],
             [
              0.2222222222222222,
              "#7201a8"
             ],
             [
              0.3333333333333333,
              "#9c179e"
             ],
             [
              0.4444444444444444,
              "#bd3786"
             ],
             [
              0.5555555555555556,
              "#d8576b"
             ],
             [
              0.6666666666666666,
              "#ed7953"
             ],
             [
              0.7777777777777778,
              "#fb9f3a"
             ],
             [
              0.8888888888888888,
              "#fdca26"
             ],
             [
              1,
              "#f0f921"
             ]
            ],
            "type": "heatmap"
           }
          ],
          "heatmapgl": [
           {
            "colorbar": {
             "outlinewidth": 0,
             "ticks": ""
            },
            "colorscale": [
             [
              0,
              "#0d0887"
             ],
             [
              0.1111111111111111,
              "#46039f"
             ],
             [
              0.2222222222222222,
              "#7201a8"
             ],
             [
              0.3333333333333333,
              "#9c179e"
             ],
             [
              0.4444444444444444,
              "#bd3786"
             ],
             [
              0.5555555555555556,
              "#d8576b"
             ],
             [
              0.6666666666666666,
              "#ed7953"
             ],
             [
              0.7777777777777778,
              "#fb9f3a"
             ],
             [
              0.8888888888888888,
              "#fdca26"
             ],
             [
              1,
              "#f0f921"
             ]
            ],
            "type": "heatmapgl"
           }
          ],
          "histogram": [
           {
            "marker": {
             "pattern": {
              "fillmode": "overlay",
              "size": 10,
              "solidity": 0.2
             }
            },
            "type": "histogram"
           }
          ],
          "histogram2d": [
           {
            "colorbar": {
             "outlinewidth": 0,
             "ticks": ""
            },
            "colorscale": [
             [
              0,
              "#0d0887"
             ],
             [
              0.1111111111111111,
              "#46039f"
             ],
             [
              0.2222222222222222,
              "#7201a8"
             ],
             [
              0.3333333333333333,
              "#9c179e"
             ],
             [
              0.4444444444444444,
              "#bd3786"
             ],
             [
              0.5555555555555556,
              "#d8576b"
             ],
             [
              0.6666666666666666,
              "#ed7953"
             ],
             [
              0.7777777777777778,
              "#fb9f3a"
             ],
             [
              0.8888888888888888,
              "#fdca26"
             ],
             [
              1,
              "#f0f921"
             ]
            ],
            "type": "histogram2d"
           }
          ],
          "histogram2dcontour": [
           {
            "colorbar": {
             "outlinewidth": 0,
             "ticks": ""
            },
            "colorscale": [
             [
              0,
              "#0d0887"
             ],
             [
              0.1111111111111111,
              "#46039f"
             ],
             [
              0.2222222222222222,
              "#7201a8"
             ],
             [
              0.3333333333333333,
              "#9c179e"
             ],
             [
              0.4444444444444444,
              "#bd3786"
             ],
             [
              0.5555555555555556,
              "#d8576b"
             ],
             [
              0.6666666666666666,
              "#ed7953"
             ],
             [
              0.7777777777777778,
              "#fb9f3a"
             ],
             [
              0.8888888888888888,
              "#fdca26"
             ],
             [
              1,
              "#f0f921"
             ]
            ],
            "type": "histogram2dcontour"
           }
          ],
          "mesh3d": [
           {
            "colorbar": {
             "outlinewidth": 0,
             "ticks": ""
            },
            "type": "mesh3d"
           }
          ],
          "parcoords": [
           {
            "line": {
             "colorbar": {
              "outlinewidth": 0,
              "ticks": ""
             }
            },
            "type": "parcoords"
           }
          ],
          "pie": [
           {
            "automargin": true,
            "type": "pie"
           }
          ],
          "scatter": [
           {
            "fillpattern": {
             "fillmode": "overlay",
             "size": 10,
             "solidity": 0.2
            },
            "type": "scatter"
           }
          ],
          "scatter3d": [
           {
            "line": {
             "colorbar": {
              "outlinewidth": 0,
              "ticks": ""
             }
            },
            "marker": {
             "colorbar": {
              "outlinewidth": 0,
              "ticks": ""
             }
            },
            "type": "scatter3d"
           }
          ],
          "scattercarpet": [
           {
            "marker": {
             "colorbar": {
              "outlinewidth": 0,
              "ticks": ""
             }
            },
            "type": "scattercarpet"
           }
          ],
          "scattergeo": [
           {
            "marker": {
             "colorbar": {
              "outlinewidth": 0,
              "ticks": ""
             }
            },
            "type": "scattergeo"
           }
          ],
          "scattergl": [
           {
            "marker": {
             "colorbar": {
              "outlinewidth": 0,
              "ticks": ""
             }
            },
            "type": "scattergl"
           }
          ],
          "scattermapbox": [
           {
            "marker": {
             "colorbar": {
              "outlinewidth": 0,
              "ticks": ""
             }
            },
            "type": "scattermapbox"
           }
          ],
          "scatterpolar": [
           {
            "marker": {
             "colorbar": {
              "outlinewidth": 0,
              "ticks": ""
             }
            },
            "type": "scatterpolar"
           }
          ],
          "scatterpolargl": [
           {
            "marker": {
             "colorbar": {
              "outlinewidth": 0,
              "ticks": ""
             }
            },
            "type": "scatterpolargl"
           }
          ],
          "scatterternary": [
           {
            "marker": {
             "colorbar": {
              "outlinewidth": 0,
              "ticks": ""
             }
            },
            "type": "scatterternary"
           }
          ],
          "surface": [
           {
            "colorbar": {
             "outlinewidth": 0,
             "ticks": ""
            },
            "colorscale": [
             [
              0,
              "#0d0887"
             ],
             [
              0.1111111111111111,
              "#46039f"
             ],
             [
              0.2222222222222222,
              "#7201a8"
             ],
             [
              0.3333333333333333,
              "#9c179e"
             ],
             [
              0.4444444444444444,
              "#bd3786"
             ],
             [
              0.5555555555555556,
              "#d8576b"
             ],
             [
              0.6666666666666666,
              "#ed7953"
             ],
             [
              0.7777777777777778,
              "#fb9f3a"
             ],
             [
              0.8888888888888888,
              "#fdca26"
             ],
             [
              1,
              "#f0f921"
             ]
            ],
            "type": "surface"
           }
          ],
          "table": [
           {
            "cells": {
             "fill": {
              "color": "#EBF0F8"
             },
             "line": {
              "color": "white"
             }
            },
            "header": {
             "fill": {
              "color": "#C8D4E3"
             },
             "line": {
              "color": "white"
             }
            },
            "type": "table"
           }
          ]
         },
         "layout": {
          "annotationdefaults": {
           "arrowcolor": "#2a3f5f",
           "arrowhead": 0,
           "arrowwidth": 1
          },
          "autotypenumbers": "strict",
          "coloraxis": {
           "colorbar": {
            "outlinewidth": 0,
            "ticks": ""
           }
          },
          "colorscale": {
           "diverging": [
            [
             0,
             "#8e0152"
            ],
            [
             0.1,
             "#c51b7d"
            ],
            [
             0.2,
             "#de77ae"
            ],
            [
             0.3,
             "#f1b6da"
            ],
            [
             0.4,
             "#fde0ef"
            ],
            [
             0.5,
             "#f7f7f7"
            ],
            [
             0.6,
             "#e6f5d0"
            ],
            [
             0.7,
             "#b8e186"
            ],
            [
             0.8,
             "#7fbc41"
            ],
            [
             0.9,
             "#4d9221"
            ],
            [
             1,
             "#276419"
            ]
           ],
           "sequential": [
            [
             0,
             "#0d0887"
            ],
            [
             0.1111111111111111,
             "#46039f"
            ],
            [
             0.2222222222222222,
             "#7201a8"
            ],
            [
             0.3333333333333333,
             "#9c179e"
            ],
            [
             0.4444444444444444,
             "#bd3786"
            ],
            [
             0.5555555555555556,
             "#d8576b"
            ],
            [
             0.6666666666666666,
             "#ed7953"
            ],
            [
             0.7777777777777778,
             "#fb9f3a"
            ],
            [
             0.8888888888888888,
             "#fdca26"
            ],
            [
             1,
             "#f0f921"
            ]
           ],
           "sequentialminus": [
            [
             0,
             "#0d0887"
            ],
            [
             0.1111111111111111,
             "#46039f"
            ],
            [
             0.2222222222222222,
             "#7201a8"
            ],
            [
             0.3333333333333333,
             "#9c179e"
            ],
            [
             0.4444444444444444,
             "#bd3786"
            ],
            [
             0.5555555555555556,
             "#d8576b"
            ],
            [
             0.6666666666666666,
             "#ed7953"
            ],
            [
             0.7777777777777778,
             "#fb9f3a"
            ],
            [
             0.8888888888888888,
             "#fdca26"
            ],
            [
             1,
             "#f0f921"
            ]
           ]
          },
          "colorway": [
           "#636efa",
           "#EF553B",
           "#00cc96",
           "#ab63fa",
           "#FFA15A",
           "#19d3f3",
           "#FF6692",
           "#B6E880",
           "#FF97FF",
           "#FECB52"
          ],
          "font": {
           "color": "#2a3f5f"
          },
          "geo": {
           "bgcolor": "white",
           "lakecolor": "white",
           "landcolor": "#E5ECF6",
           "showlakes": true,
           "showland": true,
           "subunitcolor": "white"
          },
          "hoverlabel": {
           "align": "left"
          },
          "hovermode": "closest",
          "mapbox": {
           "style": "light"
          },
          "paper_bgcolor": "white",
          "plot_bgcolor": "#E5ECF6",
          "polar": {
           "angularaxis": {
            "gridcolor": "white",
            "linecolor": "white",
            "ticks": ""
           },
           "bgcolor": "#E5ECF6",
           "radialaxis": {
            "gridcolor": "white",
            "linecolor": "white",
            "ticks": ""
           }
          },
          "scene": {
           "xaxis": {
            "backgroundcolor": "#E5ECF6",
            "gridcolor": "white",
            "gridwidth": 2,
            "linecolor": "white",
            "showbackground": true,
            "ticks": "",
            "zerolinecolor": "white"
           },
           "yaxis": {
            "backgroundcolor": "#E5ECF6",
            "gridcolor": "white",
            "gridwidth": 2,
            "linecolor": "white",
            "showbackground": true,
            "ticks": "",
            "zerolinecolor": "white"
           },
           "zaxis": {
            "backgroundcolor": "#E5ECF6",
            "gridcolor": "white",
            "gridwidth": 2,
            "linecolor": "white",
            "showbackground": true,
            "ticks": "",
            "zerolinecolor": "white"
           }
          },
          "shapedefaults": {
           "line": {
            "color": "#2a3f5f"
           }
          },
          "ternary": {
           "aaxis": {
            "gridcolor": "white",
            "linecolor": "white",
            "ticks": ""
           },
           "baxis": {
            "gridcolor": "white",
            "linecolor": "white",
            "ticks": ""
           },
           "bgcolor": "#E5ECF6",
           "caxis": {
            "gridcolor": "white",
            "linecolor": "white",
            "ticks": ""
           }
          },
          "title": {
           "x": 0.05
          },
          "xaxis": {
           "automargin": true,
           "gridcolor": "white",
           "linecolor": "white",
           "ticks": "",
           "title": {
            "standoff": 15
           },
           "zerolinecolor": "white",
           "zerolinewidth": 2
          },
          "yaxis": {
           "automargin": true,
           "gridcolor": "white",
           "linecolor": "white",
           "ticks": "",
           "title": {
            "standoff": 15
           },
           "zerolinecolor": "white",
           "zerolinewidth": 2
          }
         }
        },
        "title": {
         "text": "Scatter Matrix of Various Taste Profile Properties"
        }
       }
      }
     },
     "metadata": {},
     "output_type": "display_data"
    }
   ],
   "source": [
    "fig = px.scatter_matrix(df,\n",
    "                        dimensions=['flavour_release', 'volatility', 'mouthfeel', 'texture'],\n",
    "                        color='IngredientName',\n",
    "                        title='Scatter Matrix of Various Taste Profile Properties')\n",
    "fig.show()"
   ]
  },
  {
   "cell_type": "code",
   "execution_count": 7,
   "metadata": {},
   "outputs": [
    {
     "name": "stderr",
     "output_type": "stream",
     "text": [
      "C:\\Users\\Wesle\\AppData\\Local\\Temp\\ipykernel_19888\\4042909409.py:20: DeprecationWarning:\n",
      "\n",
      "read_transaction has been renamed to execute_read\n",
      "\n"
     ]
    }
   ],
   "source": [
    "from neo4j import GraphDatabase\n",
    "import pandas as pd\n",
    "\n",
    "\n",
    "def get_data(tx):\n",
    "    query = \"\"\"\n",
    "    MATCH (p:Product)-[:HAS_RECIPE]->(r:Recipe)-[:HAS_TASTE_PROFILE]->(tp:TasteProfile)\n",
    "    RETURN p.name AS ProductName, properties(tp) AS TasteProfileProperties\n",
    "    \"\"\"\n",
    "    result = tx.run(query)\n",
    "    \n",
    "    data = []\n",
    "    for record in result:\n",
    "        profile = record[\"TasteProfileProperties\"]\n",
    "        profile[\"ProductName\"] = record[\"ProductName\"]\n",
    "        data.append(profile)\n",
    "    return data\n",
    "\n",
    "with driver.session() as session:\n",
    "    data = session.read_transaction(get_data)\n",
    "\n",
    "\n",
    "df = pd.DataFrame(data)\n"
   ]
  },
  {
   "cell_type": "code",
   "execution_count": 8,
   "metadata": {},
   "outputs": [
    {
     "data": {
      "application/vnd.plotly.v1+json": {
       "config": {
        "plotlyServerURL": "https://plot.ly"
       },
       "data": [
        {
         "alignmentgroup": "True",
         "hovertemplate": "index=%{x}<br>Count=%{y}<extra></extra>",
         "legendgroup": "",
         "marker": {
          "color": "#636efa",
          "pattern": {
           "shape": ""
          }
         },
         "name": "",
         "offsetgroup": "",
         "orientation": "v",
         "showlegend": false,
         "textposition": "auto",
         "type": "bar",
         "x": [
          "The flavors of sweetness, tanginess, and spiciness interact well together, creating a balanced and enjoyable taste.",
          "N/A",
          "The sweeteners and food acids interact to create a balanced sweet and tangy taste",
          "The flavours of the chocolate roll interact well with other sweet or nutty ingredients, making it a versatile choice for various culinary applications.",
          "The lime flavors interact well with the carbonation, creating a balanced and harmonious taste.",
          "A2 Milk Full Cream Milk pairs well with sweet and savory flavors, making it a versatile ingredient in cooking and baking.",
          "The natural sweetness of the tomatoes balances the acidity of the citric acid",
          "The sweetness and acidity of the tomato puree interact well with the savoury undertones of the salt and spice extract.",
          "The milk interacts harmoniously with various ingredients, enhancing their flavors without overpowering them.",
          "Complements various flavours without overpowering them",
          "The milk pairs well with various foods, enhancing their flavors.",
          "The flavours of peach and pear complement each other well, creating a harmonious taste profile",
          "The initial saltiness is followed by a tangy vinegar flavour, with a subtle sweetness and creaminess that balances the acidity.",
          "The flavours of the rice, milk, sugar, and vanilla interact harmoniously, creating a well-balanced and enjoyable taste experience.",
          "The sardines and oil harmoniously interact to enhance the richness of the fish, creating a savory and satisfying taste experience.",
          "Blends well with other flavours, enhancing their richness.",
          "Blends well with various flavors, enhancing sweetness and richness.",
          "The pasta takes on the flavors of the sauce and other ingredients it is cooked with.",
          "The flavours of the pears and peaches interact to create a harmonious sweet-tart balance.",
          "The flavors interact well, with the chocolate providing a rich and indulgent base for the fruity and creamy notes of the strawberry and vanilla crème filling.",
          "Balanced contrast between chocolate wafers and sweet creme",
          "The sweetness of the apple complements the tanginess of the pineapple, creating a harmonious flavor interaction.",
          "The sweetness of the creme complements the bitterness of the cocoa in the cookies",
          "The flavours of the chocolate cookie and the sweet creme filling complement each other well, creating a balanced and enjoyable taste.",
          "The combination of the sweet chocolate cookie and the rich vanilla creme creates a delightful harmony of flavors.",
          "The flavour interacts well with sweet and savory dishes, enhancing their creaminess and richness.",
          "The sweetness of the syrup complements the natural sweetness of the pineapple, while the citric acid adds a tangy note that balances the sweetness.",
          "The sweetness of the pineapple complements the acidity, creating a balanced taste.",
          "Blends well with coffee, tea, and cereals",
          "The coconut flavor complements various sweet and savory dishes, while the creamy texture enhances the overall taste experience.",
          "The sweetness of the fruit puree and sugar complements the tanginess of the tomato paste and vinegar.",
          "The flavors of the potatoes, spices, and chicken blend harmoniously",
          "The sweetness of sugar balances the acidity of tomatoes and food acids",
          "The flavors of the ingredients harmonize well, creating a balanced taste experience.",
          "The sweetness of the jelly complements the natural sweetness of the peaches",
          "The salt enhances the potato flavor",
          "The salt and vinegar flavors complement each other well, creating a harmonious taste profile",
          "The flavors of the chicken, spices, and herbs interact well, creating a balanced and enjoyable taste experience",
          "The sweetness of the sugar and maltodextrin complements the savory flavors of the tomato powder, onion powder, and garlic powder.",
          "The cheese and onion flavors complement each other perfectly, creating a well-rounded and enjoyable taste experience.",
          "The salt enhances the natural potato flavor.",
          "The sweetness complements the tanginess and smokiness, creating a well-rounded flavor profile.",
          "The sweetness of the sugar complements the tanginess of the vinegar and tomatoes, while the natural flavors and citric acid add complexity and depth",
          "The flavours of the two fruits complement each other well, with the pear providing a subtle sweetness and the peach adding a hint of tanginess.",
          "The sweetness of the sugar complements the tanginess of the tomatoes and food acid.",
          "The jelly and fruit pieces complement each other, creating a harmonious taste experience.",
          "The sweetness and acidity of the sauce complement each other, creating a harmonious balance",
          "The sweetness of the sugar and glucose syrup complements the tanginess of the tomatoes and food acids, while the spices add depth and complexity.",
          "The sauce interacts well with other burger ingredients, enhancing their flavors.",
          "The flavors of the various fruits interact well, creating a harmonious and layered taste experience.",
          "The different fruit flavors interact to create a complex and layered taste",
          "The noodles and flavour sachet interact to create a complex flavour profile, with the savoury noodles complementing the sweet and spicy flavour sachet.",
          "The sweetness of the milk chocolate complements the slight saltiness of the wafer, creating a balanced flavor profile.",
          "The orange and mango flavors complement each other well, creating a harmonious and refreshing taste",
          "The lemon and lime flavors complement each other, creating a harmonious taste profile",
          "The bitterness of quinine complements the sweetness and citrus notes harmoniously",
          "The lime and sweet flavors interact well, creating a balanced taste.",
          "The bitterness of the quinine interacts well with sweet or fruity flavors, creating a balanced taste.",
          "Mixes well with a variety of spirits and juices, enhancing their flavors.",
          "The flavors of the noodles and seasoning sachet complement each other well",
          "The sweetness of the noodles complements the spiciness of the chilli sauce, while the fried onion adds a contrasting crunch.",
          "The sweetness of the chocolate complements the saltiness of the caramel, creating a harmonious flavor balance.",
          "The flavours interact well, with the noodles absorbing the flavour from the sachet and the vegetables adding a fresh element.",
          "The flavors meld together well, creating a harmonious taste experience",
          "The flavors of the noodles and soup complement each other well, creating a harmonious taste experience.",
          "The noodles and flavour sachet interact to create a complex flavor profile, with the savory chicken flavor of the noodles complementing the spicy flavors of the sachet.",
          "The flavour of the noodles is enhanced by the flavour mix sachet, which contains a blend of spices, flavour enhancers, and colours.",
          "The noodles, seasoning powder, seasoning oil, sweet soy sauce, chilli sauce, and fried onion all interact to create a complex and layered flavor profile.",
          "The sweeteners and cola flavor interact to create a balanced, enjoyable taste",
          "The sweeteners and food acids interact to create a balanced, sugar-free cola flavour",
          "The flavours of the milk chocolate and wafer complement each other well, creating a balanced sweet and savoury taste.",
          "The flavors complement each other well, with the sweetness of the chocolate balancing the saltiness of the caramel and the crisp biscuit adding a contrasting texture.",
          "The pineapple and orange flavours interact well, with the sweetness of the pineapple balancing the tartness of the orange.",
          "The flavors of butter, sugar, and chocolate interact well, creating a balanced taste.",
          "The sweetness of the sugar complements the tartness of the fruit juices",
          "The various fruit flavors interact harmoniously, creating a complex and layered taste experience.",
          "The apple and blackcurrant flavors complement each other well, creating a harmonious and well-rounded taste profile.",
          "The flavours interact well, with the sweetness of the apple balancing the acidity of the orange and passionfruit.",
          "The natural flavour and vitamin C enhance the orange taste, while the citric acid adds a tangy note.",
          "The sweetness of apples complements the tartness of mangoes",
          "The natural apple flavors interact well with the added citric acid, creating a balanced sweet-tart taste.",
          "The contrasting flavors of the chocolate wafers and vanilla creme filling complement each other, creating a harmonious taste experience.",
          "The sweetness of the cookie complements the richness of the chocolate, creating a balanced and enjoyable taste experience.",
          "The flavors of chocolate, caramel, and nougat interact well, creating a balanced sweet and savory taste.",
          "The sweetness of the cookie complements the slight bitterness of the chocolate",
          "The flavors of the cookie and the filling complement each other well, creating a balanced taste.",
          "The sweetness of the creme complements the bitterness of the cocoa, creating a harmonious balance.",
          "The sweet cookie dough complements the bitterness of the chocolate",
          "The sweetness of the cookie dough complements the bitterness of the dark chocolate.",
          "The sweetness of the cookie dough complements the bitterness of the chocolate chips.",
          "The flavours of chocolate, butter, and sugar harmoniously interact, creating a balanced taste experience",
          "The sweetness of the chocolate complements the mild bitterness of the cocoa powder, while the chewy center adds a contrasting texture and flavor.",
          "The flavours of the pears and peaches complement each other well, with the antioxidant adding a slight tang."
         ],
         "xaxis": "x",
         "y": [
          5,
          5,
          3,
          3,
          2,
          2,
          2,
          2,
          2,
          2,
          2,
          2,
          1,
          1,
          1,
          1,
          1,
          1,
          1,
          1,
          1,
          1,
          1,
          1,
          1,
          1,
          1,
          1,
          1,
          1,
          1,
          1,
          1,
          1,
          1,
          1,
          1,
          1,
          1,
          1,
          1,
          1,
          1,
          1,
          1,
          1,
          1,
          1,
          1,
          1,
          1,
          1,
          1,
          1,
          1,
          1,
          1,
          1,
          1,
          1,
          1,
          1,
          1,
          1,
          1,
          1,
          1,
          1,
          1,
          1,
          1,
          1,
          1,
          1,
          1,
          1,
          1,
          1,
          1,
          1,
          1,
          1,
          1,
          1,
          1,
          1,
          1,
          1,
          1,
          1,
          1,
          1,
          1
         ],
         "yaxis": "y"
        }
       ],
       "layout": {
        "barmode": "relative",
        "legend": {
         "tracegroupgap": 0
        },
        "template": {
         "data": {
          "bar": [
           {
            "error_x": {
             "color": "#2a3f5f"
            },
            "error_y": {
             "color": "#2a3f5f"
            },
            "marker": {
             "line": {
              "color": "#E5ECF6",
              "width": 0.5
             },
             "pattern": {
              "fillmode": "overlay",
              "size": 10,
              "solidity": 0.2
             }
            },
            "type": "bar"
           }
          ],
          "barpolar": [
           {
            "marker": {
             "line": {
              "color": "#E5ECF6",
              "width": 0.5
             },
             "pattern": {
              "fillmode": "overlay",
              "size": 10,
              "solidity": 0.2
             }
            },
            "type": "barpolar"
           }
          ],
          "carpet": [
           {
            "aaxis": {
             "endlinecolor": "#2a3f5f",
             "gridcolor": "white",
             "linecolor": "white",
             "minorgridcolor": "white",
             "startlinecolor": "#2a3f5f"
            },
            "baxis": {
             "endlinecolor": "#2a3f5f",
             "gridcolor": "white",
             "linecolor": "white",
             "minorgridcolor": "white",
             "startlinecolor": "#2a3f5f"
            },
            "type": "carpet"
           }
          ],
          "choropleth": [
           {
            "colorbar": {
             "outlinewidth": 0,
             "ticks": ""
            },
            "type": "choropleth"
           }
          ],
          "contour": [
           {
            "colorbar": {
             "outlinewidth": 0,
             "ticks": ""
            },
            "colorscale": [
             [
              0,
              "#0d0887"
             ],
             [
              0.1111111111111111,
              "#46039f"
             ],
             [
              0.2222222222222222,
              "#7201a8"
             ],
             [
              0.3333333333333333,
              "#9c179e"
             ],
             [
              0.4444444444444444,
              "#bd3786"
             ],
             [
              0.5555555555555556,
              "#d8576b"
             ],
             [
              0.6666666666666666,
              "#ed7953"
             ],
             [
              0.7777777777777778,
              "#fb9f3a"
             ],
             [
              0.8888888888888888,
              "#fdca26"
             ],
             [
              1,
              "#f0f921"
             ]
            ],
            "type": "contour"
           }
          ],
          "contourcarpet": [
           {
            "colorbar": {
             "outlinewidth": 0,
             "ticks": ""
            },
            "type": "contourcarpet"
           }
          ],
          "heatmap": [
           {
            "colorbar": {
             "outlinewidth": 0,
             "ticks": ""
            },
            "colorscale": [
             [
              0,
              "#0d0887"
             ],
             [
              0.1111111111111111,
              "#46039f"
             ],
             [
              0.2222222222222222,
              "#7201a8"
             ],
             [
              0.3333333333333333,
              "#9c179e"
             ],
             [
              0.4444444444444444,
              "#bd3786"
             ],
             [
              0.5555555555555556,
              "#d8576b"
             ],
             [
              0.6666666666666666,
              "#ed7953"
             ],
             [
              0.7777777777777778,
              "#fb9f3a"
             ],
             [
              0.8888888888888888,
              "#fdca26"
             ],
             [
              1,
              "#f0f921"
             ]
            ],
            "type": "heatmap"
           }
          ],
          "heatmapgl": [
           {
            "colorbar": {
             "outlinewidth": 0,
             "ticks": ""
            },
            "colorscale": [
             [
              0,
              "#0d0887"
             ],
             [
              0.1111111111111111,
              "#46039f"
             ],
             [
              0.2222222222222222,
              "#7201a8"
             ],
             [
              0.3333333333333333,
              "#9c179e"
             ],
             [
              0.4444444444444444,
              "#bd3786"
             ],
             [
              0.5555555555555556,
              "#d8576b"
             ],
             [
              0.6666666666666666,
              "#ed7953"
             ],
             [
              0.7777777777777778,
              "#fb9f3a"
             ],
             [
              0.8888888888888888,
              "#fdca26"
             ],
             [
              1,
              "#f0f921"
             ]
            ],
            "type": "heatmapgl"
           }
          ],
          "histogram": [
           {
            "marker": {
             "pattern": {
              "fillmode": "overlay",
              "size": 10,
              "solidity": 0.2
             }
            },
            "type": "histogram"
           }
          ],
          "histogram2d": [
           {
            "colorbar": {
             "outlinewidth": 0,
             "ticks": ""
            },
            "colorscale": [
             [
              0,
              "#0d0887"
             ],
             [
              0.1111111111111111,
              "#46039f"
             ],
             [
              0.2222222222222222,
              "#7201a8"
             ],
             [
              0.3333333333333333,
              "#9c179e"
             ],
             [
              0.4444444444444444,
              "#bd3786"
             ],
             [
              0.5555555555555556,
              "#d8576b"
             ],
             [
              0.6666666666666666,
              "#ed7953"
             ],
             [
              0.7777777777777778,
              "#fb9f3a"
             ],
             [
              0.8888888888888888,
              "#fdca26"
             ],
             [
              1,
              "#f0f921"
             ]
            ],
            "type": "histogram2d"
           }
          ],
          "histogram2dcontour": [
           {
            "colorbar": {
             "outlinewidth": 0,
             "ticks": ""
            },
            "colorscale": [
             [
              0,
              "#0d0887"
             ],
             [
              0.1111111111111111,
              "#46039f"
             ],
             [
              0.2222222222222222,
              "#7201a8"
             ],
             [
              0.3333333333333333,
              "#9c179e"
             ],
             [
              0.4444444444444444,
              "#bd3786"
             ],
             [
              0.5555555555555556,
              "#d8576b"
             ],
             [
              0.6666666666666666,
              "#ed7953"
             ],
             [
              0.7777777777777778,
              "#fb9f3a"
             ],
             [
              0.8888888888888888,
              "#fdca26"
             ],
             [
              1,
              "#f0f921"
             ]
            ],
            "type": "histogram2dcontour"
           }
          ],
          "mesh3d": [
           {
            "colorbar": {
             "outlinewidth": 0,
             "ticks": ""
            },
            "type": "mesh3d"
           }
          ],
          "parcoords": [
           {
            "line": {
             "colorbar": {
              "outlinewidth": 0,
              "ticks": ""
             }
            },
            "type": "parcoords"
           }
          ],
          "pie": [
           {
            "automargin": true,
            "type": "pie"
           }
          ],
          "scatter": [
           {
            "fillpattern": {
             "fillmode": "overlay",
             "size": 10,
             "solidity": 0.2
            },
            "type": "scatter"
           }
          ],
          "scatter3d": [
           {
            "line": {
             "colorbar": {
              "outlinewidth": 0,
              "ticks": ""
             }
            },
            "marker": {
             "colorbar": {
              "outlinewidth": 0,
              "ticks": ""
             }
            },
            "type": "scatter3d"
           }
          ],
          "scattercarpet": [
           {
            "marker": {
             "colorbar": {
              "outlinewidth": 0,
              "ticks": ""
             }
            },
            "type": "scattercarpet"
           }
          ],
          "scattergeo": [
           {
            "marker": {
             "colorbar": {
              "outlinewidth": 0,
              "ticks": ""
             }
            },
            "type": "scattergeo"
           }
          ],
          "scattergl": [
           {
            "marker": {
             "colorbar": {
              "outlinewidth": 0,
              "ticks": ""
             }
            },
            "type": "scattergl"
           }
          ],
          "scattermapbox": [
           {
            "marker": {
             "colorbar": {
              "outlinewidth": 0,
              "ticks": ""
             }
            },
            "type": "scattermapbox"
           }
          ],
          "scatterpolar": [
           {
            "marker": {
             "colorbar": {
              "outlinewidth": 0,
              "ticks": ""
             }
            },
            "type": "scatterpolar"
           }
          ],
          "scatterpolargl": [
           {
            "marker": {
             "colorbar": {
              "outlinewidth": 0,
              "ticks": ""
             }
            },
            "type": "scatterpolargl"
           }
          ],
          "scatterternary": [
           {
            "marker": {
             "colorbar": {
              "outlinewidth": 0,
              "ticks": ""
             }
            },
            "type": "scatterternary"
           }
          ],
          "surface": [
           {
            "colorbar": {
             "outlinewidth": 0,
             "ticks": ""
            },
            "colorscale": [
             [
              0,
              "#0d0887"
             ],
             [
              0.1111111111111111,
              "#46039f"
             ],
             [
              0.2222222222222222,
              "#7201a8"
             ],
             [
              0.3333333333333333,
              "#9c179e"
             ],
             [
              0.4444444444444444,
              "#bd3786"
             ],
             [
              0.5555555555555556,
              "#d8576b"
             ],
             [
              0.6666666666666666,
              "#ed7953"
             ],
             [
              0.7777777777777778,
              "#fb9f3a"
             ],
             [
              0.8888888888888888,
              "#fdca26"
             ],
             [
              1,
              "#f0f921"
             ]
            ],
            "type": "surface"
           }
          ],
          "table": [
           {
            "cells": {
             "fill": {
              "color": "#EBF0F8"
             },
             "line": {
              "color": "white"
             }
            },
            "header": {
             "fill": {
              "color": "#C8D4E3"
             },
             "line": {
              "color": "white"
             }
            },
            "type": "table"
           }
          ]
         },
         "layout": {
          "annotationdefaults": {
           "arrowcolor": "#2a3f5f",
           "arrowhead": 0,
           "arrowwidth": 1
          },
          "autotypenumbers": "strict",
          "coloraxis": {
           "colorbar": {
            "outlinewidth": 0,
            "ticks": ""
           }
          },
          "colorscale": {
           "diverging": [
            [
             0,
             "#8e0152"
            ],
            [
             0.1,
             "#c51b7d"
            ],
            [
             0.2,
             "#de77ae"
            ],
            [
             0.3,
             "#f1b6da"
            ],
            [
             0.4,
             "#fde0ef"
            ],
            [
             0.5,
             "#f7f7f7"
            ],
            [
             0.6,
             "#e6f5d0"
            ],
            [
             0.7,
             "#b8e186"
            ],
            [
             0.8,
             "#7fbc41"
            ],
            [
             0.9,
             "#4d9221"
            ],
            [
             1,
             "#276419"
            ]
           ],
           "sequential": [
            [
             0,
             "#0d0887"
            ],
            [
             0.1111111111111111,
             "#46039f"
            ],
            [
             0.2222222222222222,
             "#7201a8"
            ],
            [
             0.3333333333333333,
             "#9c179e"
            ],
            [
             0.4444444444444444,
             "#bd3786"
            ],
            [
             0.5555555555555556,
             "#d8576b"
            ],
            [
             0.6666666666666666,
             "#ed7953"
            ],
            [
             0.7777777777777778,
             "#fb9f3a"
            ],
            [
             0.8888888888888888,
             "#fdca26"
            ],
            [
             1,
             "#f0f921"
            ]
           ],
           "sequentialminus": [
            [
             0,
             "#0d0887"
            ],
            [
             0.1111111111111111,
             "#46039f"
            ],
            [
             0.2222222222222222,
             "#7201a8"
            ],
            [
             0.3333333333333333,
             "#9c179e"
            ],
            [
             0.4444444444444444,
             "#bd3786"
            ],
            [
             0.5555555555555556,
             "#d8576b"
            ],
            [
             0.6666666666666666,
             "#ed7953"
            ],
            [
             0.7777777777777778,
             "#fb9f3a"
            ],
            [
             0.8888888888888888,
             "#fdca26"
            ],
            [
             1,
             "#f0f921"
            ]
           ]
          },
          "colorway": [
           "#636efa",
           "#EF553B",
           "#00cc96",
           "#ab63fa",
           "#FFA15A",
           "#19d3f3",
           "#FF6692",
           "#B6E880",
           "#FF97FF",
           "#FECB52"
          ],
          "font": {
           "color": "#2a3f5f"
          },
          "geo": {
           "bgcolor": "white",
           "lakecolor": "white",
           "landcolor": "#E5ECF6",
           "showlakes": true,
           "showland": true,
           "subunitcolor": "white"
          },
          "hoverlabel": {
           "align": "left"
          },
          "hovermode": "closest",
          "mapbox": {
           "style": "light"
          },
          "paper_bgcolor": "white",
          "plot_bgcolor": "#E5ECF6",
          "polar": {
           "angularaxis": {
            "gridcolor": "white",
            "linecolor": "white",
            "ticks": ""
           },
           "bgcolor": "#E5ECF6",
           "radialaxis": {
            "gridcolor": "white",
            "linecolor": "white",
            "ticks": ""
           }
          },
          "scene": {
           "xaxis": {
            "backgroundcolor": "#E5ECF6",
            "gridcolor": "white",
            "gridwidth": 2,
            "linecolor": "white",
            "showbackground": true,
            "ticks": "",
            "zerolinecolor": "white"
           },
           "yaxis": {
            "backgroundcolor": "#E5ECF6",
            "gridcolor": "white",
            "gridwidth": 2,
            "linecolor": "white",
            "showbackground": true,
            "ticks": "",
            "zerolinecolor": "white"
           },
           "zaxis": {
            "backgroundcolor": "#E5ECF6",
            "gridcolor": "white",
            "gridwidth": 2,
            "linecolor": "white",
            "showbackground": true,
            "ticks": "",
            "zerolinecolor": "white"
           }
          },
          "shapedefaults": {
           "line": {
            "color": "#2a3f5f"
           }
          },
          "ternary": {
           "aaxis": {
            "gridcolor": "white",
            "linecolor": "white",
            "ticks": ""
           },
           "baxis": {
            "gridcolor": "white",
            "linecolor": "white",
            "ticks": ""
           },
           "bgcolor": "#E5ECF6",
           "caxis": {
            "gridcolor": "white",
            "linecolor": "white",
            "ticks": ""
           }
          },
          "title": {
           "x": 0.05
          },
          "xaxis": {
           "automargin": true,
           "gridcolor": "white",
           "linecolor": "white",
           "ticks": "",
           "title": {
            "standoff": 15
           },
           "zerolinecolor": "white",
           "zerolinewidth": 2
          },
          "yaxis": {
           "automargin": true,
           "gridcolor": "white",
           "linecolor": "white",
           "ticks": "",
           "title": {
            "standoff": 15
           },
           "zerolinecolor": "white",
           "zerolinewidth": 2
          }
         }
        },
        "title": {
         "text": "Frequency of Flavour Interaction Descriptions"
        },
        "xaxis": {
         "anchor": "y",
         "domain": [
          0,
          1
         ],
         "title": {
          "text": "index"
         }
        },
        "yaxis": {
         "anchor": "x",
         "domain": [
          0,
          1
         ],
         "title": {
          "text": "Count"
         }
        }
       }
      }
     },
     "metadata": {},
     "output_type": "display_data"
    }
   ],
   "source": [
    "import plotly.express as px\n",
    "\n",
    "\n",
    "flavour_interaction_counts = df['Flavour_Interaction'].value_counts()\n",
    "\n",
    "fig = px.bar(flavour_interaction_counts, x=flavour_interaction_counts.index, y=flavour_interaction_counts.values,\n",
    "             title=\"Frequency of Flavour Interaction Descriptions\",\n",
    "             labels={'x': 'Flavour Interaction Types', 'y': 'Count'})\n",
    "fig.show()"
   ]
  },
  {
   "cell_type": "code",
   "execution_count": 9,
   "metadata": {},
   "outputs": [
    {
     "name": "stderr",
     "output_type": "stream",
     "text": [
      "c:\\ProgramData\\anaconda3\\lib\\site-packages\\plotly\\express\\_core.py:279: FutureWarning:\n",
      "\n",
      "iteritems is deprecated and will be removed in a future version. Use .items instead.\n",
      "\n"
     ]
    },
    {
     "data": {
      "application/vnd.plotly.v1+json": {
       "config": {
        "plotlyServerURL": "https://plot.ly"
       },
       "data": [
        {
         "dimensions": [
          {
           "axis": {
            "matches": true
           },
           "label": "Flavour_Release",
           "values": [
            "The flavors are released quickly, providing an immediate burst of sweetness and carbonation.",
            "The flavors are released quickly, providing an immediate burst of sweetness and carbonation.",
            "The flavors are released quickly, providing an immediate burst of sweetness and carbonation."
           ]
          },
          {
           "axis": {
            "matches": true
           },
           "label": "Aroma",
           "values": [
            "A sweet, slightly spicy aroma with notes of caramel and vanilla.",
            "A sweet, slightly spicy aroma with notes of caramel and vanilla.",
            "A sweet, slightly spicy aroma with notes of caramel and vanilla."
           ]
          }
         ],
         "hovertemplate": "ProductName=Coca - Cola Classic  Soft Drink Multipack Cans<br>%{xaxis.title.text}=%{x}<br>%{yaxis.title.text}=%{y}<extra></extra>",
         "legendgroup": "Coca - Cola Classic  Soft Drink Multipack Cans",
         "marker": {
          "color": "#636efa",
          "symbol": "circle"
         },
         "name": "Coca - Cola Classic  Soft Drink Multipack Cans",
         "showlegend": true,
         "type": "splom"
        },
        {
         "dimensions": [
          {
           "axis": {
            "matches": true
           },
           "label": "Flavour_Release",
           "values": [
            "The flavors are released quickly, providing an immediate burst of sweetness and carbonation."
           ]
          },
          {
           "axis": {
            "matches": true
           },
           "label": "Aroma",
           "values": [
            "A sweet, slightly spicy aroma with notes of caramel and vanilla."
           ]
          }
         ],
         "hovertemplate": "ProductName=Coca - Cola Classic  Soft Drink Mini Cans<br>%{xaxis.title.text}=%{x}<br>%{yaxis.title.text}=%{y}<extra></extra>",
         "legendgroup": "Coca - Cola Classic  Soft Drink Mini Cans",
         "marker": {
          "color": "#EF553B",
          "symbol": "circle"
         },
         "name": "Coca - Cola Classic  Soft Drink Mini Cans",
         "showlegend": true,
         "type": "splom"
        },
        {
         "dimensions": [
          {
           "axis": {
            "matches": true
           },
           "label": "Flavour_Release",
           "values": [
            "The flavors are released quickly, providing an immediate burst of sweetness and carbonation."
           ]
          },
          {
           "axis": {
            "matches": true
           },
           "label": "Aroma",
           "values": [
            "A sweet, slightly spicy aroma with notes of caramel and vanilla."
           ]
          }
         ],
         "hovertemplate": "ProductName=Coca - Cola Vanilla  Soft Drink Multipack Cans<br>%{xaxis.title.text}=%{x}<br>%{yaxis.title.text}=%{y}<extra></extra>",
         "legendgroup": "Coca - Cola Vanilla  Soft Drink Multipack Cans",
         "marker": {
          "color": "#00cc96",
          "symbol": "circle"
         },
         "name": "Coca - Cola Vanilla  Soft Drink Multipack Cans",
         "showlegend": true,
         "type": "splom"
        },
        {
         "dimensions": [
          {
           "axis": {
            "matches": true
           },
           "label": "Flavour_Release",
           "values": [
            "The flavour is released quickly due to carbonation",
            "The flavour is released quickly due to carbonation",
            "The flavour is released quickly due to carbonation"
           ]
          },
          {
           "axis": {
            "matches": true
           },
           "label": "Aroma",
           "values": [
            "Strong cola scent with a hint of sweetness",
            "Strong cola scent with a hint of sweetness",
            "Strong cola scent with a hint of sweetness"
           ]
          }
         ],
         "hovertemplate": "ProductName=Coca - Cola Zero Sugar Soft Drink Multipack Cans<br>%{xaxis.title.text}=%{x}<br>%{yaxis.title.text}=%{y}<extra></extra>",
         "legendgroup": "Coca - Cola Zero Sugar Soft Drink Multipack Cans",
         "marker": {
          "color": "#ab63fa",
          "symbol": "circle"
         },
         "name": "Coca - Cola Zero Sugar Soft Drink Multipack Cans",
         "showlegend": true,
         "type": "splom"
        },
        {
         "dimensions": [
          {
           "axis": {
            "matches": true
           },
           "label": "Flavour_Release",
           "values": [
            "The flavour is released quickly due to the carbonation, providing an immediate burst of sweetness"
           ]
          },
          {
           "axis": {
            "matches": true
           },
           "label": "Aroma",
           "values": [
            "Strong, sweet cola scent"
           ]
          }
         ],
         "hovertemplate": "ProductName=Coca - Cola Caffeine Free Zero Sugar Soft Drink Multipack Cans<br>%{xaxis.title.text}=%{x}<br>%{yaxis.title.text}=%{y}<extra></extra>",
         "legendgroup": "Coca - Cola Caffeine Free Zero Sugar Soft Drink Multipack Cans",
         "marker": {
          "color": "#FFA15A",
          "symbol": "circle"
         },
         "name": "Coca - Cola Caffeine Free Zero Sugar Soft Drink Multipack Cans",
         "showlegend": true,
         "type": "splom"
        },
        {
         "dimensions": [
          {
           "axis": {
            "matches": true
           },
           "label": "Flavour_Release",
           "values": [
            "The flavors are released gradually, allowing for a full sensory experience"
           ]
          },
          {
           "axis": {
            "matches": true
           },
           "label": "Aroma",
           "values": [
            "A sweet, slightly spicy cola scent"
           ]
          }
         ],
         "hovertemplate": "ProductName=Coca - Cola Zero Sugar Soft Drink Mini Cans<br>%{xaxis.title.text}=%{x}<br>%{yaxis.title.text}=%{y}<extra></extra>",
         "legendgroup": "Coca - Cola Zero Sugar Soft Drink Mini Cans",
         "marker": {
          "color": "#19d3f3",
          "symbol": "circle"
         },
         "name": "Coca - Cola Zero Sugar Soft Drink Mini Cans",
         "showlegend": true,
         "type": "splom"
        },
        {
         "dimensions": [
          {
           "axis": {
            "matches": true
           },
           "label": "Flavour_Release",
           "values": [
            "The flavors are released immediately upon eating and linger in the mouth for a while."
           ]
          },
          {
           "axis": {
            "matches": true
           },
           "label": "Aroma",
           "values": [
            "The noodles have a savory aroma, the seasoning powder has a sweet and savory aroma, the seasoning oil has a savory aroma, the sweet soy sauce has a sweet and savory aroma, and the chilli sauce has a spicy aroma. The fried onion has a sweet and savory aroma."
           ]
          }
         ],
         "hovertemplate": "ProductName=Indomie Mi Goreng Instant Noodles<br>%{xaxis.title.text}=%{x}<br>%{yaxis.title.text}=%{y}<extra></extra>",
         "legendgroup": "Indomie Mi Goreng Instant Noodles",
         "marker": {
          "color": "#FF6692",
          "symbol": "circle"
         },
         "name": "Indomie Mi Goreng Instant Noodles",
         "showlegend": true,
         "type": "splom"
        },
        {
         "dimensions": [
          {
           "axis": {
            "matches": true
           },
           "label": "Flavour_Release",
           "values": [
            "The flavour of the noodles is released immediately upon contact with the tongue, thanks to the flavour enhancers in the flavour mix sachet.",
            "The flavour is released slowly, with the initial flavors of the noodles becoming more pronounced as the flavour sachet is added."
           ]
          },
          {
           "axis": {
            "matches": true
           },
           "label": "Aroma",
           "values": [
            "The noodles have a strong aroma of spices and chicken, thanks to the flavour mix sachet.",
            "The noodles have a strong aroma of chicken and spices. The flavour sachet adds a savory aroma."
           ]
          }
         ],
         "hovertemplate": "ProductName=Maggi 2 Minute Chicken Flavour Instant Noodles<br>%{xaxis.title.text}=%{x}<br>%{yaxis.title.text}=%{y}<extra></extra>",
         "legendgroup": "Maggi 2 Minute Chicken Flavour Instant Noodles",
         "marker": {
          "color": "#B6E880",
          "symbol": "circle"
         },
         "name": "Maggi 2 Minute Chicken Flavour Instant Noodles",
         "showlegend": true,
         "type": "splom"
        },
        {
         "dimensions": [
          {
           "axis": {
            "matches": true
           },
           "label": "Flavour_Release",
           "values": [
            "The flavors are released gradually, with the initial taste being the savory chicken soup followed by the wheat noodles."
           ]
          },
          {
           "axis": {
            "matches": true
           },
           "label": "Aroma",
           "values": [
            "The aroma is a mix of wheat and a savory chicken scent with a hint of spices."
           ]
          }
         ],
         "hovertemplate": "ProductName=Supreme Noodles Cup Chicken Flavour<br>%{xaxis.title.text}=%{x}<br>%{yaxis.title.text}=%{y}<extra></extra>",
         "legendgroup": "Supreme Noodles Cup Chicken Flavour",
         "marker": {
          "color": "#FF97FF",
          "symbol": "circle"
         },
         "name": "Supreme Noodles Cup Chicken Flavour",
         "showlegend": true,
         "type": "splom"
        },
        {
         "dimensions": [
          {
           "axis": {
            "matches": true
           },
           "label": "Flavour_Release",
           "values": [
            "The flavors are released gradually, allowing for a full sensory experience"
           ]
          },
          {
           "axis": {
            "matches": true
           },
           "label": "Aroma",
           "values": [
            "Aromatic herbs and chicken with a hint of onion"
           ]
          }
         ],
         "hovertemplate": "ProductName=Fantastic Chicken Noodle Cup<br>%{xaxis.title.text}=%{x}<br>%{yaxis.title.text}=%{y}<extra></extra>",
         "legendgroup": "Fantastic Chicken Noodle Cup",
         "marker": {
          "color": "#FECB52",
          "symbol": "circle"
         },
         "name": "Fantastic Chicken Noodle Cup",
         "showlegend": true,
         "type": "splom"
        },
        {
         "dimensions": [
          {
           "axis": {
            "matches": true
           },
           "label": "Flavour_Release",
           "values": [
            "The flavour release is gradual, with the initial taste being that of the noodles and the full flavour profile emerging as the sachet is added."
           ]
          },
          {
           "axis": {
            "matches": true
           },
           "label": "Aroma",
           "values": [
            "The aroma is a blend of savoury and spicy notes, with a hint of vegetal scent from the dehydrated vegetables."
           ]
          }
         ],
         "hovertemplate": "ProductName=Fantastic Chicken Noodle Bowl<br>%{xaxis.title.text}=%{x}<br>%{yaxis.title.text}=%{y}<extra></extra>",
         "legendgroup": "Fantastic Chicken Noodle Bowl",
         "marker": {
          "color": "#636efa",
          "symbol": "circle"
         },
         "name": "Fantastic Chicken Noodle Bowl",
         "showlegend": true,
         "type": "splom"
        },
        {
         "dimensions": [
          {
           "axis": {
            "matches": true
           },
           "label": "Flavour_Release",
           "values": [
            "The flavours are released gradually, with the initial taste being the savory noodles and the spiciness of the chilli sauce building over time."
           ]
          },
          {
           "axis": {
            "matches": true
           },
           "label": "Aroma",
           "values": [
            "Aromatic and savory, with notes of onion and garlic."
           ]
          }
         ],
         "hovertemplate": "ProductName=Indomie Mi Goreng Noodle Cup<br>%{xaxis.title.text}=%{x}<br>%{yaxis.title.text}=%{y}<extra></extra>",
         "legendgroup": "Indomie Mi Goreng Noodle Cup",
         "marker": {
          "color": "#EF553B",
          "symbol": "circle"
         },
         "name": "Indomie Mi Goreng Noodle Cup",
         "showlegend": true,
         "type": "splom"
        },
        {
         "dimensions": [
          {
           "axis": {
            "matches": true
           },
           "label": "Flavour_Release",
           "values": [
            "The flavour is released immediately upon eating, with the noodles providing a steady release of savoury flavour and the flavour sachet adding bursts of sweet and spicy flavour."
           ]
          },
          {
           "axis": {
            "matches": true
           },
           "label": "Aroma",
           "values": [
            "The noodles have a strong savoury aroma with a hint of beef and rosemary. The flavour sachet adds a sweet and slightly spicy aroma."
           ]
          }
         ],
         "hovertemplate": "ProductName=Maggi 2 Minute Beef Flavour Instant Noodles<br>%{xaxis.title.text}=%{x}<br>%{yaxis.title.text}=%{y}<extra></extra>",
         "legendgroup": "Maggi 2 Minute Beef Flavour Instant Noodles",
         "marker": {
          "color": "#00cc96",
          "symbol": "circle"
         },
         "name": "Maggi 2 Minute Beef Flavour Instant Noodles",
         "showlegend": true,
         "type": "splom"
        },
        {
         "dimensions": [
          {
           "axis": {
            "matches": true
           },
           "label": "Flavour_Release",
           "values": [
            "The flavors are released gradually, with the beef flavor becoming more pronounced as you eat"
           ]
          },
          {
           "axis": {
            "matches": true
           },
           "label": "Aroma",
           "values": [
            "Beefy, savory aroma with a hint of spices"
           ]
          }
         ],
         "hovertemplate": "ProductName=Supreme Noodles Cup Beef Flavour<br>%{xaxis.title.text}=%{x}<br>%{yaxis.title.text}=%{y}<extra></extra>",
         "legendgroup": "Supreme Noodles Cup Beef Flavour",
         "marker": {
          "color": "#ab63fa",
          "symbol": "circle"
         },
         "name": "Supreme Noodles Cup Beef Flavour",
         "showlegend": true,
         "type": "splom"
        },
        {
         "dimensions": [
          {
           "axis": {
            "matches": true
           },
           "label": "Flavour_Release",
           "values": [
            "The flavors are released gradually, allowing for a full appreciation of the lime notes."
           ]
          },
          {
           "axis": {
            "matches": true
           },
           "label": "Aroma",
           "values": [
            "Fresh and zesty lime scent."
           ]
          }
         ],
         "hovertemplate": "ProductName=Schweppes Zero Sugar Lime Infused Mineral Water Bottle<br>%{xaxis.title.text}=%{x}<br>%{yaxis.title.text}=%{y}<extra></extra>",
         "legendgroup": "Schweppes Zero Sugar Lime Infused Mineral Water Bottle",
         "marker": {
          "color": "#FFA15A",
          "symbol": "circle"
         },
         "name": "Schweppes Zero Sugar Lime Infused Mineral Water Bottle",
         "showlegend": true,
         "type": "splom"
        },
        {
         "dimensions": [
          {
           "axis": {
            "matches": true
           },
           "label": "Flavour_Release",
           "values": [
            "The flavors are released gradually, allowing for a full appreciation of the lime notes."
           ]
          },
          {
           "axis": {
            "matches": true
           },
           "label": "Aroma",
           "values": [
            "Fresh and zesty lime scent."
           ]
          }
         ],
         "hovertemplate": "ProductName=Schweppes Raspberry Infused Natural Mineral Water Bottle<br>%{xaxis.title.text}=%{x}<br>%{yaxis.title.text}=%{y}<extra></extra>",
         "legendgroup": "Schweppes Raspberry Infused Natural Mineral Water Bottle",
         "marker": {
          "color": "#19d3f3",
          "symbol": "circle"
         },
         "name": "Schweppes Raspberry Infused Natural Mineral Water Bottle",
         "showlegend": true,
         "type": "splom"
        },
        {
         "dimensions": [
          {
           "axis": {
            "matches": true
           },
           "label": "Flavour_Release",
           "values": [
            "Gradual and consistent"
           ]
          },
          {
           "axis": {
            "matches": true
           },
           "label": "Aroma",
           "values": [
            "Subtle mineral notes"
           ]
          }
         ],
         "hovertemplate": "ProductName=Schweppes Natural Mineral Water Bottle Natural<br>%{xaxis.title.text}=%{x}<br>%{yaxis.title.text}=%{y}<extra></extra>",
         "legendgroup": "Schweppes Natural Mineral Water Bottle Natural",
         "marker": {
          "color": "#FF6692",
          "symbol": "circle"
         },
         "name": "Schweppes Natural Mineral Water Bottle Natural",
         "showlegend": true,
         "type": "splom"
        },
        {
         "dimensions": [
          {
           "axis": {
            "matches": true
           },
           "label": "Flavour_Release",
           "values": [
            "Rapid flavor release due to carbonation."
           ]
          },
          {
           "axis": {
            "matches": true
           },
           "label": "Aroma",
           "values": [
            "Subtle, clean scent with a hint of minerality."
           ]
          }
         ],
         "hovertemplate": "ProductName=Schweppes Soda Water Bottle Classic Mixers<br>%{xaxis.title.text}=%{x}<br>%{yaxis.title.text}=%{y}<extra></extra>",
         "legendgroup": "Schweppes Soda Water Bottle Classic Mixers",
         "marker": {
          "color": "#B6E880",
          "symbol": "circle"
         },
         "name": "Schweppes Soda Water Bottle Classic Mixers",
         "showlegend": true,
         "type": "splom"
        },
        {
         "dimensions": [
          {
           "axis": {
            "matches": true
           },
           "label": "Flavour_Release",
           "values": [
            "The flavors are released immediately due to the carbonation, with the bitterness becoming more pronounced as the drink sits."
           ]
          },
          {
           "axis": {
            "matches": true
           },
           "label": "Aroma",
           "values": [
            "A subtle citrus scent from the natural flavors and lemon peel extract."
           ]
          }
         ],
         "hovertemplate": "ProductName=Schweppes Indian Tonic Water Classic Mixers Bottle<br>%{xaxis.title.text}=%{x}<br>%{yaxis.title.text}=%{y}<extra></extra>",
         "legendgroup": "Schweppes Indian Tonic Water Classic Mixers Bottle",
         "marker": {
          "color": "#FF97FF",
          "symbol": "circle"
         },
         "name": "Schweppes Indian Tonic Water Classic Mixers Bottle",
         "showlegend": true,
         "type": "splom"
        },
        {
         "dimensions": [
          {
           "axis": {
            "matches": true
           },
           "label": "Flavour_Release",
           "values": [
            "The flavors are released immediately, with the lime flavor becoming more pronounced as the drink settles."
           ]
          },
          {
           "axis": {
            "matches": true
           },
           "label": "Aroma",
           "values": [
            "Strong, tangy lime scent."
           ]
          }
         ],
         "hovertemplate": "ProductName=Schweppes Lime Soda Water With Lime Juice Bottle<br>%{xaxis.title.text}=%{x}<br>%{yaxis.title.text}=%{y}<extra></extra>",
         "legendgroup": "Schweppes Lime Soda Water With Lime Juice Bottle",
         "marker": {
          "color": "#FECB52",
          "symbol": "circle"
         },
         "name": "Schweppes Lime Soda Water With Lime Juice Bottle",
         "showlegend": true,
         "type": "splom"
        },
        {
         "dimensions": [
          {
           "axis": {
            "matches": true
           },
           "label": "Flavour_Release",
           "values": [
            "Immediate release of flavors that linger on the palate"
           ]
          },
          {
           "axis": {
            "matches": true
           },
           "label": "Aroma",
           "values": [
            "Aromatic with a strong scent of quinine and a hint of citrus"
           ]
          }
         ],
         "hovertemplate": "ProductName=Schweppes Zero Sugar Classic Mixers Indian Tonic Water Bottle<br>%{xaxis.title.text}=%{x}<br>%{yaxis.title.text}=%{y}<extra></extra>",
         "legendgroup": "Schweppes Zero Sugar Classic Mixers Indian Tonic Water Bottle",
         "marker": {
          "color": "#636efa",
          "symbol": "circle"
         },
         "name": "Schweppes Zero Sugar Classic Mixers Indian Tonic Water Bottle",
         "showlegend": true,
         "type": "splom"
        },
        {
         "dimensions": [
          {
           "axis": {
            "matches": true
           },
           "label": "Flavour_Release",
           "values": [
            "The flavors are released immediately, providing an instant burst of taste"
           ]
          },
          {
           "axis": {
            "matches": true
           },
           "label": "Aroma",
           "values": [
            "Fresh, citrusy scent"
           ]
          }
         ],
         "hovertemplate": "ProductName=Schweppes Lemon Lime Natural Mineral Water Bottle<br>%{xaxis.title.text}=%{x}<br>%{yaxis.title.text}=%{y}<extra></extra>",
         "legendgroup": "Schweppes Lemon Lime Natural Mineral Water Bottle",
         "marker": {
          "color": "#EF553B",
          "symbol": "circle"
         },
         "name": "Schweppes Lemon Lime Natural Mineral Water Bottle",
         "showlegend": true,
         "type": "splom"
        },
        {
         "dimensions": [
          {
           "axis": {
            "matches": true
           },
           "label": "Flavour_Release",
           "values": [
            "The flavors are released gradually, with the carbonation enhancing the fruity taste"
           ]
          },
          {
           "axis": {
            "matches": true
           },
           "label": "Aroma",
           "values": [
            "Fruity and slightly tangy, with notes of fresh orange and mango"
           ]
          }
         ],
         "hovertemplate": "ProductName=Schweppes Orange Mango Natural Mineral Water Bottle<br>%{xaxis.title.text}=%{x}<br>%{yaxis.title.text}=%{y}<extra></extra>",
         "legendgroup": "Schweppes Orange Mango Natural Mineral Water Bottle",
         "marker": {
          "color": "#00cc96",
          "symbol": "circle"
         },
         "name": "Schweppes Orange Mango Natural Mineral Water Bottle",
         "showlegend": true,
         "type": "splom"
        },
        {
         "dimensions": [
          {
           "axis": {
            "matches": true
           },
           "label": "Flavour_Release",
           "values": [
            "The milk chocolate melts smoothly, releasing its creamy sweetness, while the wafer adds a satisfying crunch."
           ]
          },
          {
           "axis": {
            "matches": true
           },
           "label": "Aroma",
           "values": [
            "The aroma is rich and inviting, with notes of sweet chocolate and a hint of cocoa."
           ]
          }
         ],
         "hovertemplate": "ProductName=Kitkat 4 Finger Milk Chocolate Bar<br>%{xaxis.title.text}=%{x}<br>%{yaxis.title.text}=%{y}<extra></extra>",
         "legendgroup": "Kitkat 4 Finger Milk Chocolate Bar",
         "marker": {
          "color": "#ab63fa",
          "symbol": "circle"
         },
         "name": "Kitkat 4 Finger Milk Chocolate Bar",
         "showlegend": true,
         "type": "splom"
        },
        {
         "dimensions": [
          {
           "axis": {
            "matches": true
           },
           "label": "Flavour_Release",
           "values": [
            "The flavour is released slowly, with the chocolate melting gradually to reveal the wafer underneath."
           ]
          },
          {
           "axis": {
            "matches": true
           },
           "label": "Aroma",
           "values": [
            "The aroma is rich and chocolatey, with a hint of sweetness."
           ]
          }
         ],
         "hovertemplate": "ProductName=Kitkat Chunky Original Chocolate Bar<br>%{xaxis.title.text}=%{x}<br>%{yaxis.title.text}=%{y}<extra></extra>",
         "legendgroup": "Kitkat Chunky Original Chocolate Bar",
         "marker": {
          "color": "#FFA15A",
          "symbol": "circle"
         },
         "name": "Kitkat Chunky Original Chocolate Bar",
         "showlegend": true,
         "type": "splom"
        },
        {
         "dimensions": [
          {
           "axis": {
            "matches": true
           },
           "label": "Flavour_Release",
           "values": [
            "The flavors blend well together, with the chocolate and caramel releasing gradually."
           ]
          },
          {
           "axis": {
            "matches": true
           },
           "label": "Aroma",
           "values": [
            "Sweet and milky aroma with hints of caramel."
           ]
          }
         ],
         "hovertemplate": "ProductName=Cadbury Dairy Milk Caramello Koala Chocolate<br>%{xaxis.title.text}=%{x}<br>%{yaxis.title.text}=%{y}<extra></extra>",
         "legendgroup": "Cadbury Dairy Milk Caramello Koala Chocolate",
         "marker": {
          "color": "#19d3f3",
          "symbol": "circle"
         },
         "name": "Cadbury Dairy Milk Caramello Koala Chocolate",
         "showlegend": true,
         "type": "splom"
        },
        {
         "dimensions": [
          {
           "axis": {
            "matches": true
           },
           "label": "Flavour_Release",
           "values": [
            "The chocolate and caramel flavors are released quickly, while the biscuit flavor becomes more pronounced as you chew."
           ]
          },
          {
           "axis": {
            "matches": true
           },
           "label": "Aroma",
           "values": [
            "A rich, inviting scent of chocolate and caramel."
           ]
          }
         ],
         "hovertemplate": "ProductName=Twix Milk Chocolate Bar With Caramel Biscuit<br>%{xaxis.title.text}=%{x}<br>%{yaxis.title.text}=%{y}<extra></extra>",
         "legendgroup": "Twix Milk Chocolate Bar With Caramel Biscuit",
         "marker": {
          "color": "#FF6692",
          "symbol": "circle"
         },
         "name": "Twix Milk Chocolate Bar With Caramel Biscuit",
         "showlegend": true,
         "type": "splom"
        },
        {
         "dimensions": [
          {
           "axis": {
            "matches": true
           },
           "label": "Flavour_Release",
           "values": [
            "The flavors are released gradually, with the chocolate melting first, followed by the caramel and nougat."
           ]
          },
          {
           "axis": {
            "matches": true
           },
           "label": "Aroma",
           "values": [
            "The product has a strong, sweet chocolate aroma with hints of caramel and nougat."
           ]
          }
         ],
         "hovertemplate": "ProductName=Mars Chocolate Bar With Nougat & Caramel<br>%{xaxis.title.text}=%{x}<br>%{yaxis.title.text}=%{y}<extra></extra>",
         "legendgroup": "Mars Chocolate Bar With Nougat & Caramel",
         "marker": {
          "color": "#B6E880",
          "symbol": "circle"
         },
         "name": "Mars Chocolate Bar With Nougat & Caramel",
         "showlegend": true,
         "type": "splom"
        },
        {
         "dimensions": [
          {
           "axis": {
            "matches": true
           },
           "label": "Flavour_Release",
           "values": [
            "The flavour release is gradual and consistent, allowing consumers to enjoy the taste experience over an extended period."
           ]
          },
          {
           "axis": {
            "matches": true
           },
           "label": "Aroma",
           "values": [
            "The aroma is a delightful mix of sweet and creamy chocolate with a hint of cocoa, inviting consumers to indulge in its taste."
           ]
          }
         ],
         "hovertemplate": "ProductName=Cadbury Dairy Milk Chocolate Roll<br>%{xaxis.title.text}=%{x}<br>%{yaxis.title.text}=%{y}<extra></extra>",
         "legendgroup": "Cadbury Dairy Milk Chocolate Roll",
         "marker": {
          "color": "#FF97FF",
          "symbol": "circle"
         },
         "name": "Cadbury Dairy Milk Chocolate Roll",
         "showlegend": true,
         "type": "splom"
        },
        {
         "dimensions": [
          {
           "axis": {
            "matches": true
           },
           "label": "Flavour_Release",
           "values": [
            "The flavour release is gradual and consistent, allowing consumers to enjoy the taste experience over an extended period."
           ]
          },
          {
           "axis": {
            "matches": true
           },
           "label": "Aroma",
           "values": [
            "The aroma is a delightful mix of sweet and creamy chocolate with a hint of cocoa, inviting consumers to indulge in its taste."
           ]
          }
         ],
         "hovertemplate": "ProductName=Cadbury Dairy Milk Chocolate Bar<br>%{xaxis.title.text}=%{x}<br>%{yaxis.title.text}=%{y}<extra></extra>",
         "legendgroup": "Cadbury Dairy Milk Chocolate Bar",
         "marker": {
          "color": "#FECB52",
          "symbol": "circle"
         },
         "name": "Cadbury Dairy Milk Chocolate Bar",
         "showlegend": true,
         "type": "splom"
        },
        {
         "dimensions": [
          {
           "axis": {
            "matches": true
           },
           "label": "Flavour_Release",
           "values": [
            "The flavour release is gradual and consistent, allowing consumers to enjoy the taste experience over an extended period."
           ]
          },
          {
           "axis": {
            "matches": true
           },
           "label": "Aroma",
           "values": [
            "The aroma is a delightful mix of sweet and creamy chocolate with a hint of cocoa, inviting consumers to indulge in its taste."
           ]
          }
         ],
         "hovertemplate": "ProductName=Cadbury Twirl Chocolate Bar<br>%{xaxis.title.text}=%{x}<br>%{yaxis.title.text}=%{y}<extra></extra>",
         "legendgroup": "Cadbury Twirl Chocolate Bar",
         "marker": {
          "color": "#636efa",
          "symbol": "circle"
         },
         "name": "Cadbury Twirl Chocolate Bar",
         "showlegend": true,
         "type": "splom"
        },
        {
         "dimensions": [
          {
           "axis": {
            "matches": true
           },
           "label": "Flavour_Release",
           "values": [
            "The flavors are released gradually, with the chocolate melting first to reveal the chewy center."
           ]
          },
          {
           "axis": {
            "matches": true
           },
           "label": "Aroma",
           "values": [
            "The aroma is rich and chocolatey, with hints of caramel."
           ]
          }
         ],
         "hovertemplate": "ProductName=Cadbury Chomp Chocolate Bar<br>%{xaxis.title.text}=%{x}<br>%{yaxis.title.text}=%{y}<extra></extra>",
         "legendgroup": "Cadbury Chomp Chocolate Bar",
         "marker": {
          "color": "#EF553B",
          "symbol": "circle"
         },
         "name": "Cadbury Chomp Chocolate Bar",
         "showlegend": true,
         "type": "splom"
        },
        {
         "dimensions": [
          {
           "axis": {
            "matches": true
           },
           "label": "Flavour_Release",
           "values": [
            "The chocolate chips release their flavour as they melt, complementing the buttery cookie base"
           ]
          },
          {
           "axis": {
            "matches": true
           },
           "label": "Aroma",
           "values": [
            "Buttery, sweet, and chocolatey scent"
           ]
          }
         ],
         "hovertemplate": "ProductName=Arnott's Premier Chocolate Chip Cookies<br>%{xaxis.title.text}=%{x}<br>%{yaxis.title.text}=%{y}<extra></extra>",
         "legendgroup": "Arnott's Premier Chocolate Chip Cookies",
         "marker": {
          "color": "#00cc96",
          "symbol": "circle"
         },
         "name": "Arnott's Premier Chocolate Chip Cookies",
         "showlegend": true,
         "type": "splom"
        },
        {
         "dimensions": [
          {
           "axis": {
            "matches": true
           },
           "label": "Flavour_Release",
           "values": [
            "The flavors are released gradually, with the chocolate flavor becoming more pronounced as the cookie melts in the mouth."
           ]
          },
          {
           "axis": {
            "matches": true
           },
           "label": "Aroma",
           "values": [
            "A sweet, baked aroma with hints of chocolate."
           ]
          }
         ],
         "hovertemplate": "ProductName=Woolworths Chocolate Chip Cookies<br>%{xaxis.title.text}=%{x}<br>%{yaxis.title.text}=%{y}<extra></extra>",
         "legendgroup": "Woolworths Chocolate Chip Cookies",
         "marker": {
          "color": "#ab63fa",
          "symbol": "circle"
         },
         "name": "Woolworths Chocolate Chip Cookies",
         "showlegend": true,
         "type": "splom"
        },
        {
         "dimensions": [
          {
           "axis": {
            "matches": true
           },
           "label": "Flavour_Release",
           "values": [
            "The dark chocolate flavour is released immediately, while the cookie dough flavour develops over time."
           ]
          },
          {
           "axis": {
            "matches": true
           },
           "label": "Aroma",
           "values": [
            "Sweet, buttery, and chocolaty."
           ]
          }
         ],
         "hovertemplate": "ProductName=Woolworths The King Of Chunky Chocolate Chip Cookies<br>%{xaxis.title.text}=%{x}<br>%{yaxis.title.text}=%{y}<extra></extra>",
         "legendgroup": "Woolworths The King Of Chunky Chocolate Chip Cookies",
         "marker": {
          "color": "#FFA15A",
          "symbol": "circle"
         },
         "name": "Woolworths The King Of Chunky Chocolate Chip Cookies",
         "showlegend": true,
         "type": "splom"
        },
        {
         "dimensions": [
          {
           "axis": {
            "matches": true
           },
           "label": "Flavour_Release",
           "values": [
            "The chocolate flavour is released immediately, while the cookie flavour develops over time"
           ]
          },
          {
           "axis": {
            "matches": true
           },
           "label": "Aroma",
           "values": [
            "Buttery, sweet, and chocolatey scent"
           ]
          }
         ],
         "hovertemplate": "ProductName=Arnott's Mini Choc Chip Cookie Multipack Biscuits<br>%{xaxis.title.text}=%{x}<br>%{yaxis.title.text}=%{y}<extra></extra>",
         "legendgroup": "Arnott's Mini Choc Chip Cookie Multipack Biscuits",
         "marker": {
          "color": "#19d3f3",
          "symbol": "circle"
         },
         "name": "Arnott's Mini Choc Chip Cookie Multipack Biscuits",
         "showlegend": true,
         "type": "splom"
        },
        {
         "dimensions": [
          {
           "axis": {
            "matches": true
           },
           "label": "Flavour_Release",
           "values": [
            "The flavour is released immediately upon biting into the cookie, with the sweetness of the creme intensifying as it mixes with saliva."
           ]
          },
          {
           "axis": {
            "matches": true
           },
           "label": "Aroma",
           "values": [
            "The aroma is a comforting blend of sweet cocoa and vanilla."
           ]
          }
         ],
         "hovertemplate": "ProductName=Oreo Original Mini Cookies Multipack<br>%{xaxis.title.text}=%{x}<br>%{yaxis.title.text}=%{y}<extra></extra>",
         "legendgroup": "Oreo Original Mini Cookies Multipack",
         "marker": {
          "color": "#FF6692",
          "symbol": "circle"
         },
         "name": "Oreo Original Mini Cookies Multipack",
         "showlegend": true,
         "type": "splom"
        },
        {
         "dimensions": [
          {
           "axis": {
            "matches": true
           },
           "label": "Flavour_Release",
           "values": [
            "The flavors are released immediately upon biting into the cookie."
           ]
          },
          {
           "axis": {
            "matches": true
           },
           "label": "Aroma",
           "values": [
            "The cookies have a sweet and chocolatey aroma."
           ]
          }
         ],
         "hovertemplate": "ProductName=Oreo Minis Cookies Variety Bags 18 Pack<br>%{xaxis.title.text}=%{x}<br>%{yaxis.title.text}=%{y}<extra></extra>",
         "legendgroup": "Oreo Minis Cookies Variety Bags 18 Pack",
         "marker": {
          "color": "#B6E880",
          "symbol": "circle"
         },
         "name": "Oreo Minis Cookies Variety Bags 18 Pack",
         "showlegend": true,
         "type": "splom"
        },
        {
         "dimensions": [
          {
           "axis": {
            "matches": true
           },
           "label": "Flavour_Release",
           "values": [
            "The flavors are released gradually, with the chocolate melting in the mouth"
           ]
          },
          {
           "axis": {
            "matches": true
           },
           "label": "Aroma",
           "values": [
            "Sweet, baked cookie aroma with a hint of chocolate"
           ]
          }
         ],
         "hovertemplate": "ProductName=Cadbury Classic Choc Chip Cookies<br>%{xaxis.title.text}=%{x}<br>%{yaxis.title.text}=%{y}<extra></extra>",
         "legendgroup": "Cadbury Classic Choc Chip Cookies",
         "marker": {
          "color": "#FF97FF",
          "symbol": "circle"
         },
         "name": "Cadbury Classic Choc Chip Cookies",
         "showlegend": true,
         "type": "splom"
        },
        {
         "dimensions": [
          {
           "axis": {
            "matches": true
           },
           "label": "Flavour_Release",
           "values": [
            "The chocolate flavor is released immediately, while the cookie flavor develops over time."
           ]
          },
          {
           "axis": {
            "matches": true
           },
           "label": "Aroma",
           "values": [
            "A sweet, chocolatey scent with a hint of butter and sugar."
           ]
          }
         ],
         "hovertemplate": "ProductName=Cadbury Choc Centre Cookies<br>%{xaxis.title.text}=%{x}<br>%{yaxis.title.text}=%{y}<extra></extra>",
         "legendgroup": "Cadbury Choc Centre Cookies",
         "marker": {
          "color": "#FECB52",
          "symbol": "circle"
         },
         "name": "Cadbury Choc Centre Cookies",
         "showlegend": true,
         "type": "splom"
        },
        {
         "dimensions": [
          {
           "axis": {
            "matches": true
           },
           "label": "Flavour_Release",
           "values": [
            "The flavors are released gradually, with the chocolate flavor becoming more pronounced as you chew."
           ]
          },
          {
           "axis": {
            "matches": true
           },
           "label": "Aroma",
           "values": [
            "The aroma is sweet and buttery, with a hint of chocolate."
           ]
          }
         ],
         "hovertemplate": "ProductName=Byron Bay Cookies Dotty Cookie Bites<br>%{xaxis.title.text}=%{x}<br>%{yaxis.title.text}=%{y}<extra></extra>",
         "legendgroup": "Byron Bay Cookies Dotty Cookie Bites",
         "marker": {
          "color": "#636efa",
          "symbol": "circle"
         },
         "name": "Byron Bay Cookies Dotty Cookie Bites",
         "showlegend": true,
         "type": "splom"
        },
        {
         "dimensions": [
          {
           "axis": {
            "matches": true
           },
           "label": "Flavour_Release",
           "values": [
            "The flavors are released gradually, with the initial taste of the wafers giving way to the sweetness of the creme filling."
           ]
          },
          {
           "axis": {
            "matches": true
           },
           "label": "Aroma",
           "values": [
            "A sweet, inviting scent of cocoa and vanilla."
           ]
          }
         ],
         "hovertemplate": "ProductName=Oreo Original Cookies<br>%{xaxis.title.text}=%{x}<br>%{yaxis.title.text}=%{y}<extra></extra>",
         "legendgroup": "Oreo Original Cookies",
         "marker": {
          "color": "#EF553B",
          "symbol": "circle"
         },
         "name": "Oreo Original Cookies",
         "showlegend": true,
         "type": "splom"
        },
        {
         "dimensions": [
          {
           "axis": {
            "matches": true
           },
           "label": "Flavour_Release",
           "values": [
            null
           ]
          },
          {
           "axis": {
            "matches": true
           },
           "label": "Aroma",
           "values": [
            "No discernible aroma"
           ]
          }
         ],
         "hovertemplate": "ProductName=Rimmel Scandaleyes Eye Definer Brown<br>%{xaxis.title.text}=%{x}<br>%{yaxis.title.text}=%{y}<extra></extra>",
         "legendgroup": "Rimmel Scandaleyes Eye Definer Brown",
         "marker": {
          "color": "#00cc96",
          "symbol": "circle"
         },
         "name": "Rimmel Scandaleyes Eye Definer Brown",
         "showlegend": true,
         "type": "splom"
        },
        {
         "dimensions": [
          {
           "axis": {
            "matches": true
           },
           "label": "Flavour_Release",
           "values": [
            "The flavors are released immediately upon sipping, with the sweetness of the apple juice being more pronounced initially, followed by the tangy notes of the citric acid."
           ]
          },
          {
           "axis": {
            "matches": true
           },
           "label": "Aroma",
           "values": [
            "Fresh and crisp apple aroma"
           ]
          }
         ],
         "hovertemplate": "ProductName=Woolworths Apple Juice<br>%{xaxis.title.text}=%{x}<br>%{yaxis.title.text}=%{y}<extra></extra>",
         "legendgroup": "Woolworths Apple Juice",
         "marker": {
          "color": "#ab63fa",
          "symbol": "circle"
         },
         "name": "Woolworths Apple Juice",
         "showlegend": true,
         "type": "splom"
        },
        {
         "dimensions": [
          {
           "axis": {
            "matches": true
           },
           "label": "Flavour_Release",
           "values": [
            "Progressive release of fruit flavours"
           ]
          },
          {
           "axis": {
            "matches": true
           },
           "label": "Aroma",
           "values": [
            "Fresh, fruity scent of apples and mangoes"
           ]
          }
         ],
         "hovertemplate": "ProductName=Woolworths Apple & Mango Juice<br>%{xaxis.title.text}=%{x}<br>%{yaxis.title.text}=%{y}<extra></extra>",
         "legendgroup": "Woolworths Apple & Mango Juice",
         "marker": {
          "color": "#FFA15A",
          "symbol": "circle"
         },
         "name": "Woolworths Apple & Mango Juice",
         "showlegend": true,
         "type": "splom"
        },
        {
         "dimensions": [
          {
           "axis": {
            "matches": true
           },
           "label": "Flavour_Release",
           "values": [
            "The flavour is released immediately upon sipping, with the sweetness and tanginess becoming apparent."
           ]
          },
          {
           "axis": {
            "matches": true
           },
           "label": "Aroma",
           "values": [
            "The aroma is a fresh, citrusy scent, reminiscent of oranges."
           ]
          }
         ],
         "hovertemplate": "ProductName=Woolworths Orange Juice<br>%{xaxis.title.text}=%{x}<br>%{yaxis.title.text}=%{y}<extra></extra>",
         "legendgroup": "Woolworths Orange Juice",
         "marker": {
          "color": "#19d3f3",
          "symbol": "circle"
         },
         "name": "Woolworths Orange Juice",
         "showlegend": true,
         "type": "splom"
        },
        {
         "dimensions": [
          {
           "axis": {
            "matches": true
           },
           "label": "Flavour_Release",
           "values": [
            "The flavours are released immediately upon tasting, with the apple and orange flavours being the most prominent."
           ]
          },
          {
           "axis": {
            "matches": true
           },
           "label": "Aroma",
           "values": [
            "The aroma is a fruity scent, predominantly of oranges and apples."
           ]
          }
         ],
         "hovertemplate": "ProductName=Woolworths Breakfast Juice<br>%{xaxis.title.text}=%{x}<br>%{yaxis.title.text}=%{y}<extra></extra>",
         "legendgroup": "Woolworths Breakfast Juice",
         "marker": {
          "color": "#FF6692",
          "symbol": "circle"
         },
         "name": "Woolworths Breakfast Juice",
         "showlegend": true,
         "type": "splom"
        },
        {
         "dimensions": [
          {
           "axis": {
            "matches": true
           },
           "label": "Flavour_Release",
           "values": [
            "The flavors are released slowly and steadily, providing a long-lasting and satisfying taste experience."
           ]
          },
          {
           "axis": {
            "matches": true
           },
           "label": "Aroma",
           "values": [
            "A pleasant and fruity aroma, with notes of fresh apples and blackcurrants."
           ]
          }
         ],
         "hovertemplate": "ProductName=Woolworths Apple & Blackcurrant Juice<br>%{xaxis.title.text}=%{x}<br>%{yaxis.title.text}=%{y}<extra></extra>",
         "legendgroup": "Woolworths Apple & Blackcurrant Juice",
         "marker": {
          "color": "#B6E880",
          "symbol": "circle"
         },
         "name": "Woolworths Apple & Blackcurrant Juice",
         "showlegend": true,
         "type": "splom"
        },
        {
         "dimensions": [
          {
           "axis": {
            "matches": true
           },
           "label": "Flavour_Release",
           "values": [
            "The flavors are released gradually, with the sweetness of the apple and peach becoming more pronounced over time."
           ]
          },
          {
           "axis": {
            "matches": true
           },
           "label": "Aroma",
           "values": [
            "The aroma is a fruity blend of citrus and tropical scents, with a hint of sweetness."
           ]
          }
         ],
         "hovertemplate": "ProductName=Woolworths Multivitamin Juice<br>%{xaxis.title.text}=%{x}<br>%{yaxis.title.text}=%{y}<extra></extra>",
         "legendgroup": "Woolworths Multivitamin Juice",
         "marker": {
          "color": "#FF97FF",
          "symbol": "circle"
         },
         "name": "Woolworths Multivitamin Juice",
         "showlegend": true,
         "type": "splom"
        },
        {
         "dimensions": [
          {
           "axis": {
            "matches": true
           },
           "label": "Flavour_Release",
           "values": [
            "The flavors are released immediately upon tasting, with the pineapple and passionfruit flavors being the most prominent"
           ]
          },
          {
           "axis": {
            "matches": true
           },
           "label": "Aroma",
           "values": [
            "Fruity, with a strong pineapple and passionfruit scent"
           ]
          }
         ],
         "hovertemplate": "ProductName=Golden Circle Golden Pash Fruit Drink<br>%{xaxis.title.text}=%{x}<br>%{yaxis.title.text}=%{y}<extra></extra>",
         "legendgroup": "Golden Circle Golden Pash Fruit Drink",
         "marker": {
          "color": "#FECB52",
          "symbol": "circle"
         },
         "name": "Golden Circle Golden Pash Fruit Drink",
         "showlegend": true,
         "type": "splom"
        },
        {
         "dimensions": [
          {
           "axis": {
            "matches": true
           },
           "label": "Flavour_Release",
           "values": [
            "The flavours are released immediately, providing an instant hit of fruitiness."
           ]
          },
          {
           "axis": {
            "matches": true
           },
           "label": "Aroma",
           "values": [
            "The aroma is a pleasant mix of fresh pineapple and orange."
           ]
          }
         ],
         "hovertemplate": "ProductName=Golden Circle Drinks Pine Orange Fruit Drink<br>%{xaxis.title.text}=%{x}<br>%{yaxis.title.text}=%{y}<extra></extra>",
         "legendgroup": "Golden Circle Drinks Pine Orange Fruit Drink",
         "marker": {
          "color": "#636efa",
          "symbol": "circle"
         },
         "name": "Golden Circle Drinks Pine Orange Fruit Drink",
         "showlegend": true,
         "type": "splom"
        },
        {
         "dimensions": [
          {
           "axis": {
            "matches": true
           },
           "label": "Flavour_Release",
           "values": [
            "The flavors are released gradually, with the sweetness of the sugar and the acidity of the fruit juices providing an initial impression, followed by the more subtle fruit flavors."
           ]
          },
          {
           "axis": {
            "matches": true
           },
           "label": "Aroma",
           "values": [
            "The aroma is a pleasant blend of citrus and tropical fruit notes."
           ]
          }
         ],
         "hovertemplate": "ProductName=Golden Circle Drinks Sunshine Punch Fruit Drink<br>%{xaxis.title.text}=%{x}<br>%{yaxis.title.text}=%{y}<extra></extra>",
         "legendgroup": "Golden Circle Drinks Sunshine Punch Fruit Drink",
         "marker": {
          "color": "#EF553B",
          "symbol": "circle"
         },
         "name": "Golden Circle Drinks Sunshine Punch Fruit Drink",
         "showlegend": true,
         "type": "splom"
        },
        {
         "dimensions": [
          {
           "axis": {
            "matches": true
           },
           "label": "Flavour_Release",
           "values": [
            "The flavors are released immediately upon contact with the tongue"
           ]
          },
          {
           "axis": {
            "matches": true
           },
           "label": "Aroma",
           "values": [
            "Fruity and sweet, with notes of pineapple and orange"
           ]
          }
         ],
         "hovertemplate": "ProductName=Golden Circle Fruit Drinks Lunch Box Poppers Tropical Punch Multipack<br>%{xaxis.title.text}=%{x}<br>%{yaxis.title.text}=%{y}<extra></extra>",
         "legendgroup": "Golden Circle Fruit Drinks Lunch Box Poppers Tropical Punch Multipack",
         "marker": {
          "color": "#00cc96",
          "symbol": "circle"
         },
         "name": "Golden Circle Fruit Drinks Lunch Box Poppers Tropical Punch Multipack",
         "showlegend": true,
         "type": "splom"
        },
        {
         "dimensions": [
          {
           "axis": {
            "matches": true
           },
           "label": "Flavour_Release",
           "values": [
            "The flavors are released slowly and evenly, providing a pleasant drinking experience.",
            "The flavors are released slowly and evenly, providing a pleasant drinking experience."
           ]
          },
          {
           "axis": {
            "matches": true
           },
           "label": "Aroma",
           "values": [
            "A light, milky aroma with a hint of sweetness.",
            "A light, milky aroma with a hint of sweetness."
           ]
          }
         ],
         "hovertemplate": "ProductName=Woolworths Full Cream Milk<br>%{xaxis.title.text}=%{x}<br>%{yaxis.title.text}=%{y}<extra></extra>",
         "legendgroup": "Woolworths Full Cream Milk",
         "marker": {
          "color": "#ab63fa",
          "symbol": "circle"
         },
         "name": "Woolworths Full Cream Milk",
         "showlegend": true,
         "type": "splom"
        },
        {
         "dimensions": [
          {
           "axis": {
            "matches": true
           },
           "label": "Flavour_Release",
           "values": [
            "The flavour releases gradually, allowing for a full appreciation of the rich and creamy taste.",
            "The flavour releases gradually, allowing for a full appreciation of the rich and creamy taste."
           ]
          },
          {
           "axis": {
            "matches": true
           },
           "label": "Aroma",
           "values": [
            "The aroma is fresh and inviting, with a subtle sweetness.",
            "The aroma is fresh and inviting, with a subtle sweetness."
           ]
          }
         ],
         "hovertemplate": "ProductName=Dairy Farmers Full Cream Milk Full Cream Milk<br>%{xaxis.title.text}=%{x}<br>%{yaxis.title.text}=%{y}<extra></extra>",
         "legendgroup": "Dairy Farmers Full Cream Milk Full Cream Milk",
         "marker": {
          "color": "#FFA15A",
          "symbol": "circle"
         },
         "name": "Dairy Farmers Full Cream Milk Full Cream Milk",
         "showlegend": true,
         "type": "splom"
        },
        {
         "dimensions": [
          {
           "axis": {
            "matches": true
           },
           "label": "Flavour_Release",
           "values": [
            "Gradual and consistent"
           ]
          },
          {
           "axis": {
            "matches": true
           },
           "label": "Aroma",
           "values": [
            "Fresh and milky"
           ]
          }
         ],
         "hovertemplate": "ProductName=Norco Full Cream Milk<br>%{xaxis.title.text}=%{x}<br>%{yaxis.title.text}=%{y}<extra></extra>",
         "legendgroup": "Norco Full Cream Milk",
         "marker": {
          "color": "#19d3f3",
          "symbol": "circle"
         },
         "name": "Norco Full Cream Milk",
         "showlegend": true,
         "type": "splom"
        },
        {
         "dimensions": [
          {
           "axis": {
            "matches": true
           },
           "label": "Flavour_Release",
           "values": [
            "The flavour of A2 Milk Full Cream Milk is released slowly, with a gradual build-up of richness and creaminess.",
            "The flavour of A2 Milk Full Cream Milk is released slowly, with a gradual build-up of richness and creaminess."
           ]
          },
          {
           "axis": {
            "matches": true
           },
           "label": "Aroma",
           "values": [
            "The aroma of A2 Milk Full Cream Milk is milky and slightly sweet, with a hint of creaminess.",
            "The aroma of A2 Milk Full Cream Milk is milky and slightly sweet, with a hint of creaminess."
           ]
          }
         ],
         "hovertemplate": "ProductName=A2 Milk Full Cream Milk<br>%{xaxis.title.text}=%{x}<br>%{yaxis.title.text}=%{y}<extra></extra>",
         "legendgroup": "A2 Milk Full Cream Milk",
         "marker": {
          "color": "#FF6692",
          "symbol": "circle"
         },
         "name": "A2 Milk Full Cream Milk",
         "showlegend": true,
         "type": "splom"
        },
        {
         "dimensions": [
          {
           "axis": {
            "matches": true
           },
           "label": "Flavour_Release",
           "values": [
            "The flavour releases slowly, allowing for a full appreciation of its richness and complexity."
           ]
          },
          {
           "axis": {
            "matches": true
           },
           "label": "Aroma",
           "values": [
            "The aroma is fresh, milky, and slightly sweet, reminiscent of a freshly opened carton of milk."
           ]
          }
         ],
         "hovertemplate": "ProductName=Pauls Farmhouse Gold Full Cream Milk<br>%{xaxis.title.text}=%{x}<br>%{yaxis.title.text}=%{y}<extra></extra>",
         "legendgroup": "Pauls Farmhouse Gold Full Cream Milk",
         "marker": {
          "color": "#B6E880",
          "symbol": "circle"
         },
         "name": "Pauls Farmhouse Gold Full Cream Milk",
         "showlegend": true,
         "type": "splom"
        },
        {
         "dimensions": [
          {
           "axis": {
            "matches": true
           },
           "label": "Flavour_Release",
           "values": [
            "The flavors are released gradually, with the initial taste of the chocolate cookie followed by the sweetness of the creme filling."
           ]
          },
          {
           "axis": {
            "matches": true
           },
           "label": "Aroma",
           "values": [
            "A sweet, inviting aroma of chocolate and vanilla is noticeable."
           ]
          }
         ],
         "hovertemplate": "ProductName=Oreo Double Stuff Cookies<br>%{xaxis.title.text}=%{x}<br>%{yaxis.title.text}=%{y}<extra></extra>",
         "legendgroup": "Oreo Double Stuff Cookies",
         "marker": {
          "color": "#FF97FF",
          "symbol": "circle"
         },
         "name": "Oreo Double Stuff Cookies",
         "showlegend": true,
         "type": "splom"
        },
        {
         "dimensions": [
          {
           "axis": {
            "matches": true
           },
           "label": "Flavour_Release",
           "values": [
            "The flavour is released slowly, with the initial crunch giving way to the smooth filling."
           ]
          },
          {
           "axis": {
            "matches": true
           },
           "label": "Aroma",
           "values": [
            "The aroma is a sweet and inviting chocolate scent."
           ]
          }
         ],
         "hovertemplate": "ProductName=Oreo Original Cookies Family Pack<br>%{xaxis.title.text}=%{x}<br>%{yaxis.title.text}=%{y}<extra></extra>",
         "legendgroup": "Oreo Original Cookies Family Pack",
         "marker": {
          "color": "#FECB52",
          "symbol": "circle"
         },
         "name": "Oreo Original Cookies Family Pack",
         "showlegend": true,
         "type": "splom"
        },
        {
         "dimensions": [
          {
           "axis": {
            "matches": true
           },
           "label": "Flavour_Release",
           "values": [
            "Gradual release of flavors with each bite"
           ]
          },
          {
           "axis": {
            "matches": true
           },
           "label": "Aroma",
           "values": [
            "Sweet and chocolaty aroma"
           ]
          }
         ],
         "hovertemplate": "ProductName=Oreo Chocolate Cookies<br>%{xaxis.title.text}=%{x}<br>%{yaxis.title.text}=%{y}<extra></extra>",
         "legendgroup": "Oreo Chocolate Cookies",
         "marker": {
          "color": "#636efa",
          "symbol": "circle"
         },
         "name": "Oreo Chocolate Cookies",
         "showlegend": true,
         "type": "splom"
        },
        {
         "dimensions": [
          {
           "axis": {
            "matches": true
           },
           "label": "Flavour_Release",
           "values": [
            "Immediate release of flavors with increasing sweetness"
           ]
          },
          {
           "axis": {
            "matches": true
           },
           "label": "Aroma",
           "values": [
            "Sweet and slightly chocolaty scent"
           ]
          }
         ],
         "hovertemplate": "ProductName=Oreo Grab & Go Original Cookies 9 Pack<br>%{xaxis.title.text}=%{x}<br>%{yaxis.title.text}=%{y}<extra></extra>",
         "legendgroup": "Oreo Grab & Go Original Cookies 9 Pack",
         "marker": {
          "color": "#EF553B",
          "symbol": "circle"
         },
         "name": "Oreo Grab & Go Original Cookies 9 Pack",
         "showlegend": true,
         "type": "splom"
        },
        {
         "dimensions": [
          {
           "axis": {
            "matches": true
           },
           "label": "Flavour_Release",
           "values": [
            "The chocolate flavor is released first, followed by the strawberry and vanilla flavors, offering a gradual and balanced flavor release."
           ]
          },
          {
           "axis": {
            "matches": true
           },
           "label": "Aroma",
           "values": [
            "The cookies emit a sweet and inviting aroma of chocolate, with subtle hints of strawberry and vanilla, enhancing the overall sensory experience."
           ]
          }
         ],
         "hovertemplate": "ProductName=Oreo Neapolitan Double Stuff Cookies<br>%{xaxis.title.text}=%{x}<br>%{yaxis.title.text}=%{y}<extra></extra>",
         "legendgroup": "Oreo Neapolitan Double Stuff Cookies",
         "marker": {
          "color": "#00cc96",
          "symbol": "circle"
         },
         "name": "Oreo Neapolitan Double Stuff Cookies",
         "showlegend": true,
         "type": "splom"
        },
        {
         "dimensions": [
          {
           "axis": {
            "matches": true
           },
           "label": "Flavour_Release",
           "values": [
            "The flavour is released immediately upon eating, with the sweetness of the tomatoes coming first followed by the acidity",
            "The flavour is released immediately upon eating, with the sweetness of the tomatoes coming first followed by the acidity"
           ]
          },
          {
           "axis": {
            "matches": true
           },
           "label": "Aroma",
           "values": [
            "Fresh and tangy tomato aroma",
            "Fresh and tangy tomato aroma"
           ]
          }
         ],
         "hovertemplate": "ProductName=Woolworths Diced Italian Tomatoes<br>%{xaxis.title.text}=%{x}<br>%{yaxis.title.text}=%{y}<extra></extra>",
         "legendgroup": "Woolworths Diced Italian Tomatoes",
         "marker": {
          "color": "#ab63fa",
          "symbol": "circle"
         },
         "name": "Woolworths Diced Italian Tomatoes",
         "showlegend": true,
         "type": "splom"
        },
        {
         "dimensions": [
          {
           "axis": {
            "matches": true
           },
           "label": "Flavour_Release",
           "values": [
            "The flavors are released gradually as the pasta is chewed."
           ]
          },
          {
           "axis": {
            "matches": true
           },
           "label": "Aroma",
           "values": [
            "There is a slight aroma of wheat and flour."
           ]
          }
         ],
         "hovertemplate": "ProductName=Woolworths Lasagne Sheets<br>%{xaxis.title.text}=%{x}<br>%{yaxis.title.text}=%{y}<extra></extra>",
         "legendgroup": "Woolworths Lasagne Sheets",
         "marker": {
          "color": "#FFA15A",
          "symbol": "circle"
         },
         "name": "Woolworths Lasagne Sheets",
         "showlegend": true,
         "type": "splom"
        },
        {
         "dimensions": [
          {
           "axis": {
            "matches": true
           },
           "label": "Flavour_Release",
           "values": [
            "Progressive release of coconut flavor and sweetness."
           ]
          },
          {
           "axis": {
            "matches": true
           },
           "label": "Aroma",
           "values": [
            "Light, tropical coconut scent."
           ]
          }
         ],
         "hovertemplate": "ProductName=Essentials Coconut Cream<br>%{xaxis.title.text}=%{x}<br>%{yaxis.title.text}=%{y}<extra></extra>",
         "legendgroup": "Essentials Coconut Cream",
         "marker": {
          "color": "#19d3f3",
          "symbol": "circle"
         },
         "name": "Essentials Coconut Cream",
         "showlegend": true,
         "type": "splom"
        },
        {
         "dimensions": [
          {
           "axis": {
            "matches": true
           },
           "label": "Flavour_Release",
           "values": [
            "Flavour is released slowly, providing a long-lasting taste experience."
           ]
          },
          {
           "axis": {
            "matches": true
           },
           "label": "Aroma",
           "values": [
            "Fresh and milky scent."
           ]
          }
         ],
         "hovertemplate": "ProductName=Woolworths Uht Full Cream Milk<br>%{xaxis.title.text}=%{x}<br>%{yaxis.title.text}=%{y}<extra></extra>",
         "legendgroup": "Woolworths Uht Full Cream Milk",
         "marker": {
          "color": "#FF6692",
          "symbol": "circle"
         },
         "name": "Woolworths Uht Full Cream Milk",
         "showlegend": true,
         "type": "splom"
        },
        {
         "dimensions": [
          {
           "axis": {
            "matches": true
           },
           "label": "Flavour_Release",
           "values": [
            "The flavors are immediately present upon biting, with the oil contributing to a smooth and gradual release of flavor."
           ]
          },
          {
           "axis": {
            "matches": true
           },
           "label": "Aroma",
           "values": [
            "The aroma is predominantly fishy, complemented by a hint of the vegetable oil. It is a strong, appetizing scent that suggests freshness and quality."
           ]
          }
         ],
         "hovertemplate": "ProductName=Deep Cove Sardines In Oil<br>%{xaxis.title.text}=%{x}<br>%{yaxis.title.text}=%{y}<extra></extra>",
         "legendgroup": "Deep Cove Sardines In Oil",
         "marker": {
          "color": "#B6E880",
          "symbol": "circle"
         },
         "name": "Deep Cove Sardines In Oil",
         "showlegend": true,
         "type": "splom"
        },
        {
         "dimensions": [
          {
           "axis": {
            "matches": true
           },
           "label": "Flavour_Release",
           "values": [
            "The flavours are released gradually, with the sweetness and creaminess becoming more pronounced as the dessert is consumed."
           ]
          },
          {
           "axis": {
            "matches": true
           },
           "label": "Aroma",
           "values": [
            "The aroma is sweet and creamy, with a subtle hint of vanilla."
           ]
          }
         ],
         "hovertemplate": "ProductName=Woolworths Creamed Rice<br>%{xaxis.title.text}=%{x}<br>%{yaxis.title.text}=%{y}<extra></extra>",
         "legendgroup": "Woolworths Creamed Rice",
         "marker": {
          "color": "#FF97FF",
          "symbol": "circle"
         },
         "name": "Woolworths Creamed Rice",
         "showlegend": true,
         "type": "splom"
        },
        {
         "dimensions": [
          {
           "axis": {
            "matches": true
           },
           "label": "Flavour_Release",
           "values": [
            "The flavors are released gradually, allowing for a full appreciation of the coconut and creamy notes."
           ]
          },
          {
           "axis": {
            "matches": true
           },
           "label": "Aroma",
           "values": [
            "Subtle coconut scent with a slight sweetness."
           ]
          }
         ],
         "hovertemplate": "ProductName=Essentials Coconut Milk<br>%{xaxis.title.text}=%{x}<br>%{yaxis.title.text}=%{y}<extra></extra>",
         "legendgroup": "Essentials Coconut Milk",
         "marker": {
          "color": "#FECB52",
          "symbol": "circle"
         },
         "name": "Essentials Coconut Milk",
         "showlegend": true,
         "type": "splom"
        },
        {
         "dimensions": [
          {
           "axis": {
            "matches": true
           },
           "label": "Flavour_Release",
           "values": [
            "The flavour is released immediately upon contact with the tongue, with the sweetness and acidity balancing each other out."
           ]
          },
          {
           "axis": {
            "matches": true
           },
           "label": "Aroma",
           "values": [
            "Strong tomato aroma with a hint of sweetness."
           ]
          }
         ],
         "hovertemplate": "ProductName=Woolworths Tomato Sauce Squeeze<br>%{xaxis.title.text}=%{x}<br>%{yaxis.title.text}=%{y}<extra></extra>",
         "legendgroup": "Woolworths Tomato Sauce Squeeze",
         "marker": {
          "color": "#636efa",
          "symbol": "circle"
         },
         "name": "Woolworths Tomato Sauce Squeeze",
         "showlegend": true,
         "type": "splom"
        },
        {
         "dimensions": [
          {
           "axis": {
            "matches": true
           },
           "label": "Flavour_Release",
           "values": [
            "The flavour is released immediately upon contact with the tongue, with the sweetness and acidity balancing each other out."
           ]
          },
          {
           "axis": {
            "matches": true
           },
           "label": "Aroma",
           "values": [
            "Strong tomato aroma with a hint of sweetness."
           ]
          }
         ],
         "hovertemplate": "ProductName=Woolworths Tomato Sauce<br>%{xaxis.title.text}=%{x}<br>%{yaxis.title.text}=%{y}<extra></extra>",
         "legendgroup": "Woolworths Tomato Sauce",
         "marker": {
          "color": "#EF553B",
          "symbol": "circle"
         },
         "name": "Woolworths Tomato Sauce",
         "showlegend": true,
         "type": "splom"
        },
        {
         "dimensions": [
          {
           "axis": {
            "matches": true
           },
           "label": "Flavour_Release",
           "values": [
            "The flavours are released immediately and intensify with each bite."
           ]
          },
          {
           "axis": {
            "matches": true
           },
           "label": "Aroma",
           "values": [
            "Sweet and smoky with a hint of spices."
           ]
          }
         ],
         "hovertemplate": "ProductName=Woolworths Barbecue Sauce Squeeze<br>%{xaxis.title.text}=%{x}<br>%{yaxis.title.text}=%{y}<extra></extra>",
         "legendgroup": "Woolworths Barbecue Sauce Squeeze",
         "marker": {
          "color": "#00cc96",
          "symbol": "circle"
         },
         "name": "Woolworths Barbecue Sauce Squeeze",
         "showlegend": true,
         "type": "splom"
        },
        {
         "dimensions": [
          {
           "axis": {
            "matches": true
           },
           "label": "Flavour_Release",
           "values": [
            "Immediate release of flavors that last throughout the eating experience"
           ]
          },
          {
           "axis": {
            "matches": true
           },
           "label": "Aroma",
           "values": [
            "Strong tomato aroma with a hint of spices"
           ]
          }
         ],
         "hovertemplate": "ProductName=Masterfoods Tomato Sauce<br>%{xaxis.title.text}=%{x}<br>%{yaxis.title.text}=%{y}<extra></extra>",
         "legendgroup": "Masterfoods Tomato Sauce",
         "marker": {
          "color": "#ab63fa",
          "symbol": "circle"
         },
         "name": "Masterfoods Tomato Sauce",
         "showlegend": true,
         "type": "splom"
        },
        {
         "dimensions": [
          {
           "axis": {
            "matches": true
           },
           "label": "Flavour_Release",
           "values": [
            "The flavors are released immediately, with the sweetness and tanginess being the most prominent."
           ]
          },
          {
           "axis": {
            "matches": true
           },
           "label": "Aroma",
           "values": [
            "Sweet and tangy, with a hint of spice."
           ]
          }
         ],
         "hovertemplate": "ProductName=Masterfoods Barbecue Sauce<br>%{xaxis.title.text}=%{x}<br>%{yaxis.title.text}=%{y}<extra></extra>",
         "legendgroup": "Masterfoods Barbecue Sauce",
         "marker": {
          "color": "#FFA15A",
          "symbol": "circle"
         },
         "name": "Masterfoods Barbecue Sauce",
         "showlegend": true,
         "type": "splom"
        },
        {
         "dimensions": [
          {
           "axis": {
            "matches": true
           },
           "label": "Flavour_Release",
           "values": [
            "The flavors are released immediately upon contact with the tongue"
           ]
          },
          {
           "axis": {
            "matches": true
           },
           "label": "Aroma",
           "values": [
            "Tomato and slightly sweet aroma"
           ]
          }
         ],
         "hovertemplate": "ProductName=Fountain Tomato Sauce Squeeze<br>%{xaxis.title.text}=%{x}<br>%{yaxis.title.text}=%{y}<extra></extra>",
         "legendgroup": "Fountain Tomato Sauce Squeeze",
         "marker": {
          "color": "#19d3f3",
          "symbol": "circle"
         },
         "name": "Fountain Tomato Sauce Squeeze",
         "showlegend": true,
         "type": "splom"
        },
        {
         "dimensions": [
          {
           "axis": {
            "matches": true
           },
           "label": "Flavour_Release",
           "values": [
            "The flavour is released slowly, building up to a peak of sweet and tangy flavours."
           ]
          },
          {
           "axis": {
            "matches": true
           },
           "label": "Aroma",
           "values": [
            "Sweet and smoky with a hint of spices."
           ]
          }
         ],
         "hovertemplate": "ProductName=Fountain Barbecue Bbq Sauce Squeeze<br>%{xaxis.title.text}=%{x}<br>%{yaxis.title.text}=%{y}<extra></extra>",
         "legendgroup": "Fountain Barbecue Bbq Sauce Squeeze",
         "marker": {
          "color": "#FF6692",
          "symbol": "circle"
         },
         "name": "Fountain Barbecue Bbq Sauce Squeeze",
         "showlegend": true,
         "type": "splom"
        },
        {
         "dimensions": [
          {
           "axis": {
            "matches": true
           },
           "label": "Flavour_Release",
           "values": [
            "The sauce releases its flavors gradually, providing a lingering taste experience."
           ]
          },
          {
           "axis": {
            "matches": true
           },
           "label": "Aroma",
           "values": [
            "The sauce has a sweet and tangy aroma with a hint of mustard and dill."
           ]
          }
         ],
         "hovertemplate": "ProductName=Woolworths Secret Burger Sauce<br>%{xaxis.title.text}=%{x}<br>%{yaxis.title.text}=%{y}<extra></extra>",
         "legendgroup": "Woolworths Secret Burger Sauce",
         "marker": {
          "color": "#B6E880",
          "symbol": "circle"
         },
         "name": "Woolworths Secret Burger Sauce",
         "showlegend": true,
         "type": "splom"
        },
        {
         "dimensions": [
          {
           "axis": {
            "matches": true
           },
           "label": "Flavour_Release",
           "values": [
            "The flavors are released immediately and linger on the palate"
           ]
          },
          {
           "axis": {
            "matches": true
           },
           "label": "Aroma",
           "values": [
            "Sweet and tangy tomato aroma"
           ]
          }
         ],
         "hovertemplate": "ProductName=Heinz Ketchup Tomato Sauce Ketchup<br>%{xaxis.title.text}=%{x}<br>%{yaxis.title.text}=%{y}<extra></extra>",
         "legendgroup": "Heinz Ketchup Tomato Sauce Ketchup",
         "marker": {
          "color": "#FF97FF",
          "symbol": "circle"
         },
         "name": "Heinz Ketchup Tomato Sauce Ketchup",
         "showlegend": true,
         "type": "splom"
        },
        {
         "dimensions": [
          {
           "axis": {
            "matches": true
           },
           "label": "Flavour_Release",
           "values": [
            "The flavors unfold gradually, with the sweetness leading to tanginess and smokiness."
           ]
          },
          {
           "axis": {
            "matches": true
           },
           "label": "Aroma",
           "values": [
            "The aroma is a harmonious blend of sweet, savory, and smoky notes."
           ]
          }
         ],
         "hovertemplate": "ProductName=Woolworths Barbecue Sauce<br>%{xaxis.title.text}=%{x}<br>%{yaxis.title.text}=%{y}<extra></extra>",
         "legendgroup": "Woolworths Barbecue Sauce",
         "marker": {
          "color": "#FECB52",
          "symbol": "circle"
         },
         "name": "Woolworths Barbecue Sauce",
         "showlegend": true,
         "type": "splom"
        },
        {
         "dimensions": [
          {
           "axis": {
            "matches": true
           },
           "label": "Flavour_Release",
           "values": [
            "Gradual and consistent"
           ]
          },
          {
           "axis": {
            "matches": true
           },
           "label": "Aroma",
           "values": [
            "Subtle and fresh"
           ]
          }
         ],
         "hovertemplate": "ProductName=Woolworths Spring Water Bottles<br>%{xaxis.title.text}=%{x}<br>%{yaxis.title.text}=%{y}<extra></extra>",
         "legendgroup": "Woolworths Spring Water Bottles",
         "marker": {
          "color": "#636efa",
          "symbol": "circle"
         },
         "name": "Woolworths Spring Water Bottles",
         "showlegend": true,
         "type": "splom"
        },
        {
         "dimensions": [
          {
           "axis": {
            "matches": true
           },
           "label": "Flavour_Release",
           "values": [
            "Gradual and consistent",
            "Gradual and consistent",
            "Gradual and consistent"
           ]
          },
          {
           "axis": {
            "matches": true
           },
           "label": "Aroma",
           "values": [
            "Subtle and fresh",
            "Subtle and fresh",
            "Subtle and fresh"
           ]
          }
         ],
         "hovertemplate": "ProductName=Woolworths Spring Water<br>%{xaxis.title.text}=%{x}<br>%{yaxis.title.text}=%{y}<extra></extra>",
         "legendgroup": "Woolworths Spring Water",
         "marker": {
          "color": "#EF553B",
          "symbol": "circle"
         },
         "name": "Woolworths Spring Water",
         "showlegend": true,
         "type": "splom"
        },
        {
         "dimensions": [
          {
           "axis": {
            "matches": true
           },
           "label": "Flavour_Release",
           "values": [
            "Gradual and consistent, revealing its natural taste over time"
           ]
          },
          {
           "axis": {
            "matches": true
           },
           "label": "Aroma",
           "values": [
            "Delicate and faint, with a hint of minerality"
           ]
          }
         ],
         "hovertemplate": "ProductName=Frantelle Australian Still Spring Water Bottles Multipack<br>%{xaxis.title.text}=%{x}<br>%{yaxis.title.text}=%{y}<extra></extra>",
         "legendgroup": "Frantelle Australian Still Spring Water Bottles Multipack",
         "marker": {
          "color": "#00cc96",
          "symbol": "circle"
         },
         "name": "Frantelle Australian Still Spring Water Bottles Multipack",
         "showlegend": true,
         "type": "splom"
        },
        {
         "dimensions": [
          {
           "axis": {
            "matches": true
           },
           "label": "Flavour_Release",
           "values": [
            "Gradual and consistent, revealing its natural taste over time"
           ]
          },
          {
           "axis": {
            "matches": true
           },
           "label": "Aroma",
           "values": [
            "Delicate and faint, with a hint of minerality"
           ]
          }
         ],
         "hovertemplate": "ProductName=Mount Franklin Spring Water Bottle<br>%{xaxis.title.text}=%{x}<br>%{yaxis.title.text}=%{y}<extra></extra>",
         "legendgroup": "Mount Franklin Spring Water Bottle",
         "marker": {
          "color": "#ab63fa",
          "symbol": "circle"
         },
         "name": "Mount Franklin Spring Water Bottle",
         "showlegend": true,
         "type": "splom"
        },
        {
         "dimensions": [
          {
           "axis": {
            "matches": true
           },
           "label": "Flavour_Release",
           "values": [
            "The flavors are released immediately upon biting, with the potato flavor becoming more pronounced as you chew."
           ]
          },
          {
           "axis": {
            "matches": true
           },
           "label": "Aroma",
           "values": [
            "A subtle, inviting aroma of fried potatoes and oil."
           ]
          }
         ],
         "hovertemplate": "ProductName=Smith's Crinkle Cut Potato Chips Original<br>%{xaxis.title.text}=%{x}<br>%{yaxis.title.text}=%{y}<extra></extra>",
         "legendgroup": "Smith's Crinkle Cut Potato Chips Original",
         "marker": {
          "color": "#FFA15A",
          "symbol": "circle"
         },
         "name": "Smith's Crinkle Cut Potato Chips Original",
         "showlegend": true,
         "type": "splom"
        },
        {
         "dimensions": [
          {
           "axis": {
            "matches": true
           },
           "label": "Flavour_Release",
           "values": [
            "The flavors are released immediately upon biting, with the cheese and onion becoming more pronounced as you chew."
           ]
          },
          {
           "axis": {
            "matches": true
           },
           "label": "Aroma",
           "values": [
            "A strong, inviting aroma of cheese and onion that entices the senses."
           ]
          }
         ],
         "hovertemplate": "ProductName=Smith's Crinkle Cut Potato Chips Cheese & Onion<br>%{xaxis.title.text}=%{x}<br>%{yaxis.title.text}=%{y}<extra></extra>",
         "legendgroup": "Smith's Crinkle Cut Potato Chips Cheese & Onion",
         "marker": {
          "color": "#19d3f3",
          "symbol": "circle"
         },
         "name": "Smith's Crinkle Cut Potato Chips Cheese & Onion",
         "showlegend": true,
         "type": "splom"
        },
        {
         "dimensions": [
          {
           "axis": {
            "matches": true
           },
           "label": "Flavour_Release",
           "values": [
            "The flavors are released immediately upon biting into the chip."
           ]
          },
          {
           "axis": {
            "matches": true
           },
           "label": "Aroma",
           "values": [
            "Sweet and smoky barbecue scent."
           ]
          }
         ],
         "hovertemplate": "ProductName=Smith's Crinkle Cut Potato Chips Barbecue<br>%{xaxis.title.text}=%{x}<br>%{yaxis.title.text}=%{y}<extra></extra>",
         "legendgroup": "Smith's Crinkle Cut Potato Chips Barbecue",
         "marker": {
          "color": "#FF6692",
          "symbol": "circle"
         },
         "name": "Smith's Crinkle Cut Potato Chips Barbecue",
         "showlegend": true,
         "type": "splom"
        },
        {
         "dimensions": [
          {
           "axis": {
            "matches": true
           },
           "label": "Flavour_Release",
           "values": [
            "The flavors are released immediately upon biting into the chip, with the chicken flavor being the most prominent"
           ]
          },
          {
           "axis": {
            "matches": true
           },
           "label": "Aroma",
           "values": [
            "Inviting chicken aroma with a hint of spices"
           ]
          }
         ],
         "hovertemplate": "ProductName=Smith's Crinkle Cut Potato Chips Chicken<br>%{xaxis.title.text}=%{x}<br>%{yaxis.title.text}=%{y}<extra></extra>",
         "legendgroup": "Smith's Crinkle Cut Potato Chips Chicken",
         "marker": {
          "color": "#B6E880",
          "symbol": "circle"
         },
         "name": "Smith's Crinkle Cut Potato Chips Chicken",
         "showlegend": true,
         "type": "splom"
        },
        {
         "dimensions": [
          {
           "axis": {
            "matches": true
           },
           "label": "Flavour_Release",
           "values": [
            "Immediate release of flavors upon biting into the chip"
           ]
          },
          {
           "axis": {
            "matches": true
           },
           "label": "Aroma",
           "values": [
            "Strong vinegar aroma that enhances the sensory experience"
           ]
          }
         ],
         "hovertemplate": "ProductName=Thins Chips Salt & Vinegar<br>%{xaxis.title.text}=%{x}<br>%{yaxis.title.text}=%{y}<extra></extra>",
         "legendgroup": "Thins Chips Salt & Vinegar",
         "marker": {
          "color": "#FF97FF",
          "symbol": "circle"
         },
         "name": "Thins Chips Salt & Vinegar",
         "showlegend": true,
         "type": "splom"
        },
        {
         "dimensions": [
          {
           "axis": {
            "matches": true
           },
           "label": "Flavour_Release",
           "values": [
            "The flavors are released immediately upon chewing"
           ]
          },
          {
           "axis": {
            "matches": true
           },
           "label": "Aroma",
           "values": [
            "A subtle smell of potatoes and fried food"
           ]
          }
         ],
         "hovertemplate": "ProductName=Smith's Thinly Cut Potato Chips Original Share Pack<br>%{xaxis.title.text}=%{x}<br>%{yaxis.title.text}=%{y}<extra></extra>",
         "legendgroup": "Smith's Thinly Cut Potato Chips Original Share Pack",
         "marker": {
          "color": "#FECB52",
          "symbol": "circle"
         },
         "name": "Smith's Thinly Cut Potato Chips Original Share Pack",
         "showlegend": true,
         "type": "splom"
        },
        {
         "dimensions": [
          {
           "axis": {
            "matches": true
           },
           "label": "Flavour_Release",
           "values": [
            "The flavors are released immediately upon biting"
           ]
          },
          {
           "axis": {
            "matches": true
           },
           "label": "Aroma",
           "values": [
            "Aroma of fried potatoes with a hint of spices"
           ]
          }
         ],
         "hovertemplate": "ProductName=Thins Chips Chicken<br>%{xaxis.title.text}=%{x}<br>%{yaxis.title.text}=%{y}<extra></extra>",
         "legendgroup": "Thins Chips Chicken",
         "marker": {
          "color": "#636efa",
          "symbol": "circle"
         },
         "name": "Thins Chips Chicken",
         "showlegend": true,
         "type": "splom"
        },
        {
         "dimensions": [
          {
           "axis": {
            "matches": true
           },
           "label": "Flavour_Release",
           "values": [
            "The flavours are released immediately upon biting, with the tangy vinegar flavour becoming more pronounced over time."
           ]
          },
          {
           "axis": {
            "matches": true
           },
           "label": "Aroma",
           "values": [
            "Inviting aroma of vinegar and salt."
           ]
          }
         ],
         "hovertemplate": "ProductName=Smith's Crinkle Cut Potato Chips Salt & Vinegar<br>%{xaxis.title.text}=%{x}<br>%{yaxis.title.text}=%{y}<extra></extra>",
         "legendgroup": "Smith's Crinkle Cut Potato Chips Salt & Vinegar",
         "marker": {
          "color": "#EF553B",
          "symbol": "circle"
         },
         "name": "Smith's Crinkle Cut Potato Chips Salt & Vinegar",
         "showlegend": true,
         "type": "splom"
        },
        {
         "dimensions": [
          {
           "axis": {
            "matches": true
           },
           "label": "Flavour_Release",
           "values": [
            "The flavors are released immediately upon biting, intensifying as the chip dissolves."
           ]
          },
          {
           "axis": {
            "matches": true
           },
           "label": "Aroma",
           "values": [
            "The aroma is a subtle blend of potatoes, onions, tomatoes, and dairy notes."
           ]
          }
         ],
         "hovertemplate": "ProductName=Thins Chips Light & Tangy<br>%{xaxis.title.text}=%{x}<br>%{yaxis.title.text}=%{y}<extra></extra>",
         "legendgroup": "Thins Chips Light & Tangy",
         "marker": {
          "color": "#00cc96",
          "symbol": "circle"
         },
         "name": "Thins Chips Light & Tangy",
         "showlegend": true,
         "type": "splom"
        },
        {
         "dimensions": [
          {
           "axis": {
            "matches": true
           },
           "label": "Flavour_Release",
           "values": [
            "The flavors are released immediately upon eating, with the strawberry jelly providing a strong initial flavor, followed by the subtle peach flavor"
           ]
          },
          {
           "axis": {
            "matches": true
           },
           "label": "Aroma",
           "values": [
            "Fruity and sweet, with a dominant strawberry scent and a hint of peach"
           ]
          }
         ],
         "hovertemplate": "ProductName=Woolworths Peach In Strawberry Jelly<br>%{xaxis.title.text}=%{x}<br>%{yaxis.title.text}=%{y}<extra></extra>",
         "legendgroup": "Woolworths Peach In Strawberry Jelly",
         "marker": {
          "color": "#ab63fa",
          "symbol": "circle"
         },
         "name": "Woolworths Peach In Strawberry Jelly",
         "showlegend": true,
         "type": "splom"
        },
        {
         "dimensions": [
          {
           "axis": {
            "matches": true
           },
           "label": "Flavour_Release",
           "values": [
            "The flavours are released gradually, providing a satisfying and long-lasting taste experience"
           ]
          },
          {
           "axis": {
            "matches": true
           },
           "label": "Aroma",
           "values": [
            "Fruity and sweet, with a hint of freshness"
           ]
          }
         ],
         "hovertemplate": "ProductName=Woolworths Two Fruits In Juice Cups<br>%{xaxis.title.text}=%{x}<br>%{yaxis.title.text}=%{y}<extra></extra>",
         "legendgroup": "Woolworths Two Fruits In Juice Cups",
         "marker": {
          "color": "#FFA15A",
          "symbol": "circle"
         },
         "name": "Woolworths Two Fruits In Juice Cups",
         "showlegend": true,
         "type": "splom"
        },
        {
         "dimensions": [
          {
           "axis": {
            "matches": true
           },
           "label": "Flavour_Release",
           "values": [
            "The flavours are released gradually, providing a satisfying and long-lasting taste experience",
            "The flavours are released immediately upon tasting, with the sweetness of the fruits being most prominent."
           ]
          },
          {
           "axis": {
            "matches": true
           },
           "label": "Aroma",
           "values": [
            "Fruity and sweet, with a hint of freshness",
            "Fruity and sweet, reminiscent of fresh pears and peaches."
           ]
          }
         ],
         "hovertemplate": "ProductName=Woolworths Two Fruits In Juice<br>%{xaxis.title.text}=%{x}<br>%{yaxis.title.text}=%{y}<extra></extra>",
         "legendgroup": "Woolworths Two Fruits In Juice",
         "marker": {
          "color": "#19d3f3",
          "symbol": "circle"
         },
         "name": "Woolworths Two Fruits In Juice",
         "showlegend": true,
         "type": "splom"
        },
        {
         "dimensions": [
          {
           "axis": {
            "matches": true
           },
           "label": "Flavour_Release",
           "values": [
            "The flavours are released slowly, allowing for a full appreciation of the various fruit notes."
           ]
          },
          {
           "axis": {
            "matches": true
           },
           "label": "Aroma",
           "values": [
            "Fruity and tropical, with a hint of sweetness."
           ]
          }
         ],
         "hovertemplate": "ProductName=Woolworths Two Fruits In Tropical Jelly<br>%{xaxis.title.text}=%{x}<br>%{yaxis.title.text}=%{y}<extra></extra>",
         "legendgroup": "Woolworths Two Fruits In Tropical Jelly",
         "marker": {
          "color": "#FF6692",
          "symbol": "circle"
         },
         "name": "Woolworths Two Fruits In Tropical Jelly",
         "showlegend": true,
         "type": "splom"
        },
        {
         "dimensions": [
          {
           "axis": {
            "matches": true
           },
           "label": "Flavour_Release",
           "values": [
            "The flavors are released immediately upon eating, with the pineapple flavor being more prominent initially, followed by the apple flavor."
           ]
          },
          {
           "axis": {
            "matches": true
           },
           "label": "Aroma",
           "values": [
            "The aroma is a sweet and tangy scent from the pineapple, with a hint of apple in the background."
           ]
          }
         ],
         "hovertemplate": "ProductName=Woolworths Apple In Pineapple Jelly<br>%{xaxis.title.text}=%{x}<br>%{yaxis.title.text}=%{y}<extra></extra>",
         "legendgroup": "Woolworths Apple In Pineapple Jelly",
         "marker": {
          "color": "#B6E880",
          "symbol": "circle"
         },
         "name": "Woolworths Apple In Pineapple Jelly",
         "showlegend": true,
         "type": "splom"
        },
        {
         "dimensions": [
          {
           "axis": {
            "matches": true
           },
           "label": "Flavour_Release",
           "values": [
            "The flavours are released immediately upon sipping."
           ]
          },
          {
           "axis": {
            "matches": true
           },
           "label": "Aroma",
           "values": [
            "The aroma is a fruity scent of pears and peaches."
           ]
          }
         ],
         "hovertemplate": "ProductName=Goulburn Valley Two Fruits In Juice<br>%{xaxis.title.text}=%{x}<br>%{yaxis.title.text}=%{y}<extra></extra>",
         "legendgroup": "Goulburn Valley Two Fruits In Juice",
         "marker": {
          "color": "#FF97FF",
          "symbol": "circle"
         },
         "name": "Goulburn Valley Two Fruits In Juice",
         "showlegend": true,
         "type": "splom"
        },
        {
         "dimensions": [
          {
           "axis": {
            "matches": true
           },
           "label": "Flavour_Release",
           "values": [
            "The flavour is released immediately upon biting into the pineapple slices, while the syrup continues to release its sweetness over time."
           ]
          },
          {
           "axis": {
            "matches": true
           },
           "label": "Aroma",
           "values": [
            "The product has a strong aroma of sweet pineapple, with a hint of the syrupy sweetness."
           ]
          }
         ],
         "hovertemplate": "ProductName=Dole Pineapple Slices In Syrup<br>%{xaxis.title.text}=%{x}<br>%{yaxis.title.text}=%{y}<extra></extra>",
         "legendgroup": "Dole Pineapple Slices In Syrup",
         "marker": {
          "color": "#FECB52",
          "symbol": "circle"
         },
         "name": "Dole Pineapple Slices In Syrup",
         "showlegend": true,
         "type": "splom"
        },
        {
         "dimensions": [
          {
           "axis": {
            "matches": true
           },
           "label": "Flavour_Release",
           "values": [
            "The flavors are released immediately upon contact with the tongue, with the juice providing an initial burst of sweetness followed by the pineapple chunks."
           ]
          },
          {
           "axis": {
            "matches": true
           },
           "label": "Aroma",
           "values": [
            "Tropical, fruity scent reminiscent of fresh pineapple."
           ]
          }
         ],
         "hovertemplate": "ProductName=Dole Pineapple Chunks In Juice<br>%{xaxis.title.text}=%{x}<br>%{yaxis.title.text}=%{y}<extra></extra>",
         "legendgroup": "Dole Pineapple Chunks In Juice",
         "marker": {
          "color": "#636efa",
          "symbol": "circle"
         },
         "name": "Dole Pineapple Chunks In Juice",
         "showlegend": true,
         "type": "splom"
        },
        {
         "dimensions": [
          {
           "axis": {
            "matches": true
           },
           "label": "Flavour_Release",
           "values": [
            "The flavours are released immediately upon consumption, with the sweetness of the fruits being most prominent."
           ]
          },
          {
           "axis": {
            "matches": true
           },
           "label": "Aroma",
           "values": [
            "Fresh and fruity scent from the pears and peaches."
           ]
          }
         ],
         "hovertemplate": "ProductName=Goulburn Valley Two Fruits In Juice Fruit Cups In Juice<br>%{xaxis.title.text}=%{x}<br>%{yaxis.title.text}=%{y}<extra></extra>",
         "legendgroup": "Goulburn Valley Two Fruits In Juice Fruit Cups In Juice",
         "marker": {
          "color": "#EF553B",
          "symbol": "circle"
         },
         "name": "Goulburn Valley Two Fruits In Juice Fruit Cups In Juice",
         "showlegend": true,
         "type": "splom"
        }
       ],
       "layout": {
        "dragmode": "select",
        "legend": {
         "title": {
          "text": "ProductName"
         },
         "tracegroupgap": 0
        },
        "template": {
         "data": {
          "bar": [
           {
            "error_x": {
             "color": "#2a3f5f"
            },
            "error_y": {
             "color": "#2a3f5f"
            },
            "marker": {
             "line": {
              "color": "#E5ECF6",
              "width": 0.5
             },
             "pattern": {
              "fillmode": "overlay",
              "size": 10,
              "solidity": 0.2
             }
            },
            "type": "bar"
           }
          ],
          "barpolar": [
           {
            "marker": {
             "line": {
              "color": "#E5ECF6",
              "width": 0.5
             },
             "pattern": {
              "fillmode": "overlay",
              "size": 10,
              "solidity": 0.2
             }
            },
            "type": "barpolar"
           }
          ],
          "carpet": [
           {
            "aaxis": {
             "endlinecolor": "#2a3f5f",
             "gridcolor": "white",
             "linecolor": "white",
             "minorgridcolor": "white",
             "startlinecolor": "#2a3f5f"
            },
            "baxis": {
             "endlinecolor": "#2a3f5f",
             "gridcolor": "white",
             "linecolor": "white",
             "minorgridcolor": "white",
             "startlinecolor": "#2a3f5f"
            },
            "type": "carpet"
           }
          ],
          "choropleth": [
           {
            "colorbar": {
             "outlinewidth": 0,
             "ticks": ""
            },
            "type": "choropleth"
           }
          ],
          "contour": [
           {
            "colorbar": {
             "outlinewidth": 0,
             "ticks": ""
            },
            "colorscale": [
             [
              0,
              "#0d0887"
             ],
             [
              0.1111111111111111,
              "#46039f"
             ],
             [
              0.2222222222222222,
              "#7201a8"
             ],
             [
              0.3333333333333333,
              "#9c179e"
             ],
             [
              0.4444444444444444,
              "#bd3786"
             ],
             [
              0.5555555555555556,
              "#d8576b"
             ],
             [
              0.6666666666666666,
              "#ed7953"
             ],
             [
              0.7777777777777778,
              "#fb9f3a"
             ],
             [
              0.8888888888888888,
              "#fdca26"
             ],
             [
              1,
              "#f0f921"
             ]
            ],
            "type": "contour"
           }
          ],
          "contourcarpet": [
           {
            "colorbar": {
             "outlinewidth": 0,
             "ticks": ""
            },
            "type": "contourcarpet"
           }
          ],
          "heatmap": [
           {
            "colorbar": {
             "outlinewidth": 0,
             "ticks": ""
            },
            "colorscale": [
             [
              0,
              "#0d0887"
             ],
             [
              0.1111111111111111,
              "#46039f"
             ],
             [
              0.2222222222222222,
              "#7201a8"
             ],
             [
              0.3333333333333333,
              "#9c179e"
             ],
             [
              0.4444444444444444,
              "#bd3786"
             ],
             [
              0.5555555555555556,
              "#d8576b"
             ],
             [
              0.6666666666666666,
              "#ed7953"
             ],
             [
              0.7777777777777778,
              "#fb9f3a"
             ],
             [
              0.8888888888888888,
              "#fdca26"
             ],
             [
              1,
              "#f0f921"
             ]
            ],
            "type": "heatmap"
           }
          ],
          "heatmapgl": [
           {
            "colorbar": {
             "outlinewidth": 0,
             "ticks": ""
            },
            "colorscale": [
             [
              0,
              "#0d0887"
             ],
             [
              0.1111111111111111,
              "#46039f"
             ],
             [
              0.2222222222222222,
              "#7201a8"
             ],
             [
              0.3333333333333333,
              "#9c179e"
             ],
             [
              0.4444444444444444,
              "#bd3786"
             ],
             [
              0.5555555555555556,
              "#d8576b"
             ],
             [
              0.6666666666666666,
              "#ed7953"
             ],
             [
              0.7777777777777778,
              "#fb9f3a"
             ],
             [
              0.8888888888888888,
              "#fdca26"
             ],
             [
              1,
              "#f0f921"
             ]
            ],
            "type": "heatmapgl"
           }
          ],
          "histogram": [
           {
            "marker": {
             "pattern": {
              "fillmode": "overlay",
              "size": 10,
              "solidity": 0.2
             }
            },
            "type": "histogram"
           }
          ],
          "histogram2d": [
           {
            "colorbar": {
             "outlinewidth": 0,
             "ticks": ""
            },
            "colorscale": [
             [
              0,
              "#0d0887"
             ],
             [
              0.1111111111111111,
              "#46039f"
             ],
             [
              0.2222222222222222,
              "#7201a8"
             ],
             [
              0.3333333333333333,
              "#9c179e"
             ],
             [
              0.4444444444444444,
              "#bd3786"
             ],
             [
              0.5555555555555556,
              "#d8576b"
             ],
             [
              0.6666666666666666,
              "#ed7953"
             ],
             [
              0.7777777777777778,
              "#fb9f3a"
             ],
             [
              0.8888888888888888,
              "#fdca26"
             ],
             [
              1,
              "#f0f921"
             ]
            ],
            "type": "histogram2d"
           }
          ],
          "histogram2dcontour": [
           {
            "colorbar": {
             "outlinewidth": 0,
             "ticks": ""
            },
            "colorscale": [
             [
              0,
              "#0d0887"
             ],
             [
              0.1111111111111111,
              "#46039f"
             ],
             [
              0.2222222222222222,
              "#7201a8"
             ],
             [
              0.3333333333333333,
              "#9c179e"
             ],
             [
              0.4444444444444444,
              "#bd3786"
             ],
             [
              0.5555555555555556,
              "#d8576b"
             ],
             [
              0.6666666666666666,
              "#ed7953"
             ],
             [
              0.7777777777777778,
              "#fb9f3a"
             ],
             [
              0.8888888888888888,
              "#fdca26"
             ],
             [
              1,
              "#f0f921"
             ]
            ],
            "type": "histogram2dcontour"
           }
          ],
          "mesh3d": [
           {
            "colorbar": {
             "outlinewidth": 0,
             "ticks": ""
            },
            "type": "mesh3d"
           }
          ],
          "parcoords": [
           {
            "line": {
             "colorbar": {
              "outlinewidth": 0,
              "ticks": ""
             }
            },
            "type": "parcoords"
           }
          ],
          "pie": [
           {
            "automargin": true,
            "type": "pie"
           }
          ],
          "scatter": [
           {
            "fillpattern": {
             "fillmode": "overlay",
             "size": 10,
             "solidity": 0.2
            },
            "type": "scatter"
           }
          ],
          "scatter3d": [
           {
            "line": {
             "colorbar": {
              "outlinewidth": 0,
              "ticks": ""
             }
            },
            "marker": {
             "colorbar": {
              "outlinewidth": 0,
              "ticks": ""
             }
            },
            "type": "scatter3d"
           }
          ],
          "scattercarpet": [
           {
            "marker": {
             "colorbar": {
              "outlinewidth": 0,
              "ticks": ""
             }
            },
            "type": "scattercarpet"
           }
          ],
          "scattergeo": [
           {
            "marker": {
             "colorbar": {
              "outlinewidth": 0,
              "ticks": ""
             }
            },
            "type": "scattergeo"
           }
          ],
          "scattergl": [
           {
            "marker": {
             "colorbar": {
              "outlinewidth": 0,
              "ticks": ""
             }
            },
            "type": "scattergl"
           }
          ],
          "scattermapbox": [
           {
            "marker": {
             "colorbar": {
              "outlinewidth": 0,
              "ticks": ""
             }
            },
            "type": "scattermapbox"
           }
          ],
          "scatterpolar": [
           {
            "marker": {
             "colorbar": {
              "outlinewidth": 0,
              "ticks": ""
             }
            },
            "type": "scatterpolar"
           }
          ],
          "scatterpolargl": [
           {
            "marker": {
             "colorbar": {
              "outlinewidth": 0,
              "ticks": ""
             }
            },
            "type": "scatterpolargl"
           }
          ],
          "scatterternary": [
           {
            "marker": {
             "colorbar": {
              "outlinewidth": 0,
              "ticks": ""
             }
            },
            "type": "scatterternary"
           }
          ],
          "surface": [
           {
            "colorbar": {
             "outlinewidth": 0,
             "ticks": ""
            },
            "colorscale": [
             [
              0,
              "#0d0887"
             ],
             [
              0.1111111111111111,
              "#46039f"
             ],
             [
              0.2222222222222222,
              "#7201a8"
             ],
             [
              0.3333333333333333,
              "#9c179e"
             ],
             [
              0.4444444444444444,
              "#bd3786"
             ],
             [
              0.5555555555555556,
              "#d8576b"
             ],
             [
              0.6666666666666666,
              "#ed7953"
             ],
             [
              0.7777777777777778,
              "#fb9f3a"
             ],
             [
              0.8888888888888888,
              "#fdca26"
             ],
             [
              1,
              "#f0f921"
             ]
            ],
            "type": "surface"
           }
          ],
          "table": [
           {
            "cells": {
             "fill": {
              "color": "#EBF0F8"
             },
             "line": {
              "color": "white"
             }
            },
            "header": {
             "fill": {
              "color": "#C8D4E3"
             },
             "line": {
              "color": "white"
             }
            },
            "type": "table"
           }
          ]
         },
         "layout": {
          "annotationdefaults": {
           "arrowcolor": "#2a3f5f",
           "arrowhead": 0,
           "arrowwidth": 1
          },
          "autotypenumbers": "strict",
          "coloraxis": {
           "colorbar": {
            "outlinewidth": 0,
            "ticks": ""
           }
          },
          "colorscale": {
           "diverging": [
            [
             0,
             "#8e0152"
            ],
            [
             0.1,
             "#c51b7d"
            ],
            [
             0.2,
             "#de77ae"
            ],
            [
             0.3,
             "#f1b6da"
            ],
            [
             0.4,
             "#fde0ef"
            ],
            [
             0.5,
             "#f7f7f7"
            ],
            [
             0.6,
             "#e6f5d0"
            ],
            [
             0.7,
             "#b8e186"
            ],
            [
             0.8,
             "#7fbc41"
            ],
            [
             0.9,
             "#4d9221"
            ],
            [
             1,
             "#276419"
            ]
           ],
           "sequential": [
            [
             0,
             "#0d0887"
            ],
            [
             0.1111111111111111,
             "#46039f"
            ],
            [
             0.2222222222222222,
             "#7201a8"
            ],
            [
             0.3333333333333333,
             "#9c179e"
            ],
            [
             0.4444444444444444,
             "#bd3786"
            ],
            [
             0.5555555555555556,
             "#d8576b"
            ],
            [
             0.6666666666666666,
             "#ed7953"
            ],
            [
             0.7777777777777778,
             "#fb9f3a"
            ],
            [
             0.8888888888888888,
             "#fdca26"
            ],
            [
             1,
             "#f0f921"
            ]
           ],
           "sequentialminus": [
            [
             0,
             "#0d0887"
            ],
            [
             0.1111111111111111,
             "#46039f"
            ],
            [
             0.2222222222222222,
             "#7201a8"
            ],
            [
             0.3333333333333333,
             "#9c179e"
            ],
            [
             0.4444444444444444,
             "#bd3786"
            ],
            [
             0.5555555555555556,
             "#d8576b"
            ],
            [
             0.6666666666666666,
             "#ed7953"
            ],
            [
             0.7777777777777778,
             "#fb9f3a"
            ],
            [
             0.8888888888888888,
             "#fdca26"
            ],
            [
             1,
             "#f0f921"
            ]
           ]
          },
          "colorway": [
           "#636efa",
           "#EF553B",
           "#00cc96",
           "#ab63fa",
           "#FFA15A",
           "#19d3f3",
           "#FF6692",
           "#B6E880",
           "#FF97FF",
           "#FECB52"
          ],
          "font": {
           "color": "#2a3f5f"
          },
          "geo": {
           "bgcolor": "white",
           "lakecolor": "white",
           "landcolor": "#E5ECF6",
           "showlakes": true,
           "showland": true,
           "subunitcolor": "white"
          },
          "hoverlabel": {
           "align": "left"
          },
          "hovermode": "closest",
          "mapbox": {
           "style": "light"
          },
          "paper_bgcolor": "white",
          "plot_bgcolor": "#E5ECF6",
          "polar": {
           "angularaxis": {
            "gridcolor": "white",
            "linecolor": "white",
            "ticks": ""
           },
           "bgcolor": "#E5ECF6",
           "radialaxis": {
            "gridcolor": "white",
            "linecolor": "white",
            "ticks": ""
           }
          },
          "scene": {
           "xaxis": {
            "backgroundcolor": "#E5ECF6",
            "gridcolor": "white",
            "gridwidth": 2,
            "linecolor": "white",
            "showbackground": true,
            "ticks": "",
            "zerolinecolor": "white"
           },
           "yaxis": {
            "backgroundcolor": "#E5ECF6",
            "gridcolor": "white",
            "gridwidth": 2,
            "linecolor": "white",
            "showbackground": true,
            "ticks": "",
            "zerolinecolor": "white"
           },
           "zaxis": {
            "backgroundcolor": "#E5ECF6",
            "gridcolor": "white",
            "gridwidth": 2,
            "linecolor": "white",
            "showbackground": true,
            "ticks": "",
            "zerolinecolor": "white"
           }
          },
          "shapedefaults": {
           "line": {
            "color": "#2a3f5f"
           }
          },
          "ternary": {
           "aaxis": {
            "gridcolor": "white",
            "linecolor": "white",
            "ticks": ""
           },
           "baxis": {
            "gridcolor": "white",
            "linecolor": "white",
            "ticks": ""
           },
           "bgcolor": "#E5ECF6",
           "caxis": {
            "gridcolor": "white",
            "linecolor": "white",
            "ticks": ""
           }
          },
          "title": {
           "x": 0.05
          },
          "xaxis": {
           "automargin": true,
           "gridcolor": "white",
           "linecolor": "white",
           "ticks": "",
           "title": {
            "standoff": 15
           },
           "zerolinecolor": "white",
           "zerolinewidth": 2
          },
          "yaxis": {
           "automargin": true,
           "gridcolor": "white",
           "linecolor": "white",
           "ticks": "",
           "title": {
            "standoff": 15
           },
           "zerolinecolor": "white",
           "zerolinewidth": 2
          }
         }
        },
        "title": {
         "text": "Scatter Matrix of Various Taste Profile Properties Related to Ingredients"
        }
       }
      }
     },
     "metadata": {},
     "output_type": "display_data"
    }
   ],
   "source": [
    "import plotly.express as px\n",
    "\n",
    "fig = px.scatter_matrix(df,\n",
    "                        dimensions=['Flavour_Release', 'Aroma'],\n",
    "                        color='ProductName',\n",
    "                        title='Scatter Matrix of Various Taste Profile Properties Related to Ingredients')\n",
    "fig.show()"
   ]
  },
  {
   "cell_type": "code",
   "execution_count": 10,
   "metadata": {},
   "outputs": [
    {
     "name": "stdout",
     "output_type": "stream",
     "text": [
      "Index(['Interaction', 'Culinary_Applications', 'Aftertaste', 'Mouthfeel',\n",
      "       'Flavour_Interaction', 'Texture', 'id', 'Visual_Description', 'Flavour',\n",
      "       'Sensitivity_Variations', 'Volatility', 'Pairing_Suggestions',\n",
      "       'Flavour_Release', 'Aroma', 'ProductName'],\n",
      "      dtype='object')\n"
     ]
    }
   ],
   "source": [
    "print(df.columns)  "
   ]
  },
  {
   "cell_type": "code",
   "execution_count": 12,
   "metadata": {},
   "outputs": [
    {
     "data": {
      "text/html": [
       "<style type=\"text/css\">\n",
       "</style>\n",
       "<table id=\"T_feb88\">\n",
       "  <thead>\n",
       "    <tr>\n",
       "      <th id=\"T_feb88_level0_col0\" class=\"col_heading level0 col0\" >ProductName</th>\n",
       "      <th id=\"T_feb88_level0_col1\" class=\"col_heading level0 col1\" >Interaction</th>\n",
       "      <th id=\"T_feb88_level0_col2\" class=\"col_heading level0 col2\" >Culinary_Applications</th>\n",
       "      <th id=\"T_feb88_level0_col3\" class=\"col_heading level0 col3\" >Aftertaste</th>\n",
       "      <th id=\"T_feb88_level0_col4\" class=\"col_heading level0 col4\" >Mouthfeel</th>\n",
       "      <th id=\"T_feb88_level0_col5\" class=\"col_heading level0 col5\" >Flavour_Interaction</th>\n",
       "      <th id=\"T_feb88_level0_col6\" class=\"col_heading level0 col6\" >Texture</th>\n",
       "      <th id=\"T_feb88_level0_col7\" class=\"col_heading level0 col7\" >id</th>\n",
       "      <th id=\"T_feb88_level0_col8\" class=\"col_heading level0 col8\" >Visual_Description</th>\n",
       "      <th id=\"T_feb88_level0_col9\" class=\"col_heading level0 col9\" >Flavour</th>\n",
       "      <th id=\"T_feb88_level0_col10\" class=\"col_heading level0 col10\" >Sensitivity_Variations</th>\n",
       "      <th id=\"T_feb88_level0_col11\" class=\"col_heading level0 col11\" >Volatility</th>\n",
       "      <th id=\"T_feb88_level0_col12\" class=\"col_heading level0 col12\" >Pairing_Suggestions</th>\n",
       "      <th id=\"T_feb88_level0_col13\" class=\"col_heading level0 col13\" >Flavour_Release</th>\n",
       "      <th id=\"T_feb88_level0_col14\" class=\"col_heading level0 col14\" >Aroma</th>\n",
       "    </tr>\n",
       "  </thead>\n",
       "  <tbody>\n",
       "    <tr>\n",
       "      <td id=\"T_feb88_row0_col0\" class=\"data row0 col0\" >Indomie Mi Goreng Instant Noodles</td>\n",
       "      <td id=\"T_feb88_row0_col1\" class=\"data row0 col1\" >The noodles, seasoning powder, seasoning oil, sweet soy sauce, chilli sauce, and fried onion all interact with other ingredients to create new flavor profiles.</td>\n",
       "      <td id=\"T_feb88_row0_col2\" class=\"data row0 col2\" >The noodles can be used in a variety of dishes, such as stir-fries, soups, and salads. The seasoning powder, seasoning oil, sweet soy sauce, chilli sauce, and fried onion can be used as seasonings or condiments.</td>\n",
       "      <td id=\"T_feb88_row0_col3\" class=\"data row0 col3\" >The noodles have a savory aftertaste, the seasoning powder has a sweet and savory aftertaste, the seasoning oil has a savory aftertaste, the sweet soy sauce has a sweet and savory aftertaste, and the chilli sauce has a spicy aftertaste. The fried onion has a sweet and savory aftertaste.</td>\n",
       "      <td id=\"T_feb88_row0_col4\" class=\"data row0 col4\" >The noodles are smooth, the seasoning powder is grainy, the seasoning oil is slippery, the sweet soy sauce is sticky, and the chilli sauce is smooth. The fried onion is crunchy.</td>\n",
       "      <td id=\"T_feb88_row0_col5\" class=\"data row0 col5\" >The noodles, seasoning powder, seasoning oil, sweet soy sauce, chilli sauce, and fried onion all interact to create a complex and layered flavor profile.</td>\n",
       "      <td id=\"T_feb88_row0_col6\" class=\"data row0 col6\" >The noodles are chewy, the seasoning powder is powdery, the seasoning oil is oily, the sweet soy sauce is syrupy, and the chilli sauce is saucy. The fried onion is crispy.</td>\n",
       "      <td id=\"T_feb88_row0_col7\" class=\"data row0 col7\" >863858658f47c2c97599b343779dab2f313a843f63384b2e611fa21c8261ad46_taste_0</td>\n",
       "      <td id=\"T_feb88_row0_col8\" class=\"data row0 col8\" >The noodles are golden yellow, the seasoning powder is dark brown, the seasoning oil is light yellow, the sweet soy sauce is dark brown, and the chilli sauce is red. The fried onion is golden brown.</td>\n",
       "      <td id=\"T_feb88_row0_col9\" class=\"data row0 col9\" >The noodles have a savory flavor, the seasoning powder is sweet and savory, the seasoning oil is savory, the sweet soy sauce is sweet and savory, and the chilli sauce is spicy and savory. The fried onion is sweet and savory.</td>\n",
       "      <td id=\"T_feb88_row0_col10\" class=\"data row0 col10\" >The sensitivity to the flavors may vary depending on the individual's taste preferences and dietary habits.</td>\n",
       "      <td id=\"T_feb88_row0_col11\" class=\"data row0 col11\" >The flavors are not very volatile and do not dissipate quickly.</td>\n",
       "      <td id=\"T_feb88_row0_col12\" class=\"data row0 col12\" >The noodles pair well with vegetables, meat, and seafood. The seasoning powder, seasoning oil, sweet soy sauce, chilli sauce, and fried onion can be paired with a variety of dishes to add flavor.</td>\n",
       "      <td id=\"T_feb88_row0_col13\" class=\"data row0 col13\" >The flavors are released immediately upon eating and linger in the mouth for a while.</td>\n",
       "      <td id=\"T_feb88_row0_col14\" class=\"data row0 col14\" >The noodles have a savory aroma, the seasoning powder has a sweet and savory aroma, the seasoning oil has a savory aroma, the sweet soy sauce has a sweet and savory aroma, and the chilli sauce has a spicy aroma. The fried onion has a sweet and savory aroma.</td>\n",
       "    </tr>\n",
       "    <tr>\n",
       "      <td id=\"T_feb88_row1_col0\" class=\"data row1 col0\" >Maggi 2 Minute Chicken Flavour Instant Noodles</td>\n",
       "      <td id=\"T_feb88_row1_col1\" class=\"data row1 col1\" >The noodles interact well with other ingredients, absorbing flavours and adding texture.</td>\n",
       "      <td id=\"T_feb88_row1_col2\" class=\"data row1 col2\" >The noodles can be used as a base for a variety of dishes, such as stir-fries, soups, and curries.</td>\n",
       "      <td id=\"T_feb88_row1_col3\" class=\"data row1 col3\" >The noodles leave a savoury aftertaste in the mouth, thanks to the flavour enhancers and spices.</td>\n",
       "      <td id=\"T_feb88_row1_col4\" class=\"data row1 col4\" >The noodles have a smooth mouthfeel, with a slight graininess from the wheat flour. The flavour mix sachet adds a savoury coating to the noodles.</td>\n",
       "      <td id=\"T_feb88_row1_col5\" class=\"data row1 col5\" >The flavour of the noodles is enhanced by the flavour mix sachet, which contains a blend of spices, flavour enhancers, and colours.</td>\n",
       "      <td id=\"T_feb88_row1_col6\" class=\"data row1 col6\" >The noodles are thin and have a springy texture. They are easy to chew and do not become mushy when overcooked.</td>\n",
       "      <td id=\"T_feb88_row1_col7\" class=\"data row1 col7\" >aae0f720bcbe04d20af0c295bd8df8031e5c29738cff3b6a63c990b905af0e57_taste_0</td>\n",
       "      <td id=\"T_feb88_row1_col8\" class=\"data row1 col8\" >The noodles are yellow in colour, indicating the use of turmeric as a colourant. The chicken flavour mix sachet is powdery and light yellow in colour.</td>\n",
       "      <td id=\"T_feb88_row1_col9\" class=\"data row1 col9\" >The noodles have a savoury chicken flavour, thanks to the flavour enhancers and spices in the flavour mix sachet. The flavour is well-rounded and not overly salty.</td>\n",
       "      <td id=\"T_feb88_row1_col10\" class=\"data row1 col10\" >The flavour and aroma of the noodles may be perceived differently by different individuals, depending on their sensitivity to flavour enhancers and spices.</td>\n",
       "      <td id=\"T_feb88_row1_col11\" class=\"data row1 col11\" >The aroma of the noodles is volatile and dissipates quickly after cooking.</td>\n",
       "      <td id=\"T_feb88_row1_col12\" class=\"data row1 col12\" >The noodles pair well with a variety of ingredients, such as vegetables, meat, and eggs.</td>\n",
       "      <td id=\"T_feb88_row1_col13\" class=\"data row1 col13\" >The flavour of the noodles is released immediately upon contact with the tongue, thanks to the flavour enhancers in the flavour mix sachet.</td>\n",
       "      <td id=\"T_feb88_row1_col14\" class=\"data row1 col14\" >The noodles have a strong aroma of spices and chicken, thanks to the flavour mix sachet.</td>\n",
       "    </tr>\n",
       "    <tr>\n",
       "      <td id=\"T_feb88_row2_col0\" class=\"data row2 col0\" >Maggi 2 Minute Chicken Flavour Instant Noodles</td>\n",
       "      <td id=\"T_feb88_row2_col1\" class=\"data row2 col1\" >The noodles and flavour sachet interact to create a complex flavor profile, with the savory chicken flavor of the noodles complementing the spicy flavors of the sachet.</td>\n",
       "      <td id=\"T_feb88_row2_col2\" class=\"data row2 col2\" >The noodles can be used as a base for a variety of dishes, such as stir-fries or soups. The flavour sachet can be used to add flavor to these dishes.</td>\n",
       "      <td id=\"T_feb88_row2_col3\" class=\"data row2 col3\" >The noodles leave a savory aftertaste, with a hint of spices.</td>\n",
       "      <td id=\"T_feb88_row2_col4\" class=\"data row2 col4\" >The noodles have a creamy mouthfeel, with a slight oiliness from the vegetable oil. The flavour sachet adds a burst of flavor.</td>\n",
       "      <td id=\"T_feb88_row2_col5\" class=\"data row2 col5\" >The noodles and flavour sachet interact to create a complex flavor profile, with the savory chicken flavor of the noodles complementing the spicy flavors of the sachet.</td>\n",
       "      <td id=\"T_feb88_row2_col6\" class=\"data row2 col6\" >The noodles are smooth and have a slightly chewy texture. The flavour sachet adds a crunchy texture.</td>\n",
       "      <td id=\"T_feb88_row2_col7\" class=\"data row2 col7\" >7881bade34e58388a31537259ab552ae8998fc908d2067262c11c8656dfc275c_taste_0</td>\n",
       "      <td id=\"T_feb88_row2_col8\" class=\"data row2 col8\" >The noodles are yellow in color, indicating the presence of turmeric. The flavour sachet contains a powder that is light brown in color.</td>\n",
       "      <td id=\"T_feb88_row2_col9\" class=\"data row2 col9\" >The noodles have a savory chicken flavor, with a hint of spices such as coriander, cumin, and chilli. The flavour is enhanced by the addition of the flavour sachet.</td>\n",
       "      <td id=\"T_feb88_row2_col10\" class=\"data row2 col10\" >The sensitivity to the spicy flavors of the sachet may vary between individuals.</td>\n",
       "      <td id=\"T_feb88_row2_col11\" class=\"data row2 col11\" >The aroma of the noodles is quite volatile, with the smell becoming stronger as the noodles are cooked.</td>\n",
       "      <td id=\"T_feb88_row2_col12\" class=\"data row2 col12\" >The noodles pair well with a variety of proteins, such as chicken, beef, or tofu. The flavour sachet can be used to add flavor to these proteins.</td>\n",
       "      <td id=\"T_feb88_row2_col13\" class=\"data row2 col13\" >The flavour is released slowly, with the initial flavors of the noodles becoming more pronounced as the flavour sachet is added.</td>\n",
       "      <td id=\"T_feb88_row2_col14\" class=\"data row2 col14\" >The noodles have a strong aroma of chicken and spices. The flavour sachet adds a savory aroma.</td>\n",
       "    </tr>\n",
       "    <tr>\n",
       "      <td id=\"T_feb88_row3_col0\" class=\"data row3 col0\" >Supreme Noodles Cup Chicken Flavour</td>\n",
       "      <td id=\"T_feb88_row3_col1\" class=\"data row3 col1\" >The noodles and soup interact well together, with the noodles soaking up the soup's flavors.</td>\n",
       "      <td id=\"T_feb88_row3_col2\" class=\"data row3 col2\" >This product is suitable as a standalone meal or as a side dish.</td>\n",
       "      <td id=\"T_feb88_row3_col3\" class=\"data row3 col3\" >The aftertaste is a lingering savory chicken flavor.</td>\n",
       "      <td id=\"T_feb88_row3_col4\" class=\"data row3 col4\" >The noodles offer a comforting, slightly chewy mouthfeel, and the soup has a velvety texture.</td>\n",
       "      <td id=\"T_feb88_row3_col5\" class=\"data row3 col5\" >The flavors of the noodles and soup complement each other well, creating a harmonious taste experience.</td>\n",
       "      <td id=\"T_feb88_row3_col6\" class=\"data row3 col6\" >The noodles are soft and smooth, while the flavor sachet has a slightly powdery texture that dissolves in the soup.</td>\n",
       "      <td id=\"T_feb88_row3_col7\" class=\"data row3 col7\" >6b005b09359b7d85b6ed28584fc0fb2ae9ec826270332850b6f49855e2f9ed0a_taste_0</td>\n",
       "      <td id=\"T_feb88_row3_col8\" class=\"data row3 col8\" >The noodles are golden-yellow, and the flavor sachet has a sandy texture.</td>\n",
       "      <td id=\"T_feb88_row3_col9\" class=\"data row3 col9\" >The noodles have a mild wheat flavor, while the flavor sachet provides a robust chicken taste with a hint of spices.</td>\n",
       "      <td id=\"T_feb88_row3_col10\" class=\"data row3 col10\" >The taste and texture may vary for people with gluten or soy sensitivities.</td>\n",
       "      <td id=\"T_feb88_row3_col11\" class=\"data row3 col11\" >The aroma is stable and not overpowering.</td>\n",
       "      <td id=\"T_feb88_row3_col12\" class=\"data row3 col12\" >Can be paired with a variety of side dishes, such as a fresh salad or steamed vegetables.</td>\n",
       "      <td id=\"T_feb88_row3_col13\" class=\"data row3 col13\" >The flavors are released gradually, with the initial taste being the savory chicken soup followed by the wheat noodles.</td>\n",
       "      <td id=\"T_feb88_row3_col14\" class=\"data row3 col14\" >The aroma is a mix of wheat and a savory chicken scent with a hint of spices.</td>\n",
       "    </tr>\n",
       "    <tr>\n",
       "      <td id=\"T_feb88_row4_col0\" class=\"data row4 col0\" >Fantastic Chicken Noodle Cup</td>\n",
       "      <td id=\"T_feb88_row4_col1\" class=\"data row4 col1\" >The noodles and vegetables absorb the flavors from the broth, enhancing the overall taste</td>\n",
       "      <td id=\"T_feb88_row4_col2\" class=\"data row4 col2\" >Can be used as a quick and easy meal, side dish, or snack</td>\n",
       "      <td id=\"T_feb88_row4_col3\" class=\"data row4 col3\" >Slightly salty and savory, leaving you craving more</td>\n",
       "      <td id=\"T_feb88_row4_col4\" class=\"data row4 col4\" >Comforting and smooth, with a satisfying consistency</td>\n",
       "      <td id=\"T_feb88_row4_col5\" class=\"data row4 col5\" >The flavors meld together well, creating a harmonious taste experience</td>\n",
       "      <td id=\"T_feb88_row4_col6\" class=\"data row4 col6\" >Soft noodles with a slight bite and tender dehydrated vegetables</td>\n",
       "      <td id=\"T_feb88_row4_col7\" class=\"data row4 col7\" >e16572d601b39298eb89ffc982ae02ffba2d65042c2960179bbe722924711639_taste_0</td>\n",
       "      <td id=\"T_feb88_row4_col8\" class=\"data row4 col8\" >Golden noodles and colorful dehydrated vegetables</td>\n",
       "      <td id=\"T_feb88_row4_col9\" class=\"data row4 col9\" >Savory chicken and herbs with a hint of onion</td>\n",
       "      <td id=\"T_feb88_row4_col10\" class=\"data row4 col10\" >The product may be too salty for some individuals</td>\n",
       "      <td id=\"T_feb88_row4_col11\" class=\"data row4 col11\" >The aroma and flavors remain stable throughout the meal</td>\n",
       "      <td id=\"T_feb88_row4_col12\" class=\"data row4 col12\" >Great with a side salad, sandwich, or as a standalone meal</td>\n",
       "      <td id=\"T_feb88_row4_col13\" class=\"data row4 col13\" >The flavors are released gradually, allowing for a full sensory experience</td>\n",
       "      <td id=\"T_feb88_row4_col14\" class=\"data row4 col14\" >Aromatic herbs and chicken with a hint of onion</td>\n",
       "    </tr>\n",
       "    <tr>\n",
       "      <td id=\"T_feb88_row5_col0\" class=\"data row5 col0\" >Fantastic Chicken Noodle Bowl</td>\n",
       "      <td id=\"T_feb88_row5_col1\" class=\"data row5 col1\" >The noodles, vegetables, and flavour sachet interact well together, creating a harmonious taste and texture experience.</td>\n",
       "      <td id=\"T_feb88_row5_col2\" class=\"data row5 col2\" >This product is suitable as a standalone meal or can be paired with other dishes for a more substantial meal.</td>\n",
       "      <td id=\"T_feb88_row5_col3\" class=\"data row5 col3\" >The aftertaste is slightly salty and savoury, with a lingering warmth from the spices.</td>\n",
       "      <td id=\"T_feb88_row5_col4\" class=\"data row5 col4\" >The mouthfeel is satisfying, with the noodles offering a silky sensation and the vegetables adding a contrasting crunch.</td>\n",
       "      <td id=\"T_feb88_row5_col5\" class=\"data row5 col5\" >The flavours interact well, with the noodles absorbing the flavour from the sachet and the vegetables adding a fresh element.</td>\n",
       "      <td id=\"T_feb88_row5_col6\" class=\"data row5 col6\" >The noodles are smooth and slightly chewy, while the dehydrated vegetables offer a crunchy texture.</td>\n",
       "      <td id=\"T_feb88_row5_col7\" class=\"data row5 col7\" >4618247045cf1787333fcb87507bdbdd1d11d5c1d222de75f4d58d4a6ee8e1fb_taste_0</td>\n",
       "      <td id=\"T_feb88_row5_col8\" class=\"data row5 col8\" >The product presents visually as yellow noodles, with small dehydrated vegetable pieces and a separate flavour sachet.</td>\n",
       "      <td id=\"T_feb88_row5_col9\" class=\"data row5 col9\" >The noodles have a mild flavour, while the flavour sachet provides a savoury, slightly spicy, and umami taste. The dehydrated vegetables contribute a subtle earthy undertone.</td>\n",
       "      <td id=\"T_feb88_row5_col10\" class=\"data row5 col10\" >Individuals with gluten sensitivity should avoid this product due to the presence of wheat flour and soy.</td>\n",
       "      <td id=\"T_feb88_row5_col11\" class=\"data row5 col11\" >The volatile compounds in the product contribute to its aroma and flavour, with the spices and vegetable oil releasing their aroma over time.</td>\n",
       "      <td id=\"T_feb88_row5_col12\" class=\"data row5 col12\" >The Fantastic Chicken Noodle Bowl pairs well with mildly flavoured dishes or can be enjoyed on its own.</td>\n",
       "      <td id=\"T_feb88_row5_col13\" class=\"data row5 col13\" >The flavour release is gradual, with the initial taste being that of the noodles and the full flavour profile emerging as the sachet is added.</td>\n",
       "      <td id=\"T_feb88_row5_col14\" class=\"data row5 col14\" >The aroma is a blend of savoury and spicy notes, with a hint of vegetal scent from the dehydrated vegetables.</td>\n",
       "    </tr>\n",
       "    <tr>\n",
       "      <td id=\"T_feb88_row6_col0\" class=\"data row6 col0\" >Indomie Mi Goreng Noodle Cup</td>\n",
       "      <td id=\"T_feb88_row6_col1\" class=\"data row6 col1\" >Interacts well with various ingredients, adding flavour and texture to the dish.</td>\n",
       "      <td id=\"T_feb88_row6_col2\" class=\"data row6 col2\" >Can be used as a standalone meal or as a base for various dishes, such as stir-fries or soups.</td>\n",
       "      <td id=\"T_feb88_row6_col3\" class=\"data row6 col3\" >A lingering savory and slightly spicy flavour.</td>\n",
       "      <td id=\"T_feb88_row6_col4\" class=\"data row6 col4\" >Comforting and warming, with a slight oiliness from the seasoning oil.</td>\n",
       "      <td id=\"T_feb88_row6_col5\" class=\"data row6 col5\" >The sweetness of the noodles complements the spiciness of the chilli sauce, while the fried onion adds a contrasting crunch.</td>\n",
       "      <td id=\"T_feb88_row6_col6\" class=\"data row6 col6\" >Soft and slightly chewy noodles with a crunch from the fried onion pieces.</td>\n",
       "      <td id=\"T_feb88_row6_col7\" class=\"data row6 col7\" >ffd6415ac792711e1f2af1ad749ba78826bf30b5399657ebaad0f901a4f2a607_taste_0</td>\n",
       "      <td id=\"T_feb88_row6_col8\" class=\"data row6 col8\" >Golden brown noodles with red flecks of chilli and white fried onion pieces.</td>\n",
       "      <td id=\"T_feb88_row6_col9\" class=\"data row6 col9\" >Savory and slightly sweet from the noodles and seasoning powder, with a hint of spiciness from the chilli sauce.</td>\n",
       "      <td id=\"T_feb88_row6_col10\" class=\"data row6 col10\" >The spiciness of the chilli sauce may vary in intensity for different individuals.</td>\n",
       "      <td id=\"T_feb88_row6_col11\" class=\"data row6 col11\" >The aroma and flavours are stable and do not dissipate quickly.</td>\n",
       "      <td id=\"T_feb88_row6_col12\" class=\"data row6 col12\" >Can be paired with a variety of ingredients, such as vegetables, meat, or seafood.</td>\n",
       "      <td id=\"T_feb88_row6_col13\" class=\"data row6 col13\" >The flavours are released gradually, with the initial taste being the savory noodles and the spiciness of the chilli sauce building over time.</td>\n",
       "      <td id=\"T_feb88_row6_col14\" class=\"data row6 col14\" >Aromatic and savory, with notes of onion and garlic.</td>\n",
       "    </tr>\n",
       "    <tr>\n",
       "      <td id=\"T_feb88_row7_col0\" class=\"data row7 col0\" >Maggi 2 Minute Beef Flavour Instant Noodles</td>\n",
       "      <td id=\"T_feb88_row7_col1\" class=\"data row7 col1\" >The noodles and flavour sachet interact well with various ingredients, enhancing their flavours and adding a savoury, sweet, and spicy twist.</td>\n",
       "      <td id=\"T_feb88_row7_col2\" class=\"data row7 col2\" >This product can be used as a standalone meal or as a base for various dishes, such as soups and stir-fries.</td>\n",
       "      <td id=\"T_feb88_row7_col3\" class=\"data row7 col3\" >The noodles leave a savoury and slightly salty aftertaste. The flavour sachet adds a sweet and slightly spicy aftertaste.</td>\n",
       "      <td id=\"T_feb88_row7_col4\" class=\"data row7 col4\" >nan</td>\n",
       "      <td id=\"T_feb88_row7_col5\" class=\"data row7 col5\" >The noodles and flavour sachet interact to create a complex flavour profile, with the savoury noodles complementing the sweet and spicy flavour sachet.</td>\n",
       "      <td id=\"T_feb88_row7_col6\" class=\"data row7 col6\" >The noodles are soft and slightly chewy with a smooth mouthfeel. The flavour sachet adds a slight crunch.</td>\n",
       "      <td id=\"T_feb88_row7_col7\" class=\"data row7 col7\" >940733b68d917952d6e2910e5e6024aceb328032f705b570cb7986066f8da375_taste_0</td>\n",
       "      <td id=\"T_feb88_row7_col8\" class=\"data row7 col8\" >The noodles are golden yellow, with a smooth surface and a curly shape. The flavour sachet is small and contains a dark brown powder.</td>\n",
       "      <td id=\"T_feb88_row7_col9\" class=\"data row7 col9\" >The noodles have a savoury beef flavour with a hint of rosemary. The flavour sachet enhances the beefy taste and adds a touch of sweetness.</td>\n",
       "      <td id=\"T_feb88_row7_col10\" class=\"data row7 col10\" >The perception of flavour may vary depending on individual sensitivity to salt, sweetness, and spiciness.</td>\n",
       "      <td id=\"T_feb88_row7_col11\" class=\"data row7 col11\" >The aroma is quite volatile, with the savoury and sweet scents becoming more pronounced as the noodles cool.</td>\n",
       "      <td id=\"T_feb88_row7_col12\" class=\"data row7 col12\" >The noodles pair well with a variety of ingredients, including vegetables, meat, and eggs. The flavour sachet can be used to add flavour to sauces and dressings.</td>\n",
       "      <td id=\"T_feb88_row7_col13\" class=\"data row7 col13\" >The flavour is released immediately upon eating, with the noodles providing a steady release of savoury flavour and the flavour sachet adding bursts of sweet and spicy flavour.</td>\n",
       "      <td id=\"T_feb88_row7_col14\" class=\"data row7 col14\" >The noodles have a strong savoury aroma with a hint of beef and rosemary. The flavour sachet adds a sweet and slightly spicy aroma.</td>\n",
       "    </tr>\n",
       "    <tr>\n",
       "      <td id=\"T_feb88_row8_col0\" class=\"data row8 col0\" >Supreme Noodles Cup Beef Flavour</td>\n",
       "      <td id=\"T_feb88_row8_col1\" class=\"data row8 col1\" >The noodles absorb the flavors from the seasoning sachet, creating a harmonious taste experience</td>\n",
       "      <td id=\"T_feb88_row8_col2\" class=\"data row8 col2\" >Can be consumed as a standalone meal or paired with other dishes</td>\n",
       "      <td id=\"T_feb88_row8_col3\" class=\"data row8 col3\" >Leaves a savory, slightly salty taste</td>\n",
       "      <td id=\"T_feb88_row8_col4\" class=\"data row8 col4\" >Comforting and filling, with a slight thickness from the noodles</td>\n",
       "      <td id=\"T_feb88_row8_col5\" class=\"data row8 col5\" >The flavors of the noodles and seasoning sachet complement each other well</td>\n",
       "      <td id=\"T_feb88_row8_col6\" class=\"data row8 col6\" >Soft, chewy noodles with a smooth mouthfeel</td>\n",
       "      <td id=\"T_feb88_row8_col7\" class=\"data row8 col7\" >231af0443065648a46f428a8e53ad4d9e9f50287d41cbe6f10da6208a6c468cb_taste_0</td>\n",
       "      <td id=\"T_feb88_row8_col8\" class=\"data row8 col8\" >Golden noodles with flecks of herbs and spices, beef-flavored powder</td>\n",
       "      <td id=\"T_feb88_row8_col9\" class=\"data row8 col9\" >Savory beef flavor with a hint of saltiness and umami</td>\n",
       "      <td id=\"T_feb88_row8_col10\" class=\"data row8 col10\" >The saltiness and beef flavor might be too intense for some people</td>\n",
       "      <td id=\"T_feb88_row8_col11\" class=\"data row8 col11\" >The aroma and flavor dissipate slowly after eating</td>\n",
       "      <td id=\"T_feb88_row8_col12\" class=\"data row8 col12\" >Complements well with mildly flavored dishes or beverages</td>\n",
       "      <td id=\"T_feb88_row8_col13\" class=\"data row8 col13\" >The flavors are released gradually, with the beef flavor becoming more pronounced as you eat</td>\n",
       "      <td id=\"T_feb88_row8_col14\" class=\"data row8 col14\" >Beefy, savory aroma with a hint of spices</td>\n",
       "    </tr>\n",
       "  </tbody>\n",
       "</table>\n"
      ],
      "text/plain": [
       "<pandas.io.formats.style.Styler at 0x1a7c5c9e830>"
      ]
     },
     "execution_count": 12,
     "metadata": {},
     "output_type": "execute_result"
    }
   ],
   "source": [
    "from neo4j import GraphDatabase\n",
    "import pandas as pd\n",
    "\n",
    "def get_data(tx):\n",
    "    query = \"\"\"\n",
    "    MATCH (p:Product)-[:HAS_RECIPE]->(:Recipe)-[:HAS_TASTE_PROFILE]->(tp:TasteProfile)\n",
    "    WHERE p.name CONTAINS 'Noodle' OR p.name CONTAINS 'Noodles'\n",
    "    RETURN p.name AS ProductName, properties(tp) AS TasteProfileProperties\n",
    "    \"\"\"\n",
    "    result = tx.run(query)\n",
    " \n",
    "    data = []\n",
    "    for record in result:\n",
    "        product_data = record[\"TasteProfileProperties\"]\n",
    "        product_data[\"ProductName\"] = record[\"ProductName\"]\n",
    "        data.append(product_data)\n",
    "    return data\n",
    "\n",
    "\n",
    "with driver.session() as session:\n",
    "    data = session.execute_read(get_data)\n",
    "\n",
    "\n",
    "driver.close()\n",
    "\n",
    "\n",
    "df = pd.DataFrame(data)\n",
    "\n",
    "\n",
    "cols = ['ProductName'] + [col for col in df if col != 'ProductName']\n",
    "df = df[cols]\n",
    "\n",
    "\n",
    "df.style.hide(axis='index')  \n"
   ]
  },
  {
   "cell_type": "code",
   "execution_count": 13,
   "metadata": {},
   "outputs": [],
   "source": [
    "def get_high_protein_products(driver):\n",
    "    query = \"\"\"\n",
    "    MATCH (p:Product)-[:HAS_RECIPE]->(:Recipe)-[:HAS_NUTRITIONAL_INFO]->(n:NutritionalInformation)\n",
    "    WHERE n.Carbohydrate IS NOT NULL AND n.Dietary_Fibre IS NOT NULL AND n.Fat_Total IS NOT NULL AND n.Protein IS NOT NULL\n",
    "    WITH p, n,\n",
    "    TOFLOAT(SUBSTRING(n.Carbohydrate, 0, SIZE(n.Carbohydrate)-1)) AS carbs,\n",
    "    TOFLOAT(SUBSTRING(n.Dietary_Fibre, 0, SIZE(n.Dietary_Fibre)-1)) AS fibre,\n",
    "    TOFLOAT(SUBSTRING(n.Fat_Total, 0, SIZE(n.Fat_Total)-1)) AS fat,\n",
    "    TOFLOAT(SUBSTRING(n.Protein, 0, SIZE(n.Protein)-1)) AS protein\n",
    "    WITH p.name AS product_name, protein / (carbs + fibre + fat + protein) AS ratio\n",
    "    WHERE ratio > 0.2\n",
    "    RETURN product_name, ratio\n",
    "    \"\"\"\n",
    "    with driver.session() as session:\n",
    "        result = session.run(query)\n",
    "        return [{\"product_name\": record[\"product_name\"], \"ratio\": record[\"ratio\"]} for record in result]\n"
   ]
  },
  {
   "cell_type": "code",
   "execution_count": 14,
   "metadata": {},
   "outputs": [
    {
     "name": "stderr",
     "output_type": "stream",
     "text": [
      "C:\\Users\\Wesle\\AppData\\Local\\Temp\\ipykernel_19888\\536956285.py:14: DeprecationWarning:\n",
      "\n",
      "Using a driver after it has been closed is deprecated. Future versions of the driver will raise an error.\n",
      "\n"
     ]
    },
    {
     "data": {
      "image/png": "[encoded data removed]",
      "text/plain": [
       "<Figure size 1000x600 with 1 Axes>"
      ]
     },
     "metadata": {},
     "output_type": "display_data"
    }
   ],
   "source": [
    "import matplotlib.pyplot as plt\n",
    "\n",
    "# Get High Protein Products\n",
    "high_protein_products = get_high_protein_products(driver)\n",
    "\n",
    "# Extract data\n",
    "names = [item[\"product_name\"] for item in high_protein_products]\n",
    "ratios = [item[\"ratio\"] for item in high_protein_products]\n",
    "\n",
    "# visualisation\n",
    "plt.figure(figsize=(10, 6))\n",
    "plt.bar(names, ratios)\n",
    "plt.xlabel('Product Name')\n",
    "plt.ylabel('High Protein Ratio')\n",
    "plt.title('High Protein Products')\n",
    "plt.xticks(rotation=45)\n",
    "plt.tight_layout()\n",
    "plt.show()\n"
   ]
  },
  {
   "cell_type": "code",
   "execution_count": 15,
   "metadata": {},
   "outputs": [],
   "source": [
    "def create_high_protein_relationship(driver):\n",
    "    query = \"\"\"\n",
    "    MERGE (hp:HighProtein {name: \"HighProtein\"})\n",
    "    MATCH (p:Product)-[:HAS_RECIPE]->(:Recipe)-[:HAS_NUTRITIONAL_INFO]->(n:NutritionalInformation)\n",
    "    WHERE n.Carbohydrate IS NOT NULL AND n.Dietary_Fibre IS NOT NULL AND n.Fat_Total IS NOT NULL AND n.Protein IS NOT NULL\n",
    "    WITH p, n,\n",
    "    TOFLOAT(SUBSTRING(n.Carbohydrate, 0, SIZE(n.Carbohydrate)-1)) AS carbs,\n",
    "    TOFLOAT(SUBSTRING(n.Dietary_Fibre, 0, SIZE(n.Dietary_Fibre)-1)) AS fibre,\n",
    "    TOFLOAT(SUBSTRING(n.Fat_Total, 0, SIZE(n.Fat_Total)-1)) AS fat,\n",
    "    TOFLOAT(SUBSTRING(n.Protein, 0, SIZE(n.Protein)-1)) AS protein\n",
    "    WITH p, protein / (carbs + fibre + fat + protein) AS ratio\n",
    "    WHERE ratio > 0.2\n",
    "    MERGE (p)-[:High_Protein {protein_ratio: ratio}]->(hp)\n",
    "    \"\"\"\n",
    "    with driver.session() as session:\n",
    "        session.run(query)\n"
   ]
  }
 ],
 "metadata": {
  "kernelspec": {
   "display_name": "base",
   "language": "python",
   "name": "python3"
  },
  "language_info": {
   "codemirror_mode": {
    "name": "ipython",
    "version": 3
   },
   "file_extension": ".py",
   "mimetype": "text/x-python",
   "name": "python",
   "nbconvert_exporter": "python",
   "pygments_lexer": "ipython3",
   "version": "3.10.9"
  }
 },
 "nbformat": 4,
 "nbformat_minor": 2
}
